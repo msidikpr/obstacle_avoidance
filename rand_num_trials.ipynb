{
 "cells": [
  {
   "cell_type": "code",
   "execution_count": null,
   "metadata": {},
   "outputs": [],
   "source": [
    "import numpy as np\n",
    "def Rand(start, end, num):\n",
    "    res = []\n",
    " \n",
    "    for j in range(num):\n",
    "        res.append(np.random.randint(start, end))\n",
    " \n",
    "    return res\n",
    " \n",
    " \n",
    "# Driver Code\n",
    "num = 10\n",
    "start = 20\n",
    "end = 40"
   ]
  }
 ],
 "metadata": {
  "interpreter": {
   "hash": "a465dde99de3413f8e742180db3c42b4bc01b7755c3299cbd490c76f349372cb"
  },
  "kernelspec": {
   "display_name": "Python 3.8.13 ('ephys0')",
   "language": "python",
   "name": "python3"
  },
  "language_info": {
   "name": "python",
   "version": "3.8.13"
  },
  "orig_nbformat": 4
 },
 "nbformat": 4,
 "nbformat_minor": 2
}
