{
 "cells": [
  {
   "cell_type": "code",
   "execution_count": null,
   "metadata": {},
   "outputs": [],
   "source": [
    "import numpy as np\n",
    "def Rand(start, end, num):\n",
    "    res = []\n",
    " \n",
    "    for j in range(num):\n",
    "        res.append(np.random.randint(start, end))\n",
    " \n",
    "    return res\n",
    " \n",
    " \n",
    "# Driver Code\n",
    "num = 10\n",
    "start = 20\n",
    "end = 40"
   ]
  }
 ],
 "metadata": {
  "kernelspec": {
   "display_name": "ephys0",
   "language": "python",
   "name": "python3"
  },
  "language_info": {
   "name": "python",
   "version": "3.8.15"
  },
  "orig_nbformat": 4,
  "vscode": {
   "interpreter": {
    "hash": "8d5aad94d69af8d54a80740ac3e999eae8a40d3534c4b9b883255615339559dc"
   }
  }
 },
 "nbformat": 4,
 "nbformat_minor": 2
}
