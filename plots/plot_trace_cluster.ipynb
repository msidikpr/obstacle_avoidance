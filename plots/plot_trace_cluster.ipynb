{
 "cells": [
  {
   "cell_type": "code",
   "execution_count": 4,
   "metadata": {},
   "outputs": [],
   "source": [
    "import cv2\n",
    "import pandas as pd \n",
    "import matplotlib.pyplot as plt \n",
    "import numpy as np\n",
    "import xarray as xr\n",
    "import seaborn as sns\n",
    "import h5py as hf\n",
    "from tqdm import tqdm\n",
    "from tqdm import tqdm\n",
    "import itertools \n",
    "from scipy.interpolate import interp1d\n",
    "from scipy import signal\n",
    "from sklearn.cluster import KMeans\n",
    "import matplotlib.colors as mcolors\n",
    "import os, fnmatch\n",
    "\n",
    "from base_functions import format_frames,flatten_column,list_columns\n",
    "from src.utils.auxiliary import flatten_series\n",
    "from src.utils.path import find\n",
    "\n",
    "import warnings\n",
    "warnings.filterwarnings('ignore')"
   ]
  },
  {
   "cell_type": "code",
   "execution_count": null,
   "metadata": {},
   "outputs": [],
   "source": [
    "## take raw_df from multiple session and plt  \n",
    "class Plot"
   ]
  },
  {
   "cell_type": "code",
   "execution_count": null,
   "metadata": {},
   "outputs": [],
   "source": [
    "plt.subplots(3,3, figsize=(25,21))\n",
    "\n",
    "\n",
    "for clusters, cluster_name in enumerate(df['obstacle_cluster'].unique()):\n",
    "    x=df.loc[df['obstacle_cluster']==cluster_name]\n",
    "    for i, row in x.iterrows():\n",
    "        if row['odd'] == True:\n",
    "            plt.subplot(3,3,cluster_name+1)\n",
    "            plt.gca().set_aspect('equal', adjustable='box')\n",
    "            plt.gca().set_title(str(row['odd'])+str(row['obstacle_cluster']))\n",
    "    \n",
    "            plt.plot([row['arenaTL_x_cm'], row['arenaTR_x_cm'], row['arenaBR_x_cm'], row['arenaBL_x_cm'],row['arenaTL_x_cm']],\n",
    "                [row['arenaTL_y_cm'], row['arenaTR_y_cm'], row['arenaBR_y_cm'], row['arenaBL_y_cm'],row['arenaTL_y_cm']],color='red')\n",
    "\n",
    "\n",
    "            plt.plot([row['median_gt_obstacleTL_x_cm'], row['median_gt_obstacleTR_x_cm'], row['median_gt_obstacleBR_x_cm'], row['median_gt_obstacleBL_x_cm'],row['median_gt_obstacleTL_x_cm']],\n",
    "                [row['median_gt_obstacleTL_y_cm'], row['median_gt_obstacleTR_y_cm'], row['median_gt_obstacleBR_y_cm'], row['median_gt_obstacleBL_y_cm'],row['median_gt_obstacleTL_y_cm']],color='green')\n",
    "    \n",
    "   \n",
    "    \n",
    "    \n",
    "            plt.scatter(row['gt_obstacle_cen_x_cm'],row['gt_obstacle_cen_y_cm'],color='yellow')\n",
    "            plt.scatter(row['leftportT_x_cm'],row['leftportT_y_cm'],color='blue')\n",
    "            plt.scatter(row['rightportT_x_cm'],row['rightportT_y_cm'],color='black')\n",
    "            sns.scatterplot(x=row['gt_nose_x_cm'],y=row['gt_nose_y_cm'],hue = enumerate(row['gt_nose_x_cm']), palette ='magma',legend=False) \n",
    "            #plt.scatter(row['wobstacle_x_cm'], row['wobstacle_y_cm'], c = list(mcolors.TABLEAU_COLORS)[ row['obstacle_cluster']])\n",
    "            plt.ylim([0,52]); plt.xlim([0, 72])"
   ]
  }
 ],
 "metadata": {
  "kernelspec": {
   "display_name": "Python 3.8.13 ('ephys0')",
   "language": "python",
   "name": "python3"
  },
  "language_info": {
   "codemirror_mode": {
    "name": "ipython",
    "version": 3
   },
   "file_extension": ".py",
   "mimetype": "text/x-python",
   "name": "python",
   "nbconvert_exporter": "python",
   "pygments_lexer": "ipython3",
   "version": "3.8.13"
  },
  "orig_nbformat": 4,
  "vscode": {
   "interpreter": {
    "hash": "8d5aad94d69af8d54a80740ac3e999eae8a40d3534c4b9b883255615339559dc"
   }
  }
 },
 "nbformat": 4,
 "nbformat_minor": 2
}
