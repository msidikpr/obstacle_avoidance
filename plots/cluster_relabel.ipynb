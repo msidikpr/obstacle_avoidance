{
 "cells": [
  {
   "cell_type": "code",
   "execution_count": 1,
   "metadata": {},
   "outputs": [
    {
     "name": "stderr",
     "output_type": "stream",
     "text": [
      "<frozen importlib._bootstrap>:219: RuntimeWarning: scipy._lib.messagestream.MessageStream size changed, may indicate binary incompatibility. Expected 56 from C header, got 64 from PyObject\n",
      "c:\\Users\\nlab\\anaconda3\\envs\\ephys0\\lib\\site-packages\\deeplabcut\\__init__.py:78: UserWarning: \n",
      "        As PyTorch is not installed, unsupervised identity learning will not be available.\n",
      "        Please run `pip install torch`, or ignore this warning.\n",
      "        \n",
      "  warnings.warn(\n"
     ]
    }
   ],
   "source": [
    "%load_ext autoreload \n",
    "%autoreload 2\n",
    "import cv2\n",
    "import json, os, cv2\n",
    "from pathlib import Path\n",
    "import pandas as pd \n",
    "import matplotlib.pyplot as plt \n",
    "import numpy as np\n",
    "import xarray as xr\n",
    "import seaborn as sns\n",
    "import h5py as hf\n",
    "from tqdm import tqdm\n",
    "from tqdm import tqdm\n",
    "import itertools \n",
    "from scipy.interpolate import interp1d\n",
    "from scipy import signal\n",
    "from matplotlib.backends.backend_pdf import PdfPages\n",
    "from sklearn.cluster import KMeans\n",
    "import matplotlib.colors as mcolors\n",
    "import os, fnmatch\n",
    "from scipy.spatial.distance import cdist\n",
    "\n",
    "import sys\n",
    "sys.path.insert(0, 'C:/Users/nlab/Documents/GitHub/obstacle_avoidance')\n",
    "\n",
    "from utils.base_functions import *\n",
    "from src.utils.auxiliary import flatten_series\n",
    "from src.utils.path import find\n",
    "from src.base import BaseInput\n",
    "from plots import plot_oa\n",
    "\n",
    "import warnings\n",
    "warnings.filterwarnings('ignore')"
   ]
  },
  {
   "cell_type": "code",
   "execution_count": 4,
   "metadata": {},
   "outputs": [],
   "source": [
    "session = plot_oa('D:/obstacle_avoidance/metadata/G8CKRT_oa_050323.json')\n",
    "session.gather_session_df('obstacle')\n",
    "session.cluster(6)\n",
    "df = session.df"
   ]
  },
  {
   "cell_type": "code",
   "execution_count": null,
   "metadata": {},
   "outputs": [],
   "source": [
    "session1 = plot_oa('D:/obstacle_avoidance/metadata/101222_101322_101422.json')\n",
    "session1.gather_session_df()\n",
    "session1.process_df()\n",
    "df1 = session1.df"
   ]
  },
  {
   "cell_type": "code",
   "execution_count": 5,
   "metadata": {},
   "outputs": [
    {
     "data": {
      "text/html": [
       "<div>\n",
       "<style scoped>\n",
       "    .dataframe tbody tr th:only-of-type {\n",
       "        vertical-align: middle;\n",
       "    }\n",
       "\n",
       "    .dataframe tbody tr th {\n",
       "        vertical-align: top;\n",
       "    }\n",
       "\n",
       "    .dataframe thead th {\n",
       "        text-align: right;\n",
       "    }\n",
       "</style>\n",
       "<table border=\"1\" class=\"dataframe\">\n",
       "  <thead>\n",
       "    <tr style=\"text-align: right;\">\n",
       "      <th></th>\n",
       "      <th>first_poke</th>\n",
       "      <th>second_poke</th>\n",
       "      <th>trial_timestamps</th>\n",
       "      <th>trial_vidframes</th>\n",
       "      <th>nose_x</th>\n",
       "      <th>nose_y</th>\n",
       "      <th>leftear_x</th>\n",
       "      <th>leftear_y</th>\n",
       "      <th>rightear_x</th>\n",
       "      <th>rightear_y</th>\n",
       "      <th>...</th>\n",
       "      <th>gt_obstacleBL_y_cm</th>\n",
       "      <th>gt_obstacle_cen_x</th>\n",
       "      <th>gt_obstacle_cen_x_cm</th>\n",
       "      <th>gt_obstacle_cen_y</th>\n",
       "      <th>gt_obstacle_cen_y_cm</th>\n",
       "      <th>time</th>\n",
       "      <th>obstacle_cluster</th>\n",
       "      <th>mean_gt_obstacle_cen_x_cm</th>\n",
       "      <th>mean_gt_obstacle_cen_y_cm</th>\n",
       "      <th>cluster_label</th>\n",
       "    </tr>\n",
       "  </thead>\n",
       "  <tbody>\n",
       "    <tr>\n",
       "      <th>0</th>\n",
       "      <td>57307.402176</td>\n",
       "      <td>57310.646540</td>\n",
       "      <td>[57307.413734, 57307.429926, 57307.447129, 573...</td>\n",
       "      <td>[74, 75, 76, 77, 78, 79, 80, 81, 82, 83, 84, 8...</td>\n",
       "      <td>[nan, nan, nan, 616.2639770507812, 609.3107910...</td>\n",
       "      <td>[nan, nan, nan, 219.03343200683594, 216.107147...</td>\n",
       "      <td>[649.117431640625, 642.1621704101562, nan, 626...</td>\n",
       "      <td>[256.2538757324219, 251.69952392578125, nan, 2...</td>\n",
       "      <td>[651.4603881835938, 643.626220703125, nan, 634...</td>\n",
       "      <td>[262.35333251953125, 248.5648651123047, nan, 2...</td>\n",
       "      <td>...</td>\n",
       "      <td>29.099578</td>\n",
       "      <td>345.911771</td>\n",
       "      <td>26.822300</td>\n",
       "      <td>284.242782</td>\n",
       "      <td>22.040433</td>\n",
       "      <td>3.216667</td>\n",
       "      <td>0</td>\n",
       "      <td>26.752311</td>\n",
       "      <td>21.445802</td>\n",
       "      <td>0.0</td>\n",
       "    </tr>\n",
       "    <tr>\n",
       "      <th>1</th>\n",
       "      <td>57310.646540</td>\n",
       "      <td>57312.768435</td>\n",
       "      <td>[57310.648051, 57310.665216, 57310.681356, 573...</td>\n",
       "      <td>[[268, 269, 270, 271, 272, 273, 274, 275, 276,...</td>\n",
       "      <td>[685.233642578125, nan, nan, nan, nan, nan, na...</td>\n",
       "      <td>[271.8834228515625, nan, nan, nan, nan, nan, n...</td>\n",
       "      <td>[668.349853515625, 672.6154174804688, 672.9995...</td>\n",
       "      <td>[266.5401916503906, 267.870361328125, 267.5038...</td>\n",
       "      <td>[677.6964111328125, 679.1038208007812, 679.879...</td>\n",
       "      <td>[285.75848388671875, 285.0168151855469, 283.65...</td>\n",
       "      <td>...</td>\n",
       "      <td>29.107143</td>\n",
       "      <td>345.948805</td>\n",
       "      <td>26.825172</td>\n",
       "      <td>284.477641</td>\n",
       "      <td>22.058644</td>\n",
       "      <td>2.116667</td>\n",
       "      <td>0</td>\n",
       "      <td>26.752311</td>\n",
       "      <td>21.445802</td>\n",
       "      <td>0.0</td>\n",
       "    </tr>\n",
       "    <tr>\n",
       "      <th>2</th>\n",
       "      <td>57312.768435</td>\n",
       "      <td>57314.935283</td>\n",
       "      <td>[57312.781862, 57312.798809, 57312.816192, 573...</td>\n",
       "      <td>[396, 397, 398, 399, 400, 401, 402, 403, 404, ...</td>\n",
       "      <td>[98.14295196533203, 98.16766357421875, 98.1457...</td>\n",
       "      <td>[277.06103515625, 277.373779296875, 277.318908...</td>\n",
       "      <td>[117.95055389404297, 117.12333679199219, 117.3...</td>\n",
       "      <td>[265.9244079589844, 266.379150390625, 266.3605...</td>\n",
       "      <td>[107.47877502441406, 105.98230743408203, 105.8...</td>\n",
       "      <td>[251.98460388183594, 254.7049560546875, 254.58...</td>\n",
       "      <td>...</td>\n",
       "      <td>34.865365</td>\n",
       "      <td>433.520211</td>\n",
       "      <td>33.615535</td>\n",
       "      <td>359.767108</td>\n",
       "      <td>27.896655</td>\n",
       "      <td>2.150000</td>\n",
       "      <td>1</td>\n",
       "      <td>33.779017</td>\n",
       "      <td>27.777656</td>\n",
       "      <td>4.0</td>\n",
       "    </tr>\n",
       "    <tr>\n",
       "      <th>3</th>\n",
       "      <td>57314.935283</td>\n",
       "      <td>57317.483340</td>\n",
       "      <td>[57314.949171, 57314.967206, 57314.982796, 573...</td>\n",
       "      <td>[[526, 527, 528, 529, 530, 531, 532, 533, 534,...</td>\n",
       "      <td>[nan, nan, nan, nan, nan, nan, nan, nan, nan, ...</td>\n",
       "      <td>[nan, nan, nan, nan, nan, nan, nan, nan, nan, ...</td>\n",
       "      <td>[673.6448974609375, 674.8700561523438, 676.655...</td>\n",
       "      <td>[265.6354675292969, 266.148193359375, 266.6850...</td>\n",
       "      <td>[673.0361328125, 674.72021484375, 676.95104980...</td>\n",
       "      <td>[287.0090637207031, 287.1199035644531, 287.185...</td>\n",
       "      <td>...</td>\n",
       "      <td>34.962080</td>\n",
       "      <td>432.745865</td>\n",
       "      <td>33.555491</td>\n",
       "      <td>360.761439</td>\n",
       "      <td>27.973756</td>\n",
       "      <td>2.516667</td>\n",
       "      <td>1</td>\n",
       "      <td>33.779017</td>\n",
       "      <td>27.777656</td>\n",
       "      <td>4.0</td>\n",
       "    </tr>\n",
       "    <tr>\n",
       "      <th>4</th>\n",
       "      <td>57317.483340</td>\n",
       "      <td>57319.269363</td>\n",
       "      <td>[57317.483878, 57317.500236, 57317.518195, 573...</td>\n",
       "      <td>[678, 679, 680, 681, 682, 683, 684, 685, 686, ...</td>\n",
       "      <td>[98.41161346435547, nan, nan, nan, nan, 96.831...</td>\n",
       "      <td>[281.2069091796875, nan, nan, nan, nan, 280.89...</td>\n",
       "      <td>[110.39929962158203, 107.95673370361328, 106.4...</td>\n",
       "      <td>[278.97076416015625, 277.5727233886719, 276.53...</td>\n",
       "      <td>[107.89097595214844, 106.0604248046875, 104.72...</td>\n",
       "      <td>[259.6772766113281, 259.2562561035156, 259.172...</td>\n",
       "      <td>...</td>\n",
       "      <td>34.965838</td>\n",
       "      <td>433.428709</td>\n",
       "      <td>33.608440</td>\n",
       "      <td>360.439528</td>\n",
       "      <td>27.948795</td>\n",
       "      <td>1.783333</td>\n",
       "      <td>1</td>\n",
       "      <td>33.779017</td>\n",
       "      <td>27.777656</td>\n",
       "      <td>4.0</td>\n",
       "    </tr>\n",
       "  </tbody>\n",
       "</table>\n",
       "<p>5 rows × 138 columns</p>\n",
       "</div>"
      ],
      "text/plain": [
       "     first_poke   second_poke  \\\n",
       "0  57307.402176  57310.646540   \n",
       "1  57310.646540  57312.768435   \n",
       "2  57312.768435  57314.935283   \n",
       "3  57314.935283  57317.483340   \n",
       "4  57317.483340  57319.269363   \n",
       "\n",
       "                                    trial_timestamps  \\\n",
       "0  [57307.413734, 57307.429926, 57307.447129, 573...   \n",
       "1  [57310.648051, 57310.665216, 57310.681356, 573...   \n",
       "2  [57312.781862, 57312.798809, 57312.816192, 573...   \n",
       "3  [57314.949171, 57314.967206, 57314.982796, 573...   \n",
       "4  [57317.483878, 57317.500236, 57317.518195, 573...   \n",
       "\n",
       "                                     trial_vidframes  \\\n",
       "0  [74, 75, 76, 77, 78, 79, 80, 81, 82, 83, 84, 8...   \n",
       "1  [[268, 269, 270, 271, 272, 273, 274, 275, 276,...   \n",
       "2  [396, 397, 398, 399, 400, 401, 402, 403, 404, ...   \n",
       "3  [[526, 527, 528, 529, 530, 531, 532, 533, 534,...   \n",
       "4  [678, 679, 680, 681, 682, 683, 684, 685, 686, ...   \n",
       "\n",
       "                                              nose_x  \\\n",
       "0  [nan, nan, nan, 616.2639770507812, 609.3107910...   \n",
       "1  [685.233642578125, nan, nan, nan, nan, nan, na...   \n",
       "2  [98.14295196533203, 98.16766357421875, 98.1457...   \n",
       "3  [nan, nan, nan, nan, nan, nan, nan, nan, nan, ...   \n",
       "4  [98.41161346435547, nan, nan, nan, nan, 96.831...   \n",
       "\n",
       "                                              nose_y  \\\n",
       "0  [nan, nan, nan, 219.03343200683594, 216.107147...   \n",
       "1  [271.8834228515625, nan, nan, nan, nan, nan, n...   \n",
       "2  [277.06103515625, 277.373779296875, 277.318908...   \n",
       "3  [nan, nan, nan, nan, nan, nan, nan, nan, nan, ...   \n",
       "4  [281.2069091796875, nan, nan, nan, nan, 280.89...   \n",
       "\n",
       "                                           leftear_x  \\\n",
       "0  [649.117431640625, 642.1621704101562, nan, 626...   \n",
       "1  [668.349853515625, 672.6154174804688, 672.9995...   \n",
       "2  [117.95055389404297, 117.12333679199219, 117.3...   \n",
       "3  [673.6448974609375, 674.8700561523438, 676.655...   \n",
       "4  [110.39929962158203, 107.95673370361328, 106.4...   \n",
       "\n",
       "                                           leftear_y  \\\n",
       "0  [256.2538757324219, 251.69952392578125, nan, 2...   \n",
       "1  [266.5401916503906, 267.870361328125, 267.5038...   \n",
       "2  [265.9244079589844, 266.379150390625, 266.3605...   \n",
       "3  [265.6354675292969, 266.148193359375, 266.6850...   \n",
       "4  [278.97076416015625, 277.5727233886719, 276.53...   \n",
       "\n",
       "                                          rightear_x  \\\n",
       "0  [651.4603881835938, 643.626220703125, nan, 634...   \n",
       "1  [677.6964111328125, 679.1038208007812, 679.879...   \n",
       "2  [107.47877502441406, 105.98230743408203, 105.8...   \n",
       "3  [673.0361328125, 674.72021484375, 676.95104980...   \n",
       "4  [107.89097595214844, 106.0604248046875, 104.72...   \n",
       "\n",
       "                                          rightear_y  ... gt_obstacleBL_y_cm  \\\n",
       "0  [262.35333251953125, 248.5648651123047, nan, 2...  ...          29.099578   \n",
       "1  [285.75848388671875, 285.0168151855469, 283.65...  ...          29.107143   \n",
       "2  [251.98460388183594, 254.7049560546875, 254.58...  ...          34.865365   \n",
       "3  [287.0090637207031, 287.1199035644531, 287.185...  ...          34.962080   \n",
       "4  [259.6772766113281, 259.2562561035156, 259.172...  ...          34.965838   \n",
       "\n",
       "  gt_obstacle_cen_x gt_obstacle_cen_x_cm gt_obstacle_cen_y  \\\n",
       "0        345.911771            26.822300        284.242782   \n",
       "1        345.948805            26.825172        284.477641   \n",
       "2        433.520211            33.615535        359.767108   \n",
       "3        432.745865            33.555491        360.761439   \n",
       "4        433.428709            33.608440        360.439528   \n",
       "\n",
       "  gt_obstacle_cen_y_cm      time obstacle_cluster mean_gt_obstacle_cen_x_cm  \\\n",
       "0            22.040433  3.216667                0                 26.752311   \n",
       "1            22.058644  2.116667                0                 26.752311   \n",
       "2            27.896655  2.150000                1                 33.779017   \n",
       "3            27.973756  2.516667                1                 33.779017   \n",
       "4            27.948795  1.783333                1                 33.779017   \n",
       "\n",
       "  mean_gt_obstacle_cen_y_cm cluster_label  \n",
       "0                 21.445802           0.0  \n",
       "1                 21.445802           0.0  \n",
       "2                 27.777656           4.0  \n",
       "3                 27.777656           4.0  \n",
       "4                 27.777656           4.0  \n",
       "\n",
       "[5 rows x 138 columns]"
      ]
     },
     "execution_count": 5,
     "metadata": {},
     "output_type": "execute_result"
    }
   ],
   "source": [
    "df.head()"
   ]
  },
  {
   "cell_type": "code",
   "execution_count": null,
   "metadata": {},
   "outputs": [],
   "source": [
    "df.columns.values"
   ]
  },
  {
   "cell_type": "code",
   "execution_count": null,
   "metadata": {},
   "outputs": [],
   "source": [
    "\n",
    "#for ind,row in df.iterrows():\n",
    "for clusters, cluster_name in enumerate(df['obstacle_cluster'].unique()):\n",
    "    x=df.loc[df['obstacle_cluster']==cluster_name]\n",
    "    mean_cenx = np.mean(x['gt_obstacle_cen_x_cm'])\n",
    "    mean_ceny = np.mean(x['gt_obstacle_cen_y_cm'])\n",
    "  \n",
    "    for ind,row in df.iterrows(): \n",
    "        if row['obstacle_cluster'] == cluster_name:\n",
    "            df.at[ind,'mean_gt_obstacle_cen_x_cm'] = mean_cenx\n",
    "            df.at[ind,'mean_gt_obstacle_cen_y_cm'] = mean_ceny\n",
    "\n",
    "\n"
   ]
  },
  {
   "cell_type": "code",
   "execution_count": null,
   "metadata": {},
   "outputs": [],
   "source": [
    "#for ind,row in df.iterrows():\n",
    "for clusters, cluster_name in enumerate(df1['obstacle_cluster'].unique()):\n",
    "    x=df1.loc[df1['obstacle_cluster']==cluster_name]\n",
    "    mean_cenx = np.mean(x['gt_obstacle_cen_x_cm'])\n",
    "    mean_ceny = np.mean(x['gt_obstacle_cen_y_cm'])\n",
    "  \n",
    "    for ind,row in df1.iterrows(): \n",
    "        if row['obstacle_cluster'] == cluster_name:\n",
    "            df1.at[ind,'mean_gt_obstacle_cen_x_cm'] = mean_cenx\n",
    "            df1.at[ind,'mean_gt_obstacle_cen_y_cm'] = mean_ceny"
   ]
  },
  {
   "cell_type": "code",
   "execution_count": 8,
   "metadata": {},
   "outputs": [
    {
     "ename": "TypeError",
     "evalue": "list indices must be integers or slices, not float",
     "output_type": "error",
     "traceback": [
      "\u001b[1;31m---------------------------------------------------------------------------\u001b[0m",
      "\u001b[1;31mTypeError\u001b[0m                                 Traceback (most recent call last)",
      "Cell \u001b[1;32mIn[8], line 9\u001b[0m\n\u001b[0;32m      7\u001b[0m \u001b[39mfor\u001b[39;00m i \u001b[39min\u001b[39;00m \u001b[39mrange\u001b[39m(\u001b[39mlen\u001b[39m(df[\u001b[39m'\u001b[39m\u001b[39mobstacle_cluster\u001b[39m\u001b[39m'\u001b[39m])):\n\u001b[0;32m      8\u001b[0m     obstacle_xypos \u001b[39m=\u001b[39m obstacle_xypos_ar[:,i] \n\u001b[1;32m----> 9\u001b[0m     plt\u001b[39m.\u001b[39mplot(obstacle_xypos[\u001b[39m0\u001b[39m], obstacle_xypos[\u001b[39m1\u001b[39m], \u001b[39m'\u001b[39m\u001b[39m*\u001b[39m\u001b[39m'\u001b[39m, color\u001b[39m=\u001b[39m\u001b[39mlist\u001b[39;49m(mcolors\u001b[39m.\u001b[39;49mTABLEAU_COLORS)[gt_label[i]])\n\u001b[0;32m     10\u001b[0m     plt\u001b[39m.\u001b[39mylim([\u001b[39m52\u001b[39m,\u001b[39m0\u001b[39m]); plt\u001b[39m.\u001b[39mxlim([\u001b[39m0\u001b[39m, \u001b[39m72\u001b[39m])\n",
      "\u001b[1;31mTypeError\u001b[0m: list indices must be integers or slices, not float"
     ]
    },
    {
     "data": {
      "text/plain": [
       "<Figure size 640x480 with 0 Axes>"
      ]
     },
     "metadata": {},
     "output_type": "display_data"
    }
   ],
   "source": [
    "gt_label = df['cluster_label'].astype(int).tolist()\n",
    "#create obstacle_xypos array \n",
    "obstacle_xpos = np.array(df.loc[:,'gt_obstacle_cen_x_cm'])\n",
    "obstacle_ypos = np.array(df.loc[:,'gt_obstacle_cen_y_cm'])\n",
    "obstacle_xypos_ar = np.stack((obstacle_xpos, obstacle_ypos))\n",
    "plt.figure()\n",
    "for i in range(len(df['obstacle_cluster'])):\n",
    "    obstacle_xypos = obstacle_xypos_ar[:,i] \n",
    "    plt.plot(obstacle_xypos[0], obstacle_xypos[1], '*', color=list(mcolors.TABLEAU_COLORS)[gt_label[i]])\n",
    "    plt.ylim([52,0]); plt.xlim([0, 72])"
   ]
  },
  {
   "cell_type": "code",
   "execution_count": null,
   "metadata": {},
   "outputs": [],
   "source": [
    "plt.subplots(3,3, figsize=(25,21))\n",
    "\n",
    "\n",
    "for clusters, cluster_name in enumerate(df1['obstacle_cluster'].unique()):\n",
    "    x=df1.loc[df1['obstacle_cluster']==cluster_name]\n",
    "    plt.subplot(3,3,cluster_name+1)\n",
    "    plt.gca().set_title(cluster_name)\n",
    "    plt.hist2d(x['gt_obstacle_cen_x_cm'],x['gt_obstacle_cen_y_cm'])\n",
    "    #plt.ylim([52,0]); plt.xlim([0, 72])\n",
    "\n",
    "    "
   ]
  },
  {
   "cell_type": "code",
   "execution_count": null,
   "metadata": {},
   "outputs": [],
   "source": [
    "x['mean_gt_obstacle_cen_x_cm'].unique()"
   ]
  },
  {
   "cell_type": "code",
   "execution_count": null,
   "metadata": {},
   "outputs": [],
   "source": [
    "len(df1)"
   ]
  },
  {
   "cell_type": "code",
   "execution_count": null,
   "metadata": {},
   "outputs": [],
   "source": [
    "plt.subplots(3,3, figsize=(25,21))\n",
    "\n",
    "\n",
    "for clusters, cluster_name in enumerate(df1['obstacle_cluster'].unique()):\n",
    "    x=df1.loc[df1['obstacle_cluster']==cluster_name]\n",
    "    plt.subplot(3,3,cluster_name+1)\n",
    "    plt.gca().set_title(str(cluster_name)+'_' + str(len(x)))\n",
    "    cluster_center = np.column_stack((x['mean_gt_obstacle_cen_x_cm'].unique(),x['mean_gt_obstacle_cen_y_cm'].unique()))\n",
    "    cluster = np.column_stack((x['gt_obstacle_cen_x_cm'].to_numpy(),x['gt_obstacle_cen_y_cm'].to_numpy()))\n",
    "    distances = cdist(cluster_center,cluster)\n",
    "    plt.plot(x['gt_obstacle_cen_x_cm'],x['gt_obstacle_cen_y_cm'],'x')\n",
    "    plt.plot(x['gt_obstacle_cen_x_cm'].iloc[np.where(distances<np.percentile(distances,95))[1]],x['gt_obstacle_cen_y_cm'].iloc[np.where(distances<np.percentile(distances,95))[1]],'.',color='black')\n",
    "    plt.plot(x['mean_gt_obstacle_cen_x_cm'].unique(),x['mean_gt_obstacle_cen_y_cm'].unique(),'*',color = 'red')\n",
    "    plt.ylim([52,0]); plt.xlim([0, 72])"
   ]
  },
  {
   "cell_type": "code",
   "execution_count": 6,
   "metadata": {},
   "outputs": [
    {
     "name": "stdout",
     "output_type": "stream",
     "text": [
      "0 26.325371139393813 27.136299733431127 20.741230034681003 22.058644182528184 [26.75231053] [21.44580177]\n",
      "1 33.160978801684045 35.07495475209891 26.95926374476633 28.035156659373722 [33.7790173] [27.77765561]\n",
      "4 23.81847296075221 27.788483670995408 15.381900243792483 16.326707529009454 [26.42889006] [15.77213121]\n",
      "3 24.17877996916725 26.863215561849103 27.48561630082473 28.01742278586136 [25.60993259] [27.8602421]\n",
      "5 33.235051355648295 34.453496202015685 21.22587817855072 21.849141580391397 [34.10278153] [21.53113798]\n",
      "2 32.06583516076989 34.997202461859246 15.114272937318955 15.922471694589127 [33.9870879] [15.64928596]\n"
     ]
    }
   ],
   "source": [
    "for clusters, cluster_name in enumerate(df['obstacle_cluster'].unique()):\n",
    "    x=df.loc[df['obstacle_cluster']==cluster_name]\n",
    "    cen_x_list = x['gt_obstacle_cen_x_cm'].sort_values()\n",
    "    cen_x_list = cen_x_list.to_numpy()\n",
    "    cen_y_list = x['gt_obstacle_cen_y_cm'].sort_values()\n",
    "    cen_y_list = cen_y_list.to_numpy()\n",
    "    cen_x_smallest,cen_x_largest,cen_y_smallest,cen_y_largest = cen_x_list[0],cen_x_list[-1],cen_y_list[0],cen_y_list[-1]\n",
    "    print(cluster_name,cen_x_smallest,cen_x_largest,cen_y_smallest,cen_y_largest,x['mean_gt_obstacle_cen_x_cm'].unique(),x['mean_gt_obstacle_cen_y_cm'].unique())"
   ]
  },
  {
   "cell_type": "code",
   "execution_count": null,
   "metadata": {},
   "outputs": [],
   "source": [
    "## get the geometric (top,left) postion of clusters \n",
    "# Find the outliers in each clusters x,y postion\n",
    "def label_cluster(df):"
   ]
  },
  {
   "cell_type": "code",
   "execution_count": null,
   "metadata": {},
   "outputs": [],
   "source": [
    "df1['cluster_label'] = np.nan\n",
    "for clusters, cluster_name in enumerate(df1['obstacle_cluster'].unique()):\n",
    "    x=df1.loc[df1['obstacle_cluster']==cluster_name]\n",
    "    cen_x_list = x['gt_obstacle_cen_x_cm'].sort_values()\n",
    "    cen_x_list = cen_x_list.to_numpy()\n",
    "    cen_y_list = x['gt_obstacle_cen_y_cm'].sort_values()\n",
    "    cen_y_list = cen_y_list.to_numpy()\n",
    "    cen_x_smallest,cen_x_largest,cen_y_smallest,cen_y_largest = cen_x_list[0],cen_x_list[-1],cen_y_list[0],cen_y_list[-1]\n",
    "    #label cluster by obstacle post\n",
    "    for ind,row in x.iterrows():\n",
    "        # position top left label 0\n",
    "        if 26.511267901536936 <= x['mean_gt_obstacle_cen_x_cm'].unique() <= 29.262555270323688 and 19.603003146893094 <= x['mean_gt_obstacle_cen_y_cm'].unique() <= 21.48005617413041:\n",
    "            df1.at[ind,'cluster_label'] = 0\n",
    "        # postion top middle lable 1     \n",
    "        if 34.224618031842425  <= x['mean_gt_obstacle_cen_x_cm'].unique() <= 40.737819614353576  and 19.171765596431882  <= x['mean_gt_obstacle_cen_y_cm'].unique() <= 21.765871122032685:\n",
    "            df1.at[ind,'cluster_label'] = 1\n",
    "        # postion top middle lable 2     \n",
    "        if 47.10153827545068   <= x['mean_gt_obstacle_cen_x_cm'].unique() <= 51.15598067362944  and 19.386902039003104  <= x['mean_gt_obstacle_cen_y_cm'].unique() <= 21.36299006442639:\n",
    "            df1.at[ind,'cluster_label'] = 2\n",
    "        # postion top middle lable 3     \n",
    "        if 24.622638543067332    <= x['mean_gt_obstacle_cen_x_cm'].unique() <= 30.32366857885396   and 24.072987056842724  <= x['mean_gt_obstacle_cen_y_cm'].unique() <= 28.06565031743722:\n",
    "            df1.at[ind,'cluster_label'] = 3 \n",
    "        # postion top middle lable 4     \n",
    "        if 34.33696422611072     <= x['mean_gt_obstacle_cen_x_cm'].unique() <= 39.16315460138148   and 23.33051936216178  <= x['mean_gt_obstacle_cen_y_cm'].unique() <= 28.21568031983405:\n",
    "            df1.at[ind,'cluster_label'] = 4\n",
    "        # postion top middle lable 5     \n",
    "        if 46.78662583258851     <= x['mean_gt_obstacle_cen_x_cm'].unique() <= 51.45490492362184   and 23.30309610363196  <= x['mean_gt_obstacle_cen_y_cm'].unique() <= 26.340749658133035:\n",
    "            df1.at[ind,'cluster_label'] = 5\n",
    "        # postion top middle lable 6     \n",
    "        if 23.672283873362495      <= x['mean_gt_obstacle_cen_x_cm'].unique() <= 29.24383212681531  and 31.13010098995012  <= x['mean_gt_obstacle_cen_y_cm'].unique() <= 32.9010213861951:\n",
    "            df1.at[ind,'cluster_label'] = 6\n",
    "        # postion top middle lable 7     \n",
    "        if 34.99528058841633      <= x['mean_gt_obstacle_cen_x_cm'].unique() <= 38.68741237003255   and 30.937326612118863  <= x['mean_gt_obstacle_cen_y_cm'].unique() <= 32.92257553927523:\n",
    "            df1.at[ind,'cluster_label'] = 7\n",
    "        # postion top middle lable 8     \n",
    "        if 47.0371762841755 <= x['mean_gt_obstacle_cen_x_cm'].unique() <= 52.09703145249776    and 30.463949607263373  <= x['mean_gt_obstacle_cen_y_cm'].unique() <= 32.749148951731954:\n",
    "            df1.at[ind,'cluster_label'] = 8\n",
    "\n",
    "        \n",
    "                  \n",
    "            "
   ]
  },
  {
   "cell_type": "code",
   "execution_count": null,
   "metadata": {},
   "outputs": [],
   "source": [
    "print(x['mean_gt_obstacle_cen_x_cm'].unique(),x['mean_gt_obstacle_cen_y_cm'].unique())"
   ]
  },
  {
   "cell_type": "code",
   "execution_count": null,
   "metadata": {},
   "outputs": [],
   "source": [
    "df1['cluster_label'].unique()"
   ]
  },
  {
   "cell_type": "code",
   "execution_count": null,
   "metadata": {},
   "outputs": [],
   "source": [
    "30.463949607263373  <= x['mean_gt_obstacle_cen_y_cm'].unique() <= 32.749148951731954"
   ]
  },
  {
   "cell_type": "code",
   "execution_count": null,
   "metadata": {},
   "outputs": [],
   "source": [
    "47.0371762841755 <= x['mean_gt_obstacle_cen_x_cm'].unique() <= 52.09703145249776 "
   ]
  },
  {
   "cell_type": "code",
   "execution_count": null,
   "metadata": {},
   "outputs": [],
   "source": [
    "int(7)"
   ]
  },
  {
   "cell_type": "code",
   "execution_count": null,
   "metadata": {},
   "outputs": [],
   "source": [
    "int(cluster_name)+1"
   ]
  },
  {
   "cell_type": "code",
   "execution_count": null,
   "metadata": {},
   "outputs": [],
   "source": [
    "plt.subplots(3,3, figsize=(25,21))\n",
    "\n",
    "\n",
    "for clusters, cluster_name in enumerate(df1['cluster_label'].unique()):\n",
    "    x=df1.loc[df1['cluster_label']==cluster_name]\n",
    "    for i, row in x.iterrows():\n",
    "        if row['odd'] == True:\n",
    "            plt.subplot(3,3,int(cluster_name)+1)\n",
    "            plt.gca().set_aspect('equal', adjustable='box')\n",
    "            plt.gca().set_title(str(row['odd'])+str(row['cluster_label']))\n",
    "    \n",
    "            plt.plot([row['arenaTL_x_cm'], row['arenaTR_x_cm'], row['arenaBR_x_cm'], row['arenaBL_x_cm'],row['arenaTL_x_cm']],\n",
    "                [row['arenaTL_y_cm'], row['arenaTR_y_cm'], row['arenaBR_y_cm'], row['arenaBL_y_cm'],row['arenaTL_y_cm']],color='orange')\n",
    "\n",
    "\n",
    "            plt.plot([row['gt_obstacleTL_x_cm'], row['gt_obstacleTR_x_cm'], row['gt_obstacleBR_x_cm'], row['gt_obstacleBL_x_cm'],row['gt_obstacleTL_x_cm']],\n",
    "                [row['gt_obstacleTL_y_cm'], row['gt_obstacleTR_y_cm'], row['gt_obstacleBR_y_cm'], row['gt_obstacleBL_y_cm'],row['gt_obstacleTL_y_cm']],color='green')\n",
    "    \n",
    "   \n",
    "    \n",
    "    \n",
    "            plt.scatter(row['gt_obstacle_cen_x_cm'],row['gt_obstacle_cen_y_cm'],color='blue')\n",
    "            plt.scatter(row['leftportT_x_cm'],row['leftportT_y_cm'],color='blue')\n",
    "            plt.scatter(row['rightportT_x_cm'],row['rightportT_y_cm'],color='black')\n",
    "            sns.scatterplot(x=row['ts_nose_x_cm'],y=row['ts_nose_y_cm'],hue = enumerate(row['ts_nose_x_cm']), palette ='magma',legend=False) \n",
    "            #plt.scatter(row['wobstacle_x_cm'], row['wobstacle_y_cm'], c = list(mcolors.TABLEAU_COLORS)[ row['obstacle_cluster']])\n",
    "            plt.ylim([52,0]); plt.xlim([0, 72])"
   ]
  },
  {
   "cell_type": "code",
   "execution_count": null,
   "metadata": {},
   "outputs": [],
   "source": [
    "plt.subplots(3,3, figsize=(25,21))\n",
    "\n",
    "\n",
    "for clusters, cluster_name in enumerate(df['cluster_label'].unique()):\n",
    "    x=df.loc[df['cluster_label']==cluster_name]\n",
    "    for i, row in x.iterrows():\n",
    "        if row['odd'] == True:\n",
    "            plt.subplot(3,3,int(cluster_name)+1)\n",
    "            plt.gca().set_aspect('equal', adjustable='box')\n",
    "            plt.gca().set_title(str(row['odd'])+str(row['cluster_label']))\n",
    "    \n",
    "            plt.plot([row['arenaTL_x_cm'], row['arenaTR_x_cm'], row['arenaBR_x_cm'], row['arenaBL_x_cm'],row['arenaTL_x_cm']],\n",
    "                [row['arenaTL_y_cm'], row['arenaTR_y_cm'], row['arenaBR_y_cm'], row['arenaBL_y_cm'],row['arenaTL_y_cm']],color='orange')\n",
    "\n",
    "\n",
    "            plt.plot([row['gt_obstacleTL_x_cm'], row['gt_obstacleTR_x_cm'], row['gt_obstacleBR_x_cm'], row['gt_obstacleBL_x_cm'],row['gt_obstacleTL_x_cm']],\n",
    "                [row['gt_obstacleTL_y_cm'], row['gt_obstacleTR_y_cm'], row['gt_obstacleBR_y_cm'], row['gt_obstacleBL_y_cm'],row['gt_obstacleTL_y_cm']],color='green')\n",
    "    \n",
    "   \n",
    "    \n",
    "    \n",
    "            plt.scatter(row['gt_obstacle_cen_x_cm'],row['gt_obstacle_cen_y_cm'],color='blue')\n",
    "            plt.scatter(row['leftportT_x_cm'],row['leftportT_y_cm'],color='blue')\n",
    "            plt.scatter(row['rightportT_x_cm'],row['rightportT_y_cm'],color='black')\n",
    "            sns.scatterplot(x=row['ts_nose_x_cm'],y=row['ts_nose_y_cm'],hue = enumerate(row['ts_nose_x_cm']), palette ='magma',legend=False) \n",
    "            #plt.scatter(row['wobstacle_x_cm'], row['wobstacle_y_cm'], c = list(mcolors.TABLEAU_COLORS)[ row['obstacle_cluster']])\n",
    "            plt.ylim([52,0]); plt.xlim([0, 72])"
   ]
  },
  {
   "cell_type": "code",
   "execution_count": null,
   "metadata": {},
   "outputs": [],
   "source": [
    "df1.to_hdf('D:/obstacle_avoidance/recordings/data_h5/101222_101322_101422.h5','w')\n"
   ]
  },
  {
   "cell_type": "code",
   "execution_count": null,
   "metadata": {},
   "outputs": [],
   "source": [
    "df.groupby(['animal']).count()"
   ]
  },
  {
   "cell_type": "code",
   "execution_count": null,
   "metadata": {},
   "outputs": [],
   "source": [
    "test = pd.read_hdf(r'D:\\obstacle_avoidance\\recordings\\101422\\J19RT\\oa\\df_J19RT_101422_oa.h5')"
   ]
  },
  {
   "cell_type": "code",
   "execution_count": null,
   "metadata": {},
   "outputs": [],
   "source": [
    "test['odd'] = np.nan\n",
    "for i, ind in enumerate(test.index.values):\n",
    "    if ind%2 == 0: # odd values\n",
    "        test.at[ind, 'odd'] = True\n",
    "    elif ind%2 == 1:\n",
    "        test.at[ind, 'odd'] = False"
   ]
  },
  {
   "cell_type": "code",
   "execution_count": null,
   "metadata": {},
   "outputs": [],
   "source": [
    "dist_to_posts = np.median(self.data['arenaTR_x'].iloc[0],0) - np.median(self.data['arenaTL_x'].iloc[0],0)\n",
    "pxls2cm = dist_to_posts/self.dist_across_arena\n",
    "self.convert_pxls_to_dist()"
   ]
  },
  {
   "cell_type": "code",
   "execution_count": null,
   "metadata": {},
   "outputs": [],
   "source": [
    "keys = ['nose','leftear','rightear','spine','midspine','tailbase']\n",
    "keys_list = list_columns(test,keys)\n",
    "keys_list= [col for col in keys_list if 'likelihood' not in col]\n",
    "keys_list= [col for col in keys_list if 'lind' not in col]\n",
    "# check if odd or even trial\n",
    "#  get first index when nose crosses a distance thresh hold\n",
    "#trail start = ts\n",
    "##odd tiral at 16 cm even at 56 cm     \n",
    "for ind, row in test.iterrows(): \n",
    "    if row['odd'] == True:\n",
    "        nose_list = row['nose_x_cm'] \n",
    "        odd_ind = np.argmax(nose_list>16)\n",
    "        for key in keys_list:\n",
    "            test.at[ind,'ts_' + key] = row[key][odd_ind:]\n",
    "    else: \n",
    "        nose_list = row['nose_x_cm']\n",
    "        even_ind = np.argmax(nose_list<56)\n",
    "        for key in keys_list:\n",
    "            test.at[ind,'ts_' + key] = row[key][even_ind:]"
   ]
  },
  {
   "cell_type": "code",
   "execution_count": null,
   "metadata": {},
   "outputs": [],
   "source": [
    "np.nan"
   ]
  },
  {
   "cell_type": "code",
   "execution_count": null,
   "metadata": {},
   "outputs": [],
   "source": [
    "obstacle_cols = list_columns(test,['obstacle'])\n",
    "obstacle_cols = [col for col in obstacle_cols if 'likelihood' not in col]\n",
    "for ind, row in test.iterrows():\n",
    "    nose_list = row['nose_x_cm']\n",
    "    middle_time = np.where((nose_list > 30) & (nose_list < 50))\n",
    "    if len(middle_time[0]) == 0:\n",
    "        test = test.drop(ind)\n",
    "        #for col in obstacle_cols:\n",
    "            #test.at[ind,'gt_'+ col]= np.nan\n",
    "    else:\n",
    "        first,last = [middle_time[0][i] for i in (0, -1)] \n",
    "    # calculate median of each corner\n",
    "        for col in obstacle_cols:\n",
    "            test.at[ind,'gt_'+ col]= np.nanmedian(row[col][first:last])\n"
   ]
  },
  {
   "cell_type": "code",
   "execution_count": null,
   "metadata": {},
   "outputs": [],
   "source": [
    "for ind, row in test.iterrows():\n",
    "    xvals = np.stack([row['gt_obstacleTL_x'], row['gt_obstacleTR_x'], row['gt_obstacleBL_x'], row['gt_obstacleBR_x']])\n",
    "    xvals_cm = np.stack([row['gt_obstacleTL_x_cm'], row['gt_obstacleTR_x_cm'], row['gt_obstacleBL_x_cm'], row['gt_obstacleBR_x_cm']])\n",
    "    test.at[ind,'gt_obstacle_cen_x' ] = np.mean(xvals)\n",
    "    test.at[ind,'gt_obstacle_cen_x_cm' ] = np.mean(xvals_cm)\n",
    "    yvals = np.stack([row['gt_obstacleTL_y'], row['gt_obstacleTR_y'], row['gt_obstacleBL_y'], row['gt_obstacleBR_y']])\n",
    "    yvals_cm = np.stack([row['gt_obstacleTL_y_cm'], row['gt_obstacleTR_y_cm'], row['gt_obstacleBL_y_cm'], row['gt_obstacleBR_y_cm']])\n",
    "    test.at[ind,'gt_obstacle_cen_y' ] = np.mean(yvals)\n",
    "    test.at[ind,'gt_obstacle_cen_y_cm' ] = np.mean(yvals_cm)"
   ]
  },
  {
   "cell_type": "code",
   "execution_count": null,
   "metadata": {},
   "outputs": [],
   "source": [
    "test"
   ]
  },
  {
   "cell_type": "code",
   "execution_count": null,
   "metadata": {},
   "outputs": [],
   "source": [
    "middle_time"
   ]
  },
  {
   "cell_type": "code",
   "execution_count": null,
   "metadata": {},
   "outputs": [],
   "source": [
    "len(middle_time[0])"
   ]
  },
  {
   "cell_type": "code",
   "execution_count": null,
   "metadata": {},
   "outputs": [],
   "source": [
    "np.where((nose_list > 30) & (nose_list < 50))"
   ]
  },
  {
   "cell_type": "code",
   "execution_count": null,
   "metadata": {},
   "outputs": [],
   "source": [
    "test.at[1,'nose_x_cm']"
   ]
  },
  {
   "cell_type": "code",
   "execution_count": null,
   "metadata": {},
   "outputs": [],
   "source": [
    "test.at[7,'nose_x_cm']"
   ]
  },
  {
   "cell_type": "code",
   "execution_count": null,
   "metadata": {},
   "outputs": [],
   "source": [
    "np.where((nose_list > 30) & (nose_list < 50))"
   ]
  },
  {
   "cell_type": "code",
   "execution_count": null,
   "metadata": {},
   "outputs": [],
   "source": [
    "np.where((nose_list > 30) & (nose_list < 50))"
   ]
  },
  {
   "cell_type": "code",
   "execution_count": null,
   "metadata": {},
   "outputs": [],
   "source": [
    "first,last = [middle_time[0][i] for i in (0, -1)] "
   ]
  },
  {
   "cell_type": "code",
   "execution_count": null,
   "metadata": {},
   "outputs": [],
   "source": [
    "first,last "
   ]
  },
  {
   "cell_type": "code",
   "execution_count": null,
   "metadata": {},
   "outputs": [],
   "source": [
    "test"
   ]
  },
  {
   "cell_type": "markdown",
   "metadata": {},
   "source": []
  },
  {
   "cell_type": "markdown",
   "metadata": {},
   "source": []
  },
  {
   "cell_type": "code",
   "execution_count": null,
   "metadata": {},
   "outputs": [],
   "source": [
    "nose_list = test_row['nose_x_cm']\n",
    "middle_time = np.where((nose_list > 30) & (nose_list < 50))\n",
    "first,last = [middle_time[0][i] for i in (0, -1)]"
   ]
  },
  {
   "cell_type": "code",
   "execution_count": null,
   "metadata": {},
   "outputs": [],
   "source": [
    "np.nanmedian(test_row[col][first:last])"
   ]
  },
  {
   "cell_type": "code",
   "execution_count": null,
   "metadata": {},
   "outputs": [],
   "source": [
    "ind"
   ]
  },
  {
   "cell_type": "code",
   "execution_count": null,
   "metadata": {},
   "outputs": [],
   "source": [
    "row['obstacleTL_x']"
   ]
  },
  {
   "cell_type": "code",
   "execution_count": null,
   "metadata": {},
   "outputs": [],
   "source": [
    "test"
   ]
  },
  {
   "cell_type": "code",
   "execution_count": null,
   "metadata": {},
   "outputs": [],
   "source": []
  }
 ],
 "metadata": {
  "kernelspec": {
   "display_name": "Python 3.8.13 ('ephys0')",
   "language": "python",
   "name": "python3"
  },
  "language_info": {
   "codemirror_mode": {
    "name": "ipython",
    "version": 3
   },
   "file_extension": ".py",
   "mimetype": "text/x-python",
   "name": "python",
   "nbconvert_exporter": "python",
   "pygments_lexer": "ipython3",
   "version": "3.8.15"
  },
  "orig_nbformat": 4,
  "vscode": {
   "interpreter": {
    "hash": "8d5aad94d69af8d54a80740ac3e999eae8a40d3534c4b9b883255615339559dc"
   }
  }
 },
 "nbformat": 4,
 "nbformat_minor": 2
}
