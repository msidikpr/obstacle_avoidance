{
 "cells": [
  {
   "cell_type": "code",
   "execution_count": 41,
   "metadata": {},
   "outputs": [
    {
     "name": "stdout",
     "output_type": "stream",
     "text": [
      "The autoreload extension is already loaded. To reload it, use:\n",
      "  %reload_ext autoreload\n"
     ]
    }
   ],
   "source": [
    "\n",
    "%load_ext autoreload\n",
    "%autoreload 2\n",
    "import json, os, cv2\n",
    "from pathlib import Path\n",
    "import pandas as pd \n",
    "import matplotlib.pyplot as plt \n",
    "import numpy as np\n",
    "import xarray as xr\n",
    "import seaborn as sns\n",
    "import h5py as hf\n",
    "from tqdm import tqdm\n",
    "from tqdm import tqdm\n",
    "import itertools \n",
    "from scipy.interpolate import interp1d\n",
    "from scipy import signal\n",
    "from matplotlib.backends.backend_pdf import PdfPages\n",
    "from sklearn.cluster import KMeans\n",
    "import matplotlib.colors as mcolors\n",
    "import os, fnmatch\n",
    "from scipy.spatial.distance import cdist\n",
    "import matplotlib.gridspec as gridspec\n",
    "\n",
    "\n",
    "import sys\n",
    "sys.path.insert(0, 'C:/Users/nlab/Documents/GitHub/obstacle_avoidance')\n",
    "\n",
    "from utils.base_functions import *\n",
    "from src.utils.auxiliary import flatten_series\n",
    "from src.utils.path import find\n",
    "from src.base import BaseInput\n",
    "from plots.plots import plot_oa\n",
    "from pipeline.obstacle_avoidance_processing import *\n",
    "\n",
    "import warnings\n",
    "warnings.filterwarnings('ignore')"
   ]
  },
  {
   "cell_type": "code",
   "execution_count": 45,
   "metadata": {},
   "outputs": [
    {
     "name": "stderr",
     "output_type": "stream",
     "text": [
      "0it [00:00, ?it/s]"
     ]
    },
    {
     "name": "stdout",
     "output_type": "stream",
     "text": [
      "non_obstalce\n",
      "8\n",
      "non_obstalce\n",
      "df made\n",
      "['nose_x', 'leftear_x', 'rightear_x', 'spine_x', 'midspine_x', 'tailbase_x', 'midtail_x', 'tailend_x', 'arenaTL_x', 'arenaTR_x', 'arenaBL_x', 'arenaBR_x', 'leftportT_x', 'leftportB_x', 'rightportT_x', 'rightportB_x']\n",
      "pxl\n",
      "mean\n",
      "trial_start\n",
      "dist\n"
     ]
    },
    {
     "name": "stderr",
     "output_type": "stream",
     "text": [
      "No artists with labels found to put in legend.  Note that artists whose label start with an underscore are ignored when legend() is called with no argument.\n",
      "No artists with labels found to put in legend.  Note that artists whose label start with an underscore are ignored when legend() is called with no argument.\n"
     ]
    },
    {
     "name": "stdout",
     "output_type": "stream",
     "text": [
      "angle_to_port\n",
      "summary_plot\n"
     ]
    },
    {
     "name": "stderr",
     "output_type": "stream",
     "text": [
      "1it [00:04,  4.66s/it]"
     ]
    },
    {
     "name": "stdout",
     "output_type": "stream",
     "text": [
      "saved_df\n",
      "non_obstalce\n",
      "6\n",
      "non_obstalce\n",
      "df made\n",
      "['nose_x', 'leftear_x', 'rightear_x', 'spine_x', 'midspine_x', 'tailbase_x', 'midtail_x', 'tailend_x', 'arenaTL_x', 'arenaTR_x', 'arenaBL_x', 'arenaBR_x', 'leftportT_x', 'leftportB_x', 'rightportT_x', 'rightportB_x']\n",
      "pxl\n",
      "mean\n",
      "trial_start\n",
      "dist\n"
     ]
    },
    {
     "name": "stderr",
     "output_type": "stream",
     "text": [
      "No artists with labels found to put in legend.  Note that artists whose label start with an underscore are ignored when legend() is called with no argument.\n",
      "No artists with labels found to put in legend.  Note that artists whose label start with an underscore are ignored when legend() is called with no argument.\n"
     ]
    },
    {
     "name": "stdout",
     "output_type": "stream",
     "text": [
      "angle_to_port\n",
      "summary_plot\n"
     ]
    },
    {
     "name": "stderr",
     "output_type": "stream",
     "text": [
      "2it [00:11,  6.13s/it]"
     ]
    },
    {
     "name": "stdout",
     "output_type": "stream",
     "text": [
      "saved_df\n",
      "non_obstalce\n",
      "11\n",
      "non_obstalce\n",
      "df made\n",
      "['nose_x', 'leftear_x', 'rightear_x', 'spine_x', 'midspine_x', 'tailbase_x', 'midtail_x', 'tailend_x', 'arenaTL_x', 'arenaTR_x', 'arenaBL_x', 'arenaBR_x', 'leftportT_x', 'leftportB_x', 'rightportT_x', 'rightportB_x']\n",
      "pxl\n",
      "mean\n",
      "trial_start\n",
      "dist\n"
     ]
    },
    {
     "name": "stderr",
     "output_type": "stream",
     "text": [
      "No artists with labels found to put in legend.  Note that artists whose label start with an underscore are ignored when legend() is called with no argument.\n",
      "No artists with labels found to put in legend.  Note that artists whose label start with an underscore are ignored when legend() is called with no argument.\n"
     ]
    },
    {
     "name": "stdout",
     "output_type": "stream",
     "text": [
      "angle_to_port\n",
      "summary_plot\n"
     ]
    },
    {
     "name": "stderr",
     "output_type": "stream",
     "text": [
      "3it [00:17,  6.13s/it]"
     ]
    },
    {
     "name": "stdout",
     "output_type": "stream",
     "text": [
      "saved_df\n",
      "non_obstalce\n",
      "13\n",
      "non_obstalce\n",
      "df made\n",
      "['nose_x', 'leftear_x', 'rightear_x', 'spine_x', 'midspine_x', 'tailbase_x', 'midtail_x', 'tailend_x', 'arenaTL_x', 'arenaTR_x', 'arenaBL_x', 'arenaBR_x', 'leftportT_x', 'leftportB_x', 'rightportT_x', 'rightportB_x']\n",
      "pxl\n",
      "mean\n",
      "trial_start\n",
      "dist\n"
     ]
    },
    {
     "name": "stderr",
     "output_type": "stream",
     "text": [
      "No artists with labels found to put in legend.  Note that artists whose label start with an underscore are ignored when legend() is called with no argument.\n",
      "No artists with labels found to put in legend.  Note that artists whose label start with an underscore are ignored when legend() is called with no argument.\n"
     ]
    },
    {
     "name": "stdout",
     "output_type": "stream",
     "text": [
      "angle_to_port\n",
      "summary_plot\n"
     ]
    },
    {
     "name": "stderr",
     "output_type": "stream",
     "text": [
      "4it [00:24,  6.26s/it]"
     ]
    },
    {
     "name": "stdout",
     "output_type": "stream",
     "text": [
      "saved_df\n",
      "non_obstalce\n",
      "11\n",
      "non_obstalce\n",
      "df made\n",
      "['nose_x', 'leftear_x', 'rightear_x', 'spine_x', 'midspine_x', 'tailbase_x', 'midtail_x', 'tailend_x', 'arenaTL_x', 'arenaTR_x', 'arenaBL_x', 'arenaBR_x', 'leftportT_x', 'leftportB_x', 'rightportT_x', 'rightportB_x']\n",
      "pxl\n",
      "mean\n",
      "trial_start\n",
      "dist\n",
      "angle_to_port\n"
     ]
    },
    {
     "name": "stderr",
     "output_type": "stream",
     "text": [
      "No artists with labels found to put in legend.  Note that artists whose label start with an underscore are ignored when legend() is called with no argument.\n",
      "No artists with labels found to put in legend.  Note that artists whose label start with an underscore are ignored when legend() is called with no argument.\n"
     ]
    },
    {
     "name": "stdout",
     "output_type": "stream",
     "text": [
      "summary_plot\n"
     ]
    },
    {
     "name": "stderr",
     "output_type": "stream",
     "text": [
      "5it [00:30,  6.12s/it]"
     ]
    },
    {
     "name": "stdout",
     "output_type": "stream",
     "text": [
      "saved_df\n",
      "non_obstalce\n",
      "20\n",
      "non_obstalce\n",
      "df made\n",
      "['nose_x', 'leftear_x', 'rightear_x', 'spine_x', 'midspine_x', 'tailbase_x', 'midtail_x', 'tailend_x', 'arenaTL_x', 'arenaTR_x', 'arenaBL_x', 'arenaBR_x', 'leftportT_x', 'leftportB_x', 'rightportT_x', 'rightportB_x']\n",
      "pxl\n",
      "mean\n",
      "trial_start\n",
      "dist\n"
     ]
    },
    {
     "name": "stderr",
     "output_type": "stream",
     "text": [
      "No artists with labels found to put in legend.  Note that artists whose label start with an underscore are ignored when legend() is called with no argument.\n",
      "No artists with labels found to put in legend.  Note that artists whose label start with an underscore are ignored when legend() is called with no argument.\n"
     ]
    },
    {
     "name": "stdout",
     "output_type": "stream",
     "text": [
      "angle_to_port\n",
      "summary_plot\n"
     ]
    },
    {
     "name": "stderr",
     "output_type": "stream",
     "text": [
      "6it [00:36,  6.11s/it]"
     ]
    },
    {
     "name": "stdout",
     "output_type": "stream",
     "text": [
      "saved_df\n",
      "non_obstalce\n",
      "6\n",
      "non_obstalce\n",
      "df made\n",
      "['nose_x', 'leftear_x', 'rightear_x', 'spine_x', 'midspine_x', 'tailbase_x', 'midtail_x', 'tailend_x', 'arenaTL_x', 'arenaTR_x', 'arenaBL_x', 'arenaBR_x', 'leftportT_x', 'leftportB_x', 'rightportT_x', 'rightportB_x']\n",
      "pxl\n",
      "mean\n",
      "trial_start\n",
      "dist\n"
     ]
    },
    {
     "name": "stderr",
     "output_type": "stream",
     "text": [
      "No artists with labels found to put in legend.  Note that artists whose label start with an underscore are ignored when legend() is called with no argument.\n",
      "No artists with labels found to put in legend.  Note that artists whose label start with an underscore are ignored when legend() is called with no argument.\n"
     ]
    },
    {
     "name": "stdout",
     "output_type": "stream",
     "text": [
      "angle_to_port\n",
      "summary_plot\n"
     ]
    },
    {
     "name": "stderr",
     "output_type": "stream",
     "text": [
      "7it [00:41,  5.80s/it]"
     ]
    },
    {
     "name": "stdout",
     "output_type": "stream",
     "text": [
      "saved_df\n",
      "non_obstalce\n",
      "22\n",
      "non_obstalce\n",
      "df made\n",
      "['nose_x', 'leftear_x', 'rightear_x', 'spine_x', 'midspine_x', 'tailbase_x', 'midtail_x', 'tailend_x', 'arenaTL_x', 'arenaTR_x', 'arenaBL_x', 'arenaBR_x', 'leftportT_x', 'leftportB_x', 'rightportT_x', 'rightportB_x']\n",
      "pxl\n",
      "mean\n",
      "trial_start\n",
      "dist\n"
     ]
    },
    {
     "name": "stderr",
     "output_type": "stream",
     "text": [
      "No artists with labels found to put in legend.  Note that artists whose label start with an underscore are ignored when legend() is called with no argument.\n",
      "No artists with labels found to put in legend.  Note that artists whose label start with an underscore are ignored when legend() is called with no argument.\n"
     ]
    },
    {
     "name": "stdout",
     "output_type": "stream",
     "text": [
      "angle_to_port\n",
      "summary_plot\n"
     ]
    },
    {
     "name": "stderr",
     "output_type": "stream",
     "text": [
      "8it [00:48,  6.03s/it]"
     ]
    },
    {
     "name": "stdout",
     "output_type": "stream",
     "text": [
      "saved_df\n",
      "non_obstalce\n",
      "8\n",
      "non_obstalce\n",
      "df made\n",
      "['nose_x', 'leftear_x', 'rightear_x', 'spine_x', 'midspine_x', 'tailbase_x', 'midtail_x', 'tailend_x', 'arenaTL_x', 'arenaTR_x', 'arenaBL_x', 'arenaBR_x', 'leftportT_x', 'leftportB_x', 'rightportT_x', 'rightportB_x']\n",
      "pxl\n",
      "mean\n",
      "trial_start\n",
      "dist\n"
     ]
    },
    {
     "name": "stderr",
     "output_type": "stream",
     "text": [
      "No artists with labels found to put in legend.  Note that artists whose label start with an underscore are ignored when legend() is called with no argument.\n",
      "No artists with labels found to put in legend.  Note that artists whose label start with an underscore are ignored when legend() is called with no argument.\n"
     ]
    },
    {
     "name": "stdout",
     "output_type": "stream",
     "text": [
      "angle_to_port\n",
      "summary_plot\n"
     ]
    },
    {
     "name": "stderr",
     "output_type": "stream",
     "text": [
      "9it [00:53,  5.84s/it]"
     ]
    },
    {
     "name": "stdout",
     "output_type": "stream",
     "text": [
      "saved_df\n",
      "non_obstalce\n",
      "17\n",
      "non_obstalce\n",
      "df made\n",
      "['nose_x', 'leftear_x', 'rightear_x', 'spine_x', 'midspine_x', 'tailbase_x', 'midtail_x', 'tailend_x', 'arenaTL_x', 'arenaTR_x', 'arenaBL_x', 'arenaBR_x', 'leftportT_x', 'leftportB_x', 'rightportT_x', 'rightportB_x']\n",
      "pxl\n",
      "mean\n",
      "trial_start\n",
      "dist\n"
     ]
    },
    {
     "name": "stderr",
     "output_type": "stream",
     "text": [
      "No artists with labels found to put in legend.  Note that artists whose label start with an underscore are ignored when legend() is called with no argument.\n",
      "No artists with labels found to put in legend.  Note that artists whose label start with an underscore are ignored when legend() is called with no argument.\n"
     ]
    },
    {
     "name": "stdout",
     "output_type": "stream",
     "text": [
      "angle_to_port\n",
      "summary_plot\n"
     ]
    },
    {
     "name": "stderr",
     "output_type": "stream",
     "text": [
      "10it [00:59,  5.78s/it]"
     ]
    },
    {
     "name": "stdout",
     "output_type": "stream",
     "text": [
      "saved_df\n",
      "non_obstalce\n",
      "17\n",
      "non_obstalce\n",
      "df made\n",
      "['nose_x', 'leftear_x', 'rightear_x', 'spine_x', 'midspine_x', 'tailbase_x', 'midtail_x', 'tailend_x', 'arenaTL_x', 'arenaTR_x', 'arenaBL_x', 'arenaBR_x', 'leftportT_x', 'leftportB_x', 'rightportT_x', 'rightportB_x']\n",
      "pxl\n",
      "mean\n",
      "trial_start\n",
      "dist\n"
     ]
    },
    {
     "name": "stderr",
     "output_type": "stream",
     "text": [
      "No artists with labels found to put in legend.  Note that artists whose label start with an underscore are ignored when legend() is called with no argument.\n",
      "No artists with labels found to put in legend.  Note that artists whose label start with an underscore are ignored when legend() is called with no argument.\n"
     ]
    },
    {
     "name": "stdout",
     "output_type": "stream",
     "text": [
      "angle_to_port\n",
      "summary_plot\n"
     ]
    },
    {
     "name": "stderr",
     "output_type": "stream",
     "text": [
      "11it [01:04,  5.72s/it]"
     ]
    },
    {
     "name": "stdout",
     "output_type": "stream",
     "text": [
      "saved_df\n",
      "non_obstalce\n",
      "19\n",
      "non_obstalce\n",
      "df made\n",
      "['nose_x', 'leftear_x', 'rightear_x', 'spine_x', 'midspine_x', 'tailbase_x', 'midtail_x', 'tailend_x', 'arenaTL_x', 'arenaTR_x', 'arenaBL_x', 'arenaBR_x', 'leftportT_x', 'leftportB_x', 'rightportT_x', 'rightportB_x']\n",
      "pxl\n",
      "mean\n",
      "trial_start\n",
      "dist\n"
     ]
    },
    {
     "name": "stderr",
     "output_type": "stream",
     "text": [
      "No artists with labels found to put in legend.  Note that artists whose label start with an underscore are ignored when legend() is called with no argument.\n",
      "No artists with labels found to put in legend.  Note that artists whose label start with an underscore are ignored when legend() is called with no argument.\n"
     ]
    },
    {
     "name": "stdout",
     "output_type": "stream",
     "text": [
      "angle_to_port\n",
      "summary_plot\n"
     ]
    },
    {
     "name": "stderr",
     "output_type": "stream",
     "text": [
      "12it [01:10,  5.61s/it]"
     ]
    },
    {
     "name": "stdout",
     "output_type": "stream",
     "text": [
      "saved_df\n",
      "non_obstalce\n",
      "18\n",
      "non_obstalce\n",
      "df made\n",
      "['nose_x', 'leftear_x', 'rightear_x', 'spine_x', 'midspine_x', 'tailbase_x', 'midtail_x', 'tailend_x', 'arenaTL_x', 'arenaTR_x', 'arenaBL_x', 'arenaBR_x', 'leftportT_x', 'leftportB_x', 'rightportT_x', 'rightportB_x']\n",
      "pxl\n",
      "mean\n",
      "trial_start\n",
      "dist\n"
     ]
    },
    {
     "name": "stderr",
     "output_type": "stream",
     "text": [
      "No artists with labels found to put in legend.  Note that artists whose label start with an underscore are ignored when legend() is called with no argument.\n",
      "No artists with labels found to put in legend.  Note that artists whose label start with an underscore are ignored when legend() is called with no argument.\n"
     ]
    },
    {
     "name": "stdout",
     "output_type": "stream",
     "text": [
      "angle_to_port\n",
      "summary_plot\n"
     ]
    },
    {
     "name": "stderr",
     "output_type": "stream",
     "text": [
      "13it [01:16,  5.86s/it]"
     ]
    },
    {
     "name": "stdout",
     "output_type": "stream",
     "text": [
      "saved_df\n",
      "non_obstalce\n",
      "22\n",
      "non_obstalce\n",
      "df made\n",
      "['nose_x', 'leftear_x', 'rightear_x', 'spine_x', 'midspine_x', 'tailbase_x', 'midtail_x', 'tailend_x', 'arenaTL_x', 'arenaTR_x', 'arenaBL_x', 'arenaBR_x', 'leftportT_x', 'leftportB_x', 'rightportT_x', 'rightportB_x']\n",
      "pxl\n",
      "mean\n",
      "trial_start\n",
      "dist\n"
     ]
    },
    {
     "name": "stderr",
     "output_type": "stream",
     "text": [
      "No artists with labels found to put in legend.  Note that artists whose label start with an underscore are ignored when legend() is called with no argument.\n",
      "No artists with labels found to put in legend.  Note that artists whose label start with an underscore are ignored when legend() is called with no argument.\n"
     ]
    },
    {
     "name": "stdout",
     "output_type": "stream",
     "text": [
      "angle_to_port\n",
      "summary_plot\n"
     ]
    },
    {
     "name": "stderr",
     "output_type": "stream",
     "text": [
      "14it [01:22,  5.81s/it]"
     ]
    },
    {
     "name": "stdout",
     "output_type": "stream",
     "text": [
      "saved_df\n",
      "non_obstalce\n",
      "10\n",
      "non_obstalce\n",
      "df made\n",
      "['nose_x', 'leftear_x', 'rightear_x', 'spine_x', 'midspine_x', 'tailbase_x', 'midtail_x', 'tailend_x', 'arenaTL_x', 'arenaTR_x', 'arenaBL_x', 'arenaBR_x', 'leftportT_x', 'leftportB_x', 'rightportT_x', 'rightportB_x']\n",
      "pxl\n",
      "mean\n",
      "trial_start\n",
      "dist\n"
     ]
    },
    {
     "name": "stderr",
     "output_type": "stream",
     "text": [
      "No artists with labels found to put in legend.  Note that artists whose label start with an underscore are ignored when legend() is called with no argument.\n",
      "No artists with labels found to put in legend.  Note that artists whose label start with an underscore are ignored when legend() is called with no argument.\n"
     ]
    },
    {
     "name": "stdout",
     "output_type": "stream",
     "text": [
      "angle_to_port\n",
      "summary_plot\n"
     ]
    },
    {
     "name": "stderr",
     "output_type": "stream",
     "text": [
      "15it [01:28,  5.84s/it]"
     ]
    },
    {
     "name": "stdout",
     "output_type": "stream",
     "text": [
      "saved_df\n",
      "non_obstalce\n",
      "27\n",
      "non_obstalce\n",
      "df made\n",
      "['nose_x', 'leftear_x', 'rightear_x', 'spine_x', 'midspine_x', 'tailbase_x', 'midtail_x', 'tailend_x', 'arenaTL_x', 'arenaTR_x', 'arenaBL_x', 'arenaBR_x', 'leftportT_x', 'leftportB_x', 'rightportT_x', 'rightportB_x']\n",
      "pxl\n",
      "mean\n",
      "trial_start\n",
      "dist\n"
     ]
    },
    {
     "name": "stderr",
     "output_type": "stream",
     "text": [
      "No artists with labels found to put in legend.  Note that artists whose label start with an underscore are ignored when legend() is called with no argument.\n",
      "No artists with labels found to put in legend.  Note that artists whose label start with an underscore are ignored when legend() is called with no argument.\n"
     ]
    },
    {
     "name": "stdout",
     "output_type": "stream",
     "text": [
      "angle_to_port\n",
      "summary_plot\n"
     ]
    },
    {
     "name": "stderr",
     "output_type": "stream",
     "text": [
      "16it [01:34,  6.04s/it]"
     ]
    },
    {
     "name": "stdout",
     "output_type": "stream",
     "text": [
      "saved_df\n",
      "non_obstalce\n",
      "22\n",
      "non_obstalce\n",
      "df made\n",
      "['nose_x', 'leftear_x', 'rightear_x', 'spine_x', 'midspine_x', 'tailbase_x', 'midtail_x', 'tailend_x', 'arenaTL_x', 'arenaTR_x', 'arenaBL_x', 'arenaBR_x', 'leftportT_x', 'leftportB_x', 'rightportT_x', 'rightportB_x']\n",
      "pxl\n",
      "mean\n",
      "trial_start\n",
      "dist\n"
     ]
    },
    {
     "name": "stderr",
     "output_type": "stream",
     "text": [
      "No artists with labels found to put in legend.  Note that artists whose label start with an underscore are ignored when legend() is called with no argument.\n",
      "No artists with labels found to put in legend.  Note that artists whose label start with an underscore are ignored when legend() is called with no argument.\n"
     ]
    },
    {
     "name": "stdout",
     "output_type": "stream",
     "text": [
      "angle_to_port\n",
      "summary_plot\n"
     ]
    },
    {
     "name": "stderr",
     "output_type": "stream",
     "text": [
      "17it [01:40,  6.09s/it]"
     ]
    },
    {
     "name": "stdout",
     "output_type": "stream",
     "text": [
      "saved_df\n",
      "non_obstalce\n",
      "12\n",
      "non_obstalce\n",
      "df made\n",
      "['nose_x', 'leftear_x', 'rightear_x', 'spine_x', 'midspine_x', 'tailbase_x', 'midtail_x', 'tailend_x', 'arenaTL_x', 'arenaTR_x', 'arenaBL_x', 'arenaBR_x', 'leftportT_x', 'leftportB_x', 'rightportT_x', 'rightportB_x']\n",
      "pxl\n",
      "mean\n",
      "trial_start\n",
      "dist\n",
      "angle_to_port\n"
     ]
    },
    {
     "name": "stderr",
     "output_type": "stream",
     "text": [
      "No artists with labels found to put in legend.  Note that artists whose label start with an underscore are ignored when legend() is called with no argument.\n",
      "No artists with labels found to put in legend.  Note that artists whose label start with an underscore are ignored when legend() is called with no argument.\n"
     ]
    },
    {
     "name": "stdout",
     "output_type": "stream",
     "text": [
      "summary_plot\n"
     ]
    },
    {
     "name": "stderr",
     "output_type": "stream",
     "text": [
      "19it [01:46,  4.61s/it]"
     ]
    },
    {
     "name": "stdout",
     "output_type": "stream",
     "text": [
      "saved_df\n",
      "non_obstalce\n",
      "18\n",
      "non_obstalce\n",
      "df made\n",
      "['nose_x', 'leftear_x', 'rightear_x', 'spine_x', 'midspine_x', 'tailbase_x', 'midtail_x', 'tailend_x', 'arenaTL_x', 'arenaTR_x', 'arenaBL_x', 'arenaBR_x', 'leftportT_x', 'leftportB_x', 'rightportT_x', 'rightportB_x']\n",
      "pxl\n",
      "mean\n",
      "trial_start\n",
      "dist\n"
     ]
    },
    {
     "name": "stderr",
     "output_type": "stream",
     "text": [
      "No artists with labels found to put in legend.  Note that artists whose label start with an underscore are ignored when legend() is called with no argument.\n",
      "No artists with labels found to put in legend.  Note that artists whose label start with an underscore are ignored when legend() is called with no argument.\n"
     ]
    },
    {
     "name": "stdout",
     "output_type": "stream",
     "text": [
      "angle_to_port\n",
      "summary_plot\n"
     ]
    },
    {
     "name": "stderr",
     "output_type": "stream",
     "text": [
      "20it [01:52,  4.91s/it]"
     ]
    },
    {
     "name": "stdout",
     "output_type": "stream",
     "text": [
      "saved_df\n",
      "non_obstalce\n",
      "27\n",
      "non_obstalce\n",
      "df made\n",
      "['nose_x', 'leftear_x', 'rightear_x', 'spine_x', 'midspine_x', 'tailbase_x', 'midtail_x', 'tailend_x', 'arenaTL_x', 'arenaTR_x', 'arenaBL_x', 'arenaBR_x', 'leftportT_x', 'leftportB_x', 'rightportT_x', 'rightportB_x']\n",
      "pxl\n",
      "mean\n",
      "trial_start\n",
      "dist\n"
     ]
    },
    {
     "name": "stderr",
     "output_type": "stream",
     "text": [
      "No artists with labels found to put in legend.  Note that artists whose label start with an underscore are ignored when legend() is called with no argument.\n",
      "No artists with labels found to put in legend.  Note that artists whose label start with an underscore are ignored when legend() is called with no argument.\n"
     ]
    },
    {
     "name": "stdout",
     "output_type": "stream",
     "text": [
      "angle_to_port\n",
      "summary_plot\n"
     ]
    },
    {
     "name": "stderr",
     "output_type": "stream",
     "text": [
      "21it [01:58,  5.28s/it]"
     ]
    },
    {
     "name": "stdout",
     "output_type": "stream",
     "text": [
      "saved_df\n",
      "non_obstalce\n",
      "41\n",
      "non_obstalce\n",
      "df made\n",
      "['nose_x', 'leftear_x', 'rightear_x', 'spine_x', 'midspine_x', 'tailbase_x', 'midtail_x', 'tailend_x', 'arenaTL_x', 'arenaTR_x', 'arenaBL_x', 'arenaBR_x', 'leftportT_x', 'leftportB_x', 'rightportT_x', 'rightportB_x']\n",
      "pxl\n",
      "mean\n",
      "trial_start\n",
      "dist\n"
     ]
    },
    {
     "name": "stderr",
     "output_type": "stream",
     "text": [
      "No artists with labels found to put in legend.  Note that artists whose label start with an underscore are ignored when legend() is called with no argument.\n"
     ]
    },
    {
     "name": "stdout",
     "output_type": "stream",
     "text": [
      "angle_to_port\n"
     ]
    },
    {
     "name": "stderr",
     "output_type": "stream",
     "text": [
      "No artists with labels found to put in legend.  Note that artists whose label start with an underscore are ignored when legend() is called with no argument.\n"
     ]
    },
    {
     "name": "stdout",
     "output_type": "stream",
     "text": [
      "summary_plot\n"
     ]
    },
    {
     "name": "stderr",
     "output_type": "stream",
     "text": [
      "22it [02:06,  6.00s/it]"
     ]
    },
    {
     "name": "stdout",
     "output_type": "stream",
     "text": [
      "saved_df\n",
      "non_obstalce\n",
      "25\n",
      "non_obstalce\n",
      "df made\n",
      "['nose_x', 'leftear_x', 'rightear_x', 'spine_x', 'midspine_x', 'tailbase_x', 'midtail_x', 'tailend_x', 'arenaTL_x', 'arenaTR_x', 'arenaBL_x', 'arenaBR_x', 'leftportT_x', 'leftportB_x', 'rightportT_x', 'rightportB_x']\n",
      "pxl\n",
      "mean\n",
      "trial_start\n",
      "dist\n"
     ]
    },
    {
     "name": "stderr",
     "output_type": "stream",
     "text": [
      "No artists with labels found to put in legend.  Note that artists whose label start with an underscore are ignored when legend() is called with no argument.\n",
      "No artists with labels found to put in legend.  Note that artists whose label start with an underscore are ignored when legend() is called with no argument.\n"
     ]
    },
    {
     "name": "stdout",
     "output_type": "stream",
     "text": [
      "angle_to_port\n",
      "summary_plot\n"
     ]
    },
    {
     "name": "stderr",
     "output_type": "stream",
     "text": [
      "23it [02:12,  6.10s/it]"
     ]
    },
    {
     "name": "stdout",
     "output_type": "stream",
     "text": [
      "saved_df\n",
      "non_obstalce\n",
      "32\n",
      "non_obstalce\n",
      "df made\n",
      "['nose_x', 'leftear_x', 'rightear_x', 'spine_x', 'midspine_x', 'tailbase_x', 'midtail_x', 'tailend_x', 'arenaTL_x', 'arenaTR_x', 'arenaBL_x', 'arenaBR_x', 'leftportT_x', 'leftportB_x', 'rightportT_x', 'rightportB_x']\n",
      "pxl\n",
      "mean\n",
      "trial_start\n",
      "dist\n"
     ]
    },
    {
     "name": "stderr",
     "output_type": "stream",
     "text": [
      "No artists with labels found to put in legend.  Note that artists whose label start with an underscore are ignored when legend() is called with no argument.\n",
      "No artists with labels found to put in legend.  Note that artists whose label start with an underscore are ignored when legend() is called with no argument.\n"
     ]
    },
    {
     "name": "stdout",
     "output_type": "stream",
     "text": [
      "angle_to_port\n",
      "summary_plot\n"
     ]
    },
    {
     "name": "stderr",
     "output_type": "stream",
     "text": [
      "25it [02:20,  4.54s/it]"
     ]
    },
    {
     "name": "stdout",
     "output_type": "stream",
     "text": [
      "saved_df\n",
      "non_obstalce\n",
      "37\n",
      "non_obstalce\n",
      "df made\n",
      "['nose_x', 'leftear_x', 'rightear_x', 'spine_x', 'midspine_x', 'tailbase_x', 'midtail_x', 'tailend_x', 'arenaTL_x', 'arenaTR_x', 'arenaBL_x', 'arenaBR_x', 'leftportT_x', 'leftportB_x', 'rightportT_x', 'rightportB_x']\n",
      "pxl\n",
      "mean\n",
      "trial_start\n",
      "dist\n"
     ]
    },
    {
     "name": "stderr",
     "output_type": "stream",
     "text": [
      "No artists with labels found to put in legend.  Note that artists whose label start with an underscore are ignored when legend() is called with no argument.\n",
      "No artists with labels found to put in legend.  Note that artists whose label start with an underscore are ignored when legend() is called with no argument.\n"
     ]
    },
    {
     "name": "stdout",
     "output_type": "stream",
     "text": [
      "angle_to_port\n",
      "summary_plot\n"
     ]
    },
    {
     "name": "stderr",
     "output_type": "stream",
     "text": [
      "26it [02:28,  5.53s/it]"
     ]
    },
    {
     "name": "stdout",
     "output_type": "stream",
     "text": [
      "saved_df\n",
      "non_obstalce\n",
      "37\n",
      "non_obstalce\n",
      "df made\n",
      "['nose_x', 'leftear_x', 'rightear_x', 'spine_x', 'midspine_x', 'tailbase_x', 'midtail_x', 'tailend_x', 'arenaTL_x', 'arenaTR_x', 'arenaBL_x', 'arenaBR_x', 'leftportT_x', 'leftportB_x', 'rightportT_x', 'rightportB_x']\n",
      "pxl\n",
      "mean\n",
      "trial_start\n",
      "dist\n"
     ]
    },
    {
     "name": "stderr",
     "output_type": "stream",
     "text": [
      "No artists with labels found to put in legend.  Note that artists whose label start with an underscore are ignored when legend() is called with no argument.\n",
      "No artists with labels found to put in legend.  Note that artists whose label start with an underscore are ignored when legend() is called with no argument.\n"
     ]
    },
    {
     "name": "stdout",
     "output_type": "stream",
     "text": [
      "angle_to_port\n",
      "summary_plot\n"
     ]
    },
    {
     "name": "stderr",
     "output_type": "stream",
     "text": [
      "27it [02:34,  5.81s/it]"
     ]
    },
    {
     "name": "stdout",
     "output_type": "stream",
     "text": [
      "saved_df\n",
      "non_obstalce\n",
      "41\n",
      "non_obstalce\n",
      "df made\n",
      "['nose_x', 'leftear_x', 'rightear_x', 'spine_x', 'midspine_x', 'tailbase_x', 'midtail_x', 'tailend_x', 'arenaTL_x', 'arenaTR_x', 'arenaBL_x', 'arenaBR_x', 'leftportT_x', 'leftportB_x', 'rightportT_x', 'rightportB_x']\n",
      "pxl\n",
      "mean\n",
      "trial_start\n",
      "dist\n"
     ]
    },
    {
     "name": "stderr",
     "output_type": "stream",
     "text": [
      "No artists with labels found to put in legend.  Note that artists whose label start with an underscore are ignored when legend() is called with no argument.\n",
      "No artists with labels found to put in legend.  Note that artists whose label start with an underscore are ignored when legend() is called with no argument.\n"
     ]
    },
    {
     "name": "stdout",
     "output_type": "stream",
     "text": [
      "angle_to_port\n",
      "summary_plot\n"
     ]
    },
    {
     "name": "stderr",
     "output_type": "stream",
     "text": [
      "28it [02:41,  6.30s/it]"
     ]
    },
    {
     "name": "stdout",
     "output_type": "stream",
     "text": [
      "saved_df\n",
      "non_obstalce\n",
      "27\n",
      "non_obstalce\n",
      "df made\n",
      "['nose_x', 'leftear_x', 'rightear_x', 'spine_x', 'midspine_x', 'tailbase_x', 'midtail_x', 'tailend_x', 'arenaTL_x', 'arenaTR_x', 'arenaBL_x', 'arenaBR_x', 'leftportT_x', 'leftportB_x', 'rightportT_x', 'rightportB_x']\n",
      "pxl\n",
      "mean\n",
      "trial_start\n",
      "dist\n"
     ]
    },
    {
     "name": "stderr",
     "output_type": "stream",
     "text": [
      "No artists with labels found to put in legend.  Note that artists whose label start with an underscore are ignored when legend() is called with no argument.\n",
      "No artists with labels found to put in legend.  Note that artists whose label start with an underscore are ignored when legend() is called with no argument.\n"
     ]
    },
    {
     "name": "stdout",
     "output_type": "stream",
     "text": [
      "angle_to_port\n",
      "summary_plot\n",
      "saved_df\n"
     ]
    },
    {
     "name": "stderr",
     "output_type": "stream",
     "text": [
      "29it [02:47,  5.94s/it]"
     ]
    },
    {
     "name": "stdout",
     "output_type": "stream",
     "text": [
      "non_obstalce\n",
      "54\n",
      "non_obstalce\n",
      "df made\n",
      "['nose_x', 'leftear_x', 'rightear_x', 'spine_x', 'midspine_x', 'tailbase_x', 'midtail_x', 'tailend_x', 'arenaTL_x', 'arenaTR_x', 'arenaBL_x', 'arenaBR_x', 'leftportT_x', 'leftportB_x', 'rightportT_x', 'rightportB_x']\n",
      "pxl\n",
      "mean\n",
      "trial_start\n",
      "dist\n"
     ]
    },
    {
     "name": "stderr",
     "output_type": "stream",
     "text": [
      "No artists with labels found to put in legend.  Note that artists whose label start with an underscore are ignored when legend() is called with no argument.\n",
      "No artists with labels found to put in legend.  Note that artists whose label start with an underscore are ignored when legend() is called with no argument.\n"
     ]
    },
    {
     "name": "stdout",
     "output_type": "stream",
     "text": [
      "angle_to_port\n",
      "summary_plot\n"
     ]
    },
    {
     "name": "stderr",
     "output_type": "stream",
     "text": [
      "30it [02:54,  6.49s/it]"
     ]
    },
    {
     "name": "stdout",
     "output_type": "stream",
     "text": [
      "saved_df\n",
      "non_obstalce\n",
      "36\n",
      "non_obstalce\n",
      "df made\n",
      "['nose_x', 'leftear_x', 'rightear_x', 'spine_x', 'midspine_x', 'tailbase_x', 'midtail_x', 'tailend_x', 'arenaTL_x', 'arenaTR_x', 'arenaBL_x', 'arenaBR_x', 'leftportT_x', 'leftportB_x', 'rightportT_x', 'rightportB_x']\n",
      "pxl\n",
      "mean\n",
      "trial_start\n",
      "dist\n"
     ]
    },
    {
     "name": "stderr",
     "output_type": "stream",
     "text": [
      "No artists with labels found to put in legend.  Note that artists whose label start with an underscore are ignored when legend() is called with no argument.\n",
      "No artists with labels found to put in legend.  Note that artists whose label start with an underscore are ignored when legend() is called with no argument.\n"
     ]
    },
    {
     "name": "stdout",
     "output_type": "stream",
     "text": [
      "angle_to_port\n",
      "summary_plot\n"
     ]
    },
    {
     "name": "stderr",
     "output_type": "stream",
     "text": [
      "31it [03:01,  6.56s/it]"
     ]
    },
    {
     "name": "stdout",
     "output_type": "stream",
     "text": [
      "saved_df\n",
      "non_obstalce\n",
      "47\n",
      "non_obstalce\n",
      "df made\n",
      "['nose_x', 'leftear_x', 'rightear_x', 'spine_x', 'midspine_x', 'tailbase_x', 'midtail_x', 'tailend_x', 'arenaTL_x', 'arenaTR_x', 'arenaBL_x', 'arenaBR_x', 'leftportT_x', 'leftportB_x', 'rightportT_x', 'rightportB_x']\n",
      "pxl\n",
      "mean\n",
      "trial_start\n",
      "dist\n"
     ]
    },
    {
     "name": "stderr",
     "output_type": "stream",
     "text": [
      "No artists with labels found to put in legend.  Note that artists whose label start with an underscore are ignored when legend() is called with no argument.\n",
      "No artists with labels found to put in legend.  Note that artists whose label start with an underscore are ignored when legend() is called with no argument.\n"
     ]
    },
    {
     "name": "stdout",
     "output_type": "stream",
     "text": [
      "angle_to_port\n",
      "summary_plot\n"
     ]
    },
    {
     "name": "stderr",
     "output_type": "stream",
     "text": [
      "32it [03:10,  7.13s/it]"
     ]
    },
    {
     "name": "stdout",
     "output_type": "stream",
     "text": [
      "saved_df\n",
      "non_obstalce\n",
      "40\n",
      "non_obstalce\n",
      "df made\n",
      "['nose_x', 'leftear_x', 'rightear_x', 'spine_x', 'midspine_x', 'tailbase_x', 'midtail_x', 'tailend_x', 'arenaTL_x', 'arenaTR_x', 'arenaBL_x', 'arenaBR_x', 'leftportT_x', 'leftportB_x', 'rightportT_x', 'rightportB_x']\n",
      "pxl\n",
      "mean\n",
      "trial_start\n",
      "dist\n"
     ]
    },
    {
     "name": "stderr",
     "output_type": "stream",
     "text": [
      "33it [03:14,  6.49s/it]"
     ]
    },
    {
     "name": "stdout",
     "output_type": "stream",
     "text": [
      "angle_to_port\n",
      "non_obstalce\n",
      "34\n",
      "non_obstalce\n",
      "df made\n",
      "['nose_x', 'leftear_x', 'rightear_x', 'spine_x', 'midspine_x', 'tailbase_x', 'midtail_x', 'tailend_x', 'arenaTL_x', 'arenaTR_x', 'arenaBL_x', 'arenaBR_x', 'leftportT_x', 'leftportB_x', 'rightportT_x', 'rightportB_x']\n",
      "pxl\n",
      "mean\n",
      "trial_start\n",
      "dist\n"
     ]
    },
    {
     "name": "stderr",
     "output_type": "stream",
     "text": [
      "34it [03:20,  6.14s/it]"
     ]
    },
    {
     "name": "stdout",
     "output_type": "stream",
     "text": [
      "angle_to_port\n",
      "non_obstalce\n",
      "53\n",
      "non_obstalce\n",
      "df made\n",
      "['nose_x', 'leftear_x', 'rightear_x', 'spine_x', 'midspine_x', 'tailbase_x', 'midtail_x', 'tailend_x', 'arenaTL_x', 'arenaTR_x', 'arenaBL_x', 'arenaBR_x', 'leftportT_x', 'leftportB_x', 'rightportT_x', 'rightportB_x']\n",
      "pxl\n",
      "mean\n",
      "trial_start\n",
      "dist\n"
     ]
    },
    {
     "name": "stderr",
     "output_type": "stream",
     "text": [
      "35it [03:26,  6.25s/it]"
     ]
    },
    {
     "name": "stdout",
     "output_type": "stream",
     "text": [
      "angle_to_port\n",
      "non_obstalce\n",
      "39\n",
      "non_obstalce\n",
      "df made\n",
      "['nose_x', 'leftear_x', 'rightear_x', 'spine_x', 'midspine_x', 'tailbase_x', 'midtail_x', 'tailend_x', 'arenaTL_x', 'arenaTR_x', 'arenaBL_x', 'arenaBR_x', 'leftportT_x', 'leftportB_x', 'rightportT_x', 'rightportB_x']\n",
      "pxl\n",
      "mean\n",
      "trial_start\n",
      "dist\n"
     ]
    },
    {
     "name": "stderr",
     "output_type": "stream",
     "text": [
      "No artists with labels found to put in legend.  Note that artists whose label start with an underscore are ignored when legend() is called with no argument.\n",
      "No artists with labels found to put in legend.  Note that artists whose label start with an underscore are ignored when legend() is called with no argument.\n"
     ]
    },
    {
     "name": "stdout",
     "output_type": "stream",
     "text": [
      "angle_to_port\n",
      "summary_plot\n"
     ]
    },
    {
     "name": "stderr",
     "output_type": "stream",
     "text": [
      "36it [03:33,  6.37s/it]"
     ]
    },
    {
     "name": "stdout",
     "output_type": "stream",
     "text": [
      "saved_df\n",
      "non_obstalce\n",
      "44\n",
      "non_obstalce\n",
      "df made\n",
      "['nose_x', 'leftear_x', 'rightear_x', 'spine_x', 'midspine_x', 'tailbase_x', 'midtail_x', 'tailend_x', 'arenaTL_x', 'arenaTR_x', 'arenaBL_x', 'arenaBR_x', 'leftportT_x', 'leftportB_x', 'rightportT_x', 'rightportB_x']\n",
      "pxl\n",
      "mean\n",
      "trial_start\n",
      "dist\n"
     ]
    },
    {
     "name": "stderr",
     "output_type": "stream",
     "text": [
      "37it [03:39,  5.93s/it]"
     ]
    },
    {
     "name": "stdout",
     "output_type": "stream",
     "text": [
      "angle_to_port\n"
     ]
    },
    {
     "name": "stderr",
     "output_type": "stream",
     "text": [
      "\n"
     ]
    }
   ],
   "source": [
    "metadata_path = 'D:/obstacle_avoidance/metadata/non_obstacle_041723_042523.json'\n",
    "\n",
    "\n",
    "#C:\\Users\\nlab\\Desktop\\mike_bonsai\\recordings\\metadata\n",
    "# task name\n",
    "# 'oa' for object avoidance\n",
    "# 'gd' for gap detection\n",
    "task_name = 'non_obstalce'\n",
    "#task_name = 'oa'\n",
    "\n",
    "session = AvoidanceProcessing(metadata_path, task=task_name) \n",
    "session.change_dlc_project(r\"D:\\obstacle_avoidance\\deeplabcut\\project_name-Mike-2023-04-28\\config.yaml\")\n",
    "session.dlc_project\n",
    "#session.preprocess()\n",
    "session.process()\n"
   ]
  },
  {
   "cell_type": "code",
   "execution_count": 32,
   "metadata": {},
   "outputs": [],
   "source": [
    "df = pd.read_hdf(r\"D:\\obstacle_avoidance\\recordings\\042523\\G8CKLN\\oa\\non_obstacleG8CKLN_042523_oa.h5\")"
   ]
  },
  {
   "cell_type": "code",
   "execution_count": 33,
   "metadata": {},
   "outputs": [
    {
     "data": {
      "text/html": [
       "<div>\n",
       "<style scoped>\n",
       "    .dataframe tbody tr th:only-of-type {\n",
       "        vertical-align: middle;\n",
       "    }\n",
       "\n",
       "    .dataframe tbody tr th {\n",
       "        vertical-align: top;\n",
       "    }\n",
       "\n",
       "    .dataframe thead th {\n",
       "        text-align: right;\n",
       "    }\n",
       "</style>\n",
       "<table border=\"1\" class=\"dataframe\">\n",
       "  <thead>\n",
       "    <tr style=\"text-align: right;\">\n",
       "      <th></th>\n",
       "      <th>first_poke</th>\n",
       "      <th>second_poke</th>\n",
       "      <th>trial_timestamps</th>\n",
       "      <th>trial_vidframes</th>\n",
       "      <th>nose_x</th>\n",
       "      <th>nose_y</th>\n",
       "      <th>nose_likelihood</th>\n",
       "      <th>leftear_x</th>\n",
       "      <th>leftear_y</th>\n",
       "      <th>leftear_likelihood</th>\n",
       "      <th>...</th>\n",
       "      <th>ts_tailbase_x_cm</th>\n",
       "      <th>ts_tailbase_y_cm</th>\n",
       "      <th>dist</th>\n",
       "      <th>angle_to_rightport</th>\n",
       "      <th>angle_to_leftport</th>\n",
       "      <th>resample_angle_to_leftport</th>\n",
       "      <th>resample_angle_to_rightport</th>\n",
       "      <th>resample_ts_nose_x_cm</th>\n",
       "      <th>resample_ts_nose_y_cm</th>\n",
       "      <th>time</th>\n",
       "    </tr>\n",
       "  </thead>\n",
       "  <tbody>\n",
       "    <tr>\n",
       "      <th>0</th>\n",
       "      <td>50571.830566</td>\n",
       "      <td>50578.368512</td>\n",
       "      <td>[50571.836096, 50571.853094, 50571.870323, 505...</td>\n",
       "      <td>[75, 76, 77, 78, 79, 80, 81, 82, 83, 84, 85, 8...</td>\n",
       "      <td>[nan, nan, nan, nan, nan, nan, nan, nan, nan, ...</td>\n",
       "      <td>[nan, nan, nan, nan, nan, nan, nan, nan, nan, ...</td>\n",
       "      <td>[0.024657923728227615, 0.027872104197740555, 0...</td>\n",
       "      <td>[117.75689697265625, 118.63399505615234, 119.3...</td>\n",
       "      <td>[253.22140502929688, 253.46514892578125, 253.4...</td>\n",
       "      <td>[0.9997654557228088, 0.9997593760490417, 0.999...</td>\n",
       "      <td>...</td>\n",
       "      <td>[10.620723355820173, 10.937810826828962, 11.12...</td>\n",
       "      <td>[18.50639703666736, 18.227595575104377, 18.204...</td>\n",
       "      <td>38.431157</td>\n",
       "      <td>[20.433914067691806, 20.54507256678235, 17.771...</td>\n",
       "      <td>[144.0213781693017, 145.84197402341928, 152.94...</td>\n",
       "      <td>[144.02137816930167, 142.68570911108017, 153.3...</td>\n",
       "      <td>[20.43391406769181, 22.04473573379549, 16.7505...</td>\n",
       "      <td>[16.02227413440364, 13.838067158352494, 19.131...</td>\n",
       "      <td>[19.14100856289147, 19.213224704640094, 19.495...</td>\n",
       "      <td>6.516667</td>\n",
       "    </tr>\n",
       "    <tr>\n",
       "      <th>1</th>\n",
       "      <td>50578.368512</td>\n",
       "      <td>50583.918924</td>\n",
       "      <td>[50578.372608, 50578.388518, 50578.405337, 505...</td>\n",
       "      <td>[[467, 468, 469, 470, 471, 472, 473, 474, 475,...</td>\n",
       "      <td>[nan, nan, nan, nan, nan, nan, nan, nan, nan, ...</td>\n",
       "      <td>[nan, nan, nan, nan, nan, nan, nan, nan, nan, ...</td>\n",
       "      <td>[0.44948917627334595, 0.4456876516342163, 0.43...</td>\n",
       "      <td>[675.4876708984375, 675.5636596679688, 675.057...</td>\n",
       "      <td>[251.3687744140625, 251.2571258544922, 251.183...</td>\n",
       "      <td>[0.9996175765991211, 0.9996750354766846, 0.999...</td>\n",
       "      <td>...</td>\n",
       "      <td>[48.43934272837738, 48.48570797111201, 48.5170...</td>\n",
       "      <td>[19.638518095454923, 19.589546687554034, 19.48...</td>\n",
       "      <td>41.376202</td>\n",
       "      <td>[138.4413309385826, 130.6163576639415, 134.586...</td>\n",
       "      <td>[73.5711030921832, 80.75646792881015, 77.16796...</td>\n",
       "      <td>[73.5711030921832, 85.56354707590255, 86.05506...</td>\n",
       "      <td>[138.44133093858235, 131.6006797961667, 129.59...</td>\n",
       "      <td>[49.61792119767649, 55.20604137912067, 53.8472...</td>\n",
       "      <td>[24.496737403530656, 25.184729634670198, 25.10...</td>\n",
       "      <td>5.533333</td>\n",
       "    </tr>\n",
       "    <tr>\n",
       "      <th>2</th>\n",
       "      <td>50583.918924</td>\n",
       "      <td>50587.753113</td>\n",
       "      <td>[50583.923852, 50583.942016, 50583.956979, 505...</td>\n",
       "      <td>[800, 801, 802, 803, 804, 805, 806, 807, 808, ...</td>\n",
       "      <td>[nan, nan, nan, nan, nan, nan, nan, nan, nan, ...</td>\n",
       "      <td>[nan, nan, nan, nan, nan, nan, nan, nan, nan, ...</td>\n",
       "      <td>[0.03526098281145096, 0.04306107014417648, 0.0...</td>\n",
       "      <td>[117.12492370605469, 117.44413757324219, 117.7...</td>\n",
       "      <td>[250.91172790527344, 251.143798828125, 251.627...</td>\n",
       "      <td>[0.9998103976249695, 0.9997228980064392, 0.999...</td>\n",
       "      <td>...</td>\n",
       "      <td>[10.77510923312422, 10.867988884864033, 11.247...</td>\n",
       "      <td>[22.68364442672, 23.068386684201805, 23.355130...</td>\n",
       "      <td>38.323522</td>\n",
       "      <td>[13.026097744062291, 12.682919681880755, 12.01...</td>\n",
       "      <td>[150.53938055665213, 153.97918858646534, 156.1...</td>\n",
       "      <td>[150.5393805566522, 147.15431454466955, 147.06...</td>\n",
       "      <td>[13.026097744062294, 14.553394662281095, 14.71...</td>\n",
       "      <td>[16.518483616218727, 12.251887784291096, 11.64...</td>\n",
       "      <td>[24.95656001719841, 25.432234531404, 25.491401...</td>\n",
       "      <td>3.816667</td>\n",
       "    </tr>\n",
       "    <tr>\n",
       "      <th>3</th>\n",
       "      <td>50587.753113</td>\n",
       "      <td>50591.452134</td>\n",
       "      <td>[50587.759513, 50587.775155, 50587.791846, 505...</td>\n",
       "      <td>[[1030, 1031, 1032, 1033, 1034, 1035, 1036, 10...</td>\n",
       "      <td>[682.1190795898438, nan, nan, 681.733764648437...</td>\n",
       "      <td>[257.87945556640625, nan, nan, 256.84844970703...</td>\n",
       "      <td>[0.7884137034416199, 0.736979067325592, 0.7433...</td>\n",
       "      <td>[676.2496337890625, 675.9423217773438, 675.849...</td>\n",
       "      <td>[250.70632934570312, 250.36825561523438, 250.4...</td>\n",
       "      <td>[0.9993513226509094, 0.9993720650672913, 0.999...</td>\n",
       "      <td>...</td>\n",
       "      <td>[51.27009651235972, 51.611146392638055, 51.721...</td>\n",
       "      <td>[20.88468222539436, 20.679004980225226, 20.245...</td>\n",
       "      <td>41.177604</td>\n",
       "      <td>[179.33872524122708, 168.73372791205495, 162.2...</td>\n",
       "      <td>[53.595920869607944, 44.04021491396706, 37.239...</td>\n",
       "      <td>[53.595920869607944, 57.55322371390752, 53.991...</td>\n",
       "      <td>[179.33872524122708, 177.2214031059259, 173.77...</td>\n",
       "      <td>[49.84967949825083, 55.15906894256543, 54.6250...</td>\n",
       "      <td>[14.93611205249183, 14.218980133002859, 14.206...</td>\n",
       "      <td>3.683333</td>\n",
       "    </tr>\n",
       "    <tr>\n",
       "      <th>4</th>\n",
       "      <td>50591.452134</td>\n",
       "      <td>50595.134707</td>\n",
       "      <td>[50591.459558, 50591.476454, 50591.492889, 505...</td>\n",
       "      <td>[1252, 1253, 1254, 1255, 1256, 1257, 1258, 125...</td>\n",
       "      <td>[nan, nan, nan, nan, nan, nan, nan, nan, nan, ...</td>\n",
       "      <td>[nan, nan, nan, nan, nan, nan, nan, nan, nan, ...</td>\n",
       "      <td>[0.034832753241062164, 0.02693820185959339, 0....</td>\n",
       "      <td>[117.20510864257812, 115.9404525756836, 115.56...</td>\n",
       "      <td>[251.66993713378906, 251.35598754882812, 251.1...</td>\n",
       "      <td>[0.9998956918716431, 0.9998512268066406, 0.999...</td>\n",
       "      <td>...</td>\n",
       "      <td>[10.448157384515428, 10.687115686295943, 10.92...</td>\n",
       "      <td>[22.548368810323364, 22.732563687062886, 23.05...</td>\n",
       "      <td>38.255430</td>\n",
       "      <td>[29.79490129416106, 22.01904027626857, 17.7512...</td>\n",
       "      <td>[167.86605914970076, 161.61861852694003, 159.5...</td>\n",
       "      <td>[167.86605914970062, 165.8265835848554, 163.99...</td>\n",
       "      <td>[29.794901294161058, 32.20557985915142, 30.127...</td>\n",
       "      <td>[16.197035154080123, 11.487209447463956, 11.44...</td>\n",
       "      <td>[25.33053319758552, 25.898394082415106, 25.859...</td>\n",
       "      <td>3.666667</td>\n",
       "    </tr>\n",
       "    <tr>\n",
       "      <th>...</th>\n",
       "      <td>...</td>\n",
       "      <td>...</td>\n",
       "      <td>...</td>\n",
       "      <td>...</td>\n",
       "      <td>...</td>\n",
       "      <td>...</td>\n",
       "      <td>...</td>\n",
       "      <td>...</td>\n",
       "      <td>...</td>\n",
       "      <td>...</td>\n",
       "      <td>...</td>\n",
       "      <td>...</td>\n",
       "      <td>...</td>\n",
       "      <td>...</td>\n",
       "      <td>...</td>\n",
       "      <td>...</td>\n",
       "      <td>...</td>\n",
       "      <td>...</td>\n",
       "      <td>...</td>\n",
       "      <td>...</td>\n",
       "      <td>...</td>\n",
       "    </tr>\n",
       "    <tr>\n",
       "      <th>83</th>\n",
       "      <td>51109.758988</td>\n",
       "      <td>51123.235955</td>\n",
       "      <td>[51109.772467, 51109.789504, 51109.805696, 511...</td>\n",
       "      <td>[[32340, 32341, 32342, 32343, 32344, 32345, 32...</td>\n",
       "      <td>[682.3764038085938, 683.2613525390625, 682.783...</td>\n",
       "      <td>[256.56292724609375, 255.68972778320312, 255.2...</td>\n",
       "      <td>[0.963171660900116, 0.9550279974937439, 0.9489...</td>\n",
       "      <td>[672.8225708007812, 674.207763671875, 674.3858...</td>\n",
       "      <td>[250.56661987304688, 250.4472198486328, 249.92...</td>\n",
       "      <td>[0.9990948438644409, 0.9996092915534973, 0.999...</td>\n",
       "      <td>...</td>\n",
       "      <td>[51.02261632941431, 51.03410334498196, 51.0862...</td>\n",
       "      <td>[20.35144070099337, 20.307949637618474, 20.497...</td>\n",
       "      <td>73.141545</td>\n",
       "      <td>[167.66709619702308, 171.31566561423293, 162.6...</td>\n",
       "      <td>[70.79926705445402, 65.01543630032252, 71.2517...</td>\n",
       "      <td>[44.77830056710881, 71.75263299309442, 67.6408...</td>\n",
       "      <td>[171.13431475806246, 165.37447059494048, 161.7...</td>\n",
       "      <td>[35.2241990546209, 52.35532813940286, 46.55426...</td>\n",
       "      <td>[24.257130355660827, 27.333416873918317, 27.04...</td>\n",
       "      <td>13.450000</td>\n",
       "    </tr>\n",
       "    <tr>\n",
       "      <th>84</th>\n",
       "      <td>51123.235955</td>\n",
       "      <td>51137.020185</td>\n",
       "      <td>[51123.243776, 51123.260787, 51123.277094, 511...</td>\n",
       "      <td>[33148, 33149, 33150, 33151, 33152, 33153, 331...</td>\n",
       "      <td>[nan, nan, nan, nan, nan, nan, nan, nan, nan, ...</td>\n",
       "      <td>[nan, nan, nan, nan, nan, nan, nan, nan, nan, ...</td>\n",
       "      <td>[0.11499229818582535, 0.07872798293828964, 0.0...</td>\n",
       "      <td>[116.7144775390625, 115.92442321777344, 116.37...</td>\n",
       "      <td>[252.17567443847656, 251.7187957763672, 251.58...</td>\n",
       "      <td>[0.9998968839645386, 0.999902606010437, 0.9998...</td>\n",
       "      <td>...</td>\n",
       "      <td>[9.961330824939246, 10.122127213676, 10.393181...</td>\n",
       "      <td>[26.013957263568717, 26.11547036799287, 26.125...</td>\n",
       "      <td>38.380360</td>\n",
       "      <td>[2.2723563033357332, 4.450472444729834, 7.7415...</td>\n",
       "      <td>[128.60323239899142, 123.75226569885317, 123.2...</td>\n",
       "      <td>[128.60323239899148, 120.64520310850827, 120.5...</td>\n",
       "      <td>[2.2723563033357363, 3.51944690942517, 4.22364...</td>\n",
       "      <td>[16.081690819446013, 10.881979323787293, 12.56...</td>\n",
       "      <td>[26.009002032824487, 26.679557404272185, 26.32...</td>\n",
       "      <td>13.766667</td>\n",
       "    </tr>\n",
       "    <tr>\n",
       "      <th>85</th>\n",
       "      <td>51137.020185</td>\n",
       "      <td>51139.977715</td>\n",
       "      <td>[51137.03191, 51137.048588, 51137.065216, 5113...</td>\n",
       "      <td>[[33975, 33976, 33977, 33978, 33979, 33980, 33...</td>\n",
       "      <td>[681.5274658203125, 682.0393676757812, 682.078...</td>\n",
       "      <td>[257.11407470703125, 256.1821594238281, 256.16...</td>\n",
       "      <td>[0.9008370637893677, 0.9191078543663025, 0.887...</td>\n",
       "      <td>[673.3846435546875, 674.3427124023438, 674.971...</td>\n",
       "      <td>[251.10531616210938, 251.16600036621094, 251.2...</td>\n",
       "      <td>[0.9990785121917725, 0.9992591738700867, 0.999...</td>\n",
       "      <td>...</td>\n",
       "      <td>[48.70053165540817, 48.718101744253616, 48.691...</td>\n",
       "      <td>[18.42177125189898, 18.449305162524812, 18.446...</td>\n",
       "      <td>6.683663</td>\n",
       "      <td>[110.14979785742457, 113.30089658854916, 111.1...</td>\n",
       "      <td>[92.06820613478148, 89.22597051826536, 92.0009...</td>\n",
       "      <td>[92.06820613478152, 89.43801154404407, 88.9485...</td>\n",
       "      <td>[110.14979785742462, 106.31347801572987, 110.1...</td>\n",
       "      <td>[49.86041461879612, 49.881631580015224, 49.777...</td>\n",
       "      <td>[24.003518523530403, 23.130862311528585, 23.60...</td>\n",
       "      <td>2.933333</td>\n",
       "    </tr>\n",
       "    <tr>\n",
       "      <th>86</th>\n",
       "      <td>51139.977715</td>\n",
       "      <td>51179.926284</td>\n",
       "      <td>[51139.982937, 51139.999628, 51140.016204, 511...</td>\n",
       "      <td>[34152, 34153, 34154, 34155, 34156, 34157, 341...</td>\n",
       "      <td>[619.4635009765625, 615.6320190429688, 613.602...</td>\n",
       "      <td>[383.5386962890625, 384.3365173339844, 382.989...</td>\n",
       "      <td>[0.9944546818733215, 0.9902191758155823, 0.990...</td>\n",
       "      <td>[629.1563110351562, 627.1953735351562, 625.777...</td>\n",
       "      <td>[360.46490478515625, 360.8027038574219, 360.49...</td>\n",
       "      <td>[0.9999239444732666, 0.9999008178710938, 0.999...</td>\n",
       "      <td>...</td>\n",
       "      <td>[48.416892598289934, 48.43572878133435, 48.437...</td>\n",
       "      <td>[25.136740744705566, 25.118573990777843, 25.14...</td>\n",
       "      <td>150.415411</td>\n",
       "      <td>[145.98769575680856, 151.02109250957025, 150.3...</td>\n",
       "      <td>[102.86876223866514, 97.28875198115843, 96.979...</td>\n",
       "      <td>[127.69253180669836, 69.69610876795264, 86.452...</td>\n",
       "      <td>[87.7821285432103, 182.01072772631693, 160.669...</td>\n",
       "      <td>[51.138460349362745, 46.92610383525871, 47.627...</td>\n",
       "      <td>[25.802059613894883, 31.76867827074958, 30.739...</td>\n",
       "      <td>39.916667</td>\n",
       "    </tr>\n",
       "    <tr>\n",
       "      <th>87</th>\n",
       "      <td>51179.926284</td>\n",
       "      <td>51200.689792</td>\n",
       "      <td>[51179.930073, 51179.947148, 51179.965132, 511...</td>\n",
       "      <td>[[36548, 36549, 36550, 36551, 36552, 36553, 36...</td>\n",
       "      <td>[nan, nan, nan, nan, nan, nan, nan, nan, nan, ...</td>\n",
       "      <td>[nan, nan, nan, nan, nan, nan, nan, nan, nan, ...</td>\n",
       "      <td>[0.2226492315530777, 0.2229691594839096, 0.189...</td>\n",
       "      <td>[675.2858276367188, 675.5078125, 675.714477539...</td>\n",
       "      <td>[249.2666015625, 248.42633056640625, 248.38696...</td>\n",
       "      <td>[0.9989737272262573, 0.9989833235740662, 0.998...</td>\n",
       "      <td>...</td>\n",
       "      <td>[49.65167400777773, 49.739223693996024, 49.813...</td>\n",
       "      <td>[16.77165152118823, 16.77577602920613, 16.7282...</td>\n",
       "      <td>100.415309</td>\n",
       "      <td>[102.02001569997613, 111.4694792798145, 115.21...</td>\n",
       "      <td>[nan, nan, nan, nan, nan, nan, nan, nan, nan, ...</td>\n",
       "      <td>[nan, nan, nan, nan, nan, nan, nan, nan, nan, ...</td>\n",
       "      <td>[121.93976978786766, 123.06819322502812, 130.4...</td>\n",
       "      <td>[49.89463765692226, 48.86091585927238, 48.5909...</td>\n",
       "      <td>[21.85869725018564, 20.99886142663599, 21.1381...</td>\n",
       "      <td>20.750000</td>\n",
       "    </tr>\n",
       "  </tbody>\n",
       "</table>\n",
       "<p>88 rows × 121 columns</p>\n",
       "</div>"
      ],
      "text/plain": [
       "      first_poke   second_poke  \\\n",
       "0   50571.830566  50578.368512   \n",
       "1   50578.368512  50583.918924   \n",
       "2   50583.918924  50587.753113   \n",
       "3   50587.753113  50591.452134   \n",
       "4   50591.452134  50595.134707   \n",
       "..           ...           ...   \n",
       "83  51109.758988  51123.235955   \n",
       "84  51123.235955  51137.020185   \n",
       "85  51137.020185  51139.977715   \n",
       "86  51139.977715  51179.926284   \n",
       "87  51179.926284  51200.689792   \n",
       "\n",
       "                                     trial_timestamps  \\\n",
       "0   [50571.836096, 50571.853094, 50571.870323, 505...   \n",
       "1   [50578.372608, 50578.388518, 50578.405337, 505...   \n",
       "2   [50583.923852, 50583.942016, 50583.956979, 505...   \n",
       "3   [50587.759513, 50587.775155, 50587.791846, 505...   \n",
       "4   [50591.459558, 50591.476454, 50591.492889, 505...   \n",
       "..                                                ...   \n",
       "83  [51109.772467, 51109.789504, 51109.805696, 511...   \n",
       "84  [51123.243776, 51123.260787, 51123.277094, 511...   \n",
       "85  [51137.03191, 51137.048588, 51137.065216, 5113...   \n",
       "86  [51139.982937, 51139.999628, 51140.016204, 511...   \n",
       "87  [51179.930073, 51179.947148, 51179.965132, 511...   \n",
       "\n",
       "                                      trial_vidframes  \\\n",
       "0   [75, 76, 77, 78, 79, 80, 81, 82, 83, 84, 85, 8...   \n",
       "1   [[467, 468, 469, 470, 471, 472, 473, 474, 475,...   \n",
       "2   [800, 801, 802, 803, 804, 805, 806, 807, 808, ...   \n",
       "3   [[1030, 1031, 1032, 1033, 1034, 1035, 1036, 10...   \n",
       "4   [1252, 1253, 1254, 1255, 1256, 1257, 1258, 125...   \n",
       "..                                                ...   \n",
       "83  [[32340, 32341, 32342, 32343, 32344, 32345, 32...   \n",
       "84  [33148, 33149, 33150, 33151, 33152, 33153, 331...   \n",
       "85  [[33975, 33976, 33977, 33978, 33979, 33980, 33...   \n",
       "86  [34152, 34153, 34154, 34155, 34156, 34157, 341...   \n",
       "87  [[36548, 36549, 36550, 36551, 36552, 36553, 36...   \n",
       "\n",
       "                                               nose_x  \\\n",
       "0   [nan, nan, nan, nan, nan, nan, nan, nan, nan, ...   \n",
       "1   [nan, nan, nan, nan, nan, nan, nan, nan, nan, ...   \n",
       "2   [nan, nan, nan, nan, nan, nan, nan, nan, nan, ...   \n",
       "3   [682.1190795898438, nan, nan, 681.733764648437...   \n",
       "4   [nan, nan, nan, nan, nan, nan, nan, nan, nan, ...   \n",
       "..                                                ...   \n",
       "83  [682.3764038085938, 683.2613525390625, 682.783...   \n",
       "84  [nan, nan, nan, nan, nan, nan, nan, nan, nan, ...   \n",
       "85  [681.5274658203125, 682.0393676757812, 682.078...   \n",
       "86  [619.4635009765625, 615.6320190429688, 613.602...   \n",
       "87  [nan, nan, nan, nan, nan, nan, nan, nan, nan, ...   \n",
       "\n",
       "                                               nose_y  \\\n",
       "0   [nan, nan, nan, nan, nan, nan, nan, nan, nan, ...   \n",
       "1   [nan, nan, nan, nan, nan, nan, nan, nan, nan, ...   \n",
       "2   [nan, nan, nan, nan, nan, nan, nan, nan, nan, ...   \n",
       "3   [257.87945556640625, nan, nan, 256.84844970703...   \n",
       "4   [nan, nan, nan, nan, nan, nan, nan, nan, nan, ...   \n",
       "..                                                ...   \n",
       "83  [256.56292724609375, 255.68972778320312, 255.2...   \n",
       "84  [nan, nan, nan, nan, nan, nan, nan, nan, nan, ...   \n",
       "85  [257.11407470703125, 256.1821594238281, 256.16...   \n",
       "86  [383.5386962890625, 384.3365173339844, 382.989...   \n",
       "87  [nan, nan, nan, nan, nan, nan, nan, nan, nan, ...   \n",
       "\n",
       "                                      nose_likelihood  \\\n",
       "0   [0.024657923728227615, 0.027872104197740555, 0...   \n",
       "1   [0.44948917627334595, 0.4456876516342163, 0.43...   \n",
       "2   [0.03526098281145096, 0.04306107014417648, 0.0...   \n",
       "3   [0.7884137034416199, 0.736979067325592, 0.7433...   \n",
       "4   [0.034832753241062164, 0.02693820185959339, 0....   \n",
       "..                                                ...   \n",
       "83  [0.963171660900116, 0.9550279974937439, 0.9489...   \n",
       "84  [0.11499229818582535, 0.07872798293828964, 0.0...   \n",
       "85  [0.9008370637893677, 0.9191078543663025, 0.887...   \n",
       "86  [0.9944546818733215, 0.9902191758155823, 0.990...   \n",
       "87  [0.2226492315530777, 0.2229691594839096, 0.189...   \n",
       "\n",
       "                                            leftear_x  \\\n",
       "0   [117.75689697265625, 118.63399505615234, 119.3...   \n",
       "1   [675.4876708984375, 675.5636596679688, 675.057...   \n",
       "2   [117.12492370605469, 117.44413757324219, 117.7...   \n",
       "3   [676.2496337890625, 675.9423217773438, 675.849...   \n",
       "4   [117.20510864257812, 115.9404525756836, 115.56...   \n",
       "..                                                ...   \n",
       "83  [672.8225708007812, 674.207763671875, 674.3858...   \n",
       "84  [116.7144775390625, 115.92442321777344, 116.37...   \n",
       "85  [673.3846435546875, 674.3427124023438, 674.971...   \n",
       "86  [629.1563110351562, 627.1953735351562, 625.777...   \n",
       "87  [675.2858276367188, 675.5078125, 675.714477539...   \n",
       "\n",
       "                                            leftear_y  \\\n",
       "0   [253.22140502929688, 253.46514892578125, 253.4...   \n",
       "1   [251.3687744140625, 251.2571258544922, 251.183...   \n",
       "2   [250.91172790527344, 251.143798828125, 251.627...   \n",
       "3   [250.70632934570312, 250.36825561523438, 250.4...   \n",
       "4   [251.66993713378906, 251.35598754882812, 251.1...   \n",
       "..                                                ...   \n",
       "83  [250.56661987304688, 250.4472198486328, 249.92...   \n",
       "84  [252.17567443847656, 251.7187957763672, 251.58...   \n",
       "85  [251.10531616210938, 251.16600036621094, 251.2...   \n",
       "86  [360.46490478515625, 360.8027038574219, 360.49...   \n",
       "87  [249.2666015625, 248.42633056640625, 248.38696...   \n",
       "\n",
       "                                   leftear_likelihood  ...  \\\n",
       "0   [0.9997654557228088, 0.9997593760490417, 0.999...  ...   \n",
       "1   [0.9996175765991211, 0.9996750354766846, 0.999...  ...   \n",
       "2   [0.9998103976249695, 0.9997228980064392, 0.999...  ...   \n",
       "3   [0.9993513226509094, 0.9993720650672913, 0.999...  ...   \n",
       "4   [0.9998956918716431, 0.9998512268066406, 0.999...  ...   \n",
       "..                                                ...  ...   \n",
       "83  [0.9990948438644409, 0.9996092915534973, 0.999...  ...   \n",
       "84  [0.9998968839645386, 0.999902606010437, 0.9998...  ...   \n",
       "85  [0.9990785121917725, 0.9992591738700867, 0.999...  ...   \n",
       "86  [0.9999239444732666, 0.9999008178710938, 0.999...  ...   \n",
       "87  [0.9989737272262573, 0.9989833235740662, 0.998...  ...   \n",
       "\n",
       "                                     ts_tailbase_x_cm  \\\n",
       "0   [10.620723355820173, 10.937810826828962, 11.12...   \n",
       "1   [48.43934272837738, 48.48570797111201, 48.5170...   \n",
       "2   [10.77510923312422, 10.867988884864033, 11.247...   \n",
       "3   [51.27009651235972, 51.611146392638055, 51.721...   \n",
       "4   [10.448157384515428, 10.687115686295943, 10.92...   \n",
       "..                                                ...   \n",
       "83  [51.02261632941431, 51.03410334498196, 51.0862...   \n",
       "84  [9.961330824939246, 10.122127213676, 10.393181...   \n",
       "85  [48.70053165540817, 48.718101744253616, 48.691...   \n",
       "86  [48.416892598289934, 48.43572878133435, 48.437...   \n",
       "87  [49.65167400777773, 49.739223693996024, 49.813...   \n",
       "\n",
       "                                     ts_tailbase_y_cm        dist  \\\n",
       "0   [18.50639703666736, 18.227595575104377, 18.204...   38.431157   \n",
       "1   [19.638518095454923, 19.589546687554034, 19.48...   41.376202   \n",
       "2   [22.68364442672, 23.068386684201805, 23.355130...   38.323522   \n",
       "3   [20.88468222539436, 20.679004980225226, 20.245...   41.177604   \n",
       "4   [22.548368810323364, 22.732563687062886, 23.05...   38.255430   \n",
       "..                                                ...         ...   \n",
       "83  [20.35144070099337, 20.307949637618474, 20.497...   73.141545   \n",
       "84  [26.013957263568717, 26.11547036799287, 26.125...   38.380360   \n",
       "85  [18.42177125189898, 18.449305162524812, 18.446...    6.683663   \n",
       "86  [25.136740744705566, 25.118573990777843, 25.14...  150.415411   \n",
       "87  [16.77165152118823, 16.77577602920613, 16.7282...  100.415309   \n",
       "\n",
       "                                   angle_to_rightport  \\\n",
       "0   [20.433914067691806, 20.54507256678235, 17.771...   \n",
       "1   [138.4413309385826, 130.6163576639415, 134.586...   \n",
       "2   [13.026097744062291, 12.682919681880755, 12.01...   \n",
       "3   [179.33872524122708, 168.73372791205495, 162.2...   \n",
       "4   [29.79490129416106, 22.01904027626857, 17.7512...   \n",
       "..                                                ...   \n",
       "83  [167.66709619702308, 171.31566561423293, 162.6...   \n",
       "84  [2.2723563033357332, 4.450472444729834, 7.7415...   \n",
       "85  [110.14979785742457, 113.30089658854916, 111.1...   \n",
       "86  [145.98769575680856, 151.02109250957025, 150.3...   \n",
       "87  [102.02001569997613, 111.4694792798145, 115.21...   \n",
       "\n",
       "                                    angle_to_leftport  \\\n",
       "0   [144.0213781693017, 145.84197402341928, 152.94...   \n",
       "1   [73.5711030921832, 80.75646792881015, 77.16796...   \n",
       "2   [150.53938055665213, 153.97918858646534, 156.1...   \n",
       "3   [53.595920869607944, 44.04021491396706, 37.239...   \n",
       "4   [167.86605914970076, 161.61861852694003, 159.5...   \n",
       "..                                                ...   \n",
       "83  [70.79926705445402, 65.01543630032252, 71.2517...   \n",
       "84  [128.60323239899142, 123.75226569885317, 123.2...   \n",
       "85  [92.06820613478148, 89.22597051826536, 92.0009...   \n",
       "86  [102.86876223866514, 97.28875198115843, 96.979...   \n",
       "87  [nan, nan, nan, nan, nan, nan, nan, nan, nan, ...   \n",
       "\n",
       "                           resample_angle_to_leftport  \\\n",
       "0   [144.02137816930167, 142.68570911108017, 153.3...   \n",
       "1   [73.5711030921832, 85.56354707590255, 86.05506...   \n",
       "2   [150.5393805566522, 147.15431454466955, 147.06...   \n",
       "3   [53.595920869607944, 57.55322371390752, 53.991...   \n",
       "4   [167.86605914970062, 165.8265835848554, 163.99...   \n",
       "..                                                ...   \n",
       "83  [44.77830056710881, 71.75263299309442, 67.6408...   \n",
       "84  [128.60323239899148, 120.64520310850827, 120.5...   \n",
       "85  [92.06820613478152, 89.43801154404407, 88.9485...   \n",
       "86  [127.69253180669836, 69.69610876795264, 86.452...   \n",
       "87  [nan, nan, nan, nan, nan, nan, nan, nan, nan, ...   \n",
       "\n",
       "                          resample_angle_to_rightport  \\\n",
       "0   [20.43391406769181, 22.04473573379549, 16.7505...   \n",
       "1   [138.44133093858235, 131.6006797961667, 129.59...   \n",
       "2   [13.026097744062294, 14.553394662281095, 14.71...   \n",
       "3   [179.33872524122708, 177.2214031059259, 173.77...   \n",
       "4   [29.794901294161058, 32.20557985915142, 30.127...   \n",
       "..                                                ...   \n",
       "83  [171.13431475806246, 165.37447059494048, 161.7...   \n",
       "84  [2.2723563033357363, 3.51944690942517, 4.22364...   \n",
       "85  [110.14979785742462, 106.31347801572987, 110.1...   \n",
       "86  [87.7821285432103, 182.01072772631693, 160.669...   \n",
       "87  [121.93976978786766, 123.06819322502812, 130.4...   \n",
       "\n",
       "                                resample_ts_nose_x_cm  \\\n",
       "0   [16.02227413440364, 13.838067158352494, 19.131...   \n",
       "1   [49.61792119767649, 55.20604137912067, 53.8472...   \n",
       "2   [16.518483616218727, 12.251887784291096, 11.64...   \n",
       "3   [49.84967949825083, 55.15906894256543, 54.6250...   \n",
       "4   [16.197035154080123, 11.487209447463956, 11.44...   \n",
       "..                                                ...   \n",
       "83  [35.2241990546209, 52.35532813940286, 46.55426...   \n",
       "84  [16.081690819446013, 10.881979323787293, 12.56...   \n",
       "85  [49.86041461879612, 49.881631580015224, 49.777...   \n",
       "86  [51.138460349362745, 46.92610383525871, 47.627...   \n",
       "87  [49.89463765692226, 48.86091585927238, 48.5909...   \n",
       "\n",
       "                                resample_ts_nose_y_cm       time  \n",
       "0   [19.14100856289147, 19.213224704640094, 19.495...   6.516667  \n",
       "1   [24.496737403530656, 25.184729634670198, 25.10...   5.533333  \n",
       "2   [24.95656001719841, 25.432234531404, 25.491401...   3.816667  \n",
       "3   [14.93611205249183, 14.218980133002859, 14.206...   3.683333  \n",
       "4   [25.33053319758552, 25.898394082415106, 25.859...   3.666667  \n",
       "..                                                ...        ...  \n",
       "83  [24.257130355660827, 27.333416873918317, 27.04...  13.450000  \n",
       "84  [26.009002032824487, 26.679557404272185, 26.32...  13.766667  \n",
       "85  [24.003518523530403, 23.130862311528585, 23.60...   2.933333  \n",
       "86  [25.802059613894883, 31.76867827074958, 30.739...  39.916667  \n",
       "87  [21.85869725018564, 20.99886142663599, 21.1381...  20.750000  \n",
       "\n",
       "[88 rows x 121 columns]"
      ]
     },
     "execution_count": 33,
     "metadata": {},
     "output_type": "execute_result"
    }
   ],
   "source": [
    "df"
   ]
  },
  {
   "cell_type": "code",
   "execution_count": 34,
   "metadata": {},
   "outputs": [],
   "source": [
    "right,left = df[df['odd']=='right'],df[df['odd']=='left']\n",
    "right = right.loc[right['dist']<70]\n",
    "left = left.loc[left['dist']<70]\n",
    "right_nose_x,right_nose_y=right['ts_nose_x_cm'].to_numpy(), right['ts_nose_y_cm'].to_numpy() \n",
    "left_nose_x,left_nose_y=left['ts_nose_x_cm'].to_numpy(), left['ts_nose_y_cm'].to_numpy() \n",
    "arena_x = pd.unique(df[['arenaTL_x_cm',\n",
    "'arenaTR_x_cm','arenaBR_x_cm',\n",
    "'arenaBL_x_cm',\n",
    "'arenaTL_x_cm']].values.ravel('K'))\n",
    "arena_y = pd.unique(df[['arenaTL_y_cm',\n",
    "'arenaTR_y_cm','arenaBR_y_cm',\n",
    "'arenaBL_y_cm',\n",
    "'arenaTL_y_cm']].values.ravel('K'))"
   ]
  },
  {
   "cell_type": "code",
   "execution_count": 40,
   "metadata": {},
   "outputs": [
    {
     "data": {
      "text/plain": [
       "7.358811090493523"
      ]
     },
     "execution_count": 40,
     "metadata": {},
     "output_type": "execute_result"
    }
   ],
   "source": [
    "df['arenaTL_x_cm'].mean()"
   ]
  },
  {
   "cell_type": "code",
   "execution_count": 38,
   "metadata": {},
   "outputs": [
    {
     "data": {
      "text/plain": [
       "array([7.359666049233902, 7.3558773095027545, 7.363619671557225,\n",
       "       7.358354099997322, 7.360843777600246, 7.35667133238516,\n",
       "       7.360822367411717, 7.356357798210465, 7.362479483618466,\n",
       "       7.356011058727702, 7.36183088970341, 7.360210974593235,\n",
       "       7.3595735833456635, 7.355483512374223, 7.361329509730579,\n",
       "       7.358628752583904, 7.360998889862126, 7.360919280657311,\n",
       "       7.365179743609171, 7.355459012941143, 7.360034310048948,\n",
       "       7.3565338317497755, 7.358540613329225, 7.355036794896763,\n",
       "       7.359007454328315, 7.355918708124475, 7.361077986517828,\n",
       "       7.3577096075577, 7.364680428974483, 7.354929004270722,\n",
       "       7.361738919596098, 7.353893555928465, 7.361777402144942,\n",
       "       7.356646079779523, 7.364835471415967, 7.35820800421253,\n",
       "       7.363471217570473, 7.3592126183891695, 7.358367552188838,\n",
       "       7.358460564237966, 7.365067495648877, 7.359904258085378,\n",
       "       7.363413011371635, 7.358925867604458, 7.354746323768515,\n",
       "       7.358067040821023, 7.357551357218587, 7.357198126206711,\n",
       "       7.36175149987253, 7.358456744020877, 7.35363459193475,\n",
       "       7.354868972403197, 7.359808765185767, 7.3582988904789985,\n",
       "       7.358664920383414, 7.357743079743916, 7.361473210162788,\n",
       "       7.355571040310388, 7.360509854567881, 7.358243982359915,\n",
       "       7.362674622818269, 7.358747518307178, 7.361762194503536,\n",
       "       7.3570256507502885, 7.354052826834501, 7.35478009759612,\n",
       "       7.356082370555351, 7.354798114895066, 7.363116320597003,\n",
       "       7.3678420887936875, 7.361310896135123, 7.355346793159779,\n",
       "       7.360409399492828, 7.356691989509094, 7.35860853133951,\n",
       "       7.356046171660657, 7.362482626826752, 7.356284759416014,\n",
       "       7.358275393794449, 7.353469456389374, 7.357074720563125,\n",
       "       7.3553106607085565, 7.357320057710019, 7.357294521491135,\n",
       "       7.356613563974001, 7.357536889189587, 7.359233083923087,\n",
       "       7.360888387438719, 55.62226657456865, 55.65802025525703,\n",
       "       55.59757225369974, 55.6640625107521, 55.60447731892637,\n",
       "       55.66433584264415, 55.60575209559879, 55.645189564662616,\n",
       "       55.615333291864836, 55.67358331084722, 55.612946204031026,\n",
       "       55.660711137731916, 55.60262446612901, 55.646914142086516,\n",
       "       55.61232352459371, 55.66129405705555, 55.60414460339117,\n",
       "       55.67597358235136, 55.600478835362594, 55.67564836107405,\n",
       "       55.61697695870437, 55.65786769604488, 55.59973202244609,\n",
       "       55.67973811413174, 55.60322645948565, 55.653116543096374,\n",
       "       55.59823565578439, 55.67665279580522, 55.59701293080888,\n",
       "       55.66198908872125, 55.6028252266452, 55.659557881339246,\n",
       "       55.62067114909526, 55.67279255799818, 55.60982722554167,\n",
       "       55.636118259979035, 55.621519157908594, 55.67638799021367,\n",
       "       55.61348145564101, 55.69945602360485, 55.6148794703925,\n",
       "       55.65713164178538, 55.61327153519988, 55.649420223910205,\n",
       "       55.60216544518516, 55.67244261935077, 55.60186248712189,\n",
       "       55.71301058265755, 55.604176569372555, 55.68013678544254,\n",
       "       55.602024861934254, 55.65690701651615, 55.607927885858345,\n",
       "       55.65903699735429, 55.61118946733417, 55.63567341800495,\n",
       "       55.61022082945392, 55.666899336690506, 55.62006687463371,\n",
       "       55.66261110441835, 55.622966582769315, 55.65326454209921,\n",
       "       55.6067836102189, 55.68433257773369, 55.61682601400598,\n",
       "       55.75887238565232, 55.611978565227226, 55.681402662417405,\n",
       "       55.61950299430115, 55.687503999077215, 55.62054489266639,\n",
       "       55.63106611353008, 55.623700930865816, 55.67002771940481,\n",
       "       55.614555653517435, 55.67028067608355, 55.61264451687813,\n",
       "       55.67176254873369, 55.62321485365795, 55.66581534255673,\n",
       "       55.614443691200144, 55.67778777863801, 55.62046817216587,\n",
       "       55.658964414252964, 55.61270030261798, 55.66491028378762,\n",
       "       55.61521571279693, 55.643049204571696, 55.89062658281455,\n",
       "       55.870290832405814, 55.901194571410244, 55.87632887792978,\n",
       "       55.86388854267389, 55.86027364426377, 55.87610631136603,\n",
       "       55.88348950352334, 55.87324604070376, 55.92648411117368,\n",
       "       55.92952660067495, 55.91638234136491, 55.90126596543008,\n",
       "       55.937965470904906, 55.928704340405844, 55.959050988234274,\n",
       "       55.89981146815257, 55.93124692920972, 55.917678033369484,\n",
       "       55.94526423645949, 55.90317947308936, 55.968165373757834,\n",
       "       55.92411870221045, 55.96922685471803, 55.96166920333106,\n",
       "       55.987043384127986, 55.913824775297385, 55.96027793073822,\n",
       "       55.95709731899984, 55.96293532493644, 55.95411041299734,\n",
       "       55.99070555651952, 55.976127766689615, 56.00282164587812,\n",
       "       55.94715385485464, 55.98942991248702, 55.98412248515637,\n",
       "       55.99530254326895, 55.96843440179502, 56.00943495590652,\n",
       "       55.98092385290148, 56.01651307305459, 56.01468750427985,\n",
       "       56.02687154574126, 55.99603742076587, 56.00923632118383,\n",
       "       55.99840733711172, nan, 56.01291120797617, 56.02290090570967,\n",
       "       56.018952645242216, 56.0278053364457, 56.00087934127939,\n",
       "       56.032545938445985, 56.016968118819996, 56.02776843577557,\n",
       "       56.0250007022605, 56.03874481074517, 56.02825241427382,\n",
       "       56.03316140548379, 56.038672694235046, 56.04025942337812,\n",
       "       56.035690276873645, 56.04075907104166, 56.033593995237155,\n",
       "       56.04764599329541, 56.047663555439755, 56.04876021422752,\n",
       "       56.04935968172457, 56.06053237564614, 56.06349063840792,\n",
       "       56.087431425907255, 56.09087815402627, 56.09268945273739,\n",
       "       56.09411006098244, 56.09360908388928, 56.09643314501763,\n",
       "       56.09495227096878, 56.10025759581529, 56.10352545864396,\n",
       "       56.12980434163087, 56.139685903736364, 56.162825505141676,\n",
       "       56.17987137217598, 56.166509298430846, 56.204563607722825,\n",
       "       56.18881216259079, 56.21265237692679, 5.886637227422731,\n",
       "       5.881530251625004, 5.891604127811979, 5.881519592859352,\n",
       "       5.891204415702663, 5.884788375680898, 5.924335488973589,\n",
       "       5.883933609522317, 5.887899575541203, 5.881716510868929,\n",
       "       5.891964199548819, 5.879896007387928, 5.886129165373935,\n",
       "       5.881914791329294, 5.884255245907684, 5.880578897925296,\n",
       "       5.8954672539543616, 5.884864358490778, 5.887114956792176,\n",
       "       5.883353272638837, 5.881557287305938, 5.879760010838247,\n",
       "       5.880669235955076, 5.88650060918056, 5.883164530209301,\n",
       "       5.876748633292398, 5.892981707481193, 5.884951686246689,\n",
       "       5.8851941995247925, 5.882860639022855, 5.888503972794799,\n",
       "       5.8821564603355, 5.896282891031101, 5.879926649554605,\n",
       "       5.902251998954183, 5.8856813837556485, 5.887073765686823,\n",
       "       5.887262727759389, 5.889947000564751, 5.883493652265208,\n",
       "       5.890466977392401, 5.885043293471064, 5.888744832692978,\n",
       "       5.8820068997294035, 5.889263796115122, 5.878958866072398,\n",
       "       5.9289494613218485, 5.8818672952361215, 5.892641177547373,\n",
       "       5.881913243773726, 5.887808853183684, 5.879397465398369,\n",
       "       5.890238085692187, 5.8806603704845255, 5.890697103679917,\n",
       "       5.881868285863907, 5.936089868017008, 5.882830026160278,\n",
       "       5.892377420641171, 5.881994651184067, 5.91290642956327,\n",
       "       5.882416674474701, 5.886321844019322, 5.879373387651411,\n",
       "       5.914553750276332, 5.879780210584286, 5.888401469265372,\n",
       "       5.882631427682349, 5.888475562415991, 5.880117055161137,\n",
       "       5.8909031465897685, 5.878403262065834, 5.925397019012524,\n",
       "       5.878125475463536, 5.8956741101216625, 5.886073588644529,\n",
       "       5.89054737286335, 5.882875103786627, 5.898653205155353,\n",
       "       5.8821579923735525, 5.884645228665714, 5.881554021374275,\n",
       "       5.894667408485387, 5.881849150262973, 5.979702244500649,\n",
       "       5.883993123518123, nan, nan], dtype=object)"
      ]
     },
     "execution_count": 38,
     "metadata": {},
     "output_type": "execute_result"
    }
   ],
   "source": [
    "arena_x"
   ]
  },
  {
   "cell_type": "code",
   "execution_count": 15,
   "metadata": {},
   "outputs": [],
   "source": [
    "for ind,row in df.iterrows():\n",
    "            angle_to_rightport = []\n",
    "            angle_to_leftport = []\n",
    "            rightport = [row['rightportT_x_cm'],row['rightportT_y_cm']]\n",
    "            leftport = [row['leftportT_x_cm'],row['leftportT_y_cm']]\n",
    "            for indx in range(len(row['ts_nose_x_cm'])):\n",
    "                center = [np.mean([row['ts_rightear_x_cm'][indx],row['ts_leftear_x_cm'][indx]]),np.mean([row['ts_rightear_y_cm'][indx],row['ts_leftear_y_cm'][indx]])]\n",
    "                nose_points = [row['ts_nose_x_cm'][indx],row['ts_nose_y_cm'][indx]]\n",
    "                angleright = calculate_angle(center, nose_points, rightport)\n",
    "                angleleft = calculate_angle(center, nose_points, leftport)\n",
    "                angle_to_rightport.append(angleright)\n",
    "                angle_to_leftport.append(angleleft)\n",
    "            df.at[ind,'angle_to_rightport'] = np.array(angle_to_rightport).astype(object)\n",
    "            df.at[ind,'angle_to_leftport'] = np.array(angle_to_leftport).astype(object)\n",
    "\n",
    "right_left = ['angle_to_leftport','angle_to_rightport','ts_nose_x_cm','ts_nose_y_cm']\n",
    "for ind,row in df.iterrows():\n",
    "    for direction in right_left:\n",
    "        interp = pd.Series(row[direction].astype(float)).interpolate().values\n",
    "        resample = signal.resample(interp,200)\n",
    "        df.at[ind,'resample_'+ direction] = resample.astype(object)"
   ]
  },
  {
   "cell_type": "code",
   "execution_count": 17,
   "metadata": {},
   "outputs": [],
   "source": [
    "df['time'] = df['len']/60"
   ]
  },
  {
   "cell_type": "code",
   "execution_count": 24,
   "metadata": {},
   "outputs": [
    {
     "ename": "NameError",
     "evalue": "name 'PdfPages' is not defined",
     "output_type": "error",
     "traceback": [
      "\u001b[1;31m---------------------------------------------------------------------------\u001b[0m",
      "\u001b[1;31mNameError\u001b[0m                                 Traceback (most recent call last)",
      "Cell \u001b[1;32mIn[24], line 1\u001b[0m\n\u001b[1;32m----> 1\u001b[0m train_day_summary_df(df)\n",
      "File \u001b[1;32mC:\\Users/nlab/Documents/GitHub/obstacle_avoidance\\utils\\base_functions.py:140\u001b[0m, in \u001b[0;36mtrain_day_summary_df\u001b[1;34m(df)\u001b[0m\n\u001b[0;32m    137\u001b[0m \u001b[39m#df = df.reset_index()\u001b[39;00m\n\u001b[0;32m    138\u001b[0m \u001b[39m# set up pdf page\u001b[39;00m\n\u001b[0;32m    139\u001b[0m savepath_session \u001b[39m=\u001b[39m os\u001b[39m.\u001b[39mpath\u001b[39m.\u001b[39mjoin(\u001b[39m*\u001b[39m[savepath,\u001b[39mstr\u001b[39m(pd\u001b[39m.\u001b[39munique(df\u001b[39m.\u001b[39mdate)\u001b[39m.\u001b[39mitem()),\u001b[39mstr\u001b[39m(pd\u001b[39m.\u001b[39munique(df\u001b[39m.\u001b[39manimal)\u001b[39m.\u001b[39mitem()),\u001b[39mstr\u001b[39m(pd\u001b[39m.\u001b[39munique(df\u001b[39m.\u001b[39mtask)\u001b[39m.\u001b[39mitem())])\n\u001b[1;32m--> 140\u001b[0m pdf \u001b[39m=\u001b[39m PdfPages(os\u001b[39m.\u001b[39mpath\u001b[39m.\u001b[39mjoin((savepath_session),(\u001b[39mstr\u001b[39m(pd\u001b[39m.\u001b[39munique(df\u001b[39m.\u001b[39mdate)\u001b[39m.\u001b[39mitem()) \u001b[39m+\u001b[39m \u001b[39m'\u001b[39m\u001b[39m_\u001b[39m\u001b[39m'\u001b[39m \u001b[39m+\u001b[39m \u001b[39mstr\u001b[39m(pd\u001b[39m.\u001b[39munique(df\u001b[39m.\u001b[39manimal)\u001b[39m.\u001b[39mitem()))\u001b[39m+\u001b[39m \u001b[39m'\u001b[39m\u001b[39m_summary.pdf\u001b[39m\u001b[39m'\u001b[39m))\n\u001b[0;32m    142\u001b[0m fig \u001b[39m=\u001b[39m plt\u001b[39m.\u001b[39mfigure(constrained_layout\u001b[39m=\u001b[39m\u001b[39mFalse\u001b[39;00m, figsize\u001b[39m=\u001b[39m(\u001b[39m15\u001b[39m, \u001b[39m15\u001b[39m),dpi\u001b[39m=\u001b[39m\u001b[39m90\u001b[39m)\n\u001b[0;32m    143\u001b[0m spec2 \u001b[39m=\u001b[39m gridspec\u001b[39m.\u001b[39mGridSpec(ncols\u001b[39m=\u001b[39m\u001b[39m2\u001b[39m, nrows\u001b[39m=\u001b[39m\u001b[39m4\u001b[39m, figure\u001b[39m=\u001b[39mfig)\n",
      "\u001b[1;31mNameError\u001b[0m: name 'PdfPages' is not defined"
     ]
    }
   ],
   "source": [
    "train_day_summary_df(df)"
   ]
  },
  {
   "cell_type": "code",
   "execution_count": 9,
   "metadata": {},
   "outputs": [
    {
     "ename": "TypeError",
     "evalue": "operands could not be broadcast together with shapes (392,) (333,) ",
     "output_type": "error",
     "traceback": [
      "\u001b[1;31m---------------------------------------------------------------------------\u001b[0m",
      "\u001b[1;31mValueError\u001b[0m                                Traceback (most recent call last)",
      "File \u001b[1;32mc:\\Users\\nlab\\anaconda3\\envs\\ephys3\\lib\\site-packages\\pandas\\core\\nanops.py:93\u001b[0m, in \u001b[0;36mdisallow.__call__.<locals>._f\u001b[1;34m(*args, **kwargs)\u001b[0m\n\u001b[0;32m     92\u001b[0m     \u001b[39mwith\u001b[39;00m np\u001b[39m.\u001b[39merrstate(invalid\u001b[39m=\u001b[39m\u001b[39m\"\u001b[39m\u001b[39mignore\u001b[39m\u001b[39m\"\u001b[39m):\n\u001b[1;32m---> 93\u001b[0m         \u001b[39mreturn\u001b[39;00m f(\u001b[39m*\u001b[39;49margs, \u001b[39m*\u001b[39;49m\u001b[39m*\u001b[39;49mkwargs)\n\u001b[0;32m     94\u001b[0m \u001b[39mexcept\u001b[39;00m \u001b[39mValueError\u001b[39;00m \u001b[39mas\u001b[39;00m e:\n\u001b[0;32m     95\u001b[0m     \u001b[39m# we want to transform an object array\u001b[39;00m\n\u001b[0;32m     96\u001b[0m     \u001b[39m# ValueError message to the more typical TypeError\u001b[39;00m\n\u001b[0;32m     97\u001b[0m     \u001b[39m# e.g. this is normally a disallowed function on\u001b[39;00m\n\u001b[0;32m     98\u001b[0m     \u001b[39m# object arrays that contain strings\u001b[39;00m\n",
      "File \u001b[1;32mc:\\Users\\nlab\\anaconda3\\envs\\ephys3\\lib\\site-packages\\pandas\\core\\nanops.py:155\u001b[0m, in \u001b[0;36mbottleneck_switch.__call__.<locals>.f\u001b[1;34m(values, axis, skipna, **kwds)\u001b[0m\n\u001b[0;32m    154\u001b[0m \u001b[39melse\u001b[39;00m:\n\u001b[1;32m--> 155\u001b[0m     result \u001b[39m=\u001b[39m alt(values, axis\u001b[39m=\u001b[39;49maxis, skipna\u001b[39m=\u001b[39;49mskipna, \u001b[39m*\u001b[39;49m\u001b[39m*\u001b[39;49mkwds)\n\u001b[0;32m    157\u001b[0m \u001b[39mreturn\u001b[39;00m result\n",
      "File \u001b[1;32mc:\\Users\\nlab\\anaconda3\\envs\\ephys3\\lib\\site-packages\\pandas\\core\\nanops.py:410\u001b[0m, in \u001b[0;36m_datetimelike_compat.<locals>.new_func\u001b[1;34m(values, axis, skipna, mask, **kwargs)\u001b[0m\n\u001b[0;32m    408\u001b[0m     mask \u001b[39m=\u001b[39m isna(values)\n\u001b[1;32m--> 410\u001b[0m result \u001b[39m=\u001b[39m func(values, axis\u001b[39m=\u001b[39;49maxis, skipna\u001b[39m=\u001b[39;49mskipna, mask\u001b[39m=\u001b[39;49mmask, \u001b[39m*\u001b[39;49m\u001b[39m*\u001b[39;49mkwargs)\n\u001b[0;32m    412\u001b[0m \u001b[39mif\u001b[39;00m datetimelike:\n",
      "File \u001b[1;32mc:\\Users\\nlab\\anaconda3\\envs\\ephys3\\lib\\site-packages\\pandas\\core\\nanops.py:698\u001b[0m, in \u001b[0;36mnanmean\u001b[1;34m(values, axis, skipna, mask)\u001b[0m\n\u001b[0;32m    697\u001b[0m count \u001b[39m=\u001b[39m _get_counts(values\u001b[39m.\u001b[39mshape, mask, axis, dtype\u001b[39m=\u001b[39mdtype_count)\n\u001b[1;32m--> 698\u001b[0m the_sum \u001b[39m=\u001b[39m _ensure_numeric(values\u001b[39m.\u001b[39;49msum(axis, dtype\u001b[39m=\u001b[39;49mdtype_sum))\n\u001b[0;32m    700\u001b[0m \u001b[39mif\u001b[39;00m axis \u001b[39mis\u001b[39;00m \u001b[39mnot\u001b[39;00m \u001b[39mNone\u001b[39;00m \u001b[39mand\u001b[39;00m \u001b[39mgetattr\u001b[39m(the_sum, \u001b[39m\"\u001b[39m\u001b[39mndim\u001b[39m\u001b[39m\"\u001b[39m, \u001b[39mFalse\u001b[39;00m):\n",
      "File \u001b[1;32mc:\\Users\\nlab\\anaconda3\\envs\\ephys3\\lib\\site-packages\\numpy\\core\\_methods.py:48\u001b[0m, in \u001b[0;36m_sum\u001b[1;34m(a, axis, dtype, out, keepdims, initial, where)\u001b[0m\n\u001b[0;32m     46\u001b[0m \u001b[39mdef\u001b[39;00m \u001b[39m_sum\u001b[39m(a, axis\u001b[39m=\u001b[39m\u001b[39mNone\u001b[39;00m, dtype\u001b[39m=\u001b[39m\u001b[39mNone\u001b[39;00m, out\u001b[39m=\u001b[39m\u001b[39mNone\u001b[39;00m, keepdims\u001b[39m=\u001b[39m\u001b[39mFalse\u001b[39;00m,\n\u001b[0;32m     47\u001b[0m          initial\u001b[39m=\u001b[39m_NoValue, where\u001b[39m=\u001b[39m\u001b[39mTrue\u001b[39;00m):\n\u001b[1;32m---> 48\u001b[0m     \u001b[39mreturn\u001b[39;00m umr_sum(a, axis, dtype, out, keepdims, initial, where)\n",
      "\u001b[1;31mValueError\u001b[0m: operands could not be broadcast together with shapes (392,) (333,) ",
      "\nThe above exception was the direct cause of the following exception:\n",
      "\u001b[1;31mTypeError\u001b[0m                                 Traceback (most recent call last)",
      "Cell \u001b[1;32mIn[9], line 14\u001b[0m\n\u001b[0;32m     12\u001b[0m port_arena_list \u001b[39m=\u001b[39m [i \u001b[39mfor\u001b[39;00m i \u001b[39min\u001b[39;00m port_arena_list \u001b[39mif\u001b[39;00m \u001b[39m'\u001b[39m\u001b[39mcm\u001b[39m\u001b[39m'\u001b[39m \u001b[39min\u001b[39;00m i]\n\u001b[0;32m     13\u001b[0m \u001b[39mfor\u001b[39;00m pos \u001b[39min\u001b[39;00m port_arena_list:\n\u001b[1;32m---> 14\u001b[0m    df[pos] \u001b[39m=\u001b[39m df[pos]\u001b[39m.\u001b[39;49mmean()\n\u001b[0;32m     15\u001b[0m \u001b[39mprint\u001b[39m(\u001b[39m'\u001b[39m\u001b[39mmean\u001b[39m\u001b[39m'\u001b[39m)\n",
      "File \u001b[1;32mc:\\Users\\nlab\\anaconda3\\envs\\ephys3\\lib\\site-packages\\pandas\\core\\generic.py:11124\u001b[0m, in \u001b[0;36mNDFrame._add_numeric_operations.<locals>.mean\u001b[1;34m(self, axis, skipna, level, numeric_only, **kwargs)\u001b[0m\n\u001b[0;32m  11106\u001b[0m \u001b[39m@doc\u001b[39m(\n\u001b[0;32m  11107\u001b[0m     _num_doc,\n\u001b[0;32m  11108\u001b[0m     desc\u001b[39m=\u001b[39m\u001b[39m\"\u001b[39m\u001b[39mReturn the mean of the values over the requested axis.\u001b[39m\u001b[39m\"\u001b[39m,\n\u001b[1;32m   (...)\u001b[0m\n\u001b[0;32m  11122\u001b[0m     \u001b[39m*\u001b[39m\u001b[39m*\u001b[39mkwargs,\n\u001b[0;32m  11123\u001b[0m ):\n\u001b[1;32m> 11124\u001b[0m     \u001b[39mreturn\u001b[39;00m NDFrame\u001b[39m.\u001b[39;49mmean(\u001b[39mself\u001b[39;49m, axis, skipna, level, numeric_only, \u001b[39m*\u001b[39;49m\u001b[39m*\u001b[39;49mkwargs)\n",
      "File \u001b[1;32mc:\\Users\\nlab\\anaconda3\\envs\\ephys3\\lib\\site-packages\\pandas\\core\\generic.py:10694\u001b[0m, in \u001b[0;36mNDFrame.mean\u001b[1;34m(self, axis, skipna, level, numeric_only, **kwargs)\u001b[0m\n\u001b[0;32m  10686\u001b[0m \u001b[39mdef\u001b[39;00m \u001b[39mmean\u001b[39m(\n\u001b[0;32m  10687\u001b[0m     \u001b[39mself\u001b[39m,\n\u001b[0;32m  10688\u001b[0m     axis: Axis \u001b[39m|\u001b[39m \u001b[39mNone\u001b[39;00m \u001b[39m|\u001b[39m lib\u001b[39m.\u001b[39mNoDefault \u001b[39m=\u001b[39m lib\u001b[39m.\u001b[39mno_default,\n\u001b[1;32m   (...)\u001b[0m\n\u001b[0;32m  10692\u001b[0m     \u001b[39m*\u001b[39m\u001b[39m*\u001b[39mkwargs,\n\u001b[0;32m  10693\u001b[0m ) \u001b[39m-\u001b[39m\u001b[39m>\u001b[39m Series \u001b[39m|\u001b[39m \u001b[39mfloat\u001b[39m:\n\u001b[1;32m> 10694\u001b[0m     \u001b[39mreturn\u001b[39;00m \u001b[39mself\u001b[39;49m\u001b[39m.\u001b[39;49m_stat_function(\n\u001b[0;32m  10695\u001b[0m         \u001b[39m\"\u001b[39;49m\u001b[39mmean\u001b[39;49m\u001b[39m\"\u001b[39;49m, nanops\u001b[39m.\u001b[39;49mnanmean, axis, skipna, level, numeric_only, \u001b[39m*\u001b[39;49m\u001b[39m*\u001b[39;49mkwargs\n\u001b[0;32m  10696\u001b[0m     )\n",
      "File \u001b[1;32mc:\\Users\\nlab\\anaconda3\\envs\\ephys3\\lib\\site-packages\\pandas\\core\\generic.py:10646\u001b[0m, in \u001b[0;36mNDFrame._stat_function\u001b[1;34m(self, name, func, axis, skipna, level, numeric_only, **kwargs)\u001b[0m\n\u001b[0;32m  10636\u001b[0m     warnings\u001b[39m.\u001b[39mwarn(\n\u001b[0;32m  10637\u001b[0m         \u001b[39m\"\u001b[39m\u001b[39mUsing the level keyword in DataFrame and Series aggregations is \u001b[39m\u001b[39m\"\u001b[39m\n\u001b[0;32m  10638\u001b[0m         \u001b[39m\"\u001b[39m\u001b[39mdeprecated and will be removed in a future version. Use groupby \u001b[39m\u001b[39m\"\u001b[39m\n\u001b[1;32m   (...)\u001b[0m\n\u001b[0;32m  10641\u001b[0m         stacklevel\u001b[39m=\u001b[39mfind_stack_level(),\n\u001b[0;32m  10642\u001b[0m     )\n\u001b[0;32m  10643\u001b[0m     \u001b[39mreturn\u001b[39;00m \u001b[39mself\u001b[39m\u001b[39m.\u001b[39m_agg_by_level(\n\u001b[0;32m  10644\u001b[0m         name, axis\u001b[39m=\u001b[39maxis, level\u001b[39m=\u001b[39mlevel, skipna\u001b[39m=\u001b[39mskipna, numeric_only\u001b[39m=\u001b[39mnumeric_only\n\u001b[0;32m  10645\u001b[0m     )\n\u001b[1;32m> 10646\u001b[0m \u001b[39mreturn\u001b[39;00m \u001b[39mself\u001b[39;49m\u001b[39m.\u001b[39;49m_reduce(\n\u001b[0;32m  10647\u001b[0m     func, name\u001b[39m=\u001b[39;49mname, axis\u001b[39m=\u001b[39;49maxis, skipna\u001b[39m=\u001b[39;49mskipna, numeric_only\u001b[39m=\u001b[39;49mnumeric_only\n\u001b[0;32m  10648\u001b[0m )\n",
      "File \u001b[1;32mc:\\Users\\nlab\\anaconda3\\envs\\ephys3\\lib\\site-packages\\pandas\\core\\series.py:4471\u001b[0m, in \u001b[0;36mSeries._reduce\u001b[1;34m(self, op, name, axis, skipna, numeric_only, filter_type, **kwds)\u001b[0m\n\u001b[0;32m   4467\u001b[0m     \u001b[39mraise\u001b[39;00m \u001b[39mNotImplementedError\u001b[39;00m(\n\u001b[0;32m   4468\u001b[0m         \u001b[39mf\u001b[39m\u001b[39m\"\u001b[39m\u001b[39mSeries.\u001b[39m\u001b[39m{\u001b[39;00mname\u001b[39m}\u001b[39;00m\u001b[39m does not implement \u001b[39m\u001b[39m{\u001b[39;00mkwd_name\u001b[39m}\u001b[39;00m\u001b[39m.\u001b[39m\u001b[39m\"\u001b[39m\n\u001b[0;32m   4469\u001b[0m     )\n\u001b[0;32m   4470\u001b[0m \u001b[39mwith\u001b[39;00m np\u001b[39m.\u001b[39merrstate(\u001b[39mall\u001b[39m\u001b[39m=\u001b[39m\u001b[39m\"\u001b[39m\u001b[39mignore\u001b[39m\u001b[39m\"\u001b[39m):\n\u001b[1;32m-> 4471\u001b[0m     \u001b[39mreturn\u001b[39;00m op(delegate, skipna\u001b[39m=\u001b[39;49mskipna, \u001b[39m*\u001b[39;49m\u001b[39m*\u001b[39;49mkwds)\n",
      "File \u001b[1;32mc:\\Users\\nlab\\anaconda3\\envs\\ephys3\\lib\\site-packages\\pandas\\core\\nanops.py:100\u001b[0m, in \u001b[0;36mdisallow.__call__.<locals>._f\u001b[1;34m(*args, **kwargs)\u001b[0m\n\u001b[0;32m     94\u001b[0m \u001b[39mexcept\u001b[39;00m \u001b[39mValueError\u001b[39;00m \u001b[39mas\u001b[39;00m e:\n\u001b[0;32m     95\u001b[0m     \u001b[39m# we want to transform an object array\u001b[39;00m\n\u001b[0;32m     96\u001b[0m     \u001b[39m# ValueError message to the more typical TypeError\u001b[39;00m\n\u001b[0;32m     97\u001b[0m     \u001b[39m# e.g. this is normally a disallowed function on\u001b[39;00m\n\u001b[0;32m     98\u001b[0m     \u001b[39m# object arrays that contain strings\u001b[39;00m\n\u001b[0;32m     99\u001b[0m     \u001b[39mif\u001b[39;00m is_object_dtype(args[\u001b[39m0\u001b[39m]):\n\u001b[1;32m--> 100\u001b[0m         \u001b[39mraise\u001b[39;00m \u001b[39mTypeError\u001b[39;00m(e) \u001b[39mfrom\u001b[39;00m \u001b[39me\u001b[39;00m\n\u001b[0;32m    101\u001b[0m     \u001b[39mraise\u001b[39;00m\n",
      "\u001b[1;31mTypeError\u001b[0m: operands could not be broadcast together with shapes (392,) (333,) "
     ]
    }
   ],
   "source": [
    "for ind,row in df.iterrows():\n",
    "    nose_points = row['nose_x_cm'].astype(float)\n",
    "    nose_points = nose_points[~np.isnan(nose_points)]\n",
    "    if np.nanmean(nose_points[:10])<= 20:\n",
    "        df.at[ind,'odd'] = 'left'\n",
    "    elif np.nanmean(nose_points[:10]) >=20:\n",
    "        df.at[ind,'odd'] = 'right'\n",
    "\n",
    "\n",
    "\n",
    "port_arena_list = list_columns(df,['arena','leftportT','rightportT'])\n",
    "port_arena_list = [i for i in port_arena_list if 'cm' in i]\n",
    "for pos in port_arena_list:\n",
    "   df[pos] = df[pos].mean()\n",
    "print('mean')"
   ]
  }
 ],
 "metadata": {
  "kernelspec": {
   "display_name": "ephys3",
   "language": "python",
   "name": "python3"
  },
  "language_info": {
   "codemirror_mode": {
    "name": "ipython",
    "version": 3
   },
   "file_extension": ".py",
   "mimetype": "text/x-python",
   "name": "python",
   "nbconvert_exporter": "python",
   "pygments_lexer": "ipython3",
   "version": "3.8.16"
  },
  "orig_nbformat": 4,
  "vscode": {
   "interpreter": {
    "hash": "18909df720030512de15b5464fd804d554a62031bd4c4e65819719dd1ff43646"
   }
  }
 },
 "nbformat": 4,
 "nbformat_minor": 2
}
