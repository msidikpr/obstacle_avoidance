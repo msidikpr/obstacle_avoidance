{
 "cells": [
  {
   "cell_type": "code",
   "execution_count": 1,
   "id": "ca7c8acf-eb5b-485a-a3c8-cc3d5c8eb6bf",
   "metadata": {},
   "outputs": [],
   "source": [
    "import json, os, cv2\n",
    "from pathlib import Path\n",
    "import numpy as np\n",
    "import pandas as pd\n",
    "from tqdm import tqdm\n",
    "from scipy.interpolate import interp1d\n",
    "import matplotlib.pyplot as plt\n",
    "from matplotlib.backends.backend_pdf import PdfPages\n",
    "from sklearn.cluster import KMeans\n",
    "import matplotlib.colors as mcolors\n",
    "\n",
    "\n",
    "\n",
    "\n",
    "## Load h5 files into group analysis dataframe\n",
    "\n",
    "# intilize dataframe\n",
    "df = pd.DataFrame()\n",
    "\n",
    "# path to h5 files \n",
    "data_path = Path('~/Desktop/mike_bonsai/recordings/prelim_h5').expanduser()\n",
    "h5s = []\n",
    "h5s =  list((data_path).rglob('*.h5')) \n"
   ]
  },
  {
   "cell_type": "code",
   "execution_count": 2,
   "id": "01266610-260c-4d70-9f8b-60147d045140",
   "metadata": {},
   "outputs": [],
   "source": [
    "# dataframe of h5's\n",
    "for h5 in h5s:\n",
    "    a=pd.read_hdf(h5)\n",
    "    df = df.append(a)\n",
    "    "
   ]
  },
  {
   "cell_type": "code",
   "execution_count": 3,
   "id": "f40577fe-aa69-47e2-8298-70ccda52f1ba",
   "metadata": {},
   "outputs": [],
   "source": [
    "test=df[df['animal'].str.contains(\"G6CK3LT\") & df['date'].str.contains(\"092721\")]"
   ]
  },
  {
   "cell_type": "code",
   "execution_count": 4,
   "id": "2af5a0a5-041f-4260-bcac-0ae860835331",
   "metadata": {},
   "outputs": [
    {
     "data": {
      "text/html": [
       "<div>\n",
       "<style scoped>\n",
       "    .dataframe tbody tr th:only-of-type {\n",
       "        vertical-align: middle;\n",
       "    }\n",
       "\n",
       "    .dataframe tbody tr th {\n",
       "        vertical-align: top;\n",
       "    }\n",
       "\n",
       "    .dataframe thead th {\n",
       "        text-align: right;\n",
       "    }\n",
       "</style>\n",
       "<table border=\"1\" class=\"dataframe\">\n",
       "  <thead>\n",
       "    <tr style=\"text-align: right;\">\n",
       "      <th></th>\n",
       "      <th>first_poke</th>\n",
       "      <th>second_poke</th>\n",
       "      <th>trail_timestamps</th>\n",
       "      <th>nose_x</th>\n",
       "      <th>nose_y</th>\n",
       "      <th>nose_likelihood</th>\n",
       "      <th>leftear_x</th>\n",
       "      <th>leftear_y</th>\n",
       "      <th>leftear_likelihood</th>\n",
       "      <th>rightear_x</th>\n",
       "      <th>...</th>\n",
       "      <th>bobstacle_x_cm</th>\n",
       "      <th>bobstacle_x_std</th>\n",
       "      <th>bobstacle_y_cm</th>\n",
       "      <th>bobstacle_y_std</th>\n",
       "      <th>wobstacle_x_cm</th>\n",
       "      <th>wobstacle_x_std</th>\n",
       "      <th>wobstacle_y_cm</th>\n",
       "      <th>wobstacle_y_std</th>\n",
       "      <th>speed</th>\n",
       "      <th>obstacle_cluster</th>\n",
       "    </tr>\n",
       "  </thead>\n",
       "  <tbody>\n",
       "    <tr>\n",
       "      <th>2</th>\n",
       "      <td>39204.483801</td>\n",
       "      <td>39209.534489</td>\n",
       "      <td>[39204.49632, 39204.512985, 39204.531161, 3920...</td>\n",
       "      <td>[64.13834381103516, 64.65543365478516, 64.5444...</td>\n",
       "      <td>[196.35372924804688, 196.20730590820312, 196.0...</td>\n",
       "      <td>[0.9972201585769653, 0.9961837530136108, 0.995...</td>\n",
       "      <td>[74.17947387695312, 74.08807373046875, 73.9409...</td>\n",
       "      <td>[205.64871215820312, 205.44029235839844, 205.4...</td>\n",
       "      <td>[0.9997563362121582, 0.9997261762619019, 0.999...</td>\n",
       "      <td>[83.50088500976562, 83.64659881591797, 83.6355...</td>\n",
       "      <td>...</td>\n",
       "      <td>3.411156</td>\n",
       "      <td>NaN</td>\n",
       "      <td>6.875518</td>\n",
       "      <td>2.196533</td>\n",
       "      <td>22.281383</td>\n",
       "      <td>0.342625</td>\n",
       "      <td>6.875518</td>\n",
       "      <td>2.196533</td>\n",
       "      <td>[1.749697895304716, 0.3443952340051449, 1.6236...</td>\n",
       "      <td>2</td>\n",
       "    </tr>\n",
       "    <tr>\n",
       "      <th>4</th>\n",
       "      <td>39218.464486</td>\n",
       "      <td>39226.394918</td>\n",
       "      <td>[39218.46926, 39218.483353, 39218.499955, 3921...</td>\n",
       "      <td>[53.822566986083984, 52.23098373413086, 52.021...</td>\n",
       "      <td>[196.81297302246094, 197.06642150878906, 197.0...</td>\n",
       "      <td>[0.9997934699058533, 0.9998007416725159, 0.999...</td>\n",
       "      <td>[84.49004364013672, 83.77938079833984, 83.3712...</td>\n",
       "      <td>[195.79945373535156, 195.58587646484375, 195.5...</td>\n",
       "      <td>[0.9999674558639526, 0.9999489188194275, 0.999...</td>\n",
       "      <td>[68.4342269897461, 68.32564544677734, 68.41108...</td>\n",
       "      <td>...</td>\n",
       "      <td>NaN</td>\n",
       "      <td>NaN</td>\n",
       "      <td>9.280102</td>\n",
       "      <td>0.010381</td>\n",
       "      <td>22.458857</td>\n",
       "      <td>0.024013</td>\n",
       "      <td>9.280102</td>\n",
       "      <td>0.010381</td>\n",
       "      <td>[6.3683700035509965, 0.7103247114804931, 3.466...</td>\n",
       "      <td>2</td>\n",
       "    </tr>\n",
       "    <tr>\n",
       "      <th>5</th>\n",
       "      <td>39226.394918</td>\n",
       "      <td>39232.006886</td>\n",
       "      <td>[39226.403596, 39226.419571, 39226.436211, 392...</td>\n",
       "      <td>[504.4343566894531, nan, nan, 502.648345947265...</td>\n",
       "      <td>[173.9981689453125, nan, nan, 172.794189453125...</td>\n",
       "      <td>[0.9903676509857178, 0.9872413873672485, 0.989...</td>\n",
       "      <td>[472.71466064453125, 472.5158996582031, 472.42...</td>\n",
       "      <td>[171.45704650878906, 171.59095764160156, 171.8...</td>\n",
       "      <td>[0.999783992767334, 0.9998521208763123, 0.9998...</td>\n",
       "      <td>[487.1942138671875, 486.548095703125, 485.9513...</td>\n",
       "      <td>...</td>\n",
       "      <td>NaN</td>\n",
       "      <td>NaN</td>\n",
       "      <td>11.787745</td>\n",
       "      <td>2.259291</td>\n",
       "      <td>14.157058</td>\n",
       "      <td>7.388797</td>\n",
       "      <td>11.787745</td>\n",
       "      <td>2.259291</td>\n",
       "      <td>[nan, nan, nan, 0.04334580653256803, nan, nan,...</td>\n",
       "      <td>7</td>\n",
       "    </tr>\n",
       "    <tr>\n",
       "      <th>6</th>\n",
       "      <td>39232.006886</td>\n",
       "      <td>39236.410432</td>\n",
       "      <td>[39232.021235, 39232.037913, 39232.055155, 392...</td>\n",
       "      <td>[63.681602478027344, 63.69581985473633, 63.409...</td>\n",
       "      <td>[199.45883178710938, 200.2185516357422, 200.65...</td>\n",
       "      <td>[0.9952743053436279, 0.9936250448226929, 0.993...</td>\n",
       "      <td>[76.71900177001953, 76.74441528320312, 76.6028...</td>\n",
       "      <td>[205.81947326660156, 206.42916870117188, 206.6...</td>\n",
       "      <td>[0.9998513460159302, 0.9998044967651367, 0.999...</td>\n",
       "      <td>[81.14069366455078, 80.4792251586914, 80.97708...</td>\n",
       "      <td>...</td>\n",
       "      <td>NaN</td>\n",
       "      <td>NaN</td>\n",
       "      <td>14.076417</td>\n",
       "      <td>0.073512</td>\n",
       "      <td>7.006245</td>\n",
       "      <td>0.042216</td>\n",
       "      <td>14.076417</td>\n",
       "      <td>0.073512</td>\n",
       "      <td>[0.04807041605152948, 0.937844686112043, 1.419...</td>\n",
       "      <td>6</td>\n",
       "    </tr>\n",
       "    <tr>\n",
       "      <th>7</th>\n",
       "      <td>39236.410432</td>\n",
       "      <td>39241.116838</td>\n",
       "      <td>[39236.42336, 39236.439616, 39236.456256, 3923...</td>\n",
       "      <td>[502.6612854003906, 501.9109802246094, 501.258...</td>\n",
       "      <td>[172.12413024902344, 173.19981384277344, 172.7...</td>\n",
       "      <td>[0.9940613508224487, 0.993005633354187, 0.9931...</td>\n",
       "      <td>[470.2296447753906, 469.47772216796875, 468.37...</td>\n",
       "      <td>[172.4290771484375, 172.8861541748047, 173.584...</td>\n",
       "      <td>[0.9998356103897095, 0.9998655319213867, 0.999...</td>\n",
       "      <td>[485.692138671875, 484.9634704589844, 484.6841...</td>\n",
       "      <td>...</td>\n",
       "      <td>NaN</td>\n",
       "      <td>NaN</td>\n",
       "      <td>12.064128</td>\n",
       "      <td>2.166136</td>\n",
       "      <td>10.104242</td>\n",
       "      <td>3.599540</td>\n",
       "      <td>12.064128</td>\n",
       "      <td>2.166136</td>\n",
       "      <td>[2.6027150977849645, 2.212333078159064, 2.2820...</td>\n",
       "      <td>1</td>\n",
       "    </tr>\n",
       "    <tr>\n",
       "      <th>...</th>\n",
       "      <td>...</td>\n",
       "      <td>...</td>\n",
       "      <td>...</td>\n",
       "      <td>...</td>\n",
       "      <td>...</td>\n",
       "      <td>...</td>\n",
       "      <td>...</td>\n",
       "      <td>...</td>\n",
       "      <td>...</td>\n",
       "      <td>...</td>\n",
       "      <td>...</td>\n",
       "      <td>...</td>\n",
       "      <td>...</td>\n",
       "      <td>...</td>\n",
       "      <td>...</td>\n",
       "      <td>...</td>\n",
       "      <td>...</td>\n",
       "      <td>...</td>\n",
       "      <td>...</td>\n",
       "      <td>...</td>\n",
       "      <td>...</td>\n",
       "    </tr>\n",
       "    <tr>\n",
       "      <th>151</th>\n",
       "      <td>39955.555123</td>\n",
       "      <td>39960.278041</td>\n",
       "      <td>[39955.56718, 39955.583436, 39955.600089, 3995...</td>\n",
       "      <td>[nan, 504.5029602050781, 505.2521667480469, 50...</td>\n",
       "      <td>[nan, 176.49655151367188, 176.030029296875, 17...</td>\n",
       "      <td>[0.989058256149292, 0.9921600818634033, 0.9933...</td>\n",
       "      <td>[473.7869873046875, 473.9970703125, 473.534790...</td>\n",
       "      <td>[171.8802947998047, 171.41397094726562, 170.49...</td>\n",
       "      <td>[0.999790370464325, 0.9998224973678589, 0.9998...</td>\n",
       "      <td>[488.0886535644531, 488.3228454589844, 488.368...</td>\n",
       "      <td>...</td>\n",
       "      <td>NaN</td>\n",
       "      <td>NaN</td>\n",
       "      <td>6.200434</td>\n",
       "      <td>2.908876</td>\n",
       "      <td>14.127096</td>\n",
       "      <td>7.061571</td>\n",
       "      <td>6.200434</td>\n",
       "      <td>2.908876</td>\n",
       "      <td>[nan, 2.5369473785235854, 0.5486213292292746, ...</td>\n",
       "      <td>0</td>\n",
       "    </tr>\n",
       "    <tr>\n",
       "      <th>152</th>\n",
       "      <td>39960.278041</td>\n",
       "      <td>39964.251430</td>\n",
       "      <td>[39960.285465, 39960.301632, 39960.319462, 399...</td>\n",
       "      <td>[66.08959197998047, 65.97652435302734, 65.9309...</td>\n",
       "      <td>[192.95530700683594, 194.04039001464844, 193.8...</td>\n",
       "      <td>[0.9964771866798401, 0.9958763122558594, 0.995...</td>\n",
       "      <td>[75.351318359375, 74.85914611816406, 74.886810...</td>\n",
       "      <td>[202.57594299316406, 202.850830078125, 203.041...</td>\n",
       "      <td>[0.9997842311859131, 0.9996389150619507, 0.999...</td>\n",
       "      <td>[84.89165496826172, 84.28033447265625, 84.3695...</td>\n",
       "      <td>...</td>\n",
       "      <td>3.839811</td>\n",
       "      <td>NaN</td>\n",
       "      <td>3.495233</td>\n",
       "      <td>0.010549</td>\n",
       "      <td>7.393186</td>\n",
       "      <td>0.009798</td>\n",
       "      <td>3.495233</td>\n",
       "      <td>0.010549</td>\n",
       "      <td>[0.3943766727711607, 0.14417136817915477, 0.60...</td>\n",
       "      <td>3</td>\n",
       "    </tr>\n",
       "    <tr>\n",
       "      <th>153</th>\n",
       "      <td>39964.251430</td>\n",
       "      <td>39970.322112</td>\n",
       "      <td>[39964.25335, 39964.26967, 39964.286912, 39964...</td>\n",
       "      <td>[nan, nan, nan, nan, nan, nan, nan, nan, nan, ...</td>\n",
       "      <td>[nan, nan, nan, nan, nan, nan, nan, nan, nan, ...</td>\n",
       "      <td>[0.9792765378952026, 0.9765366911888123, 0.971...</td>\n",
       "      <td>[470.447509765625, 470.5298767089844, 470.1725...</td>\n",
       "      <td>[177.73219299316406, 177.9404754638672, 177.73...</td>\n",
       "      <td>[0.9996610879898071, 0.9996780157089233, 0.999...</td>\n",
       "      <td>[486.9610290527344, 486.99957275390625, 486.09...</td>\n",
       "      <td>...</td>\n",
       "      <td>NaN</td>\n",
       "      <td>NaN</td>\n",
       "      <td>7.199935</td>\n",
       "      <td>2.675681</td>\n",
       "      <td>16.911753</td>\n",
       "      <td>6.897864</td>\n",
       "      <td>7.199935</td>\n",
       "      <td>2.675681</td>\n",
       "      <td>[nan, nan, nan, nan, nan, nan, nan, nan, nan, ...</td>\n",
       "      <td>4</td>\n",
       "    </tr>\n",
       "    <tr>\n",
       "      <th>154</th>\n",
       "      <td>39970.322112</td>\n",
       "      <td>39977.826316</td>\n",
       "      <td>[39970.322137, 39970.338675, 39970.355737, 399...</td>\n",
       "      <td>[53.21593475341797, 53.749244689941406, 54.583...</td>\n",
       "      <td>[194.2927703857422, 194.573974609375, 194.5382...</td>\n",
       "      <td>[0.9992461204528809, 0.9991474747657776, 0.999...</td>\n",
       "      <td>[81.63784790039062, 81.31078338623047, 80.5627...</td>\n",
       "      <td>[191.93572998046875, 192.63592529296875, 192.6...</td>\n",
       "      <td>[0.9998903274536133, 0.9999192953109741, 0.999...</td>\n",
       "      <td>[67.62258911132812, 67.57321166992188, 68.0329...</td>\n",
       "      <td>...</td>\n",
       "      <td>NaN</td>\n",
       "      <td>NaN</td>\n",
       "      <td>9.249234</td>\n",
       "      <td>0.014799</td>\n",
       "      <td>22.216085</td>\n",
       "      <td>0.022007</td>\n",
       "      <td>9.249234</td>\n",
       "      <td>0.014799</td>\n",
       "      <td>[1.8184403839037462, 2.756400213703593, 0.0631...</td>\n",
       "      <td>2</td>\n",
       "    </tr>\n",
       "    <tr>\n",
       "      <th>155</th>\n",
       "      <td>39977.826316</td>\n",
       "      <td>39982.369446</td>\n",
       "      <td>[39977.840409, 39977.857075, 39977.874508, 399...</td>\n",
       "      <td>[502.9792175292969, 502.9059143066406, 502.627...</td>\n",
       "      <td>[173.33677673339844, 173.5221710205078, 174.13...</td>\n",
       "      <td>[0.9962799549102783, 0.996740996837616, 0.9979...</td>\n",
       "      <td>[472.7106628417969, 472.74237060546875, 472.78...</td>\n",
       "      <td>[169.71658325195312, 170.01663208007812, 170.1...</td>\n",
       "      <td>[0.9999290108680725, 0.9999378323554993, 0.999...</td>\n",
       "      <td>[484.564697265625, 484.413818359375, 483.22125...</td>\n",
       "      <td>...</td>\n",
       "      <td>NaN</td>\n",
       "      <td>NaN</td>\n",
       "      <td>6.172507</td>\n",
       "      <td>2.773805</td>\n",
       "      <td>18.602269</td>\n",
       "      <td>3.304851</td>\n",
       "      <td>6.172507</td>\n",
       "      <td>2.773805</td>\n",
       "      <td>[0.24802420726445434, 0.9009659229731214, 1.97...</td>\n",
       "      <td>5</td>\n",
       "    </tr>\n",
       "  </tbody>\n",
       "</table>\n",
       "<p>141 rows × 138 columns</p>\n",
       "</div>"
      ],
      "text/plain": [
       "       first_poke   second_poke  \\\n",
       "2    39204.483801  39209.534489   \n",
       "4    39218.464486  39226.394918   \n",
       "5    39226.394918  39232.006886   \n",
       "6    39232.006886  39236.410432   \n",
       "7    39236.410432  39241.116838   \n",
       "..            ...           ...   \n",
       "151  39955.555123  39960.278041   \n",
       "152  39960.278041  39964.251430   \n",
       "153  39964.251430  39970.322112   \n",
       "154  39970.322112  39977.826316   \n",
       "155  39977.826316  39982.369446   \n",
       "\n",
       "                                      trail_timestamps  \\\n",
       "2    [39204.49632, 39204.512985, 39204.531161, 3920...   \n",
       "4    [39218.46926, 39218.483353, 39218.499955, 3921...   \n",
       "5    [39226.403596, 39226.419571, 39226.436211, 392...   \n",
       "6    [39232.021235, 39232.037913, 39232.055155, 392...   \n",
       "7    [39236.42336, 39236.439616, 39236.456256, 3923...   \n",
       "..                                                 ...   \n",
       "151  [39955.56718, 39955.583436, 39955.600089, 3995...   \n",
       "152  [39960.285465, 39960.301632, 39960.319462, 399...   \n",
       "153  [39964.25335, 39964.26967, 39964.286912, 39964...   \n",
       "154  [39970.322137, 39970.338675, 39970.355737, 399...   \n",
       "155  [39977.840409, 39977.857075, 39977.874508, 399...   \n",
       "\n",
       "                                                nose_x  \\\n",
       "2    [64.13834381103516, 64.65543365478516, 64.5444...   \n",
       "4    [53.822566986083984, 52.23098373413086, 52.021...   \n",
       "5    [504.4343566894531, nan, nan, 502.648345947265...   \n",
       "6    [63.681602478027344, 63.69581985473633, 63.409...   \n",
       "7    [502.6612854003906, 501.9109802246094, 501.258...   \n",
       "..                                                 ...   \n",
       "151  [nan, 504.5029602050781, 505.2521667480469, 50...   \n",
       "152  [66.08959197998047, 65.97652435302734, 65.9309...   \n",
       "153  [nan, nan, nan, nan, nan, nan, nan, nan, nan, ...   \n",
       "154  [53.21593475341797, 53.749244689941406, 54.583...   \n",
       "155  [502.9792175292969, 502.9059143066406, 502.627...   \n",
       "\n",
       "                                                nose_y  \\\n",
       "2    [196.35372924804688, 196.20730590820312, 196.0...   \n",
       "4    [196.81297302246094, 197.06642150878906, 197.0...   \n",
       "5    [173.9981689453125, nan, nan, 172.794189453125...   \n",
       "6    [199.45883178710938, 200.2185516357422, 200.65...   \n",
       "7    [172.12413024902344, 173.19981384277344, 172.7...   \n",
       "..                                                 ...   \n",
       "151  [nan, 176.49655151367188, 176.030029296875, 17...   \n",
       "152  [192.95530700683594, 194.04039001464844, 193.8...   \n",
       "153  [nan, nan, nan, nan, nan, nan, nan, nan, nan, ...   \n",
       "154  [194.2927703857422, 194.573974609375, 194.5382...   \n",
       "155  [173.33677673339844, 173.5221710205078, 174.13...   \n",
       "\n",
       "                                       nose_likelihood  \\\n",
       "2    [0.9972201585769653, 0.9961837530136108, 0.995...   \n",
       "4    [0.9997934699058533, 0.9998007416725159, 0.999...   \n",
       "5    [0.9903676509857178, 0.9872413873672485, 0.989...   \n",
       "6    [0.9952743053436279, 0.9936250448226929, 0.993...   \n",
       "7    [0.9940613508224487, 0.993005633354187, 0.9931...   \n",
       "..                                                 ...   \n",
       "151  [0.989058256149292, 0.9921600818634033, 0.9933...   \n",
       "152  [0.9964771866798401, 0.9958763122558594, 0.995...   \n",
       "153  [0.9792765378952026, 0.9765366911888123, 0.971...   \n",
       "154  [0.9992461204528809, 0.9991474747657776, 0.999...   \n",
       "155  [0.9962799549102783, 0.996740996837616, 0.9979...   \n",
       "\n",
       "                                             leftear_x  \\\n",
       "2    [74.17947387695312, 74.08807373046875, 73.9409...   \n",
       "4    [84.49004364013672, 83.77938079833984, 83.3712...   \n",
       "5    [472.71466064453125, 472.5158996582031, 472.42...   \n",
       "6    [76.71900177001953, 76.74441528320312, 76.6028...   \n",
       "7    [470.2296447753906, 469.47772216796875, 468.37...   \n",
       "..                                                 ...   \n",
       "151  [473.7869873046875, 473.9970703125, 473.534790...   \n",
       "152  [75.351318359375, 74.85914611816406, 74.886810...   \n",
       "153  [470.447509765625, 470.5298767089844, 470.1725...   \n",
       "154  [81.63784790039062, 81.31078338623047, 80.5627...   \n",
       "155  [472.7106628417969, 472.74237060546875, 472.78...   \n",
       "\n",
       "                                             leftear_y  \\\n",
       "2    [205.64871215820312, 205.44029235839844, 205.4...   \n",
       "4    [195.79945373535156, 195.58587646484375, 195.5...   \n",
       "5    [171.45704650878906, 171.59095764160156, 171.8...   \n",
       "6    [205.81947326660156, 206.42916870117188, 206.6...   \n",
       "7    [172.4290771484375, 172.8861541748047, 173.584...   \n",
       "..                                                 ...   \n",
       "151  [171.8802947998047, 171.41397094726562, 170.49...   \n",
       "152  [202.57594299316406, 202.850830078125, 203.041...   \n",
       "153  [177.73219299316406, 177.9404754638672, 177.73...   \n",
       "154  [191.93572998046875, 192.63592529296875, 192.6...   \n",
       "155  [169.71658325195312, 170.01663208007812, 170.1...   \n",
       "\n",
       "                                    leftear_likelihood  \\\n",
       "2    [0.9997563362121582, 0.9997261762619019, 0.999...   \n",
       "4    [0.9999674558639526, 0.9999489188194275, 0.999...   \n",
       "5    [0.999783992767334, 0.9998521208763123, 0.9998...   \n",
       "6    [0.9998513460159302, 0.9998044967651367, 0.999...   \n",
       "7    [0.9998356103897095, 0.9998655319213867, 0.999...   \n",
       "..                                                 ...   \n",
       "151  [0.999790370464325, 0.9998224973678589, 0.9998...   \n",
       "152  [0.9997842311859131, 0.9996389150619507, 0.999...   \n",
       "153  [0.9996610879898071, 0.9996780157089233, 0.999...   \n",
       "154  [0.9998903274536133, 0.9999192953109741, 0.999...   \n",
       "155  [0.9999290108680725, 0.9999378323554993, 0.999...   \n",
       "\n",
       "                                            rightear_x  ... bobstacle_x_cm  \\\n",
       "2    [83.50088500976562, 83.64659881591797, 83.6355...  ...       3.411156   \n",
       "4    [68.4342269897461, 68.32564544677734, 68.41108...  ...            NaN   \n",
       "5    [487.1942138671875, 486.548095703125, 485.9513...  ...            NaN   \n",
       "6    [81.14069366455078, 80.4792251586914, 80.97708...  ...            NaN   \n",
       "7    [485.692138671875, 484.9634704589844, 484.6841...  ...            NaN   \n",
       "..                                                 ...  ...            ...   \n",
       "151  [488.0886535644531, 488.3228454589844, 488.368...  ...            NaN   \n",
       "152  [84.89165496826172, 84.28033447265625, 84.3695...  ...       3.839811   \n",
       "153  [486.9610290527344, 486.99957275390625, 486.09...  ...            NaN   \n",
       "154  [67.62258911132812, 67.57321166992188, 68.0329...  ...            NaN   \n",
       "155  [484.564697265625, 484.413818359375, 483.22125...  ...            NaN   \n",
       "\n",
       "    bobstacle_x_std bobstacle_y_cm bobstacle_y_std wobstacle_x_cm  \\\n",
       "2               NaN       6.875518        2.196533      22.281383   \n",
       "4               NaN       9.280102        0.010381      22.458857   \n",
       "5               NaN      11.787745        2.259291      14.157058   \n",
       "6               NaN      14.076417        0.073512       7.006245   \n",
       "7               NaN      12.064128        2.166136      10.104242   \n",
       "..              ...            ...             ...            ...   \n",
       "151             NaN       6.200434        2.908876      14.127096   \n",
       "152             NaN       3.495233        0.010549       7.393186   \n",
       "153             NaN       7.199935        2.675681      16.911753   \n",
       "154             NaN       9.249234        0.014799      22.216085   \n",
       "155             NaN       6.172507        2.773805      18.602269   \n",
       "\n",
       "    wobstacle_x_std wobstacle_y_cm wobstacle_y_std  \\\n",
       "2          0.342625       6.875518        2.196533   \n",
       "4          0.024013       9.280102        0.010381   \n",
       "5          7.388797      11.787745        2.259291   \n",
       "6          0.042216      14.076417        0.073512   \n",
       "7          3.599540      12.064128        2.166136   \n",
       "..              ...            ...             ...   \n",
       "151        7.061571       6.200434        2.908876   \n",
       "152        0.009798       3.495233        0.010549   \n",
       "153        6.897864       7.199935        2.675681   \n",
       "154        0.022007       9.249234        0.014799   \n",
       "155        3.304851       6.172507        2.773805   \n",
       "\n",
       "                                                 speed obstacle_cluster  \n",
       "2    [1.749697895304716, 0.3443952340051449, 1.6236...                2  \n",
       "4    [6.3683700035509965, 0.7103247114804931, 3.466...                2  \n",
       "5    [nan, nan, nan, 0.04334580653256803, nan, nan,...                7  \n",
       "6    [0.04807041605152948, 0.937844686112043, 1.419...                6  \n",
       "7    [2.6027150977849645, 2.212333078159064, 2.2820...                1  \n",
       "..                                                 ...              ...  \n",
       "151  [nan, 2.5369473785235854, 0.5486213292292746, ...                0  \n",
       "152  [0.3943766727711607, 0.14417136817915477, 0.60...                3  \n",
       "153  [nan, nan, nan, nan, nan, nan, nan, nan, nan, ...                4  \n",
       "154  [1.8184403839037462, 2.756400213703593, 0.0631...                2  \n",
       "155  [0.24802420726445434, 0.9009659229731214, 1.97...                5  \n",
       "\n",
       "[141 rows x 138 columns]"
      ]
     },
     "execution_count": 4,
     "metadata": {},
     "output_type": "execute_result"
    }
   ],
   "source": [
    "test"
   ]
  },
  {
   "cell_type": "code",
   "execution_count": 4,
   "id": "b728e272-e4f8-4bcf-8338-03e5e238b7eb",
   "metadata": {},
   "outputs": [
    {
     "data": {
      "image/png": "[encoded data removed]",
      "text/plain": [
       "<Figure size 432x288 with 1 Axes>"
      ]
     },
     "metadata": {
      "needs_background": "light"
     },
     "output_type": "display_data"
    }
   ],
   "source": [
    "# k means of pillar postion \n",
    "kmeans_input = np.stack([test['wobstacle_x_cm'].map(np.nanmean), test['wobstacle_y_cm'].map(np.nanmean)])\n",
    "kmeans_mask = np.any(np.isnan(kmeans_input), axis=0)\n",
    "kmeans_input = kmeans_input[:,~kmeans_mask]\n",
    "\n",
    "# plot cluster postions\n",
    "cluster_label = test['obstacle_cluster'].tolist()\n",
    "\n",
    "plt.figure()\n",
    "for i in range(len(test['obstacle_cluster'])):\n",
    "    obstacles = kmeans_input[:,i]\n",
    "    plt.plot(obstacles[0], obstacles[1], '*',color=list(mcolors.TABLEAU_COLORS)[cluster_label[i]])\n",
    "    plt.ylim([20.03, 0]); plt.xlim([0, 33.30])"
   ]
  },
  {
   "cell_type": "code",
   "execution_count": 6,
   "id": "4c814d30-c683-4cc8-b77b-f287fbda4f17",
   "metadata": {},
   "outputs": [],
   "source": [
    "## create gt_label\n",
    "# Cluster condition\n",
    "cluster_con = [\n",
    "    (test['obstacle_cluster'] == 3), (test['obstacle_cluster'] == 0), (test['obstacle_cluster'] == 5),\n",
    "    (test['obstacle_cluster'] == 1), (test['obstacle_cluster'] == 4), (test['obstacle_cluster'] == 2),\n",
    "    (test['obstacle_cluster'] == 6), (test['obstacle_cluster'] == 7), (test['obstacle_cluster'] == 8)\n",
    "    ]\n",
    "# list of gt_labels\n",
    "gt_values = [\n",
    "    'TL','TM','TR',\n",
    "    'ML','MM','MR',\n",
    "    'RL','RM','RR'\n",
    "    ]\n",
    "# gt_label\n",
    "test['gt_label'] = np.select(cluster_con, gt_values)"
   ]
  },
  {
   "cell_type": "code",
   "execution_count": 7,
   "id": "b98456b8-69f4-41d7-9a5c-f76d4b65946b",
   "metadata": {},
   "outputs": [],
   "source": [
    "## Given a cluster num get median obstacle position\n",
    "# Create column for gt_label,gt_x = median of x postion given ground truth label,gt_y = median of x postion given ground truth label\n",
    "\n",
    "## create gt_label\n",
    "# Cluster condition\n",
    "cluster_con = [\n",
    "    (test['obstacle_cluster'] == 3), (test['obstacle_cluster'] == 0), (test['obstacle_cluster'] == 5),\n",
    "    (test['obstacle_cluster'] == 1), (test['obstacle_cluster'] == 4), (test['obstacle_cluster'] == 2),\n",
    "    (test['obstacle_cluster'] == 6), (test['obstacle_cluster'] == 7), (test['obstacle_cluster'] == 8)\n",
    "    ]\n",
    "# list of gt_labels\n",
    "gt_valuesnum = [\n",
    "    0,1,2,\n",
    "    3,4,5,\n",
    "    6,7,8\n",
    "]\n",
    "# gt_label\n",
    "test['gt_label#'] = np.select(cluster_con, gt_valuesnum)\n",
    "\n",
    "## get ground truth obstcle  location\n",
    "#Get median obstacle x y values  by obstacle location\n",
    "\n",
    "#Tl \n",
    "TL_x = test.loc[test['gt_label'] == 'TL']\n",
    "TL_x = np.median(TL_x['wobstacle_x_cm'])\n",
    "\n",
    "TL_y = test.loc[test['gt_label'] == 'TL']\n",
    "TL_y = np.median(TL_y['wobstacle_y_cm'])\n",
    "#TM\n",
    "TM_x = test.loc[test['gt_label'] == 'TM']\n",
    "TM_x = np.median(TM_x['wobstacle_x_cm'])\n",
    "\n",
    "TM_y = test.loc[test['gt_label'] == 'TM']\n",
    "TM_y = np.median(TM_y['wobstacle_y_cm'])\n",
    "#TR\n",
    "TR_x = test.loc[test['gt_label'] == 'TR']\n",
    "TR_x = np.median(TR_x['wobstacle_x_cm'])\n",
    "\n",
    "TR_y = test.loc[test['gt_label'] == 'TR']\n",
    "TR_y = np.median(TR_y['wobstacle_y_cm'])\n",
    "\n",
    "\n",
    "\n",
    "\n",
    "\n",
    "#ML\n",
    "ML_x = test.loc[test['gt_label'] == 'ML']\n",
    "ML_x = np.median(ML_x['wobstacle_x_cm'])\n",
    "\n",
    "ML_y = test.loc[test['gt_label'] == 'ML']\n",
    "ML_y = np.median(ML_y['wobstacle_y_cm'])\n",
    "#MM\n",
    "MM_x = test.loc[test['gt_label'] == 'MM']\n",
    "MM_x = np.median(MM_x['wobstacle_x_cm'])\n",
    "\n",
    "MM_y = test.loc[test['gt_label'] == 'MM']\n",
    "MM_y = np.median(MM_y['wobstacle_y_cm'])\n",
    "#MR\n",
    "MR_x = test.loc[test['gt_label'] == 'MR']\n",
    "MR_x = np.median(MR_x['wobstacle_x_cm'])\n",
    "\n",
    "MR_y = test.loc[test['gt_label'] == 'MR']\n",
    "MR_y = np.median(MR_y['wobstacle_y_cm'])\n",
    "\n",
    "\n",
    "#Bl \n",
    "RL_x = test.loc[test['gt_label'] == 'RL']\n",
    "RL_x = np.median(RL_x['wobstacle_x_cm'])\n",
    "\n",
    "RL_y = test.loc[test['gt_label'] == 'RL']\n",
    "RL_y = np.median(RL_y['wobstacle_y_cm'])\n",
    "#TM\n",
    "RM_x = test.loc[test['gt_label'] == 'RM']\n",
    "RM_x = np.median(RM_x['wobstacle_x_cm'])\n",
    "\n",
    "RM_y = test.loc[test['gt_label'] == 'RM']\n",
    "RM_y = np.median(RM_y['wobstacle_y_cm'])\n",
    "#TR\n",
    "RR_x = test.loc[test['gt_label'] == 'RR']\n",
    "RR_x = np.median(RR_x['wobstacle_x_cm'])\n",
    "\n",
    "RR_y = test.loc[test['gt_label'] == 'RR']\n",
    "RR_y = np.median(RR_y['wobstacle_y_cm'])"
   ]
  },
  {
   "cell_type": "code",
   "execution_count": 8,
   "id": "ad66222b-4799-4e3a-a981-b57249d20728",
   "metadata": {},
   "outputs": [],
   "source": [
    "# Create gt_x column \n",
    "\n",
    "gt_x_con = [\n",
    "    (test['gt_label'] == 'TL'), (test['gt_label'] == 'TM'), (test['gt_label'] == 'TR'),\n",
    "    (test['gt_label'] == 'ML'), (test['gt_label'] == 'MM'), (test['gt_label'] == 'MR'),\n",
    "    (test['gt_label'] == 'RL'), (test['gt_label'] == 'RM'), (test['gt_label'] == 'RR')\n",
    "    ]\n",
    "\n",
    "\n",
    "gt_xvalues_lable = [\n",
    "    TL_x,TM_x,TR_x,\n",
    "    ML_x,MM_x,MR_x,\n",
    "    RL_x,RM_x,RR_x\n",
    "    ]\n",
    "\n",
    "\n",
    "test['gt_xvalues'] = np.select(gt_x_con, gt_xvalues_lable)"
   ]
  },
  {
   "cell_type": "code",
   "execution_count": 9,
   "id": "5473d021-8bcd-4129-9971-286ffb7f8401",
   "metadata": {},
   "outputs": [],
   "source": [
    "# Create gt_y column \n",
    "\n",
    "gt_y_con = [\n",
    "    (test['gt_label'] == 'TL'), (test['gt_label'] == 'TM'), (test['gt_label'] == 'TR'),\n",
    "    (test['gt_label'] == 'ML'), (test['gt_label'] == 'MM'), (test['gt_label'] == 'MR'),\n",
    "    (test['gt_label'] == 'RL'), (test['gt_label'] == 'RM'), (test['gt_label'] == 'RR')\n",
    "    ]\n",
    "\n",
    "\n",
    "gt_yvalues_lable = [\n",
    "    TL_y,TM_y,TR_y,\n",
    "    ML_y,MM_y,MR_y,\n",
    "    RL_y,RM_y,RR_y\n",
    "    ]\n",
    "\n",
    "\n",
    "test['gt_yvalues'] = np.select(gt_y_con, gt_yvalues_lable)"
   ]
  },
  {
   "cell_type": "code",
   "execution_count": 10,
   "id": "5cc70aef-730a-445c-9673-67e55aa5f641",
   "metadata": {},
   "outputs": [
    {
     "data": {
      "image/png": "[encoded data removed]",
      "text/plain": [
       "<Figure size 432x288 with 1 Axes>"
      ]
     },
     "metadata": {
      "needs_background": "light"
     },
     "output_type": "display_data"
    }
   ],
   "source": [
    "# plot gt postions\n",
    "gt_label = test['gt_label#'].tolist()\n",
    "#create obstacle_xypos array \n",
    "obstacle_xpos = np.array(test.loc[:,'gt_xvalues'])\n",
    "obstacle_ypos = np.array(test.loc[:,'gt_yvalues'])\n",
    "obstacle_xypos_ar = np.stack((obstacle_xpos, obstacle_ypos))\n",
    "plt.figure()\n",
    "for i in range(len(test['gt_label#'])):\n",
    "    obstacle_xypos = obstacle_xypos_ar[:,i] \n",
    "    plt.plot(obstacle_xypos[0], obstacle_xypos[1], '*', color=list(mcolors.TABLEAU_COLORS)[gt_label[i]])\n",
    "    plt.ylim([20.03, 0]); plt.xlim([0, 33.30])"
   ]
  },
  {
   "cell_type": "code",
   "execution_count": 11,
   "id": "6471e3cd-c250-407d-b001-baa361fed922",
   "metadata": {},
   "outputs": [],
   "source": [
    "# Dic of gt location with labels\n",
    "dd = test.drop_duplicates(subset=['gt_xvalues','gt_yvalues','gt_label'])\n",
    "gt_lb_list = dd['gt_label'].tolist()\n",
    "xy_list = list(zip(dd['gt_xvalues'].tolist(), dd['gt_yvalues'].tolist()))\n",
    "gt_dict = dict(zip(gt_lb_list,xy_list))\n"
   ]
  },
  {
   "cell_type": "code",
   "execution_count": 12,
   "id": "1b965739-0082-42ec-aa12-41dd00e6cbeb",
   "metadata": {},
   "outputs": [
    {
     "data": {
      "text/plain": [
       "{'MR': (22.28138312829813, 9.249234359517668),\n",
       " 'RM': (14.797510055949397, 13.987894457005025),\n",
       " 'RL': (6.71280960420305, 13.683454941135901),\n",
       " 'ML': (9.585954622658765, 8.879183775501776),\n",
       " 'MM': (15.347617775011052, 8.658760750703212),\n",
       " 'TM': (15.286871693900007, 3.627682445349567),\n",
       " 'TL': (7.393186265817571, 4.620800416234327),\n",
       " 'RR': (21.17443544521096, 13.134878098224073),\n",
       " 'TR': (20.74954858478275, 4.045610514763407)}"
      ]
     },
     "execution_count": 12,
     "metadata": {},
     "output_type": "execute_result"
    }
   ],
   "source": [
    "gt_dict"
   ]
  },
  {
   "cell_type": "code",
   "execution_count": 13,
   "id": "02ea0305-e5f7-4d0b-9952-27bee7d516fd",
   "metadata": {},
   "outputs": [],
   "source": [
    "test2=df[df['animal'].str.contains(\"G6CK3RT\") & df['date'].str.contains(\"092721\")]"
   ]
  },
  {
   "cell_type": "code",
   "execution_count": 14,
   "id": "22472272-817a-4a43-a6a7-847f5ec911f8",
   "metadata": {},
   "outputs": [
    {
     "data": {
      "text/plain": [
       "dict_items([('MR', (22.28138312829813, 9.249234359517668)), ('RM', (14.797510055949397, 13.987894457005025)), ('RL', (6.71280960420305, 13.683454941135901)), ('ML', (9.585954622658765, 8.879183775501776)), ('MM', (15.347617775011052, 8.658760750703212)), ('TM', (15.286871693900007, 3.627682445349567)), ('TL', (7.393186265817571, 4.620800416234327)), ('RR', (21.17443544521096, 13.134878098224073)), ('TR', (20.74954858478275, 4.045610514763407))])"
      ]
     },
     "execution_count": 14,
     "metadata": {},
     "output_type": "execute_result"
    }
   ],
   "source": [
    "gt_dict.items()"
   ]
  },
  {
   "cell_type": "code",
   "execution_count": 15,
   "id": "ba9095e9-13e3-447f-95db-8e6af256ed26",
   "metadata": {},
   "outputs": [
    {
     "data": {
      "text/html": [
       "<div>\n",
       "<style scoped>\n",
       "    .dataframe tbody tr th:only-of-type {\n",
       "        vertical-align: middle;\n",
       "    }\n",
       "\n",
       "    .dataframe tbody tr th {\n",
       "        vertical-align: top;\n",
       "    }\n",
       "\n",
       "    .dataframe thead th {\n",
       "        text-align: right;\n",
       "    }\n",
       "</style>\n",
       "<table border=\"1\" class=\"dataframe\">\n",
       "  <thead>\n",
       "    <tr style=\"text-align: right;\">\n",
       "      <th></th>\n",
       "      <th>wobstacle_x_cm</th>\n",
       "      <th>wobstacle_y_cm</th>\n",
       "    </tr>\n",
       "  </thead>\n",
       "  <tbody>\n",
       "    <tr>\n",
       "      <th>2</th>\n",
       "      <td>7.071123</td>\n",
       "      <td>4.184478</td>\n",
       "    </tr>\n",
       "    <tr>\n",
       "      <th>4</th>\n",
       "      <td>22.328458</td>\n",
       "      <td>3.742016</td>\n",
       "    </tr>\n",
       "    <tr>\n",
       "      <th>5</th>\n",
       "      <td>13.152247</td>\n",
       "      <td>9.738008</td>\n",
       "    </tr>\n",
       "    <tr>\n",
       "      <th>6</th>\n",
       "      <td>6.802451</td>\n",
       "      <td>13.854271</td>\n",
       "    </tr>\n",
       "    <tr>\n",
       "      <th>7</th>\n",
       "      <td>11.518973</td>\n",
       "      <td>13.977612</td>\n",
       "    </tr>\n",
       "    <tr>\n",
       "      <th>...</th>\n",
       "      <td>...</td>\n",
       "      <td>...</td>\n",
       "    </tr>\n",
       "    <tr>\n",
       "      <th>142</th>\n",
       "      <td>22.262802</td>\n",
       "      <td>14.170860</td>\n",
       "    </tr>\n",
       "    <tr>\n",
       "      <th>143</th>\n",
       "      <td>19.076431</td>\n",
       "      <td>14.240540</td>\n",
       "    </tr>\n",
       "    <tr>\n",
       "      <th>144</th>\n",
       "      <td>14.396617</td>\n",
       "      <td>14.359703</td>\n",
       "    </tr>\n",
       "    <tr>\n",
       "      <th>145</th>\n",
       "      <td>11.044918</td>\n",
       "      <td>14.371118</td>\n",
       "    </tr>\n",
       "    <tr>\n",
       "      <th>147</th>\n",
       "      <td>9.400520</td>\n",
       "      <td>14.526164</td>\n",
       "    </tr>\n",
       "  </tbody>\n",
       "</table>\n",
       "<p>133 rows × 2 columns</p>\n",
       "</div>"
      ],
      "text/plain": [
       "     wobstacle_x_cm  wobstacle_y_cm\n",
       "2          7.071123        4.184478\n",
       "4         22.328458        3.742016\n",
       "5         13.152247        9.738008\n",
       "6          6.802451       13.854271\n",
       "7         11.518973       13.977612\n",
       "..              ...             ...\n",
       "142       22.262802       14.170860\n",
       "143       19.076431       14.240540\n",
       "144       14.396617       14.359703\n",
       "145       11.044918       14.371118\n",
       "147        9.400520       14.526164\n",
       "\n",
       "[133 rows x 2 columns]"
      ]
     },
     "execution_count": 15,
     "metadata": {},
     "output_type": "execute_result"
    }
   ],
   "source": [
    "test2[['wobstacle_x_cm','wobstacle_y_cm']]"
   ]
  },
  {
   "cell_type": "code",
   "execution_count": 17,
   "id": "c0bc3e4e-67b1-4d86-afbe-c4e5f4f23c6b",
   "metadata": {},
   "outputs": [
    {
     "name": "stdout",
     "output_type": "stream",
     "text": [
      "22.28138312829813\n",
      "14.797510055949397\n",
      "6.71280960420305\n",
      "9.585954622658765\n",
      "15.347617775011052\n",
      "15.286871693900007\n",
      "7.393186265817571\n",
      "21.17443544521096\n",
      "20.74954858478275\n"
     ]
    }
   ],
   "source": [
    "for name, xy in gt_dict.items():\n",
    "    print(xy[0])"
   ]
  },
  {
   "cell_type": "code",
   "execution_count": 18,
   "id": "a91d3e87-3a3f-4751-962d-08a6142ca52d",
   "metadata": {},
   "outputs": [],
   "source": [
    "test2=test2[~pd.isnull(test2['wobstacle_x_cm'])][~pd.isnull(test2['wobstacle_y_cm'])]"
   ]
  },
  {
   "cell_type": "code",
   "execution_count": 19,
   "id": "bb808dae-5acb-4cbf-ace1-83bf2482016b",
   "metadata": {},
   "outputs": [
    {
     "data": {
      "text/plain": [
       "{'MR': (22.28138312829813, 9.249234359517668),\n",
       " 'RM': (14.797510055949397, 13.987894457005025),\n",
       " 'RL': (6.71280960420305, 13.683454941135901),\n",
       " 'ML': (9.585954622658765, 8.879183775501776),\n",
       " 'MM': (15.347617775011052, 8.658760750703212),\n",
       " 'TM': (15.286871693900007, 3.627682445349567),\n",
       " 'TL': (7.393186265817571, 4.620800416234327),\n",
       " 'RR': (21.17443544521096, 13.134878098224073),\n",
       " 'TR': (20.74954858478275, 4.045610514763407)}"
      ]
     },
     "execution_count": 19,
     "metadata": {},
     "output_type": "execute_result"
    }
   ],
   "source": [
    "gt_dict"
   ]
  },
  {
   "cell_type": "code",
   "execution_count": 21,
   "id": "a4dc0240-2278-44e4-94bf-2ff2ae309eff",
   "metadata": {},
   "outputs": [],
   "source": [
    "xy_fits = []\n",
    "for ind, row in test2.iterrows():\n",
    "    xyfit = []\n",
    "    for name, xy in gt_dict.items():\n",
    "    xyfit.append(np.sqrt(np.abs(xy[0]-row['wobstacle_x_cm'])**2 + np.abs(xy[1]-row['wobstacle_y_cm']))**2)\n",
    "    xy_fits.append(np.argmin(xyfit))            \n",
    "test2['xy_fit'] = xy_fits\n",
    "\n",
    "for ind, row in test2.iterrows():\n",
    "    fit = np.zeros(len(gt_dict))\n",
    "    i = 0\n",
    "    for name, xy in gt_dict.items():\n",
    "        fit[i] = (np.sqrt(np.abs(xy[0]-row['wobstacle_x_cm'])**2 + np.abs(xy[1]-row['wobstacle_y_cm']))**2)\n",
    "        i += 1\n",
    "    test2.at[ind, 'distance_to_fit'] = np.min(fit) \n",
    "    test2.at[ind, 'xyfit'] = np.argmin(fit)\n",
    "\n",
    "for ind, row in test2.iterrows():\n",
    "    test2.at[ind, 'object_position_name'] = list(gt_dict.keys())[int(row['xyfit'])]"
   ]
  },
  {
   "cell_type": "code",
   "execution_count": 24,
   "id": "de5353f2-4d46-489c-b0ca-313bd461d481",
   "metadata": {},
   "outputs": [
    {
     "data": {
      "text/plain": [
       "2      TL\n",
       "4      TR\n",
       "5      MM\n",
       "6      RL\n",
       "7      ML\n",
       "       ..\n",
       "142    RR\n",
       "143    RR\n",
       "144    RM\n",
       "145    ML\n",
       "147    ML\n",
       "Name: object_position_name, Length: 133, dtype: object"
      ]
     },
     "execution_count": 24,
     "metadata": {},
     "output_type": "execute_result"
    }
   ],
   "source": [
    "test2['object_position_name']"
   ]
  },
  {
   "cell_type": "code",
   "execution_count": 217,
   "id": "a56096ab-74be-413c-80c8-e77f57a5db29",
   "metadata": {},
   "outputs": [
    {
     "data": {
      "text/plain": [
       "(array([47., 28., 20.,  8., 11.,  5.,  0.,  6.,  6.,  2.]),\n",
       " array([3.09010354e-03, 1.05100472e+00, 2.09891935e+00, 3.14683397e+00,\n",
       "        4.19474859e+00, 5.24266321e+00, 6.29057783e+00, 7.33849245e+00,\n",
       "        8.38640707e+00, 9.43432170e+00, 1.04822363e+01]),\n",
       " <BarContainer object of 10 artists>)"
      ]
     },
     "execution_count": 217,
     "metadata": {},
     "output_type": "execute_result"
    },
    {
     "data": {
      "image/png": "[encoded data removed]",
      "text/plain": [
       "<Figure size 432x288 with 1 Axes>"
      ]
     },
     "metadata": {
      "needs_background": "light"
     },
     "output_type": "display_data"
    }
   ],
   "source": [
    "plt.hist(test2['distance_to_fit'])"
   ]
  },
  {
   "cell_type": "code",
   "execution_count": 156,
   "id": "1957aec9-b34d-4a7e-92f8-2f129c62fe49",
   "metadata": {},
   "outputs": [
    {
     "data": {
      "image/png": "[encoded data removed]",
      "text/plain": [
       "<Figure size 432x288 with 1 Axes>"
      ]
     },
     "metadata": {
      "needs_background": "light"
     },
     "output_type": "display_data"
    }
   ],
   "source": [
    "# k means of pillar postion \n",
    "kmeans_input = np.stack([test2['wobstacle_x_cm'].map(np.nanmean), test2['wobstacle_y_cm'].map(np.nanmean)])\n",
    "kmeans_mask = np.any(np.isnan(kmeans_input), axis=0)\n",
    "kmeans_input = kmeans_input[:,~kmeans_mask]\n",
    "\n",
    "# plot cluster postions\n",
    "cluster_label = test2['obstacle_cluster'].tolist()\n",
    "\n",
    "plt.figure()\n",
    "for i in range(len(test2['obstacle_cluster'])):\n",
    "    obstacles = kmeans_input[:,i]\n",
    "    plt.plot(obstacles[0], obstacles[1], '*', color=list(mcolors.TABLEAU_COLORS)[cluster_label[i]])\n",
    "    plt.ylim([20.03, 0]); plt.xlim([0, 33.30])"
   ]
  },
  {
   "cell_type": "code",
   "execution_count": 138,
   "id": "74a593d4-5f16-4591-bed8-946fe8c9d4f5",
   "metadata": {},
   "outputs": [
    {
     "data": {
      "text/plain": [
       "(133,)"
      ]
     },
     "execution_count": 138,
     "metadata": {},
     "output_type": "execute_result"
    }
   ],
   "source": [
    "xyfit.shape"
   ]
  },
  {
   "cell_type": "code",
   "execution_count": 135,
   "id": "cbf7f62b-d5a9-44c8-8066-b0d713228ccf",
   "metadata": {},
   "outputs": [],
   "source": [
    "pee=[]\n",
    "for ind, row in test2.iterrows():\n",
    "    for name, xy in gt_dict.items():\n",
    "        xfit = xy[0] - row['wobstacle_x_cm']\n",
    "        pee.append(xfit)\n",
    "                 \n",
    "        "
   ]
  },
  {
   "cell_type": "code",
   "execution_count": 136,
   "id": "6b431e28-79ea-40c2-acf1-4e9ef769c083",
   "metadata": {},
   "outputs": [
    {
     "data": {
      "text/plain": [
       "1197"
      ]
     },
     "execution_count": 136,
     "metadata": {},
     "output_type": "execute_result"
    }
   ],
   "source": [
    "len(pee)"
   ]
  },
  {
   "cell_type": "code",
   "execution_count": 134,
   "id": "560e5df3-4c28-44b6-a7d1-22e9e98d82ff",
   "metadata": {},
   "outputs": [
    {
     "ename": "TypeError",
     "evalue": "object of type 'float' has no len()",
     "output_type": "error",
     "traceback": [
      "\u001b[1;31m---------------------------------------------------------------------------\u001b[0m",
      "\u001b[1;31mTypeError\u001b[0m                                 Traceback (most recent call last)",
      "\u001b[1;32m<ipython-input-134-64c2f38e06a2>\u001b[0m in \u001b[0;36m<module>\u001b[1;34m\u001b[0m\n\u001b[1;32m----> 1\u001b[1;33m \u001b[0mlen\u001b[0m\u001b[1;33m(\u001b[0m\u001b[0mxfit\u001b[0m\u001b[1;33m)\u001b[0m\u001b[1;33m\u001b[0m\u001b[1;33m\u001b[0m\u001b[0m\n\u001b[0m",
      "\u001b[1;31mTypeError\u001b[0m: object of type 'float' has no len()"
     ]
    }
   ],
   "source": [
    "len(xfit)"
   ]
  },
  {
   "cell_type": "code",
   "execution_count": 130,
   "id": "5114bfd5-6274-4118-b613-9f6c03f1ced5",
   "metadata": {},
   "outputs": [
    {
     "data": {
      "text/plain": [
       "133"
      ]
     },
     "execution_count": 130,
     "metadata": {},
     "output_type": "execute_result"
    }
   ],
   "source": [
    "len(test2['wobstacle_x_cm'].tolist())"
   ]
  },
  {
   "cell_type": "code",
   "execution_count": 214,
   "id": "7db6f6ea-100d-49a6-889a-2539c3e0a469",
   "metadata": {},
   "outputs": [
    {
     "data": {
      "image/png": "[encoded data removed]",
      "text/plain": [
       "<Figure size 432x288 with 1 Axes>"
      ]
     },
     "metadata": {
      "needs_background": "light"
     },
     "output_type": "display_data"
    }
   ],
   "source": [
    "# plot gt postions\n",
    "gt_label = test['gt_label#'].tolist()\n",
    "#create obstacle_xypos array \n",
    "arenatl_xpos = np.array(test.loc[:,'arenaTL_x_cm'])\n",
    "arenatl_ypos = np.array(test.loc[:,'arenaTL_y_cm'])\n",
    "arenatl_xypos_ar = np.stack((arenatl_xpos, arenatl_ypos))\n",
    "\n",
    "arenatr_xpos = np.array(test.loc[:,'arenaTR_x_cm'])\n",
    "arenatr_ypos = np.array(test.loc[:,'arenaTR_y_cm'])\n",
    "arenatr_xypos_ar = np.stack((arenatr_xpos, arenatr_ypos))\n",
    "\n",
    "arenabl_xpos = np.array(test.loc[:,'arenaBL_x_cm'])\n",
    "arenabl_ypos = np.array(test.loc[:,'arenaBL_y_cm'])\n",
    "arenabl_xypos_ar = np.stack((arenabl_xpos, arenabl_ypos))\n",
    "\n",
    "arenabr_xpos = np.array(test.loc[:,'arenaBR_x_cm'])\n",
    "arenabr_ypos = np.array(test.loc[:,'arenaBR_y_cm'])\n",
    "arenabr_xypos_ar = np.stack((arenabr_xpos, arenabr_ypos))\n",
    "\n",
    "\n",
    "\n",
    "\n",
    "plt.figure()\n",
    "for i in range(len(test['gt_label#'])):\n",
    "    arenatl_xypos = arenatl_xypos_ar[:,i] \n",
    "    arenatr_xypos = arenatr_xypos_ar[:,i] \n",
    "    arenabl_xypos = arenabl_xypos_ar[:,i] \n",
    "    arenabr_xypos = arenabr_xypos_ar[:,i] \n",
    "    plt.plot( arenatl_xypos[0],  arenatl_xypos[1], '*', color='b')\n",
    "    plt.plot( arenatr_xypos[0],  arenatr_xypos[1], '*', color='r')\n",
    "    plt.plot( arenabl_xypos[0],  arenabl_xypos[1], '*', color='g')\n",
    "    plt.plot( arenabr_xypos[0],  arenabr_xypos[1], '*', color='c')\n",
    "        \n",
    "    plt.ylim([20.03, 0]); plt.xlim([0, 33.30])"
   ]
  },
  {
   "cell_type": "code",
   "execution_count": null,
   "id": "b3f61160-f188-4a62-aecd-08e9a1cc6fbf",
   "metadata": {},
   "outputs": [],
   "source": []
  }
 ],
 "metadata": {
  "kernelspec": {
   "display_name": "Python 3.8.13 ('ephys0')",
   "language": "python",
   "name": "python3"
  },
  "language_info": {
   "codemirror_mode": {
    "name": "ipython",
    "version": 3
   },
   "file_extension": ".py",
   "mimetype": "text/x-python",
   "name": "python",
   "nbconvert_exporter": "python",
   "pygments_lexer": "ipython3",
   "version": "3.8.15"
  },
  "vscode": {
   "interpreter": {
    "hash": "8d5aad94d69af8d54a80740ac3e999eae8a40d3534c4b9b883255615339559dc"
   }
  }
 },
 "nbformat": 4,
 "nbformat_minor": 5
}
