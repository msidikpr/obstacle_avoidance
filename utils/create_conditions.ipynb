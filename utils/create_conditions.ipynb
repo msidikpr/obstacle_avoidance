{
 "cells": [
  {
   "cell_type": "code",
   "execution_count": 13,
   "metadata": {},
   "outputs": [],
   "source": [
    "import random\n",
    "\n",
    "def create_random_combinations(list1, list2, n, num_combinations):\n",
    "    combinations = []\n",
    "    combination_list = []\n",
    "    \n",
    "    while len(combinations) < num_combinations:\n",
    "        sample1 = random.sample(list1, n)\n",
    "        sample2 = random.sample(list2, n)\n",
    "        tuple_sample = tuple(sample1 + sample2)\n",
    "        combination_list.append(tuple_sample)\n",
    "        \n",
    "        valid_combination = True\n",
    "        for i in range(n):\n",
    "            if tuple_sample[i] == tuple_sample[i-1]:\n",
    "                valid_combination = False\n",
    "                break\n",
    "        \n",
    "        if valid_combination:\n",
    "            combinations.append(tuple_sample)\n",
    "    \n",
    "    return combinations\n"
   ]
  },
  {
   "cell_type": "code",
   "execution_count": null,
   "metadata": {},
   "outputs": [],
   "source": [
    "    import random\n",
    "\n",
    "    def create_random_combinations(list1, list2, num_combinations):\n",
    "        combinations = []\n",
    "        combination_list = []\n",
    "        \n",
    "        while len(combinations) < num_combinations:\n",
    "            count = 0\n",
    "            sample1 = random.sample(list1, n)\n",
    "            sample2 = random.sample(list2, n)\n",
    "            tuple_sample = tuple(sample1 + sample2)\n",
    "            combination_list.append(tuple_sample)\n",
    "            count += 1 \n",
    "            \n",
    "            \n",
    "            valid_combination = True\n",
    "            for i in range(n):\n",
    "                if tuple_sample[i] == tuple_sample[i-1]:\n",
    "                    valid_combination = False\n",
    "                    break\n",
    "            \n",
    "            if valid_combination:\n",
    "                combinations.append(tuple_sample)\n",
    "        \n",
    "        return combinations"
   ]
  },
  {
   "cell_type": "code",
   "execution_count": 20,
   "metadata": {},
   "outputs": [],
   "source": [
    "import random\n",
    "\n",
    "def create_random_combinations(list1, list2, num_combinations):\n",
    "    combinations = []\n",
    "    while len(combinations) < num_combinations:\n",
    "        if len(combinations) == 0:\n",
    "            sample1 = random.sample(list1,1)\n",
    "            sample2 = random.sample(list2, 1)\n",
    "            tuple_sample = tuple(sample1 + sample2)\n",
    "            combinations.append(tuple_sample)\n",
    "           \n",
    "        \n",
    "        else:\n",
    "            sample1 = random.sample(list1,1)\n",
    "            sample2 = random.sample(list2, 1)\n",
    "            tuple_sample = tuple(sample1 + sample2)\n",
    "            if tuple_sample == combinations[-1]:\n",
    "                continue\n",
    "            else:\n",
    "                combinations.append(tuple_sample)\n",
    "\n",
    "\n",
    "    \n",
    "    \n",
    "    return combinations"
   ]
  },
  {
   "cell_type": "code",
   "execution_count": 25,
   "metadata": {},
   "outputs": [],
   "source": [
    "wall = [ 'white','black','noise']\n",
    "obstacle = [ 'white','black','noise']\n",
    "conditions = create_random_combinations(wall,obstacle,9)\n",
    "\n",
    "conditions1 = create_random_combinations(wall,obstacle,9)\n"
   ]
  },
  {
   "cell_type": "code",
   "execution_count": 43,
   "metadata": {},
   "outputs": [
    {
     "name": "stdout",
     "output_type": "stream",
     "text": [
      "[('white', 'white'), ('white', 'black'), ('white', 'noise'), ('black', 'white'), ('black', 'black'), ('black', 'noise'), ('noise', 'white'), ('noise', 'black'), ('noise', 'noise')]\n"
     ]
    }
   ],
   "source": [
    "import itertools\n",
    "from itertools import permutations\n",
    " \n",
    "# initialize lists\n",
    "list_1 = [ 'white','black','noise']\n",
    "list_2 = [ 'white','black','noise']\n",
    " \n",
    "unique_combinations = []\n",
    " \n",
    "for i in range(len(list_1)):\n",
    "    for j in range(len(list_2)):\n",
    "        unique_combinations.append((list_1[i], list_2[j]))\n",
    " \n",
    "print(unique_combinations)"
   ]
  },
  {
   "cell_type": "code",
   "execution_count": 44,
   "metadata": {},
   "outputs": [],
   "source": [
    "condition_list = unique_combinations *3 \n",
    "random.shuffle(condition_list)\n"
   ]
  },
  {
   "cell_type": "code",
   "execution_count": 45,
   "metadata": {},
   "outputs": [
    {
     "data": {
      "text/plain": [
       "[('white', 'white'),\n",
       " ('white', 'noise'),\n",
       " ('white', 'black'),\n",
       " ('noise', 'white'),\n",
       " ('white', 'black'),\n",
       " ('noise', 'black'),\n",
       " ('black', 'white'),\n",
       " ('noise', 'noise'),\n",
       " ('white', 'white'),\n",
       " ('white', 'noise'),\n",
       " ('black', 'noise'),\n",
       " ('noise', 'black'),\n",
       " ('noise', 'noise'),\n",
       " ('noise', 'black'),\n",
       " ('black', 'noise'),\n",
       " ('noise', 'noise'),\n",
       " ('black', 'white'),\n",
       " ('noise', 'white'),\n",
       " ('noise', 'white'),\n",
       " ('black', 'black'),\n",
       " ('black', 'white'),\n",
       " ('white', 'noise'),\n",
       " ('white', 'black'),\n",
       " ('black', 'black'),\n",
       " ('black', 'noise'),\n",
       " ('black', 'black'),\n",
       " ('white', 'white')]"
      ]
     },
     "execution_count": 45,
     "metadata": {},
     "output_type": "execute_result"
    }
   ],
   "source": [
    "condition_list"
   ]
  },
  {
   "cell_type": "code",
   "execution_count": 38,
   "metadata": {},
   "outputs": [],
   "source": [
    "random.shuffle(condition_list)"
   ]
  }
 ],
 "metadata": {
  "kernelspec": {
   "display_name": "ephys0",
   "language": "python",
   "name": "python3"
  },
  "language_info": {
   "codemirror_mode": {
    "name": "ipython",
    "version": 3
   },
   "file_extension": ".py",
   "mimetype": "text/x-python",
   "name": "python",
   "nbconvert_exporter": "python",
   "pygments_lexer": "ipython3",
   "version": "3.8.15"
  },
  "orig_nbformat": 4,
  "vscode": {
   "interpreter": {
    "hash": "8d5aad94d69af8d54a80740ac3e999eae8a40d3534c4b9b883255615339559dc"
   }
  }
 },
 "nbformat": 4,
 "nbformat_minor": 2
}
