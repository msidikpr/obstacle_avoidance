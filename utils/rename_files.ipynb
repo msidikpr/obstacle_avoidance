{
 "cells": [
  {
   "cell_type": "code",
   "execution_count": 27,
   "metadata": {},
   "outputs": [],
   "source": [
    "import json, os, cv2\n",
    "from pathlib import Path\n",
    "\n",
    "\n",
    "import sys\n",
    "sys.path.insert(0, 'C:/Users/nlab/Documents/GitHub/obstacle_avoidance')\n",
    "import warnings\n",
    "warnings.filterwarnings('ignore')\n",
    "from src.utils.path import find"
   ]
  },
  {
   "cell_type": "code",
   "execution_count": 2,
   "metadata": {},
   "outputs": [],
   "source": [
    "path = 'D:/obstacle_avoidance/recordings'"
   ]
  },
  {
   "cell_type": "code",
   "execution_count": 10,
   "metadata": {},
   "outputs": [],
   "source": [
    "date_list = [ '022123',\n",
    " '022223',\n",
    " '022323',\n",
    " '022423',\n",
    " '022723']\n",
    "\n",
    " animal_list = ['J620LT', 'J620RT', 'J619RT', 'J619LT']\n",
    "\n",
    "task = 'oa_dark'\n",
    "folders = [i for i in os.listdir(path) if i in date_list]"
   ]
  },
  {
   "cell_type": "code",
   "execution_count": null,
   "metadata": {},
   "outputs": [],
   "source": [
    "data_paths = [str(i) for i in list((data_path / date / ani/ task).rglob('*.csv'))]"
   ]
  },
  {
   "cell_type": "code",
   "execution_count": 17,
   "metadata": {},
   "outputs": [],
   "source": [
    "date = '022123'"
   ]
  },
  {
   "cell_type": "code",
   "execution_count": 23,
   "metadata": {},
   "outputs": [
    {
     "data": {
      "text/plain": [
       "['022123_J619LT_control_Rig2_oa_dark_poke1_BonsaiTS.csv',\n",
       " '022123_J619LT_control_Rig2_oa_dark_poke2_BonsaiTS.csv',\n",
       " '022123_J619LT_control_Rig2_oa_dark_spout1_BonsaiTS.csv',\n",
       " '022123_J619LT_control_Rig2_oa_dark_spout2_BonsaiTS.csv',\n",
       " '022123_J619LT_control_Rig2_oa_dark_top1.avi',\n",
       " '022123_J619LT_control_Rig2_oa_dark_top1_BonsaiTS.csv']"
      ]
     },
     "execution_count": 23,
     "metadata": {},
     "output_type": "execute_result"
    }
   ],
   "source": [
    "os.listdir(r\"D:\\obstacle_avoidance\\recordings\\022123\\J619LT\\oa_dark\")"
   ]
  },
  {
   "cell_type": "code",
   "execution_count": 22,
   "metadata": {},
   "outputs": [
    {
     "data": {
      "text/plain": [
       "'D:/obstacle_avoidance/recordings'"
      ]
     },
     "execution_count": 22,
     "metadata": {},
     "output_type": "execute_result"
    }
   ],
   "source": [
    "get-childitem *.avi | foreach { rename-item $_ $_.Name.Replace(\"oa_dark\", \"oadark\") }"
   ]
  },
  {
   "cell_type": "code",
   "execution_count": 57,
   "metadata": {},
   "outputs": [],
   "source": [
    "recording_dir = 'D:/obstacle_avoidance/recordings/022223/J619LT/oadark'"
   ]
  },
  {
   "cell_type": "code",
   "execution_count": 58,
   "metadata": {},
   "outputs": [
    {
     "ename": "IndexError",
     "evalue": "list index out of range",
     "output_type": "error",
     "traceback": [
      "\u001b[1;31m---------------------------------------------------------------------------\u001b[0m",
      "\u001b[1;31mIndexError\u001b[0m                                Traceback (most recent call last)",
      "Cell \u001b[1;32mIn[58], line 1\u001b[0m\n\u001b[1;32m----> 1\u001b[0m name \u001b[39m=\u001b[39m \u001b[39m'\u001b[39m\u001b[39m_\u001b[39m\u001b[39m'\u001b[39m\u001b[39m.\u001b[39mjoin(os\u001b[39m.\u001b[39mpath\u001b[39m.\u001b[39msplitext(os\u001b[39m.\u001b[39mpath\u001b[39m.\u001b[39msplit([i \u001b[39mfor\u001b[39;49;00m i \u001b[39min\u001b[39;49;00m find(\u001b[39m'\u001b[39;49m\u001b[39m*.avi\u001b[39;49m\u001b[39m'\u001b[39;49m, recording_dir) \u001b[39mif\u001b[39;49;00m \u001b[39mall\u001b[39;49m(bad \u001b[39mnot\u001b[39;49;00m \u001b[39min\u001b[39;49;00m i \u001b[39mfor\u001b[39;49;00m bad \u001b[39min\u001b[39;49;00m [\u001b[39m'\u001b[39;49m\u001b[39mplot\u001b[39;49m\u001b[39m'\u001b[39;49m,\u001b[39m'\u001b[39;49m\u001b[39mIR\u001b[39;49m\u001b[39m'\u001b[39;49m,\u001b[39m'\u001b[39;49m\u001b[39mrep11\u001b[39;49m\u001b[39m'\u001b[39;49m,\u001b[39m'\u001b[39;49m\u001b[39mbetafpv\u001b[39;49m\u001b[39m'\u001b[39;49m,\u001b[39m'\u001b[39;49m\u001b[39mside_gaze\u001b[39;49m\u001b[39m'\u001b[39;49m,\u001b[39m'\u001b[39;49m\u001b[39m._\u001b[39;49m\u001b[39m'\u001b[39;49m])][\u001b[39m0\u001b[39;49m])[\u001b[39m1\u001b[39m])[\u001b[39m0\u001b[39m]\u001b[39m.\u001b[39msplit(\u001b[39m'\u001b[39m\u001b[39m_\u001b[39m\u001b[39m'\u001b[39m)[:\u001b[39m-\u001b[39m\u001b[39m2\u001b[39m])\n",
      "\u001b[1;31mIndexError\u001b[0m: list index out of range"
     ]
    }
   ],
   "source": [
    "name = '_'.join(os.path.splitext(os.path.split([i for i in find('*.avi', recording_dir) if all(bad not in i for bad in ['plot','IR','rep11','betafpv','side_gaze','._'])][0])[1])[0].split('_')[:-2])"
   ]
  },
  {
   "cell_type": "code",
   "execution_count": 56,
   "metadata": {},
   "outputs": [
    {
     "data": {
      "text/plain": [
       "'022223_J619LT_control_Rig2'"
      ]
     },
     "execution_count": 56,
     "metadata": {},
     "output_type": "execute_result"
    }
   ],
   "source": [
    "name"
   ]
  },
  {
   "cell_type": "code",
   "execution_count": 30,
   "metadata": {},
   "outputs": [
    {
     "ename": "SyntaxError",
     "evalue": "unexpected EOF while parsing (1604527035.py, line 1)",
     "output_type": "error",
     "traceback": [
      "\u001b[1;36m  Cell \u001b[1;32mIn[30], line 1\u001b[1;36m\u001b[0m\n\u001b[1;33m    os.path.splitext(os.path.split([i for i in find('*.avi', recording_dir)\u001b[0m\n\u001b[1;37m                                                                           ^\u001b[0m\n\u001b[1;31mSyntaxError\u001b[0m\u001b[1;31m:\u001b[0m unexpected EOF while parsing\n"
     ]
    }
   ],
   "source": [
    "os.path.splitext(os.path.split([i for i in find('*.avi', recording_dir)"
   ]
  },
  {
   "cell_type": "code",
   "execution_count": 31,
   "metadata": {},
   "outputs": [
    {
     "data": {
      "text/plain": [
       "['022223', 'J619LT', 'control', 'Rig2']"
      ]
     },
     "execution_count": 31,
     "metadata": {},
     "output_type": "execute_result"
    }
   ],
   "source": [
    "os.path.splitext(os.path.split([i for i in find('*.avi', recording_dir) if all(bad not in i for bad in ['plot','IR','rep11','betafpv','side_gaze','._'])][0])[1])[0].split('_')[:-2]"
   ]
  }
 ],
 "metadata": {
  "kernelspec": {
   "display_name": "ephys3",
   "language": "python",
   "name": "python3"
  },
  "language_info": {
   "codemirror_mode": {
    "name": "ipython",
    "version": 3
   },
   "file_extension": ".py",
   "mimetype": "text/x-python",
   "name": "python",
   "nbconvert_exporter": "python",
   "pygments_lexer": "ipython3",
   "version": "3.8.16"
  },
  "orig_nbformat": 4,
  "vscode": {
   "interpreter": {
    "hash": "18909df720030512de15b5464fd804d554a62031bd4c4e65819719dd1ff43646"
   }
  }
 },
 "nbformat": 4,
 "nbformat_minor": 2
}
