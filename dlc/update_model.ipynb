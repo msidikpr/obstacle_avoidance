{
 "cells": [
  {
   "cell_type": "code",
   "execution_count": 1,
   "metadata": {},
   "outputs": [
    {
     "name": "stderr",
     "output_type": "stream",
     "text": [
      "<frozen importlib._bootstrap>:219: RuntimeWarning: scipy._lib.messagestream.MessageStream size changed, may indicate binary incompatibility. Expected 56 from C header, got 64 from PyObject\n",
      "c:\\Users\\nlab\\anaconda3\\envs\\ephys0\\lib\\site-packages\\deeplabcut\\__init__.py:78: UserWarning: \n",
      "        As PyTorch is not installed, unsupervised identity learning will not be available.\n",
      "        Please run `pip install torch`, or ignore this warning.\n",
      "        \n",
      "  warnings.warn(\n"
     ]
    }
   ],
   "source": [
    "import deeplabcut\n",
    "import os\n",
    "from pathlib import Path"
   ]
  },
  {
   "cell_type": "code",
   "execution_count": 2,
   "metadata": {},
   "outputs": [],
   "source": [
    "## set path to dlc project config file \n",
    "config_path = \"D:\\obstacle_avoidance\\deeplabcut\\obstacle_avoidance_022823-Mike-2023-02-28\\config.yaml\""
   ]
  },
  {
   "cell_type": "code",
   "execution_count": null,
   "metadata": {},
   "outputs": [
    {
     "data": {
      "text/plain": [
       "['D:\\\\obstacle_avoidance\\\\deeplabcut\\\\obstacle_avoidance_022823-Mike-2023-02-28\\\\videos\\\\021523_J619RT_control_Rig2_oa_top1.avi',\n",
       " 'D:\\\\obstacle_avoidance\\\\deeplabcut\\\\obstacle_avoidance_022823-Mike-2023-02-28\\\\videos\\\\021523_J620RT_control_Rig2_oa_top1.avi',\n",
       " 'D:\\\\obstacle_avoidance\\\\deeplabcut\\\\obstacle_avoidance_022823-Mike-2023-02-28\\\\videos\\\\022323_J620RT_control_Rig2_oadark_top1.avi',\n",
       " 'D:\\\\obstacle_avoidance\\\\deeplabcut\\\\obstacle_avoidance_022823-Mike-2023-02-28\\\\videos\\\\022423_J620RT_control_Rig2_oadark_top1.avi']"
      ]
     },
     "execution_count": 28,
     "metadata": {},
     "output_type": "execute_result"
    }
   ],
   "source": [
    "file_list = [\"D:\\obstacle_avoidance\\deeplabcut\\obstacle_avoidance_022823-Mike-2023-02-28\\videos\\021523_J619RT_control_Rig2_oa_top1.avi\",\n",
    "\"D:\\obstacle_avoidance\\deeplabcut\\obstacle_avoidance_022823-Mike-2023-02-28\\videos\\022423_J620RT_control_Rig2_oadark_top1.avi\"]\n",
    "file_list = [r'{}'.format(file) for file in file]"
   ]
  },
  {
   "cell_type": "code",
   "execution_count": 3,
   "metadata": {},
   "outputs": [
    {
     "data": {
      "text/plain": [
       "['D:\\\\obstacle_avoidance\\\\deeplabcut\\\\obstacle_avoidance_022823-Mike-2023-02-28\\\\videos\\\\021523_J619RT_control_Rig2_oa_top1.avi',\n",
       " 'D:\\\\obstacle_avoidance\\\\deeplabcut\\\\obstacle_avoidance_022823-Mike-2023-02-28\\\\videos\\\\021523_J620RT_control_Rig2_oa_top1.avi',\n",
       " 'D:\\\\obstacle_avoidance\\\\deeplabcut\\\\obstacle_avoidance_022823-Mike-2023-02-28\\\\videos\\\\022323_J620RT_control_Rig2_oadark_top1.avi',\n",
       " 'D:\\\\obstacle_avoidance\\\\deeplabcut\\\\obstacle_avoidance_022823-Mike-2023-02-28\\\\videos\\\\022423_J620RT_control_Rig2_oadark_top1.avi']"
      ]
     },
     "execution_count": 3,
     "metadata": {},
     "output_type": "execute_result"
    }
   ],
   "source": [
    "## set list of videos \n",
    "newvid_path = [\"D:\\obstacle_avoidance\\deeplabcut\\obstacle_avoidance_022823-Mike-2023-02-28/videos/021523_J619RT_control_Rig2_oa_top1.avi\",\n",
    "\"D:\\obstacle_avoidance\\deeplabcut\\obstacle_avoidance_022823-Mike-2023-02-28/videos/021523_J620RT_control_Rig2_oa_top1.avi\",\n",
    "\"D:\\obstacle_avoidance\\deeplabcut\\obstacle_avoidance_022823-Mike-2023-02-28/videos/022323_J620RT_control_Rig2_oadark_top1.avi\",\n",
    "\"D:\\obstacle_avoidance\\deeplabcut\\obstacle_avoidance_022823-Mike-2023-02-28/videos/022423_J620RT_control_Rig2_oadark_top1.avi\"\n",
    "]\n",
    "newvid_path = [os.path.normpath(file) for file in newvid_path]\n",
    "newvid_path"
   ]
  },
  {
   "cell_type": "code",
   "execution_count": 29,
   "metadata": {},
   "outputs": [
    {
     "name": "stderr",
     "output_type": "stream",
     "text": [
      "Config:\n",
      "{'all_joints': [[0],\n",
      "                [1],\n",
      "                [2],\n",
      "                [3],\n",
      "                [4],\n",
      "                [5],\n",
      "                [6],\n",
      "                [7],\n",
      "                [8],\n",
      "                [9],\n",
      "                [10],\n",
      "                [11],\n",
      "                [12],\n",
      "                [13],\n",
      "                [14],\n",
      "                [15],\n",
      "                [16],\n",
      "                [17],\n",
      "                [18],\n",
      "                [19]],\n",
      " 'all_joints_names': ['nose',\n",
      "                      'leftear',\n",
      "                      'rightear',\n",
      "                      'spine',\n",
      "                      'midspine',\n",
      "                      'tailbase',\n",
      "                      'midtail',\n",
      "                      'tailend',\n",
      "                      'arenaTL',\n",
      "                      'arenaTR',\n",
      "                      'arenaBL',\n",
      "                      'arenaBR',\n",
      "                      'obstacleTL',\n",
      "                      'obstacleTR',\n",
      "                      'obstacleBR',\n",
      "                      'obstacleBL',\n",
      "                      'leftportT',\n",
      "                      'leftportB',\n",
      "                      'rightportT',\n",
      "                      'rightportB'],\n",
      " 'batch_size': 1,\n",
      " 'crop_pad': 0,\n",
      " 'dataset': 'training-datasets\\\\iteration-1\\\\UnaugmentedDataSet_obstacle_avoidance_022823Feb28\\\\obstacle_avoidance_022823_Mike95shuffle1.mat',\n",
      " 'dataset_type': 'imgaug',\n",
      " 'deterministic': False,\n",
      " 'fg_fraction': 0.25,\n",
      " 'global_scale': 0.8,\n",
      " 'init_weights': 'c:\\\\Users\\\\nlab\\\\anaconda3\\\\envs\\\\ephys0\\\\lib\\\\site-packages\\\\deeplabcut\\\\pose_estimation_tensorflow\\\\models\\\\pretrained\\\\resnet_v1_50.ckpt',\n",
      " 'intermediate_supervision': False,\n",
      " 'intermediate_supervision_layer': 12,\n",
      " 'location_refinement': True,\n",
      " 'locref_huber_loss': True,\n",
      " 'locref_loss_weight': 1.0,\n",
      " 'locref_stdev': 7.2801,\n",
      " 'log_dir': 'log',\n",
      " 'mean_pixel': [123.68, 116.779, 103.939],\n",
      " 'mirror': False,\n",
      " 'net_type': 'resnet_50',\n",
      " 'num_joints': 20,\n",
      " 'optimizer': 'sgd',\n",
      " 'pairwise_huber_loss': True,\n",
      " 'pairwise_predict': False,\n",
      " 'partaffinityfield_predict': False,\n",
      " 'regularize': False,\n",
      " 'scoremap_dir': 'test',\n",
      " 'shuffle': True,\n",
      " 'snapshot_prefix': 'D:\\\\obstacle_avoidance\\\\deeplabcut\\\\obstacle_avoidance_022823-Mike-2023-02-28\\\\dlc-models\\\\iteration-1\\\\obstacle_avoidance_022823Feb28-trainset95shuffle1\\\\test\\\\snapshot',\n",
      " 'stride': 8.0,\n",
      " 'weigh_negatives': False,\n",
      " 'weigh_only_present_joints': False,\n",
      " 'weigh_part_predictions': False,\n",
      " 'weight_decay': 0.0001}\n",
      "c:\\Users\\nlab\\anaconda3\\envs\\ephys3\\lib\\site-packages\\tensorflow\\python\\keras\\engine\\base_layer_v1.py:1694: UserWarning: `layer.apply` is deprecated and will be removed in a future version. Please use `layer.__call__` method instead.\n",
      "  warnings.warn('`layer.apply` is deprecated and '\n"
     ]
    },
    {
     "name": "stdout",
     "output_type": "stream",
     "text": [
      "Using snapshot-210000 for model D:\\obstacle_avoidance\\deeplabcut\\obstacle_avoidance_022823-Mike-2023-02-28\\dlc-models\\iteration-1\\obstacle_avoidance_022823Feb28-trainset95shuffle1\n",
      "Starting to analyze %  D:\\obstacle_avoidance\\deeplabcut\\obstacle_avoidance_022823-Mike-2023-02-28\\videos\\021523_J619RT_control_Rig2_oa_top1.avi\n",
      "Loading  D:\\obstacle_avoidance\\deeplabcut\\obstacle_avoidance_022823-Mike-2023-02-28\\videos\\021523_J619RT_control_Rig2_oa_top1.avi\n",
      "Duration of video [s]:  551.32 , recorded with  60.0 fps!\n",
      "Overall # of frames:  33079  found with (before cropping) frame dimensions:  720 540\n",
      "Starting to extract posture\n"
     ]
    },
    {
     "name": "stderr",
     "output_type": "stream",
     "text": [
      "100%|██████████| 33079/33079 [07:29<00:00, 73.67it/s]\n"
     ]
    },
    {
     "name": "stdout",
     "output_type": "stream",
     "text": [
      "Saving results in D:\\obstacle_avoidance\\deeplabcut\\obstacle_avoidance_022823-Mike-2023-02-28\\videos...\n",
      "Starting to analyze %  D:\\obstacle_avoidance\\deeplabcut\\obstacle_avoidance_022823-Mike-2023-02-28\\videos\\021523_J620RT_control_Rig2_oa_top1.avi\n",
      "Loading  D:\\obstacle_avoidance\\deeplabcut\\obstacle_avoidance_022823-Mike-2023-02-28\\videos\\021523_J620RT_control_Rig2_oa_top1.avi\n",
      "Duration of video [s]:  608.15 , recorded with  60.0 fps!\n",
      "Overall # of frames:  36489  found with (before cropping) frame dimensions:  720 540\n",
      "Starting to extract posture\n"
     ]
    },
    {
     "name": "stderr",
     "output_type": "stream",
     "text": [
      " 62%|██████▏   | 22632/36489 [04:52<02:59, 77.35it/s]\n"
     ]
    },
    {
     "name": "stdout",
     "output_type": "stream",
     "text": [
      "Starting to analyze %  D:\\obstacle_avoidance\\deeplabcut\\obstacle_avoidance_022823-Mike-2023-02-28\\videos\\022323_J620RT_control_Rig2_oadark_top1.avi\n",
      "Loading  D:\\obstacle_avoidance\\deeplabcut\\obstacle_avoidance_022823-Mike-2023-02-28\\videos\\022323_J620RT_control_Rig2_oadark_top1.avi\n",
      "Duration of video [s]:  617.42 , recorded with  60.0 fps!\n",
      "Overall # of frames:  37045  found with (before cropping) frame dimensions:  720 540\n",
      "Starting to extract posture\n"
     ]
    },
    {
     "name": "stderr",
     "output_type": "stream",
     "text": [
      "100%|██████████| 37045/37045 [07:54<00:00, 78.13it/s]\n"
     ]
    },
    {
     "name": "stdout",
     "output_type": "stream",
     "text": [
      "Saving results in D:\\obstacle_avoidance\\deeplabcut\\obstacle_avoidance_022823-Mike-2023-02-28\\videos...\n",
      "Starting to analyze %  D:\\obstacle_avoidance\\deeplabcut\\obstacle_avoidance_022823-Mike-2023-02-28\\videos\\022423_J620RT_control_Rig2_oadark_top1.avi\n",
      "Loading  D:\\obstacle_avoidance\\deeplabcut\\obstacle_avoidance_022823-Mike-2023-02-28\\videos\\022423_J620RT_control_Rig2_oadark_top1.avi\n",
      "Duration of video [s]:  426.17 , recorded with  60.0 fps!\n",
      "Overall # of frames:  25570  found with (before cropping) frame dimensions:  720 540\n",
      "Starting to extract posture\n"
     ]
    },
    {
     "name": "stderr",
     "output_type": "stream",
     "text": [
      "100%|██████████| 25570/25570 [05:23<00:00, 79.01it/s]\n"
     ]
    },
    {
     "name": "stdout",
     "output_type": "stream",
     "text": [
      "Saving results in D:\\obstacle_avoidance\\deeplabcut\\obstacle_avoidance_022823-Mike-2023-02-28\\videos...\n",
      "The videos are analyzed. Now your research can truly start! \n",
      " You can create labeled videos with 'create_labeled_video'\n",
      "If the tracking is not satisfactory for some videos, consider expanding the training set. You can use the function 'extract_outlier_frames' to extract a few representative outlier frames.\n"
     ]
    },
    {
     "data": {
      "text/plain": [
       "'DLC_resnet50_obstacle_avoidance_022823Feb28shuffle1_210000'"
      ]
     },
     "execution_count": 29,
     "metadata": {},
     "output_type": "execute_result"
    }
   ],
   "source": [
    "## analyze new videos\n",
    "deeplabcut.analyze_videos(config_path, newvid_path, shuffle=1, save_as_csv=False, videotype='.avi')"
   ]
  },
  {
   "cell_type": "code",
   "execution_count": 30,
   "metadata": {},
   "outputs": [
    {
     "name": "stderr",
     "output_type": "stream",
     "text": [
      "c:\\Users\\nlab\\anaconda3\\envs\\ephys3\\lib\\site-packages\\deeplabcut\\refine_training_dataset\\outlier_frames.py:403: FutureWarning: Using the level keyword in DataFrame and Series aggregations is deprecated and will be removed in a future version. Use groupby instead. df.sum(level=1) should use df.groupby(level=1).sum().\n",
      "  sum_ = temp_dt.sum(axis=1, level=1)\n"
     ]
    },
    {
     "name": "stdout",
     "output_type": "stream",
     "text": [
      "Method  jump  found  5694  putative outlier frames.\n",
      "Do you want to proceed with extracting  10  of those?\n",
      "If this list is very large, perhaps consider changing the parameters (start, stop, p_bound, comparisonbodyparts) or use a different method.\n",
      "Loading video...\n",
      "Duration of video [s]:  551.3166666666667 , recorded @  60.0 fps!\n",
      "Overall # of frames:  33079 with (cropped) frame dimensions: \n",
      "Kmeans-quantization based extracting of frames from 0.0  seconds to 551.32  seconds.\n",
      "Extracting and downsampling... 5694  frames from the video.\n"
     ]
    },
    {
     "name": "stderr",
     "output_type": "stream",
     "text": [
      "5694it [00:41, 138.30it/s]\n",
      "c:\\Users\\nlab\\anaconda3\\envs\\ephys3\\lib\\site-packages\\sklearn\\cluster\\_kmeans.py:870: FutureWarning: The default value of `n_init` will change from 3 to 'auto' in 1.4. Set the value of `n_init` explicitly to suppress the warning\n",
      "  warnings.warn(\n",
      "c:\\Users\\nlab\\anaconda3\\envs\\ephys3\\lib\\site-packages\\sklearn\\cluster\\_kmeans.py:1902: UserWarning: MiniBatchKMeans is known to have a memory leak on Windows with MKL, when there are less chunks than available threads. You can prevent it by setting batch_size >= 3072 or by setting the environment variable OMP_NUM_THREADS=1\n",
      "  warnings.warn(\n"
     ]
    },
    {
     "name": "stdout",
     "output_type": "stream",
     "text": [
      "Kmeans clustering ... (this might take a while)\n",
      "Let's select frames indices: [3138, 4710, 12576, 19966, 18583, 23234, 16657, 16575, 16469, 26873]\n"
     ]
    },
    {
     "name": "stderr",
     "output_type": "stream",
     "text": [
      "c:\\Users\\nlab\\anaconda3\\envs\\ephys3\\lib\\site-packages\\deeplabcut\\refine_training_dataset\\outlier_frames.py:403: FutureWarning: Using the level keyword in DataFrame and Series aggregations is deprecated and will be removed in a future version. Use groupby instead. df.sum(level=1) should use df.groupby(level=1).sum().\n",
      "  sum_ = temp_dt.sum(axis=1, level=1)\n"
     ]
    },
    {
     "name": "stdout",
     "output_type": "stream",
     "text": [
      "Attempting to create a symbolic link of the video ...\n",
      "Video D:\\obstacle_avoidance\\deeplabcut\\obstacle_avoidance_022823-Mike-2023-02-28\\videos\\021523_J619RT_control_Rig2_oa_top1.avi already exists. Skipping...\n",
      "New videos were added to the project! Use the function 'extract_frames' to select frames for labeling.\n",
      "The outlier frames are extracted. They are stored in the subdirectory labeled-data\\021523_J619RT_control_Rig2_oa_top1.\n",
      "Once you extracted frames for all videos, use 'refine_labels' to manually correct the labels.\n",
      "No unfiltered data file found in D:\\obstacle_avoidance\\deeplabcut\\obstacle_avoidance_022823-Mike-2023-02-28\\videos for video 021523_J620RT_control_Rig2_oa_top1 and scorer DLC_resnet50_obstacle_avoidance_022823Feb28shuffle1_210000.\n",
      "It seems the video has not been analyzed yet, or the video is not found! You can only refine the labels after the a video is analyzed. Please run 'analyze_video' first. Or, please double check your video file path\n",
      "Method  jump  found  2749  putative outlier frames.\n",
      "Do you want to proceed with extracting  10  of those?\n",
      "If this list is very large, perhaps consider changing the parameters (start, stop, p_bound, comparisonbodyparts) or use a different method.\n",
      "Loading video...\n",
      "Duration of video [s]:  617.4166666666666 , recorded @  60.0 fps!\n",
      "Overall # of frames:  37045 with (cropped) frame dimensions: \n",
      "Kmeans-quantization based extracting of frames from 0.0  seconds to 617.42  seconds.\n",
      "Extracting and downsampling... 2749  frames from the video.\n"
     ]
    },
    {
     "name": "stderr",
     "output_type": "stream",
     "text": [
      "2749it [00:17, 153.62it/s]\n",
      "c:\\Users\\nlab\\anaconda3\\envs\\ephys3\\lib\\site-packages\\sklearn\\cluster\\_kmeans.py:870: FutureWarning: The default value of `n_init` will change from 3 to 'auto' in 1.4. Set the value of `n_init` explicitly to suppress the warning\n",
      "  warnings.warn(\n",
      "c:\\Users\\nlab\\anaconda3\\envs\\ephys3\\lib\\site-packages\\sklearn\\cluster\\_kmeans.py:1902: UserWarning: MiniBatchKMeans is known to have a memory leak on Windows with MKL, when there are less chunks than available threads. You can prevent it by setting batch_size >= 3072 or by setting the environment variable OMP_NUM_THREADS=1\n",
      "  warnings.warn(\n"
     ]
    },
    {
     "name": "stdout",
     "output_type": "stream",
     "text": [
      "Kmeans clustering ... (this might take a while)\n",
      "Let's select frames indices: [8527, 13562, 12790, 7825, 30795, 34691, 24847, 31943, 4452, 35149]\n"
     ]
    },
    {
     "name": "stderr",
     "output_type": "stream",
     "text": [
      "c:\\Users\\nlab\\anaconda3\\envs\\ephys3\\lib\\site-packages\\deeplabcut\\refine_training_dataset\\outlier_frames.py:403: FutureWarning: Using the level keyword in DataFrame and Series aggregations is deprecated and will be removed in a future version. Use groupby instead. df.sum(level=1) should use df.groupby(level=1).sum().\n",
      "  sum_ = temp_dt.sum(axis=1, level=1)\n"
     ]
    },
    {
     "name": "stdout",
     "output_type": "stream",
     "text": [
      "Attempting to create a symbolic link of the video ...\n",
      "Video D:\\obstacle_avoidance\\deeplabcut\\obstacle_avoidance_022823-Mike-2023-02-28\\videos\\022323_J620RT_control_Rig2_oadark_top1.avi already exists. Skipping...\n",
      "New videos were added to the project! Use the function 'extract_frames' to select frames for labeling.\n",
      "The outlier frames are extracted. They are stored in the subdirectory labeled-data\\022323_J620RT_control_Rig2_oadark_top1.\n",
      "Once you extracted frames for all videos, use 'refine_labels' to manually correct the labels.\n",
      "Method  jump  found  1609  putative outlier frames.\n",
      "Do you want to proceed with extracting  10  of those?\n",
      "If this list is very large, perhaps consider changing the parameters (start, stop, p_bound, comparisonbodyparts) or use a different method.\n",
      "Loading video...\n",
      "Duration of video [s]:  426.1666666666667 , recorded @  60.0 fps!\n",
      "Overall # of frames:  25570 with (cropped) frame dimensions: \n",
      "Kmeans-quantization based extracting of frames from 0.0  seconds to 426.17  seconds.\n",
      "Extracting and downsampling... 1609  frames from the video.\n"
     ]
    },
    {
     "name": "stderr",
     "output_type": "stream",
     "text": [
      "1609it [00:10, 154.17it/s]\n",
      "c:\\Users\\nlab\\anaconda3\\envs\\ephys3\\lib\\site-packages\\sklearn\\cluster\\_kmeans.py:870: FutureWarning: The default value of `n_init` will change from 3 to 'auto' in 1.4. Set the value of `n_init` explicitly to suppress the warning\n",
      "  warnings.warn(\n",
      "c:\\Users\\nlab\\anaconda3\\envs\\ephys3\\lib\\site-packages\\sklearn\\cluster\\_kmeans.py:1902: UserWarning: MiniBatchKMeans is known to have a memory leak on Windows with MKL, when there are less chunks than available threads. You can prevent it by setting batch_size >= 3072 or by setting the environment variable OMP_NUM_THREADS=1\n",
      "  warnings.warn(\n"
     ]
    },
    {
     "name": "stdout",
     "output_type": "stream",
     "text": [
      "Kmeans clustering ... (this might take a while)\n",
      "Let's select frames indices: [17270, 15651, 19292, 21147, 10894, 10313, 7395, 22982, 12897, 20179]\n",
      "Attempting to create a symbolic link of the video ...\n",
      "Video D:\\obstacle_avoidance\\deeplabcut\\obstacle_avoidance_022823-Mike-2023-02-28\\videos\\022423_J620RT_control_Rig2_oadark_top1.avi already exists. Skipping...\n",
      "New videos were added to the project! Use the function 'extract_frames' to select frames for labeling.\n",
      "The outlier frames are extracted. They are stored in the subdirectory labeled-data\\022423_J620RT_control_Rig2_oadark_top1.\n",
      "Once you extracted frames for all videos, use 'refine_labels' to manually correct the labels.\n"
     ]
    }
   ],
   "source": [
    "deeplabcut.extract_outlier_frames(config_path, newvid_path, automatic=True)"
   ]
  },
  {
   "cell_type": "code",
   "execution_count": 31,
   "metadata": {},
   "outputs": [
    {
     "name": "stdout",
     "output_type": "stream",
     "text": [
      "Attempting to create a symbolic link of the video ...\n",
      "Video D:\\obstacle_avoidance\\deeplabcut\\obstacle_avoidance_022823-Mike-2023-02-28\\videos\\021523_J619RT_control_Rig2_oa_top1.avi already exists. Skipping...\n",
      "Video D:\\obstacle_avoidance\\deeplabcut\\obstacle_avoidance_022823-Mike-2023-02-28\\videos\\021523_J620RT_control_Rig2_oa_top1.avi already exists. Skipping...\n",
      "Video D:\\obstacle_avoidance\\deeplabcut\\obstacle_avoidance_022823-Mike-2023-02-28\\videos\\022323_J620RT_control_Rig2_oadark_top1.avi already exists. Skipping...\n",
      "Video D:\\obstacle_avoidance\\deeplabcut\\obstacle_avoidance_022823-Mike-2023-02-28\\videos\\022423_J620RT_control_Rig2_oadark_top1.avi already exists. Skipping...\n",
      "New videos were added to the project! Use the function 'extract_frames' to select frames for labeling.\n"
     ]
    }
   ],
   "source": [
    "deeplabcut.add_new_videos(config_path, newvid_path, copy_videos=False)"
   ]
  },
  {
   "cell_type": "code",
   "execution_count": 6,
   "metadata": {},
   "outputs": [],
   "source": [
    "deeplabcut.refine_labels(config_path)"
   ]
  },
  {
   "cell_type": "code",
   "execution_count": 7,
   "metadata": {},
   "outputs": [
    {
     "name": "stdout",
     "output_type": "stream",
     "text": [
      "Merged data sets and updated refinement iteration to 2.\n",
      "Now you can create a new training set for the expanded annotated images (use create_training_dataset).\n"
     ]
    }
   ],
   "source": [
    "deeplabcut.merge_datasets(config_path)"
   ]
  },
  {
   "cell_type": "code",
   "execution_count": 8,
   "metadata": {},
   "outputs": [
    {
     "name": "stdout",
     "output_type": "stream",
     "text": [
      "D:\\obstacle_avoidance\\deeplabcut\\obstacle_avoidance_022823-Mike-2023-02-28\\labeled-data\\022123_J620RT_control_Rig2_oa_dark_top1\\CollectedData_Mike.h5  not found (perhaps not annotated).\n",
      "D:\\obstacle_avoidance\\deeplabcut\\obstacle_avoidance_022823-Mike-2023-02-28\\labeled-data\\022123_J620LT_control_Rig2_oa_dark_top1\\CollectedData_Mike.h5  not found (perhaps not annotated).\n",
      "D:\\obstacle_avoidance\\deeplabcut\\obstacle_avoidance_022823-Mike-2023-02-28\\labeled-data\\022123_J619RT_control_Rig2_oa_dark_top1\\CollectedData_Mike.h5  not found (perhaps not annotated).\n",
      "D:\\obstacle_avoidance\\deeplabcut\\obstacle_avoidance_022823-Mike-2023-02-28\\labeled-data\\022223_J619LT_control_Rig2_oa_dark_top1\\CollectedData_Mike.h5  not found (perhaps not annotated).\n",
      "D:\\obstacle_avoidance\\deeplabcut\\obstacle_avoidance_022823-Mike-2023-02-28\\labeled-data\\021523_J620RT_control_Rig2_oa_top1\\CollectedData_Mike.h5  not found (perhaps not annotated).\n",
      "The training dataset is successfully created. Use the function 'train_network' to start training. Happy training!\n"
     ]
    },
    {
     "data": {
      "text/plain": [
       "[(0.95,\n",
       "  1,\n",
       "  (array([225, 122,  92, 157, 154, 161, 198,  83,  63, 155, 218, 231, 108,\n",
       "          186, 116,  73, 203, 139, 152,  96, 156,  45, 237, 111, 150,  90,\n",
       "            8,  55, 194,  37, 204,  76, 110, 173, 166, 136, 130,   5,  22,\n",
       "          126, 118,  12, 107, 176,  89,  97, 162,  44,  64, 179,  71, 160,\n",
       "          180,  75,  59, 101, 229,  18, 188,  15, 217,  74,   7, 227, 181,\n",
       "          228,  33, 202, 125, 224, 240, 210, 170,  16, 146, 106, 243,   4,\n",
       "          219,  61, 124,  52,  66,  26, 109, 241, 222,  40,  13,   3, 244,\n",
       "           24,  30, 223,  60,  56, 137, 129,  19, 187, 134,  54, 200,  80,\n",
       "           51,   2, 249, 104, 184,  86,  10, 168, 178, 233,  41,  14,  27,\n",
       "           50, 226,  20, 206,  46, 171, 245, 123, 145, 215,  62, 138, 190,\n",
       "          153, 135,  43, 196, 144, 159, 112, 182,  98, 158,  93, 149, 239,\n",
       "          113,   0,  94,  95,  69,  49,  48,  85, 247, 141,  23, 220, 143,\n",
       "           78, 100, 131, 201, 248,   6,  68,  84, 121, 234, 189, 212, 207,\n",
       "          191,  91, 213,  11, 119, 102,  35,  57, 169,  65,   1, 120, 199,\n",
       "           42, 105, 132, 236,  17,  38, 133,  53, 164, 214, 128,  34,  28,\n",
       "          183, 114, 163, 151,  31, 205, 127, 185, 221, 232,  32, 167, 142,\n",
       "          209, 147,  29, 177,  99,  82, 246, 175,  79, 197, 208, 115, 148,\n",
       "          242,  72,  77,  25, 165,  81, 235, 174, 238,  39, 230, 193,  58,\n",
       "          140,  88, 216]),\n",
       "   array([ 70,  87,  36,  21, 211,   9, 103, 195,  67, 192, 117,  47, 172])))]"
      ]
     },
     "execution_count": 8,
     "metadata": {},
     "output_type": "execute_result"
    }
   ],
   "source": [
    "deeplabcut.create_training_dataset(config_path, net_type='resnet_50', augmenter_type='imgaug')"
   ]
  },
  {
   "cell_type": "code",
   "execution_count": null,
   "metadata": {},
   "outputs": [],
   "source": [
    "deeplabcut.train_network(config_path, shuffle=1, displayiters=1000, saveiters=1000)"
   ]
  },
  {
   "cell_type": "code",
   "execution_count": 17,
   "metadata": {},
   "outputs": [
    {
     "name": "stdout",
     "output_type": "stream",
     "text": [
      "Config file read successfully.\n",
      "Do you want to extract (perhaps additional) frames for video: D:\\obstacle_avoidance\\deeplabcut\\obstacle_avoidance_022823-Mike-2023-02-28\\videos\\021723_J620RT_control_Rig2_oa_top1.avi ?\n"
     ]
    }
   ],
   "source": [
    "deeplabcut.extract_frames(config_path, mode='automatic', algo='kmeans', userfeedback=True, crop=True)\n",
    "\n"
   ]
  },
  {
   "cell_type": "code",
   "execution_count": 4,
   "metadata": {},
   "outputs": [
    {
     "name": "stdout",
     "output_type": "stream",
     "text": [
      "You can now check the labels, using 'check_labels' before proceeding. Then, you can use the function 'create_training_dataset' to create the training dataset.\n"
     ]
    }
   ],
   "source": [
    "deeplabcut.label_frames(config_path)"
   ]
  },
  {
   "cell_type": "code",
   "execution_count": 5,
   "metadata": {},
   "outputs": [
    {
     "name": "stdout",
     "output_type": "stream",
     "text": [
      "Creating images with labels by Mike.\n",
      "Attention: D:\\obstacle_avoidance\\deeplabcut\\obstacle_avoidance_022823-Mike-2023-02-28\\labeled-data\\021723_J620RT_control_Rig2_oa_top1 does not appear to have labeled data!\n"
     ]
    },
    {
     "name": "stderr",
     "output_type": "stream",
     "text": [
      "100%|██████████| 20/20 [00:02<00:00,  7.52it/s]\n",
      "100%|██████████| 20/20 [00:02<00:00,  6.77it/s]\n",
      "100%|██████████| 20/20 [00:03<00:00,  5.94it/s]\n"
     ]
    },
    {
     "name": "stdout",
     "output_type": "stream",
     "text": [
      "Attention: D:\\obstacle_avoidance\\deeplabcut\\obstacle_avoidance_022823-Mike-2023-02-28\\labeled-data\\022123_J620RT_control_Rig2_oa_dark_top1 does not appear to have labeled data!\n",
      "Attention: D:\\obstacle_avoidance\\deeplabcut\\obstacle_avoidance_022823-Mike-2023-02-28\\labeled-data\\022123_J620LT_control_Rig2_oa_dark_top1 does not appear to have labeled data!\n",
      "Attention: D:\\obstacle_avoidance\\deeplabcut\\obstacle_avoidance_022823-Mike-2023-02-28\\labeled-data\\022123_J619RT_control_Rig2_oa_dark_top1 does not appear to have labeled data!\n"
     ]
    },
    {
     "name": "stderr",
     "output_type": "stream",
     "text": [
      "100%|██████████| 20/20 [00:02<00:00,  7.65it/s]\n"
     ]
    },
    {
     "name": "stdout",
     "output_type": "stream",
     "text": [
      "Attention: D:\\obstacle_avoidance\\deeplabcut\\obstacle_avoidance_022823-Mike-2023-02-28\\labeled-data\\022223_J620RT_control_Rig2_oa_dark_top1 does not appear to have labeled data!\n"
     ]
    },
    {
     "name": "stderr",
     "output_type": "stream",
     "text": [
      "100%|██████████| 20/20 [00:02<00:00,  7.05it/s]\n",
      "100%|██████████| 20/20 [00:02<00:00,  7.56it/s]"
     ]
    },
    {
     "name": "stdout",
     "output_type": "stream",
     "text": [
      "Attention: D:\\obstacle_avoidance\\deeplabcut\\obstacle_avoidance_022823-Mike-2023-02-28\\labeled-data\\022223_J619LT_control_Rig2_oa_dark_top1 does not appear to have labeled data!\n",
      "If all the labels are ok, then use the function 'create_training_dataset' to create the training dataset!\n"
     ]
    },
    {
     "name": "stderr",
     "output_type": "stream",
     "text": [
      "\n"
     ]
    }
   ],
   "source": [
    "deeplabcut.check_labels(config_path, visualizeindividuals=True)"
   ]
  },
  {
   "cell_type": "code",
   "execution_count": 24,
   "metadata": {},
   "outputs": [
    {
     "name": "stdout",
     "output_type": "stream",
     "text": [
      "New videos were added to the project! Use the function 'extract_frames' to select frames for labeling.\n"
     ]
    }
   ],
   "source": [
    "deeplabcut.add_new_videos(config_path, new_videos, copy_videos=True)"
   ]
  },
  {
   "cell_type": "code",
   "execution_count": 26,
   "metadata": {},
   "outputs": [
    {
     "name": "stdout",
     "output_type": "stream",
     "text": [
      "Using snapshot-1952000 for model D:\\obstacle_avoidance\\deeplabcut\\obstacle_avoidance_100522-mike-2022-10-05\\dlc-models\\iteration-0\\object_avoidanceoct22-trainset95shuffle1\n"
     ]
    },
    {
     "name": "stderr",
     "output_type": "stream",
     "text": [
      "c:\\Users\\nlab\\anaconda3\\envs\\ephys3\\lib\\site-packages\\tensorflow\\python\\keras\\engine\\base_layer_v1.py:1694: UserWarning: `layer.apply` is deprecated and will be removed in a future version. Please use `layer.__call__` method instead.\n",
      "  warnings.warn('`layer.apply` is deprecated and '\n"
     ]
    },
    {
     "name": "stdout",
     "output_type": "stream",
     "text": [
      "Starting to analyze %  D:/obstacle_avoidance/recordings/021723/J620RT/oa/021723_J620RT_control_Rig2_oa_top1.avi\n",
      "Loading  D:/obstacle_avoidance/recordings/021723/J620RT/oa/021723_J620RT_control_Rig2_oa_top1.avi\n",
      "Duration of video [s]:  686.18 , recorded with  60.0 fps!\n",
      "Overall # of frames:  41171  found with (before cropping) frame dimensions:  720 540\n",
      "Starting to extract posture\n"
     ]
    },
    {
     "name": "stderr",
     "output_type": "stream",
     "text": [
      "100%|██████████| 41171/41171 [2:09:19<00:00,  5.31it/s]  \n"
     ]
    },
    {
     "name": "stdout",
     "output_type": "stream",
     "text": [
      "Saving results in D:\\obstacle_avoidance\\recordings\\021723\\J620RT\\oa...\n",
      "Saving csv poses!\n",
      "Starting to analyze %  D:/obstacle_avoidance/recordings/021723\\J620LT\\oa/021723_J620LT_control_Rig2_oa_top1.avi\n",
      "Loading  D:/obstacle_avoidance/recordings/021723\\J620LT\\oa/021723_J620LT_control_Rig2_oa_top1.avi\n",
      "Duration of video [s]:  461.95 , recorded with  60.0 fps!\n",
      "Overall # of frames:  27717  found with (before cropping) frame dimensions:  720 540\n",
      "Starting to extract posture\n"
     ]
    },
    {
     "name": "stderr",
     "output_type": "stream",
     "text": [
      "100%|██████████| 27717/27717 [1:22:53<00:00,  5.57it/s]\n"
     ]
    },
    {
     "name": "stdout",
     "output_type": "stream",
     "text": [
      "Saving results in D:\\obstacle_avoidance\\recordings\\021723\\J620LT\\oa...\n",
      "Saving csv poses!\n",
      "Starting to analyze %  D:/obstacle_avoidance/recordings/021723\\J619RT\\oa/021723_J619RT_control_Rig2_oa_top1.avi\n",
      "Loading  D:/obstacle_avoidance/recordings/021723\\J619RT\\oa/021723_J619RT_control_Rig2_oa_top1.avi\n",
      "Duration of video [s]:  527.0 , recorded with  60.0 fps!\n",
      "Overall # of frames:  31620  found with (before cropping) frame dimensions:  720 540\n",
      "Starting to extract posture\n"
     ]
    },
    {
     "name": "stderr",
     "output_type": "stream",
     "text": [
      "100%|██████████| 31620/31620 [1:34:54<00:00,  5.55it/s]\n"
     ]
    },
    {
     "name": "stdout",
     "output_type": "stream",
     "text": [
      "Saving results in D:\\obstacle_avoidance\\recordings\\021723\\J619RT\\oa...\n",
      "Saving csv poses!\n",
      "Starting to analyze %  D:/obstacle_avoidance/recordings/021723\\J619LT\\oa/021723_J619LT_control_Rig2_oa_top1.avi\n",
      "Loading  D:/obstacle_avoidance/recordings/021723\\J619LT\\oa/021723_J619LT_control_Rig2_oa_top1.avi\n",
      "Duration of video [s]:  880.52 , recorded with  60.0 fps!\n",
      "Overall # of frames:  52831  found with (before cropping) frame dimensions:  720 540\n",
      "Starting to extract posture\n"
     ]
    },
    {
     "name": "stderr",
     "output_type": "stream",
     "text": [
      "100%|██████████| 52831/52831 [2:38:45<00:00,  5.55it/s]  \n"
     ]
    },
    {
     "name": "stdout",
     "output_type": "stream",
     "text": [
      "Saving results in D:\\obstacle_avoidance\\recordings\\021723\\J619LT\\oa...\n",
      "Saving csv poses!\n",
      "Starting to analyze %  D:/obstacle_avoidance/recordings/022123\\J620RT\\oa_dark/022123_J620RT_control_Rig2_oa_dark_top1.avi\n",
      "Loading  D:/obstacle_avoidance/recordings/022123\\J620RT\\oa_dark/022123_J620RT_control_Rig2_oa_dark_top1.avi\n",
      "Duration of video [s]:  790.68 , recorded with  60.0 fps!\n",
      "Overall # of frames:  47441  found with (before cropping) frame dimensions:  720 540\n",
      "Starting to extract posture\n"
     ]
    },
    {
     "name": "stderr",
     "output_type": "stream",
     "text": [
      "100%|██████████| 47441/47441 [2:20:44<00:00,  5.62it/s]  \n"
     ]
    },
    {
     "name": "stdout",
     "output_type": "stream",
     "text": [
      "Saving results in D:\\obstacle_avoidance\\recordings\\022123\\J620RT\\oa_dark...\n",
      "Saving csv poses!\n",
      "Starting to analyze %  D:/obstacle_avoidance/recordings/022123\\J620LT\\oa_dark/022123_J620LT_control_Rig2_oa_dark_top1.avi\n",
      "Loading  D:/obstacle_avoidance/recordings/022123\\J620LT\\oa_dark/022123_J620LT_control_Rig2_oa_dark_top1.avi\n",
      "Duration of video [s]:  906.63 , recorded with  60.0 fps!\n",
      "Overall # of frames:  54398  found with (before cropping) frame dimensions:  720 540\n",
      "Starting to extract posture\n"
     ]
    },
    {
     "name": "stderr",
     "output_type": "stream",
     "text": [
      "100%|██████████| 54398/54398 [2:41:29<00:00,  5.61it/s]  \n"
     ]
    },
    {
     "name": "stdout",
     "output_type": "stream",
     "text": [
      "Saving results in D:\\obstacle_avoidance\\recordings\\022123\\J620LT\\oa_dark...\n",
      "Saving csv poses!\n",
      "Starting to analyze %  D:/obstacle_avoidance/recordings/022123\\J619RT\\oa_dark/022123_J619RT_control_Rig2_oa_dark_top1.avi\n",
      "Loading  D:/obstacle_avoidance/recordings/022123\\J619RT\\oa_dark/022123_J619RT_control_Rig2_oa_dark_top1.avi\n",
      "Duration of video [s]:  945.55 , recorded with  60.0 fps!\n",
      "Overall # of frames:  56733  found with (before cropping) frame dimensions:  720 540\n",
      "Starting to extract posture\n"
     ]
    },
    {
     "name": "stderr",
     "output_type": "stream",
     "text": [
      "100%|██████████| 56733/56733 [2:49:20<00:00,  5.58it/s]  \n"
     ]
    },
    {
     "name": "stdout",
     "output_type": "stream",
     "text": [
      "Saving results in D:\\obstacle_avoidance\\recordings\\022123\\J619RT\\oa_dark...\n",
      "Saving csv poses!\n",
      "Starting to analyze %  D:/obstacle_avoidance/recordings/022123\\J619LT\\oa_dark/022123_J619LT_control_Rig2_oa_dark_top1.avi\n",
      "Loading  D:/obstacle_avoidance/recordings/022123\\J619LT\\oa_dark/022123_J619LT_control_Rig2_oa_dark_top1.avi\n",
      "Duration of video [s]:  737.72 , recorded with  60.0 fps!\n",
      "Overall # of frames:  44263  found with (before cropping) frame dimensions:  720 540\n",
      "Starting to extract posture\n"
     ]
    },
    {
     "name": "stderr",
     "output_type": "stream",
     "text": [
      "100%|██████████| 44263/44263 [2:10:58<00:00,  5.63it/s]  \n"
     ]
    },
    {
     "name": "stdout",
     "output_type": "stream",
     "text": [
      "Saving results in D:\\obstacle_avoidance\\recordings\\022123\\J619LT\\oa_dark...\n",
      "Saving csv poses!\n",
      "The videos are analyzed. Now your research can truly start! \n",
      " You can create labeled videos with 'create_labeled_video'\n",
      "If the tracking is not satisfactory for some videos, consider expanding the training set. You can use the function 'extract_outlier_frames' to extract a few representative outlier frames.\n"
     ]
    }
   ],
   "source": [
    "deeplabcut.analyze_videos(config_path, new_videos, shuffle=1, save_as_csv=True, videotype='.avi')\n",
    "deeplabcut.create_labeled_video(config_path, new_videos, videotype = '.avi', save_frames=False)"
   ]
  },
  {
   "cell_type": "code",
   "execution_count": 4,
   "metadata": {},
   "outputs": [],
   "source": [
    "deeplabcut.create_labeled_video(config_path, new_videos, videotype = '.avi', save_frames=False)"
   ]
  },
  {
   "cell_type": "code",
   "execution_count": 19,
   "metadata": {},
   "outputs": [
    {
     "name": "stdout",
     "output_type": "stream",
     "text": [
      "Invalid MODE. Choose either 'manual', 'automatic' or 'match'. Check ``help(deeplabcut.extract_frames)`` on python and ``deeplabcut.extract_frames?``               for ipython/jupyter notebook for more details.\n"
     ]
    }
   ],
   "source": [
    "deeplabcut.extract_frames(config_path, new_videos)"
   ]
  },
  {
   "cell_type": "code",
   "execution_count": 21,
   "metadata": {},
   "outputs": [
    {
     "name": "stdout",
     "output_type": "stream",
     "text": [
      "Help on function extract_frames in module deeplabcut.generate_training_dataset.frame_extraction:\n",
      "\n",
      "extract_frames(config, mode='automatic', algo='kmeans', crop=False, userfeedback=True, cluster_step=1, cluster_resizewidth=30, cluster_color=False, opencv=True, slider_width=25, config3d=None, extracted_cam=0, videos_list=None)\n",
      "    Extracts frames from the project videos.\n",
      "    \n",
      "    Frames will be extracted from videos listed in the config.yaml file.\n",
      "    \n",
      "    The frames are selected from the videos in a randomly and temporally uniformly\n",
      "    distributed way (``uniform``), by clustering based on visual appearance\n",
      "    (``k-means``), or by manual selection.\n",
      "    \n",
      "    After frames have been extracted from all videos from one camera, matched frames\n",
      "    from other cameras can be extracted using ``mode = \"match\"``. This is necessary if\n",
      "    you plan to use epipolar lines to improve labeling across multiple camera angles.\n",
      "    It will overwrite previously extracted images from the second camera angle if\n",
      "    necessary.\n",
      "    \n",
      "    Please refer to the user guide for more details on methods and parameters\n",
      "    https://www.nature.com/articles/s41596-019-0176-0 or the preprint:\n",
      "    https://www.biorxiv.org/content/biorxiv/early/2018/11/24/476531.full.pdf\n",
      "    \n",
      "    Parameters\n",
      "    ----------\n",
      "    config : string\n",
      "        Full path of the config.yaml file as a string.\n",
      "    \n",
      "    mode : string. Either ``\"automatic\"``, ``\"manual\"`` or ``\"match\"``.\n",
      "        String containing the mode of extraction. It must be either ``\"automatic\"`` or\n",
      "        ``\"manual\"`` to extract the initial set of frames. It can also be ``\"match\"``\n",
      "        to match frames between the cameras in preparation for the use of epipolar line\n",
      "        during labeling; namely, extract from camera_1 first, then run this to extract\n",
      "        the matched frames in camera_2.\n",
      "    \n",
      "        WARNING: if you use ``\"match\"``, and you previously extracted and labeled\n",
      "        frames from the second camera, this will overwrite your data. This will require\n",
      "        you to delete the ``collectdata(.h5/.csv)`` files before labeling. Use with\n",
      "        caution!\n",
      "    \n",
      "    algo : string, Either ``\"kmeans\"`` or ``\"uniform\"``, Default: `\"kmeans\"`.\n",
      "        String specifying the algorithm to use for selecting the frames. Currently,\n",
      "        deeplabcut supports either ``kmeans`` or ``uniform`` based selection. This flag\n",
      "        is only required for ``automatic`` mode and the default is ``kmeans``. For\n",
      "        ``\"uniform\"``, frames are picked in temporally uniform way, ``\"kmeans\"``\n",
      "        performs clustering on downsampled frames (see user guide for details).\n",
      "    \n",
      "        NOTE: Color information is discarded for ``\"kmeans\"``, thus e.g. for\n",
      "        camouflaged octopus clustering one might want to change this.\n",
      "    \n",
      "    crop : bool or str, optional\n",
      "        If ``True``, video frames are cropped according to the corresponding\n",
      "        coordinates stored in the project configuration file. Alternatively, if\n",
      "        cropping coordinates are not known yet, crop=``\"GUI\"`` triggers a user\n",
      "        interface where the cropping area can be manually drawn and saved.\n",
      "    \n",
      "    userfeedback: bool, optional\n",
      "        If this is set to ``False`` during ``\"automatic\"`` mode then frames for all\n",
      "        videos are extracted. The user can set this to ``\"True\"``, which will result in\n",
      "        a dialog, where the user is asked for each video if (additional/any) frames\n",
      "        from this video should be extracted. Use this, e.g. if you have already labeled\n",
      "        some folders and want to extract data for new videos.\n",
      "    \n",
      "    cluster_resizewidth: int, default: 30\n",
      "        For ``\"k-means\"`` one can change the width to which the images are downsampled\n",
      "        (aspect ratio is fixed).\n",
      "    \n",
      "    cluster_step: int, default: 1\n",
      "        By default each frame is used for clustering, but for long videos one could\n",
      "        only use every nth frame (set using this parameter). This saves memory before\n",
      "        clustering can start, however, reading the individual frames takes longer due\n",
      "        to the skipping.\n",
      "    \n",
      "    cluster_color: bool, default: False\n",
      "        If ``\"False\"`` then each downsampled image is treated as a grayscale vector\n",
      "        (discarding color information). If ``\"True\"``, then the color channels are\n",
      "        considered. This increases the computational complexity.\n",
      "    \n",
      "    opencv: bool, default: True\n",
      "        Uses openCV for loading & extractiong (otherwise moviepy (legacy)).\n",
      "    \n",
      "    slider_width: int, default: 25\n",
      "        Width of the video frames slider, in percent of window.\n",
      "    \n",
      "    config3d: string, optional\n",
      "        Path to the project configuration file in the 3D project. This will be used to\n",
      "        match frames extracted from all cameras present in the field 'camera_names' to\n",
      "        the frames extracted from the camera given by the parameter 'extracted_cam'.\n",
      "    \n",
      "    extracted_cam: int, default: 0\n",
      "        The index of the camera that already has extracted frames. This will match\n",
      "        frame numbers to extract for all other cameras. This parameter is necessary if\n",
      "        you wish to use epipolar lines in the labeling toolbox. Only use if\n",
      "        ``mode='match'`` and ``config3d`` is provided.\n",
      "    \n",
      "    videos_list: list[str], Default: None\n",
      "        A list of the string containing full paths to videos to extract frames for. If\n",
      "        this is left as ``None`` all videos specified in the config file will have\n",
      "        frames extracted. Otherwise one can select a subset by passing those paths.\n",
      "    \n",
      "    Returns\n",
      "    -------\n",
      "    None\n",
      "    \n",
      "    Notes\n",
      "    -----\n",
      "    Use the function ``add_new_videos`` at any stage of the project to add new videos\n",
      "    to the config file and extract their frames.\n",
      "    \n",
      "    The following parameters for automatic extraction are used from the config file\n",
      "    \n",
      "    * ``numframes2pick``\n",
      "    * ``start`` and ``stop``\n",
      "    \n",
      "    While selecting the frames manually, you do not need to specify the ``crop``\n",
      "    parameter in the command. Rather, you will get a prompt in the graphic user\n",
      "    interface to choose if you need to crop or not.\n",
      "    \n",
      "    Examples\n",
      "    --------\n",
      "    To extract frames automatically with 'kmeans' and then crop the frames\n",
      "    \n",
      "    >>> deeplabcut.extract_frames(\n",
      "            config='/analysis/project/reaching-task/config.yaml',\n",
      "            mode='automatic',\n",
      "            algo='kmeans',\n",
      "            crop=True,\n",
      "        )\n",
      "    \n",
      "    To extract frames automatically with 'kmeans' and then defining the cropping area\n",
      "    using a GUI\n",
      "    \n",
      "    >>> deeplabcut.extract_frames(\n",
      "            '/analysis/project/reaching-task/config.yaml',\n",
      "            'automatic',\n",
      "            'kmeans',\n",
      "            'GUI',\n",
      "        )\n",
      "    \n",
      "    To consider the color information when extracting frames automatically with\n",
      "    'kmeans'\n",
      "    \n",
      "    >>> deeplabcut.extract_frames(\n",
      "            '/analysis/project/reaching-task/config.yaml',\n",
      "            'automatic',\n",
      "            'kmeans',\n",
      "            cluster_color=True,\n",
      "        )\n",
      "    \n",
      "    To extract frames automatically with 'uniform' and then crop the frames\n",
      "    \n",
      "    >>> deeplabcut.extract_frames(\n",
      "            '/analysis/project/reaching-task/config.yaml',\n",
      "            'automatic',\n",
      "            'uniform',\n",
      "            crop=True,\n",
      "        )\n",
      "    \n",
      "    To extract frames manually\n",
      "    \n",
      "    >>> deeplabcut.extract_frames(\n",
      "            '/analysis/project/reaching-task/config.yaml', 'manual'\n",
      "        )\n",
      "    \n",
      "    To extract frames manually, with a 60% wide frames slider\n",
      "    \n",
      "    >>> deeplabcut.extract_frames(\n",
      "            '/analysis/project/reaching-task/config.yaml', 'manual', slider_width=60,\n",
      "        )\n",
      "    \n",
      "    To extract frames from a second camera that match the frames extracted from the\n",
      "    first\n",
      "    \n",
      "    >>> deeplabcut.extract_frames(\n",
      "            '/analysis/project/reaching-task/config.yaml',\n",
      "            mode='match',\n",
      "            extracted_cam=0,\n",
      "        )\n",
      "\n"
     ]
    }
   ],
   "source": [
    "help(deeplabcut.extract_frames)"
   ]
  },
  {
   "cell_type": "code",
   "execution_count": null,
   "metadata": {},
   "outputs": [],
   "source": []
  }
 ],
 "metadata": {
  "kernelspec": {
   "display_name": "ephys0",
   "language": "python",
   "name": "python3"
  },
  "language_info": {
   "codemirror_mode": {
    "name": "ipython",
    "version": 3
   },
   "file_extension": ".py",
   "mimetype": "text/x-python",
   "name": "python",
   "nbconvert_exporter": "python",
   "pygments_lexer": "ipython3",
   "version": "3.8.15"
  },
  "orig_nbformat": 4,
  "vscode": {
   "interpreter": {
    "hash": "8d5aad94d69af8d54a80740ac3e999eae8a40d3534c4b9b883255615339559dc"
   }
  }
 },
 "nbformat": 4,
 "nbformat_minor": 2
}
