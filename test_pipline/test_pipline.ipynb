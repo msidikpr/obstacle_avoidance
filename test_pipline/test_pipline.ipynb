{
 "cells": [
  {
   "cell_type": "code",
   "execution_count": 13,
   "metadata": {},
   "outputs": [
    {
     "name": "stdout",
     "output_type": "stream",
     "text": [
      "The autoreload extension is already loaded. To reload it, use:\n",
      "  %reload_ext autoreload\n"
     ]
    }
   ],
   "source": [
    "%load_ext autoreload \n",
    "%autoreload 2\n",
    "import sys\n",
    "sys.path.insert(0, 'C:/Users/nlab/Documents/GitHub/obstacle_avoidance')\n",
    "import warnings\n",
    "warnings.filterwarnings('ignore')\n",
    "\n",
    "\n",
    "from pipeline.obstacle_avoidance_processing import AvoidanceProcessing\n",
    "\n",
    "\n",
    "import cv2\n",
    "import json, os, cv2\n",
    "from pathlib import Path\n",
    "import pandas as pd \n",
    "import matplotlib.pyplot as plt \n",
    "import numpy as np\n",
    "import xarray as xr\n",
    "import seaborn as sns\n",
    "import h5py as hf\n",
    "from tqdm import tqdm\n",
    "from tqdm import tqdm\n",
    "import itertools \n",
    "from scipy.interpolate import interp1d\n",
    "from scipy import signal\n",
    "from matplotlib.backends.backend_pdf import PdfPages\n",
    "from sklearn.cluster import KMeans\n",
    "import matplotlib.colors as mcolors\n",
    "import os, fnmatch\n",
    "from utils.base_functions import *"
   ]
  },
  {
   "cell_type": "code",
   "execution_count": 21,
   "metadata": {},
   "outputs": [
    {
     "name": "stderr",
     "output_type": "stream",
     "text": [
      "0it [00:00, ?it/s]"
     ]
    },
    {
     "name": "stdout",
     "output_type": "stream",
     "text": [
      "J20RT D:/obstacle_avoidance/recordings 101222\n",
      "['D:/obstacle_avoidance/recordings\\\\101222\\\\J20RT\\\\oa\\\\101222_J20RT_control_Rig2_oa_top1DLC_resnet50_object_avoidanceoct22shuffle1_1952000.h5']\n",
      "D:/obstacle_avoidance/recordings\\101222\\J20RT\\oa\n",
      "D:/obstacle_avoidance/recordings/101222/J20RT/oa\n",
      "101222_J20RT_control_Rig2_oa D:/obstacle_avoidance/recordings/101222/J20RT/oa\n",
      "hey\n",
      "45\n",
      "df made\n",
      "pxl\n",
      "arena_median\n",
      "smoothing\n",
      "saving101222_J20RT_control_Rig2_oaraw\n",
      "saving101222_J20RT_control_Rig2_oa processed\n"
     ]
    },
    {
     "name": "stderr",
     "output_type": "stream",
     "text": [
      "1it [00:06,  6.36s/it]"
     ]
    },
    {
     "name": "stdout",
     "output_type": "stream",
     "text": [
      "J20RT D:/obstacle_avoidance/recordings 101322\n",
      "['D:/obstacle_avoidance/recordings\\\\101322\\\\J20RT\\\\oa\\\\101322_J20RT_control_Rig2_oa_top1DLC_resnet50_object_avoidanceoct22shuffle1_1952000.h5']\n",
      "D:/obstacle_avoidance/recordings\\101322\\J20RT\\oa\n",
      "D:/obstacle_avoidance/recordings/101322/J20RT/oa\n",
      "101322_J20RT_control_Rig2_oa D:/obstacle_avoidance/recordings/101322/J20RT/oa\n",
      "hey\n",
      "48\n"
     ]
    },
    {
     "name": "stderr",
     "output_type": "stream",
     "text": [
      "2it [00:10,  5.20s/it]"
     ]
    },
    {
     "name": "stdout",
     "output_type": "stream",
     "text": [
      "df made\n",
      "pxl\n",
      "J20RT D:/obstacle_avoidance/recordings 101422\n",
      "['D:/obstacle_avoidance/recordings\\\\101422\\\\J20RT\\\\oa\\\\101422_J20RT_control_Rig2_oa_top1DLC_resnet50_object_avoidanceoct22shuffle1_1952000.h5']\n",
      "D:/obstacle_avoidance/recordings\\101422\\J20RT\\oa\n",
      "D:/obstacle_avoidance/recordings/101422/J20RT/oa\n",
      "101422_J20RT_control_Rig2_oa D:/obstacle_avoidance/recordings/101422/J20RT/oa\n",
      "hey\n",
      "44\n",
      "df made\n",
      "pxl\n",
      "arena_median\n",
      "smoothing\n",
      "saving101422_J20RT_control_Rig2_oaraw\n",
      "saving101422_J20RT_control_Rig2_oa processed\n"
     ]
    },
    {
     "name": "stderr",
     "output_type": "stream",
     "text": [
      "3it [00:16,  5.53s/it]\n"
     ]
    }
   ],
   "source": [
    "\n",
    "# metadata json path\n",
    "metadata_path = r'D:\\obstacle_avoidance\\metadata\\J20RT.json'\n",
    "\n",
    "#C:\\Users\\nlab\\Desktop\\mike_bonsai\\recordings\\metadata\n",
    "# task name\n",
    "# 'oa' for object avoidance\n",
    "# 'gd' for gap detection\n",
    "task_name = 'oa'\n",
    "\n",
    "session = AvoidanceProcessing(metadata_path, task=task_name) \n",
    "session.change_dlc_project(r'D:\\obstacle_avoidance\\deeplabcut\\obstacle_avoidance_100522-mike-2022-10-05\\config.yaml')\n",
    "#session.dlc_project\n",
    "#session.preprocess()\n",
    "session.process()"
   ]
  },
  {
   "cell_type": "code",
   "execution_count": null,
   "metadata": {},
   "outputs": [],
   "source": [
    "obstacle_cols = list_columns(df,['obstacle'])"
   ]
  },
  {
   "cell_type": "code",
   "execution_count": 40,
   "metadata": {},
   "outputs": [],
   "source": [
    "df = pd.read_hdf(r\"D:\\obstacle_avoidance\\recordings\\021323\\J620RT\\oa\\testJ620RT_021323_oa.h5\")\n",
    "\n"
   ]
  },
  {
   "cell_type": "code",
   "execution_count": 41,
   "metadata": {},
   "outputs": [
    {
     "data": {
      "text/html": [
       "<div>\n",
       "<style scoped>\n",
       "    .dataframe tbody tr th:only-of-type {\n",
       "        vertical-align: middle;\n",
       "    }\n",
       "\n",
       "    .dataframe tbody tr th {\n",
       "        vertical-align: top;\n",
       "    }\n",
       "\n",
       "    .dataframe thead th {\n",
       "        text-align: right;\n",
       "    }\n",
       "</style>\n",
       "<table border=\"1\" class=\"dataframe\">\n",
       "  <thead>\n",
       "    <tr style=\"text-align: right;\">\n",
       "      <th></th>\n",
       "      <th>first_poke</th>\n",
       "      <th>second_poke</th>\n",
       "      <th>trial_timestamps</th>\n",
       "      <th>trial_vidframes</th>\n",
       "      <th>nose_x</th>\n",
       "      <th>nose_y</th>\n",
       "      <th>nose_likelihood</th>\n",
       "      <th>leftear_x</th>\n",
       "      <th>leftear_y</th>\n",
       "      <th>leftear_likelihood</th>\n",
       "      <th>...</th>\n",
       "      <th>arenaBR_x_cm</th>\n",
       "      <th>arenaBR_y_cm</th>\n",
       "      <th>leftportT_x_cm</th>\n",
       "      <th>leftportT_y_cm</th>\n",
       "      <th>leftportB_x_cm</th>\n",
       "      <th>leftportB_y_cm</th>\n",
       "      <th>rightportT_x_cm</th>\n",
       "      <th>rightportT_y_cm</th>\n",
       "      <th>rightportB_x_cm</th>\n",
       "      <th>rightportB_y_cm</th>\n",
       "    </tr>\n",
       "  </thead>\n",
       "  <tbody>\n",
       "    <tr>\n",
       "      <th>0</th>\n",
       "      <td>43815.265676</td>\n",
       "      <td>43820.922649</td>\n",
       "      <td>[43815.275712, 43815.293004, 43815.309094, 438...</td>\n",
       "      <td>[431, 432, 433, 434, 435, 436, 437, 438, 439, ...</td>\n",
       "      <td>[125.84012603759766, 126.52948760986328, 125.9...</td>\n",
       "      <td>[255.7787322998047, 256.0339660644531, 257.650...</td>\n",
       "      <td>[0.9990803599357605, 0.9984484910964966, 0.996...</td>\n",
       "      <td>[134.827392578125, 135.03904724121094, 135.505...</td>\n",
       "      <td>[262.318359375, 262.55743408203125, 262.937805...</td>\n",
       "      <td>[0.999997615814209, 0.9999962449073792, 0.9999...</td>\n",
       "      <td>...</td>\n",
       "      <td>[nan, nan, nan, nan, nan, nan, nan, nan, nan, ...</td>\n",
       "      <td>[nan, nan, nan, nan, nan, nan, nan, nan, nan, ...</td>\n",
       "      <td>[nan, nan, nan, nan, nan, nan, nan, nan, nan, ...</td>\n",
       "      <td>[nan, nan, nan, nan, nan, nan, nan, nan, nan, ...</td>\n",
       "      <td>[nan, nan, nan, nan, nan, nan, nan, nan, nan, ...</td>\n",
       "      <td>[nan, nan, nan, nan, nan, nan, nan, nan, nan, ...</td>\n",
       "      <td>[nan, nan, nan, nan, nan, nan, nan, nan, nan, ...</td>\n",
       "      <td>[nan, nan, nan, nan, nan, nan, nan, nan, nan, ...</td>\n",
       "      <td>[nan, nan, nan, nan, nan, nan, nan, nan, nan, ...</td>\n",
       "      <td>[nan, nan, nan, nan, nan, nan, nan, nan, nan, ...</td>\n",
       "    </tr>\n",
       "    <tr>\n",
       "      <th>1</th>\n",
       "      <td>43820.922649</td>\n",
       "      <td>43828.586880</td>\n",
       "      <td>[43820.927308, 43820.944179, 43820.961203, 438...</td>\n",
       "      <td>[[770, 771, 772, 773, 774, 775, 776, 777, 778,...</td>\n",
       "      <td>[677.821533203125, 678.4846801757812, 679.0843...</td>\n",
       "      <td>[266.3372497558594, 264.737060546875, 264.2125...</td>\n",
       "      <td>[0.9997549057006836, 0.9997327923774719, 0.999...</td>\n",
       "      <td>[668.4144897460938, 668.4213256835938, 668.515...</td>\n",
       "      <td>[255.34991455078125, 253.63162231445312, 253.4...</td>\n",
       "      <td>[0.999925434589386, 0.9998897314071655, 0.9999...</td>\n",
       "      <td>...</td>\n",
       "      <td>[nan, nan, nan, nan, nan, nan, nan, nan, nan, ...</td>\n",
       "      <td>[nan, nan, nan, nan, nan, nan, nan, nan, nan, ...</td>\n",
       "      <td>[nan, nan, nan, nan, nan, nan, nan, nan, nan, ...</td>\n",
       "      <td>[nan, nan, nan, nan, nan, nan, nan, nan, nan, ...</td>\n",
       "      <td>[nan, nan, nan, nan, nan, nan, nan, nan, nan, ...</td>\n",
       "      <td>[nan, nan, nan, nan, nan, nan, nan, nan, nan, ...</td>\n",
       "      <td>[nan, nan, nan, nan, nan, nan, nan, nan, nan, ...</td>\n",
       "      <td>[nan, nan, nan, nan, nan, nan, nan, nan, nan, ...</td>\n",
       "      <td>[nan, nan, nan, nan, nan, nan, nan, nan, nan, ...</td>\n",
       "      <td>[nan, nan, nan, nan, nan, nan, nan, nan, nan, ...</td>\n",
       "    </tr>\n",
       "    <tr>\n",
       "      <th>2</th>\n",
       "      <td>43828.586880</td>\n",
       "      <td>43833.412492</td>\n",
       "      <td>[43828.597606, 43828.613632, 43828.630131, 438...</td>\n",
       "      <td>[1230, 1231, 1232, 1233, 1234, 1235, 1236, 123...</td>\n",
       "      <td>[127.39459991455078, 126.33880615234375, 126.2...</td>\n",
       "      <td>[262.03448486328125, 262.1922912597656, 262.39...</td>\n",
       "      <td>[0.9957872033119202, 0.9978909492492676, 0.997...</td>\n",
       "      <td>[137.7378692626953, 137.22540283203125, 137.00...</td>\n",
       "      <td>[261.5626220703125, 261.4017333984375, 262.037...</td>\n",
       "      <td>[0.9999963641166687, 0.9999978542327881, 0.999...</td>\n",
       "      <td>...</td>\n",
       "      <td>[nan, nan, nan, nan, nan, nan, nan, nan, nan, ...</td>\n",
       "      <td>[nan, nan, nan, nan, nan, nan, nan, nan, nan, ...</td>\n",
       "      <td>[nan, nan, nan, nan, nan, nan, nan, nan, nan, ...</td>\n",
       "      <td>[nan, nan, nan, nan, nan, nan, nan, nan, nan, ...</td>\n",
       "      <td>[nan, nan, nan, nan, nan, nan, nan, nan, nan, ...</td>\n",
       "      <td>[nan, nan, nan, nan, nan, nan, nan, nan, nan, ...</td>\n",
       "      <td>[nan, nan, nan, nan, nan, nan, nan, nan, nan, ...</td>\n",
       "      <td>[nan, nan, nan, nan, nan, nan, nan, nan, nan, ...</td>\n",
       "      <td>[nan, nan, nan, nan, nan, nan, nan, nan, nan, ...</td>\n",
       "      <td>[nan, nan, nan, nan, nan, nan, nan, nan, nan, ...</td>\n",
       "    </tr>\n",
       "    <tr>\n",
       "      <th>3</th>\n",
       "      <td>43833.412492</td>\n",
       "      <td>43838.020800</td>\n",
       "      <td>[43833.414976, 43833.431756, 43833.448665, 438...</td>\n",
       "      <td>[[1519, 1520, 1521, 1522, 1523, 1524, 1525, 15...</td>\n",
       "      <td>[677.5887451171875, 677.8224487304688, 677.818...</td>\n",
       "      <td>[261.81658935546875, 261.5379333496094, 261.16...</td>\n",
       "      <td>[0.9999254941940308, 0.99992436170578, 0.99989...</td>\n",
       "      <td>[669.8580322265625, 670.2114868164062, 670.427...</td>\n",
       "      <td>[250.94952392578125, 250.61073303222656, 250.0...</td>\n",
       "      <td>[0.9999082684516907, 0.9998905062675476, 0.999...</td>\n",
       "      <td>...</td>\n",
       "      <td>[nan, nan, nan, nan, nan, nan, nan, nan, nan, ...</td>\n",
       "      <td>[nan, nan, nan, nan, nan, nan, nan, nan, nan, ...</td>\n",
       "      <td>[nan, nan, nan, nan, nan, nan, nan, nan, nan, ...</td>\n",
       "      <td>[nan, nan, nan, nan, nan, nan, nan, nan, nan, ...</td>\n",
       "      <td>[nan, nan, nan, nan, nan, nan, nan, nan, nan, ...</td>\n",
       "      <td>[nan, nan, nan, nan, nan, nan, nan, nan, nan, ...</td>\n",
       "      <td>[nan, nan, nan, nan, nan, nan, nan, nan, nan, ...</td>\n",
       "      <td>[nan, nan, nan, nan, nan, nan, nan, nan, nan, ...</td>\n",
       "      <td>[nan, nan, nan, nan, nan, nan, nan, nan, nan, ...</td>\n",
       "      <td>[nan, nan, nan, nan, nan, nan, nan, nan, nan, ...</td>\n",
       "    </tr>\n",
       "    <tr>\n",
       "      <th>4</th>\n",
       "      <td>43838.020800</td>\n",
       "      <td>43843.100531</td>\n",
       "      <td>[43838.0336, 43838.050406, 43838.067046, 43838...</td>\n",
       "      <td>[1796, 1797, 1798, 1799, 1800, 1801, 1802, 180...</td>\n",
       "      <td>[126.0206298828125, 125.29630279541016, 125.36...</td>\n",
       "      <td>[255.50685119628906, 255.40687561035156, 255.9...</td>\n",
       "      <td>[0.9990099668502808, 0.9988957643508911, 0.997...</td>\n",
       "      <td>[134.6469268798828, 134.7500457763672, 134.556...</td>\n",
       "      <td>[263.6062316894531, 263.70867919921875, 264.29...</td>\n",
       "      <td>[0.9999934434890747, 0.9999948740005493, 0.999...</td>\n",
       "      <td>...</td>\n",
       "      <td>[nan, nan, nan, nan, nan, nan, nan, nan, nan, ...</td>\n",
       "      <td>[nan, nan, nan, nan, nan, nan, nan, nan, nan, ...</td>\n",
       "      <td>[nan, nan, nan, nan, nan, nan, nan, nan, nan, ...</td>\n",
       "      <td>[nan, nan, nan, nan, nan, nan, nan, nan, nan, ...</td>\n",
       "      <td>[nan, nan, nan, nan, nan, nan, nan, nan, nan, ...</td>\n",
       "      <td>[nan, nan, nan, nan, nan, nan, nan, nan, nan, ...</td>\n",
       "      <td>[nan, nan, nan, nan, nan, nan, nan, nan, nan, ...</td>\n",
       "      <td>[nan, nan, nan, nan, nan, nan, nan, nan, nan, ...</td>\n",
       "      <td>[nan, nan, nan, nan, nan, nan, nan, nan, nan, ...</td>\n",
       "      <td>[nan, nan, nan, nan, nan, nan, nan, nan, nan, ...</td>\n",
       "    </tr>\n",
       "    <tr>\n",
       "      <th>...</th>\n",
       "      <td>...</td>\n",
       "      <td>...</td>\n",
       "      <td>...</td>\n",
       "      <td>...</td>\n",
       "      <td>...</td>\n",
       "      <td>...</td>\n",
       "      <td>...</td>\n",
       "      <td>...</td>\n",
       "      <td>...</td>\n",
       "      <td>...</td>\n",
       "      <td>...</td>\n",
       "      <td>...</td>\n",
       "      <td>...</td>\n",
       "      <td>...</td>\n",
       "      <td>...</td>\n",
       "      <td>...</td>\n",
       "      <td>...</td>\n",
       "      <td>...</td>\n",
       "      <td>...</td>\n",
       "      <td>...</td>\n",
       "      <td>...</td>\n",
       "    </tr>\n",
       "    <tr>\n",
       "      <th>120</th>\n",
       "      <td>44731.740710</td>\n",
       "      <td>44743.824960</td>\n",
       "      <td>[44731.743244, 44731.7595, 44731.776128, 44731...</td>\n",
       "      <td>[55400, 55401, 55402, 55403, 55404, 55405, 554...</td>\n",
       "      <td>[125.55867004394531, 125.1944808959961, 125.39...</td>\n",
       "      <td>[265.19146728515625, 265.6908264160156, 265.67...</td>\n",
       "      <td>[0.9976847171783447, 0.9965882897377014, 0.998...</td>\n",
       "      <td>[138.5618133544922, 138.5074005126953, 138.541...</td>\n",
       "      <td>[261.26025390625, 261.23651123046875, 261.5025...</td>\n",
       "      <td>[0.9999974370002747, 0.9999949932098389, 0.999...</td>\n",
       "      <td>...</td>\n",
       "      <td>[nan, nan, nan, nan, nan, nan, nan, nan, nan, ...</td>\n",
       "      <td>[nan, nan, nan, nan, nan, nan, nan, nan, nan, ...</td>\n",
       "      <td>[nan, nan, nan, nan, nan, nan, nan, nan, nan, ...</td>\n",
       "      <td>[nan, nan, nan, nan, nan, nan, nan, nan, nan, ...</td>\n",
       "      <td>[nan, nan, nan, nan, nan, nan, nan, nan, nan, ...</td>\n",
       "      <td>[nan, nan, nan, nan, nan, nan, nan, nan, nan, ...</td>\n",
       "      <td>[nan, nan, nan, nan, nan, nan, nan, nan, nan, ...</td>\n",
       "      <td>[nan, nan, nan, nan, nan, nan, nan, nan, nan, ...</td>\n",
       "      <td>[nan, nan, nan, nan, nan, nan, nan, nan, nan, ...</td>\n",
       "      <td>[nan, nan, nan, nan, nan, nan, nan, nan, nan, ...</td>\n",
       "    </tr>\n",
       "    <tr>\n",
       "      <th>121</th>\n",
       "      <td>44743.824960</td>\n",
       "      <td>44747.720422</td>\n",
       "      <td>[44743.830246, 44743.846758, 44743.863398, 447...</td>\n",
       "      <td>[[56125, 56126, 56127, 56128, 56129, 56130, 56...</td>\n",
       "      <td>[676.1242065429688, 676.1784057617188, 675.870...</td>\n",
       "      <td>[264.8731994628906, 265.96588134765625, 266.26...</td>\n",
       "      <td>[0.9999210238456726, 0.9998786449432373, 0.999...</td>\n",
       "      <td>[672.8558959960938, 672.6068725585938, 672.242...</td>\n",
       "      <td>[251.99237060546875, 252.03504943847656, 252.0...</td>\n",
       "      <td>[0.999940037727356, 0.9999248385429382, 0.9998...</td>\n",
       "      <td>...</td>\n",
       "      <td>[nan, nan, nan, nan, nan, nan, nan, nan, nan, ...</td>\n",
       "      <td>[nan, nan, nan, nan, nan, nan, nan, nan, nan, ...</td>\n",
       "      <td>[nan, nan, nan, nan, nan, nan, nan, nan, nan, ...</td>\n",
       "      <td>[nan, nan, nan, nan, nan, nan, nan, nan, nan, ...</td>\n",
       "      <td>[nan, nan, nan, nan, nan, nan, nan, nan, nan, ...</td>\n",
       "      <td>[nan, nan, nan, nan, nan, nan, nan, nan, nan, ...</td>\n",
       "      <td>[nan, nan, nan, nan, nan, nan, nan, nan, nan, ...</td>\n",
       "      <td>[nan, nan, nan, nan, nan, nan, nan, nan, nan, ...</td>\n",
       "      <td>[nan, nan, nan, nan, nan, nan, nan, nan, nan, ...</td>\n",
       "      <td>[nan, nan, nan, nan, nan, nan, nan, nan, nan, ...</td>\n",
       "    </tr>\n",
       "    <tr>\n",
       "      <th>122</th>\n",
       "      <td>44747.720422</td>\n",
       "      <td>44751.444044</td>\n",
       "      <td>[44747.731545, 44747.748582, 44747.765721, 447...</td>\n",
       "      <td>[56359, 56360, 56361, 56362, 56363, 56364, 563...</td>\n",
       "      <td>[124.65804290771484, 120.52132415771484, nan, ...</td>\n",
       "      <td>[258.20489501953125, 260.45477294921875, nan, ...</td>\n",
       "      <td>[0.9973618984222412, 0.833311140537262, 0.1451...</td>\n",
       "      <td>[133.4058074951172, 133.17071533203125, 134.53...</td>\n",
       "      <td>[266.91143798828125, 267.2286376953125, 268.80...</td>\n",
       "      <td>[0.9999731183052063, 0.999259352684021, 0.9921...</td>\n",
       "      <td>...</td>\n",
       "      <td>[nan, nan, nan, nan, nan, nan, nan, nan, nan, ...</td>\n",
       "      <td>[nan, nan, nan, nan, nan, nan, nan, nan, nan, ...</td>\n",
       "      <td>[nan, nan, nan, nan, nan, nan, nan, nan, nan, ...</td>\n",
       "      <td>[nan, nan, nan, nan, nan, nan, nan, nan, nan, ...</td>\n",
       "      <td>[nan, nan, nan, nan, nan, nan, nan, nan, nan, ...</td>\n",
       "      <td>[nan, nan, nan, nan, nan, nan, nan, nan, nan, ...</td>\n",
       "      <td>[nan, nan, nan, nan, nan, nan, nan, nan, nan, ...</td>\n",
       "      <td>[nan, nan, nan, nan, nan, nan, nan, nan, nan, ...</td>\n",
       "      <td>[nan, nan, nan, nan, nan, nan, nan, nan, nan, ...</td>\n",
       "      <td>[nan, nan, nan, nan, nan, nan, nan, nan, nan, ...</td>\n",
       "    </tr>\n",
       "    <tr>\n",
       "      <th>123</th>\n",
       "      <td>44751.444044</td>\n",
       "      <td>44760.423052</td>\n",
       "      <td>[44751.449958, 44751.466444, 44751.483571, 447...</td>\n",
       "      <td>[[56582, 56583, 56584, 56585, 56586, 56587, 56...</td>\n",
       "      <td>[679.8521118164062, 680.4201049804688, 680.365...</td>\n",
       "      <td>[262.43963623046875, 262.6355285644531, 262.12...</td>\n",
       "      <td>[0.9998746514320374, 0.9998658895492554, 0.999...</td>\n",
       "      <td>[674.8534545898438, 675.1585083007812, 675.036...</td>\n",
       "      <td>[249.20062255859375, 249.4300537109375, 248.95...</td>\n",
       "      <td>[0.9999688267707825, 0.999978244304657, 0.9999...</td>\n",
       "      <td>...</td>\n",
       "      <td>[nan, nan, nan, nan, nan, nan, nan, nan, nan, ...</td>\n",
       "      <td>[nan, nan, nan, nan, nan, nan, nan, nan, nan, ...</td>\n",
       "      <td>[nan, nan, nan, nan, nan, nan, nan, nan, nan, ...</td>\n",
       "      <td>[nan, nan, nan, nan, nan, nan, nan, nan, nan, ...</td>\n",
       "      <td>[nan, nan, nan, nan, nan, nan, nan, nan, nan, ...</td>\n",
       "      <td>[nan, nan, nan, nan, nan, nan, nan, nan, nan, ...</td>\n",
       "      <td>[nan, nan, nan, nan, nan, nan, nan, nan, nan, ...</td>\n",
       "      <td>[nan, nan, nan, nan, nan, nan, nan, nan, nan, ...</td>\n",
       "      <td>[nan, nan, nan, nan, nan, nan, nan, nan, nan, ...</td>\n",
       "      <td>[nan, nan, nan, nan, nan, nan, nan, nan, nan, ...</td>\n",
       "    </tr>\n",
       "    <tr>\n",
       "      <th>124</th>\n",
       "      <td>44760.423052</td>\n",
       "      <td>44764.871808</td>\n",
       "      <td>[44760.435635, 44760.45294, 44760.469555, 4476...</td>\n",
       "      <td>[57121, 57122, 57123, 57124, 57125, 57126, 571...</td>\n",
       "      <td>[127.25715637207031, 127.18923950195312, 127.9...</td>\n",
       "      <td>[259.7966613769531, 260.5542297363281, 262.115...</td>\n",
       "      <td>[0.9963054656982422, 0.9951335191726685, 0.990...</td>\n",
       "      <td>[136.23756408691406, 136.2772979736328, 136.58...</td>\n",
       "      <td>[262.5284118652344, 263.35809326171875, 263.71...</td>\n",
       "      <td>[0.999995768070221, 0.9999932050704956, 0.9999...</td>\n",
       "      <td>...</td>\n",
       "      <td>[nan, nan, nan, nan, nan, nan, nan, nan, nan, ...</td>\n",
       "      <td>[nan, nan, nan, nan, nan, nan, nan, nan, nan, ...</td>\n",
       "      <td>[nan, nan, nan, nan, nan, nan, nan, nan, nan, ...</td>\n",
       "      <td>[nan, nan, nan, nan, nan, nan, nan, nan, nan, ...</td>\n",
       "      <td>[nan, nan, nan, nan, nan, nan, nan, nan, nan, ...</td>\n",
       "      <td>[nan, nan, nan, nan, nan, nan, nan, nan, nan, ...</td>\n",
       "      <td>[nan, nan, nan, nan, nan, nan, nan, nan, nan, ...</td>\n",
       "      <td>[nan, nan, nan, nan, nan, nan, nan, nan, nan, ...</td>\n",
       "      <td>[nan, nan, nan, nan, nan, nan, nan, nan, nan, ...</td>\n",
       "      <td>[nan, nan, nan, nan, nan, nan, nan, nan, nan, ...</td>\n",
       "    </tr>\n",
       "  </tbody>\n",
       "</table>\n",
       "<p>123 rows × 100 columns</p>\n",
       "</div>"
      ],
      "text/plain": [
       "       first_poke   second_poke  \\\n",
       "0    43815.265676  43820.922649   \n",
       "1    43820.922649  43828.586880   \n",
       "2    43828.586880  43833.412492   \n",
       "3    43833.412492  43838.020800   \n",
       "4    43838.020800  43843.100531   \n",
       "..            ...           ...   \n",
       "120  44731.740710  44743.824960   \n",
       "121  44743.824960  44747.720422   \n",
       "122  44747.720422  44751.444044   \n",
       "123  44751.444044  44760.423052   \n",
       "124  44760.423052  44764.871808   \n",
       "\n",
       "                                      trial_timestamps  \\\n",
       "0    [43815.275712, 43815.293004, 43815.309094, 438...   \n",
       "1    [43820.927308, 43820.944179, 43820.961203, 438...   \n",
       "2    [43828.597606, 43828.613632, 43828.630131, 438...   \n",
       "3    [43833.414976, 43833.431756, 43833.448665, 438...   \n",
       "4    [43838.0336, 43838.050406, 43838.067046, 43838...   \n",
       "..                                                 ...   \n",
       "120  [44731.743244, 44731.7595, 44731.776128, 44731...   \n",
       "121  [44743.830246, 44743.846758, 44743.863398, 447...   \n",
       "122  [44747.731545, 44747.748582, 44747.765721, 447...   \n",
       "123  [44751.449958, 44751.466444, 44751.483571, 447...   \n",
       "124  [44760.435635, 44760.45294, 44760.469555, 4476...   \n",
       "\n",
       "                                       trial_vidframes  \\\n",
       "0    [431, 432, 433, 434, 435, 436, 437, 438, 439, ...   \n",
       "1    [[770, 771, 772, 773, 774, 775, 776, 777, 778,...   \n",
       "2    [1230, 1231, 1232, 1233, 1234, 1235, 1236, 123...   \n",
       "3    [[1519, 1520, 1521, 1522, 1523, 1524, 1525, 15...   \n",
       "4    [1796, 1797, 1798, 1799, 1800, 1801, 1802, 180...   \n",
       "..                                                 ...   \n",
       "120  [55400, 55401, 55402, 55403, 55404, 55405, 554...   \n",
       "121  [[56125, 56126, 56127, 56128, 56129, 56130, 56...   \n",
       "122  [56359, 56360, 56361, 56362, 56363, 56364, 563...   \n",
       "123  [[56582, 56583, 56584, 56585, 56586, 56587, 56...   \n",
       "124  [57121, 57122, 57123, 57124, 57125, 57126, 571...   \n",
       "\n",
       "                                                nose_x  \\\n",
       "0    [125.84012603759766, 126.52948760986328, 125.9...   \n",
       "1    [677.821533203125, 678.4846801757812, 679.0843...   \n",
       "2    [127.39459991455078, 126.33880615234375, 126.2...   \n",
       "3    [677.5887451171875, 677.8224487304688, 677.818...   \n",
       "4    [126.0206298828125, 125.29630279541016, 125.36...   \n",
       "..                                                 ...   \n",
       "120  [125.55867004394531, 125.1944808959961, 125.39...   \n",
       "121  [676.1242065429688, 676.1784057617188, 675.870...   \n",
       "122  [124.65804290771484, 120.52132415771484, nan, ...   \n",
       "123  [679.8521118164062, 680.4201049804688, 680.365...   \n",
       "124  [127.25715637207031, 127.18923950195312, 127.9...   \n",
       "\n",
       "                                                nose_y  \\\n",
       "0    [255.7787322998047, 256.0339660644531, 257.650...   \n",
       "1    [266.3372497558594, 264.737060546875, 264.2125...   \n",
       "2    [262.03448486328125, 262.1922912597656, 262.39...   \n",
       "3    [261.81658935546875, 261.5379333496094, 261.16...   \n",
       "4    [255.50685119628906, 255.40687561035156, 255.9...   \n",
       "..                                                 ...   \n",
       "120  [265.19146728515625, 265.6908264160156, 265.67...   \n",
       "121  [264.8731994628906, 265.96588134765625, 266.26...   \n",
       "122  [258.20489501953125, 260.45477294921875, nan, ...   \n",
       "123  [262.43963623046875, 262.6355285644531, 262.12...   \n",
       "124  [259.7966613769531, 260.5542297363281, 262.115...   \n",
       "\n",
       "                                       nose_likelihood  \\\n",
       "0    [0.9990803599357605, 0.9984484910964966, 0.996...   \n",
       "1    [0.9997549057006836, 0.9997327923774719, 0.999...   \n",
       "2    [0.9957872033119202, 0.9978909492492676, 0.997...   \n",
       "3    [0.9999254941940308, 0.99992436170578, 0.99989...   \n",
       "4    [0.9990099668502808, 0.9988957643508911, 0.997...   \n",
       "..                                                 ...   \n",
       "120  [0.9976847171783447, 0.9965882897377014, 0.998...   \n",
       "121  [0.9999210238456726, 0.9998786449432373, 0.999...   \n",
       "122  [0.9973618984222412, 0.833311140537262, 0.1451...   \n",
       "123  [0.9998746514320374, 0.9998658895492554, 0.999...   \n",
       "124  [0.9963054656982422, 0.9951335191726685, 0.990...   \n",
       "\n",
       "                                             leftear_x  \\\n",
       "0    [134.827392578125, 135.03904724121094, 135.505...   \n",
       "1    [668.4144897460938, 668.4213256835938, 668.515...   \n",
       "2    [137.7378692626953, 137.22540283203125, 137.00...   \n",
       "3    [669.8580322265625, 670.2114868164062, 670.427...   \n",
       "4    [134.6469268798828, 134.7500457763672, 134.556...   \n",
       "..                                                 ...   \n",
       "120  [138.5618133544922, 138.5074005126953, 138.541...   \n",
       "121  [672.8558959960938, 672.6068725585938, 672.242...   \n",
       "122  [133.4058074951172, 133.17071533203125, 134.53...   \n",
       "123  [674.8534545898438, 675.1585083007812, 675.036...   \n",
       "124  [136.23756408691406, 136.2772979736328, 136.58...   \n",
       "\n",
       "                                             leftear_y  \\\n",
       "0    [262.318359375, 262.55743408203125, 262.937805...   \n",
       "1    [255.34991455078125, 253.63162231445312, 253.4...   \n",
       "2    [261.5626220703125, 261.4017333984375, 262.037...   \n",
       "3    [250.94952392578125, 250.61073303222656, 250.0...   \n",
       "4    [263.6062316894531, 263.70867919921875, 264.29...   \n",
       "..                                                 ...   \n",
       "120  [261.26025390625, 261.23651123046875, 261.5025...   \n",
       "121  [251.99237060546875, 252.03504943847656, 252.0...   \n",
       "122  [266.91143798828125, 267.2286376953125, 268.80...   \n",
       "123  [249.20062255859375, 249.4300537109375, 248.95...   \n",
       "124  [262.5284118652344, 263.35809326171875, 263.71...   \n",
       "\n",
       "                                    leftear_likelihood  ...  \\\n",
       "0    [0.999997615814209, 0.9999962449073792, 0.9999...  ...   \n",
       "1    [0.999925434589386, 0.9998897314071655, 0.9999...  ...   \n",
       "2    [0.9999963641166687, 0.9999978542327881, 0.999...  ...   \n",
       "3    [0.9999082684516907, 0.9998905062675476, 0.999...  ...   \n",
       "4    [0.9999934434890747, 0.9999948740005493, 0.999...  ...   \n",
       "..                                                 ...  ...   \n",
       "120  [0.9999974370002747, 0.9999949932098389, 0.999...  ...   \n",
       "121  [0.999940037727356, 0.9999248385429382, 0.9998...  ...   \n",
       "122  [0.9999731183052063, 0.999259352684021, 0.9921...  ...   \n",
       "123  [0.9999688267707825, 0.999978244304657, 0.9999...  ...   \n",
       "124  [0.999995768070221, 0.9999932050704956, 0.9999...  ...   \n",
       "\n",
       "                                          arenaBR_x_cm  \\\n",
       "0    [nan, nan, nan, nan, nan, nan, nan, nan, nan, ...   \n",
       "1    [nan, nan, nan, nan, nan, nan, nan, nan, nan, ...   \n",
       "2    [nan, nan, nan, nan, nan, nan, nan, nan, nan, ...   \n",
       "3    [nan, nan, nan, nan, nan, nan, nan, nan, nan, ...   \n",
       "4    [nan, nan, nan, nan, nan, nan, nan, nan, nan, ...   \n",
       "..                                                 ...   \n",
       "120  [nan, nan, nan, nan, nan, nan, nan, nan, nan, ...   \n",
       "121  [nan, nan, nan, nan, nan, nan, nan, nan, nan, ...   \n",
       "122  [nan, nan, nan, nan, nan, nan, nan, nan, nan, ...   \n",
       "123  [nan, nan, nan, nan, nan, nan, nan, nan, nan, ...   \n",
       "124  [nan, nan, nan, nan, nan, nan, nan, nan, nan, ...   \n",
       "\n",
       "                                          arenaBR_y_cm  \\\n",
       "0    [nan, nan, nan, nan, nan, nan, nan, nan, nan, ...   \n",
       "1    [nan, nan, nan, nan, nan, nan, nan, nan, nan, ...   \n",
       "2    [nan, nan, nan, nan, nan, nan, nan, nan, nan, ...   \n",
       "3    [nan, nan, nan, nan, nan, nan, nan, nan, nan, ...   \n",
       "4    [nan, nan, nan, nan, nan, nan, nan, nan, nan, ...   \n",
       "..                                                 ...   \n",
       "120  [nan, nan, nan, nan, nan, nan, nan, nan, nan, ...   \n",
       "121  [nan, nan, nan, nan, nan, nan, nan, nan, nan, ...   \n",
       "122  [nan, nan, nan, nan, nan, nan, nan, nan, nan, ...   \n",
       "123  [nan, nan, nan, nan, nan, nan, nan, nan, nan, ...   \n",
       "124  [nan, nan, nan, nan, nan, nan, nan, nan, nan, ...   \n",
       "\n",
       "                                        leftportT_x_cm  \\\n",
       "0    [nan, nan, nan, nan, nan, nan, nan, nan, nan, ...   \n",
       "1    [nan, nan, nan, nan, nan, nan, nan, nan, nan, ...   \n",
       "2    [nan, nan, nan, nan, nan, nan, nan, nan, nan, ...   \n",
       "3    [nan, nan, nan, nan, nan, nan, nan, nan, nan, ...   \n",
       "4    [nan, nan, nan, nan, nan, nan, nan, nan, nan, ...   \n",
       "..                                                 ...   \n",
       "120  [nan, nan, nan, nan, nan, nan, nan, nan, nan, ...   \n",
       "121  [nan, nan, nan, nan, nan, nan, nan, nan, nan, ...   \n",
       "122  [nan, nan, nan, nan, nan, nan, nan, nan, nan, ...   \n",
       "123  [nan, nan, nan, nan, nan, nan, nan, nan, nan, ...   \n",
       "124  [nan, nan, nan, nan, nan, nan, nan, nan, nan, ...   \n",
       "\n",
       "                                        leftportT_y_cm  \\\n",
       "0    [nan, nan, nan, nan, nan, nan, nan, nan, nan, ...   \n",
       "1    [nan, nan, nan, nan, nan, nan, nan, nan, nan, ...   \n",
       "2    [nan, nan, nan, nan, nan, nan, nan, nan, nan, ...   \n",
       "3    [nan, nan, nan, nan, nan, nan, nan, nan, nan, ...   \n",
       "4    [nan, nan, nan, nan, nan, nan, nan, nan, nan, ...   \n",
       "..                                                 ...   \n",
       "120  [nan, nan, nan, nan, nan, nan, nan, nan, nan, ...   \n",
       "121  [nan, nan, nan, nan, nan, nan, nan, nan, nan, ...   \n",
       "122  [nan, nan, nan, nan, nan, nan, nan, nan, nan, ...   \n",
       "123  [nan, nan, nan, nan, nan, nan, nan, nan, nan, ...   \n",
       "124  [nan, nan, nan, nan, nan, nan, nan, nan, nan, ...   \n",
       "\n",
       "                                        leftportB_x_cm  \\\n",
       "0    [nan, nan, nan, nan, nan, nan, nan, nan, nan, ...   \n",
       "1    [nan, nan, nan, nan, nan, nan, nan, nan, nan, ...   \n",
       "2    [nan, nan, nan, nan, nan, nan, nan, nan, nan, ...   \n",
       "3    [nan, nan, nan, nan, nan, nan, nan, nan, nan, ...   \n",
       "4    [nan, nan, nan, nan, nan, nan, nan, nan, nan, ...   \n",
       "..                                                 ...   \n",
       "120  [nan, nan, nan, nan, nan, nan, nan, nan, nan, ...   \n",
       "121  [nan, nan, nan, nan, nan, nan, nan, nan, nan, ...   \n",
       "122  [nan, nan, nan, nan, nan, nan, nan, nan, nan, ...   \n",
       "123  [nan, nan, nan, nan, nan, nan, nan, nan, nan, ...   \n",
       "124  [nan, nan, nan, nan, nan, nan, nan, nan, nan, ...   \n",
       "\n",
       "                                        leftportB_y_cm  \\\n",
       "0    [nan, nan, nan, nan, nan, nan, nan, nan, nan, ...   \n",
       "1    [nan, nan, nan, nan, nan, nan, nan, nan, nan, ...   \n",
       "2    [nan, nan, nan, nan, nan, nan, nan, nan, nan, ...   \n",
       "3    [nan, nan, nan, nan, nan, nan, nan, nan, nan, ...   \n",
       "4    [nan, nan, nan, nan, nan, nan, nan, nan, nan, ...   \n",
       "..                                                 ...   \n",
       "120  [nan, nan, nan, nan, nan, nan, nan, nan, nan, ...   \n",
       "121  [nan, nan, nan, nan, nan, nan, nan, nan, nan, ...   \n",
       "122  [nan, nan, nan, nan, nan, nan, nan, nan, nan, ...   \n",
       "123  [nan, nan, nan, nan, nan, nan, nan, nan, nan, ...   \n",
       "124  [nan, nan, nan, nan, nan, nan, nan, nan, nan, ...   \n",
       "\n",
       "                                       rightportT_x_cm  \\\n",
       "0    [nan, nan, nan, nan, nan, nan, nan, nan, nan, ...   \n",
       "1    [nan, nan, nan, nan, nan, nan, nan, nan, nan, ...   \n",
       "2    [nan, nan, nan, nan, nan, nan, nan, nan, nan, ...   \n",
       "3    [nan, nan, nan, nan, nan, nan, nan, nan, nan, ...   \n",
       "4    [nan, nan, nan, nan, nan, nan, nan, nan, nan, ...   \n",
       "..                                                 ...   \n",
       "120  [nan, nan, nan, nan, nan, nan, nan, nan, nan, ...   \n",
       "121  [nan, nan, nan, nan, nan, nan, nan, nan, nan, ...   \n",
       "122  [nan, nan, nan, nan, nan, nan, nan, nan, nan, ...   \n",
       "123  [nan, nan, nan, nan, nan, nan, nan, nan, nan, ...   \n",
       "124  [nan, nan, nan, nan, nan, nan, nan, nan, nan, ...   \n",
       "\n",
       "                                       rightportT_y_cm  \\\n",
       "0    [nan, nan, nan, nan, nan, nan, nan, nan, nan, ...   \n",
       "1    [nan, nan, nan, nan, nan, nan, nan, nan, nan, ...   \n",
       "2    [nan, nan, nan, nan, nan, nan, nan, nan, nan, ...   \n",
       "3    [nan, nan, nan, nan, nan, nan, nan, nan, nan, ...   \n",
       "4    [nan, nan, nan, nan, nan, nan, nan, nan, nan, ...   \n",
       "..                                                 ...   \n",
       "120  [nan, nan, nan, nan, nan, nan, nan, nan, nan, ...   \n",
       "121  [nan, nan, nan, nan, nan, nan, nan, nan, nan, ...   \n",
       "122  [nan, nan, nan, nan, nan, nan, nan, nan, nan, ...   \n",
       "123  [nan, nan, nan, nan, nan, nan, nan, nan, nan, ...   \n",
       "124  [nan, nan, nan, nan, nan, nan, nan, nan, nan, ...   \n",
       "\n",
       "                                       rightportB_x_cm  \\\n",
       "0    [nan, nan, nan, nan, nan, nan, nan, nan, nan, ...   \n",
       "1    [nan, nan, nan, nan, nan, nan, nan, nan, nan, ...   \n",
       "2    [nan, nan, nan, nan, nan, nan, nan, nan, nan, ...   \n",
       "3    [nan, nan, nan, nan, nan, nan, nan, nan, nan, ...   \n",
       "4    [nan, nan, nan, nan, nan, nan, nan, nan, nan, ...   \n",
       "..                                                 ...   \n",
       "120  [nan, nan, nan, nan, nan, nan, nan, nan, nan, ...   \n",
       "121  [nan, nan, nan, nan, nan, nan, nan, nan, nan, ...   \n",
       "122  [nan, nan, nan, nan, nan, nan, nan, nan, nan, ...   \n",
       "123  [nan, nan, nan, nan, nan, nan, nan, nan, nan, ...   \n",
       "124  [nan, nan, nan, nan, nan, nan, nan, nan, nan, ...   \n",
       "\n",
       "                                       rightportB_y_cm  \n",
       "0    [nan, nan, nan, nan, nan, nan, nan, nan, nan, ...  \n",
       "1    [nan, nan, nan, nan, nan, nan, nan, nan, nan, ...  \n",
       "2    [nan, nan, nan, nan, nan, nan, nan, nan, nan, ...  \n",
       "3    [nan, nan, nan, nan, nan, nan, nan, nan, nan, ...  \n",
       "4    [nan, nan, nan, nan, nan, nan, nan, nan, nan, ...  \n",
       "..                                                 ...  \n",
       "120  [nan, nan, nan, nan, nan, nan, nan, nan, nan, ...  \n",
       "121  [nan, nan, nan, nan, nan, nan, nan, nan, nan, ...  \n",
       "122  [nan, nan, nan, nan, nan, nan, nan, nan, nan, ...  \n",
       "123  [nan, nan, nan, nan, nan, nan, nan, nan, nan, ...  \n",
       "124  [nan, nan, nan, nan, nan, nan, nan, nan, nan, ...  \n",
       "\n",
       "[123 rows x 100 columns]"
      ]
     },
     "execution_count": 41,
     "metadata": {},
     "output_type": "execute_result"
    }
   ],
   "source": [
    "df"
   ]
  },
  {
   "cell_type": "code",
   "execution_count": 42,
   "metadata": {},
   "outputs": [
    {
     "data": {
      "text/plain": [
       "nan"
      ]
     },
     "execution_count": 42,
     "metadata": {},
     "output_type": "execute_result"
    }
   ],
   "source": [
    "np.median(df['arenaTR_x'].iloc[0],0) - np.median(df['arenaTL_x'].iloc[0],0)"
   ]
  },
  {
   "cell_type": "code",
   "execution_count": 47,
   "metadata": {},
   "outputs": [
    {
     "data": {
      "text/plain": [
       "array([nan, nan, nan, nan, nan, nan, nan, nan, nan, nan, nan, nan, nan,\n",
       "       nan, nan, nan, nan, nan, nan, nan, nan, nan, nan, nan, nan, nan,\n",
       "       nan, nan, nan, nan, nan, nan, nan, nan, nan, nan, nan, nan, nan,\n",
       "       nan, nan, nan, nan, nan, nan, nan, nan, nan, nan, nan, nan, nan,\n",
       "       nan, nan, nan, nan, nan, nan, nan, nan, nan, nan, nan, nan, nan,\n",
       "       nan, nan, nan, nan, nan, nan, nan, nan, nan, nan, nan, nan, nan,\n",
       "       nan, nan, nan, nan, nan, nan, nan, nan, nan, nan, nan, nan, nan,\n",
       "       nan, nan, nan, nan, nan, nan, nan, nan, nan, nan, nan, nan, nan,\n",
       "       nan, nan, nan, nan, nan, nan, nan, nan, nan, nan, nan, nan, nan,\n",
       "       nan, nan, nan, nan, nan, nan, nan, nan, nan, nan, nan, nan, nan,\n",
       "       nan, nan, nan, nan, nan, nan, nan, nan, nan, nan, nan, nan, nan,\n",
       "       nan, nan, nan, nan, nan, nan, nan, nan, nan, nan, nan, nan, nan,\n",
       "       nan, nan, nan, nan, nan, nan, nan, nan, nan, nan, nan, nan, nan,\n",
       "       nan, nan, nan, nan, nan, nan, nan, nan, nan, nan, nan, nan, nan,\n",
       "       nan, nan, nan, nan, nan, nan, nan, nan, nan, nan, nan, nan, nan,\n",
       "       nan, nan, nan, nan, nan, nan, nan, nan, nan, nan, nan, nan, nan,\n",
       "       nan, nan, nan, nan, nan, nan, nan, nan, nan, nan, nan, nan, nan,\n",
       "       nan, nan, nan, nan, nan, nan, nan, nan, nan, nan, nan, nan, nan,\n",
       "       nan, nan, nan, nan, nan, nan, nan, nan, nan, nan, nan, nan, nan,\n",
       "       nan, nan, nan, nan, nan, nan, nan, nan, nan, nan, nan, nan, nan,\n",
       "       nan, nan, nan, nan, nan, nan, nan, nan, nan, nan, nan, nan, nan,\n",
       "       nan, nan, nan, nan, nan, nan, nan, nan, nan, nan, nan, nan, nan,\n",
       "       nan, nan, nan, nan, nan, nan, nan, nan, nan, nan, nan, nan, nan,\n",
       "       nan, nan, nan, nan, nan, nan, nan, nan, nan, nan, nan, nan, nan,\n",
       "       nan, nan, nan, nan, nan, nan, nan, nan, nan, nan, nan, nan, nan,\n",
       "       nan, nan, nan, nan, nan, nan, nan, nan, nan, nan, nan, nan, nan,\n",
       "       nan, nan, nan, nan, nan, nan, nan, nan, nan, nan, nan, nan, nan,\n",
       "       nan, nan, nan, nan, nan, nan, nan, nan, nan, nan, nan, nan, nan,\n",
       "       nan, nan, nan, nan, nan, nan, nan, nan, nan, nan, nan, nan, nan,\n",
       "       nan, nan, nan, nan, nan, nan, nan, nan, nan, nan, nan, nan, nan,\n",
       "       nan, nan, nan, nan, nan, nan, nan, nan, nan, nan, nan, nan, nan,\n",
       "       nan, nan, nan, nan, nan, nan, nan, nan, nan, nan, nan, nan, nan,\n",
       "       nan, nan, nan, nan, nan, nan, nan, nan, nan, nan, nan, nan, nan,\n",
       "       nan, nan, nan, nan, nan, nan, nan, nan, nan, nan, nan, nan, nan,\n",
       "       nan, nan, nan, nan, nan, nan, nan, nan, nan, nan, nan, nan, nan,\n",
       "       nan, nan, nan, nan, nan], dtype=object)"
      ]
     },
     "execution_count": 47,
     "metadata": {},
     "output_type": "execute_result"
    }
   ],
   "source": [
    "df.at[1,'arenaTL_x']"
   ]
  },
  {
   "cell_type": "code",
   "execution_count": 54,
   "metadata": {},
   "outputs": [
    {
     "data": {
      "text/plain": [
       "array([nan, nan, nan, nan, nan, nan, nan, nan, nan, nan, nan, nan, nan,\n",
       "       nan, nan, nan, nan, nan, nan, nan, nan, nan, nan, nan, nan, nan,\n",
       "       nan, nan, nan, nan, nan, nan, nan, nan, nan, nan, nan, nan, nan,\n",
       "       nan, nan, nan, nan, nan, nan, nan, nan, nan, nan, nan, nan, nan,\n",
       "       nan, nan, nan, nan, nan, nan, nan, nan, nan, nan, nan, nan, nan,\n",
       "       nan, nan, nan, nan, nan, nan, nan, nan, nan, nan, nan, nan, nan,\n",
       "       nan, nan, nan, nan, nan, nan, nan, nan, nan, nan, nan, nan, nan,\n",
       "       nan, nan, nan, nan, nan, nan, nan, nan, nan, nan, nan, nan, nan,\n",
       "       nan, nan, nan, nan, nan, nan, nan, nan, nan, nan, nan, nan, nan,\n",
       "       nan, nan, nan, nan, nan, nan, nan, nan, nan, nan, nan, nan, nan,\n",
       "       nan, nan, nan, nan, nan, nan, nan, nan, nan, nan, nan, nan, nan,\n",
       "       nan, nan, nan, nan, nan, nan, nan, nan, nan, nan, nan, nan, nan,\n",
       "       nan, nan, nan, nan, nan, nan, nan, nan, nan, nan, nan, nan, nan,\n",
       "       nan, nan, nan, nan, nan, nan, nan, nan, nan, nan, nan, nan, nan,\n",
       "       nan, nan, nan, nan, nan, nan, nan, nan, nan, nan, nan, nan, nan,\n",
       "       nan, nan, nan, nan, nan, nan, nan, nan, nan, nan, nan, nan, nan,\n",
       "       nan, nan, nan, nan, nan, nan, nan, nan, nan, nan, nan, nan, nan,\n",
       "       nan, nan, nan, nan, nan, nan, nan, nan, nan, nan, nan, nan, nan,\n",
       "       nan, nan, nan, nan, nan, nan, nan, nan, nan, nan, nan, nan, nan,\n",
       "       nan, nan, nan, nan, nan, nan, nan, nan, nan, nan, nan, nan, nan,\n",
       "       nan, nan, nan, nan, nan, nan, nan, nan, nan, nan, nan, nan, nan,\n",
       "       nan, nan, nan, nan, nan, nan, nan, nan, nan, nan, nan, nan, nan,\n",
       "       nan, nan, nan, nan, nan, nan, nan, nan, nan, nan, nan, nan, nan,\n",
       "       nan, nan, nan, nan, nan], dtype=object)"
      ]
     },
     "execution_count": 54,
     "metadata": {},
     "output_type": "execute_result"
    }
   ],
   "source": [
    "df['arenaBL_x'][4]"
   ]
  },
  {
   "cell_type": "code",
   "execution_count": 43,
   "metadata": {},
   "outputs": [
    {
     "data": {
      "text/plain": [
       "673.3394165039062"
      ]
     },
     "execution_count": 43,
     "metadata": {},
     "output_type": "execute_result"
    }
   ],
   "source": [
    "np.median(df['arenaTR_x'].iloc[0],0)"
   ]
  },
  {
   "cell_type": "code",
   "execution_count": 44,
   "metadata": {},
   "outputs": [
    {
     "data": {
      "text/plain": [
       "nan"
      ]
     },
     "execution_count": 44,
     "metadata": {},
     "output_type": "execute_result"
    }
   ],
   "source": [
    "np.median(df['arenaTL_x'].iloc[0],0)"
   ]
  },
  {
   "cell_type": "code",
   "execution_count": 39,
   "metadata": {},
   "outputs": [
    {
     "name": "stdout",
     "output_type": "stream",
     "text": [
      "['nose_x', 'leftear_x', 'rightear_x', 'spine_x', 'midspine_x', 'tailbase_x', 'midtail_x', 'tailend_x', 'arenaTL_x', 'arenaTR_x', 'arenaBL_x', 'arenaBR_x', 'leftportT_x', 'leftportB_x', 'rightportT_x', 'rightportB_x']\n"
     ]
    },
    {
     "ename": "NameError",
     "evalue": "name 'self' is not defined",
     "output_type": "error",
     "traceback": [
      "\u001b[1;31m---------------------------------------------------------------------------\u001b[0m",
      "\u001b[1;31mNameError\u001b[0m                                 Traceback (most recent call last)",
      "Cell \u001b[1;32mIn[39], line 8\u001b[0m\n\u001b[0;32m      6\u001b[0m y_cols \u001b[39m=\u001b[39m [i \u001b[39mfor\u001b[39;00m i \u001b[39min\u001b[39;00m y_cols \u001b[39mif\u001b[39;00m \u001b[39m'\u001b[39m\u001b[39mobstacle\u001b[39m\u001b[39m'\u001b[39m \u001b[39mnot\u001b[39;00m \u001b[39min\u001b[39;00m i]\n\u001b[0;32m      7\u001b[0m \u001b[39mfor\u001b[39;00m i \u001b[39min\u001b[39;00m \u001b[39mrange\u001b[39m(\u001b[39mlen\u001b[39m(x_cols)):\n\u001b[1;32m----> 8\u001b[0m     df[x_cols[i]\u001b[39m+\u001b[39m\u001b[39m'\u001b[39m\u001b[39m_cm\u001b[39m\u001b[39m'\u001b[39m] \u001b[39m=\u001b[39m df\u001b[39m.\u001b[39mloc[:,x_cols[i]] \u001b[39m/\u001b[39m \u001b[39mself\u001b[39;49m\u001b[39m.\u001b[39mpxls2cm\n\u001b[0;32m      9\u001b[0m     df[y_cols[i]\u001b[39m+\u001b[39m\u001b[39m'\u001b[39m\u001b[39m_cm\u001b[39m\u001b[39m'\u001b[39m] \u001b[39m=\u001b[39m df\u001b[39m.\u001b[39mloc[:,y_cols[i]] \u001b[39m/\u001b[39m \u001b[39mself\u001b[39m\u001b[39m.\u001b[39mpxls2cm\n",
      "\u001b[1;31mNameError\u001b[0m: name 'self' is not defined"
     ]
    }
   ],
   "source": [
    "x_cols = [i for i in df.columns.values if '_x' in i]\n",
    "y_cols = [i for i in df.columns.values if '_y' in i]\n",
    "\n",
    "x_cols = [i for i in x_cols if 'obstacle' not in i]\n",
    "print(x_cols)\n",
    "y_cols = [i for i in y_cols if 'obstacle' not in i]\n",
    "for i in range(len(x_cols)):\n",
    "    df[x_cols[i]+'_cm'] = df.loc[:,x_cols[i]] / self.pxls2cm\n",
    "    df[y_cols[i]+'_cm'] = df.loc[:,y_cols[i]] / self.pxls2cm"
   ]
  },
  {
   "cell_type": "code",
   "execution_count": 37,
   "metadata": {},
   "outputs": [
    {
     "data": {
      "text/plain": [
       "['nose_x',\n",
       " 'leftear_x',\n",
       " 'rightear_x',\n",
       " 'spine_x',\n",
       " 'midspine_x',\n",
       " 'tailbase_x',\n",
       " 'midtail_x',\n",
       " 'tailend_x',\n",
       " 'arenaTL_x',\n",
       " 'arenaTR_x',\n",
       " 'arenaBL_x',\n",
       " 'arenaBR_x',\n",
       " 'leftportT_x',\n",
       " 'leftportB_x',\n",
       " 'rightportT_x',\n",
       " 'rightportB_x']"
      ]
     },
     "execution_count": 37,
     "metadata": {},
     "output_type": "execute_result"
    }
   ],
   "source": [
    "x_cols = ['nose_x', 'leftear_x', 'rightear_x', 'spine_x', 'midspine_x', 'tailbase_x', 'midtail_x', 'tailend_x', 'arenaTL_x', 'arenaTR_x', 'arenaBL_x', 'arenaBR_x', 'obstacleTL_x', 'obstacleTR_x', 'obstacleBR_x', 'obstacleBL_x', 'leftportT_x', 'leftportB_x', 'rightportT_x', 'rightportB_x']\n",
    "x_cols = [i for i in x_cols if 'obstacle' not in i]\n",
    "x_cols"
   ]
  },
  {
   "cell_type": "code",
   "execution_count": 14,
   "metadata": {},
   "outputs": [],
   "source": [
    "obstacle_cols = list_columns(df,['obstacle'])\n"
   ]
  },
  {
   "cell_type": "code",
   "execution_count": 15,
   "metadata": {},
   "outputs": [
    {
     "data": {
      "text/plain": [
       "array(['obstacleTL_x', 'obstacleTL_y', 'obstacleTL_likelihood',\n",
       "       'obstacleTR_x', 'obstacleTR_y', 'obstacleTR_likelihood',\n",
       "       'obstacleBR_x', 'obstacleBR_y', 'obstacleBR_likelihood',\n",
       "       'obstacleBL_x', 'obstacleBL_y', 'obstacleBL_likelihood'],\n",
       "      dtype='<U21')"
      ]
     },
     "execution_count": 15,
     "metadata": {},
     "output_type": "execute_result"
    }
   ],
   "source": [
    "obstacle_cols"
   ]
  },
  {
   "cell_type": "code",
   "execution_count": 17,
   "metadata": {},
   "outputs": [
    {
     "data": {
      "text/plain": [
       "0      [nan, nan, nan, nan, nan, nan, nan, nan, nan, ...\n",
       "1      [nan, nan, nan, nan, nan, nan, nan, nan, nan, ...\n",
       "2      [nan, nan, nan, nan, nan, nan, nan, nan, nan, ...\n",
       "3      [nan, nan, nan, nan, nan, nan, nan, nan, nan, ...\n",
       "4      [nan, nan, nan, nan, nan, nan, nan, nan, nan, ...\n",
       "                             ...                        \n",
       "120    [nan, nan, nan, nan, nan, nan, nan, nan, nan, ...\n",
       "121    [nan, nan, nan, nan, nan, nan, nan, nan, nan, ...\n",
       "122    [nan, nan, nan, nan, nan, nan, nan, nan, nan, ...\n",
       "123    [nan, nan, nan, nan, nan, nan, nan, nan, nan, ...\n",
       "124    [nan, nan, nan, nan, nan, nan, nan, nan, nan, ...\n",
       "Name: obstacleTL_x, Length: 125, dtype: object"
      ]
     },
     "execution_count": 17,
     "metadata": {},
     "output_type": "execute_result"
    }
   ],
   "source": [
    "df['obstacleTL_x']"
   ]
  },
  {
   "cell_type": "code",
   "execution_count": 29,
   "metadata": {},
   "outputs": [
    {
     "data": {
      "text/plain": [
       "(array([677.821533203125, 678.4846801757812, 679.0843505859375,\n",
       "        678.66162109375, 678.7367553710938, 678.5524291992188, 678.1015625,\n",
       "        677.7872314453125, 677.80859375, 678.1156005859375,\n",
       "        678.18212890625, 678.2683715820312, 677.5410766601562,\n",
       "        676.927490234375, 677.3603515625, 677.6897583007812,\n",
       "        678.0909423828125, 678.1156005859375, 677.4853515625,\n",
       "        677.0968017578125, 677.2346801757812, 677.7200927734375,\n",
       "        678.0092163085938, 677.8174438476562, 677.568115234375,\n",
       "        677.2008666992188, 677.1412963867188, 677.500244140625,\n",
       "        677.7948608398438, 677.9048461914062, 677.76123046875,\n",
       "        677.385498046875, 677.2880859375, 677.533203125, 677.6574096679688,\n",
       "        677.8704833984375, 677.71630859375, 677.7825317382812,\n",
       "        677.5386352539062, 677.5535888671875, 677.3206176757812,\n",
       "        677.6405029296875, 677.8867797851562, 677.7739868164062,\n",
       "        678.0308837890625, 677.6929931640625, 677.4063720703125,\n",
       "        677.2625732421875, 677.5662231445312, 677.6536865234375,\n",
       "        677.6303100585938, 677.2481689453125, 677.2575073242188,\n",
       "        677.119140625, 677.259033203125, 677.3234252929688, 677.599609375,\n",
       "        677.8907470703125, 677.3994750976562, 677.4341430664062,\n",
       "        677.4225463867188, 677.5319213867188, 677.8102416992188,\n",
       "        677.9276123046875, 677.7514038085938, 677.613525390625,\n",
       "        677.472900390625, 677.29052734375, 677.5310668945312,\n",
       "        677.5031127929688, 677.6896362304688, 677.8357543945312,\n",
       "        677.7697143554688, 677.578369140625, 677.4600219726562,\n",
       "        677.2947387695312, 677.169189453125, 677.3638916015625,\n",
       "        677.2584838867188, 677.38037109375, 677.337890625,\n",
       "        677.0388793945312, 677.3461303710938, 677.4288940429688,\n",
       "        677.76318359375, 677.942138671875, 677.7966918945312,\n",
       "        677.5540161132812, 677.2984008789062, 677.0166015625,\n",
       "        677.3787231445312, 677.4722900390625, 677.5944213867188,\n",
       "        677.5157470703125, 677.452392578125, 677.4815673828125,\n",
       "        677.3678588867188, 677.2666015625, 677.7509765625,\n",
       "        677.7615966796875, 677.799560546875, 677.6293334960938,\n",
       "        677.3484497070312, 677.6239013671875, 677.5975341796875,\n",
       "        677.7634887695312, 678.1375122070312, 677.9468994140625,\n",
       "        678.029052734375, 677.6771850585938, 677.7527465820312,\n",
       "        677.6665649414062, 677.6603393554688, 677.7813720703125,\n",
       "        677.7827758789062, 677.5712280273438, 677.3963012695312,\n",
       "        677.370361328125, 677.0022583007812, 677.303955078125,\n",
       "        677.5949096679688, 677.5873413085938, 677.55224609375,\n",
       "        677.214111328125, 677.2297973632812, 677.3167114257812,\n",
       "        677.7353515625, 677.9497680664062, 677.8658447265625,\n",
       "        677.6727905273438, 677.286376953125, 677.1092529296875,\n",
       "        676.7960815429688, 676.432373046875, 676.9853515625,\n",
       "        677.5897216796875, 677.775390625, 677.7389526367188,\n",
       "        677.5996704101562, 676.2816772460938, 675.4199829101562,\n",
       "        674.1056518554688, 674.4227294921875, 673.64794921875,\n",
       "        672.42333984375, 671.5836181640625, 670.708740234375,\n",
       "        669.849853515625, 668.2471923828125, 667.6300048828125,\n",
       "        665.6529541015625, 665.1361083984375, 663.263916015625,\n",
       "        660.8240966796875, 659.0902709960938, 655.5775146484375,\n",
       "        653.8005981445312, 653.6334228515625, 652.1710815429688,\n",
       "        651.1539916992188, 649.6334838867188, 647.906982421875,\n",
       "        646.869384765625, 646.649658203125, 646.6265258789062,\n",
       "        646.2446899414062, 646.3095092773438, 646.2330932617188,\n",
       "        646.3314208984375, 646.5403442382812, 647.466796875,\n",
       "        647.9595336914062, 648.2468872070312, 648.8184814453125,\n",
       "        648.58154296875, 648.9327392578125, 649.2275390625,\n",
       "        649.0675659179688, 648.94140625, 649.1735229492188,\n",
       "        649.1043701171875, 649.4302368164062, 648.6827392578125,\n",
       "        648.531982421875, 647.9741821289062, 647.7384643554688,\n",
       "        646.8565673828125, 647.205810546875, 646.025146484375,\n",
       "        645.6697998046875, 646.7286987304688, 647.298095703125,\n",
       "        647.7591552734375, 648.0676879882812, 646.3380126953125,\n",
       "        646.517333984375, 648.1481323242188, 646.7972412109375,\n",
       "        647.3405151367188, 648.5440063476562, 646.9290771484375,\n",
       "        648.9835815429688, 648.3104248046875, 649.0606689453125,\n",
       "        648.2861938476562, 649.2086791992188, 648.3167114257812,\n",
       "        649.5018920898438, 648.710693359375, 649.087646484375,\n",
       "        649.4129638671875, 649.4907836914062, 649.38720703125,\n",
       "        650.3598022460938, 650.0538330078125, 650.9556274414062,\n",
       "        650.5277709960938, 650.5853881835938, 650.5646362304688,\n",
       "        650.8157348632812, 650.3009033203125, 650.6107177734375,\n",
       "        650.3317260742188, 650.1527709960938, 650.0916137695312,\n",
       "        650.6864013671875, 650.7015991210938, 650.5804443359375,\n",
       "        650.6710205078125, 650.6207275390625, 651.0183715820312,\n",
       "        650.1907958984375, 651.0549926757812, 650.599365234375,\n",
       "        650.5556030273438, 651.3773193359375, 650.7186889648438,\n",
       "        649.9465942382812, 650.8938598632812, 651.1587524414062,\n",
       "        651.4822387695312, 652.0751342773438, 652.3637084960938,\n",
       "        651.4567260742188, 651.3624877929688, 651.6207885742188,\n",
       "        651.2012329101562, 651.3321533203125, 650.5613403320312,\n",
       "        650.887451171875, 650.5777587890625, 650.4664916992188,\n",
       "        650.8943481445312, 651.0499877929688, 650.5713500976562,\n",
       "        650.1959228515625, 650.053466796875, 650.5192260742188,\n",
       "        650.6897583007812, 650.0690307617188, 650.2603149414062,\n",
       "        652.4937744140625, 652.7986450195312, 652.073486328125,\n",
       "        651.8131713867188, 651.3493041992188, 651.2459106445312,\n",
       "        651.0651245117188, 651.1759033203125, 651.5421142578125,\n",
       "        652.5587768554688, 652.8139038085938, 652.4852294921875,\n",
       "        652.403076171875, 652.5709228515625, 652.8773193359375,\n",
       "        652.2345581054688, 653.1992797851562, 652.8681030273438,\n",
       "        652.0481567382812, 651.115478515625, 653.0690307617188,\n",
       "        652.94140625, 653.5878295898438, 654.6234130859375,\n",
       "        656.7950439453125, 655.2207641601562, 658.2433471679688,\n",
       "        658.669921875, 657.7146606445312, 657.8081665039062, 654.90234375,\n",
       "        655.7080688476562, 657.8933715820312, 658.3151245117188,\n",
       "        659.2855224609375, 659.643310546875, 660.9710083007812,\n",
       "        660.7611083984375, 661.2730102539062, 660.3610229492188,\n",
       "        660.3554077148438, 659.8477172851562, 660.1785888671875,\n",
       "        660.4286499023438, 661.911865234375, 666.3265991210938,\n",
       "        668.33251953125, 668.5540161132812, 669.7529907226562,\n",
       "        671.0003662109375, 670.7698974609375, 672.448486328125,\n",
       "        673.0643920898438, 673.3762817382812, 673.1559448242188,\n",
       "        671.705322265625, 670.6683959960938, 670.2105712890625,\n",
       "        671.6685180664062, 670.7882690429688, 668.8717651367188,\n",
       "        668.2293701171875, 668.0476684570312, 667.6541748046875,\n",
       "        667.0222778320312, 667.4497680664062, 667.8234252929688,\n",
       "        668.7090454101562, 670.73681640625, 672.1806640625,\n",
       "        673.2208251953125, 675.3291015625, 678.2399291992188,\n",
       "        678.3973388671875, 678.7739868164062, 678.5048217773438,\n",
       "        678.9768676757812, 678.7611694335938, 679.5222778320312,\n",
       "        680.7354125976562, 681.2496948242188, 681.4785766601562,\n",
       "        681.0740966796875, 681.7868041992188, 682.6409301757812,\n",
       "        681.5952758789062, 682.066650390625, 685.177001953125,\n",
       "        681.2531127929688, 677.977294921875, 677.0836791992188, nan, nan,\n",
       "        nan, nan, nan, nan, 676.4985961914062, 672.583740234375,\n",
       "        673.3623657226562, 672.7559204101562, 670.17626953125,\n",
       "        667.0599975585938, 667.71044921875, 664.2745361328125,\n",
       "        663.5088500976562, 663.6121826171875, 662.568603515625,\n",
       "        661.2205810546875, 660.4049072265625, 660.0607299804688,\n",
       "        661.0543212890625, 661.7369995117188, 660.1477661132812,\n",
       "        657.646240234375, 654.476318359375, 654.7344970703125,\n",
       "        654.9737548828125, 655.091064453125, 655.393798828125,\n",
       "        656.3743286132812, 655.861328125, 653.8499755859375,\n",
       "        650.82666015625, 644.0258178710938, 640.169921875,\n",
       "        633.0570068359375, 629.906005859375, 624.410400390625,\n",
       "        619.8370971679688, 613.1319580078125, 606.5619506835938,\n",
       "        598.97998046875, 591.2080688476562, 583.2808837890625,\n",
       "        576.1863403320312, 567.4996948242188, 557.7090454101562,\n",
       "        549.0789794921875, 540.1069946289062, 530.9676513671875,\n",
       "        520.99462890625, 508.4980773925781, 496.4328308105469,\n",
       "        484.62261962890625, 472.94146728515625, 460.5111389160156,\n",
       "        448.7005920410156, 434.9283447265625, 421.9049987792969,\n",
       "        408.776123046875, 395.0032653808594, 382.0231628417969,\n",
       "        370.35125732421875, 356.5906066894531, 340.9702453613281,\n",
       "        326.42303466796875, 313.3540344238281, 301.1752014160156,\n",
       "        288.7309875488281, 276.18023681640625, 263.3681640625,\n",
       "        252.5592041015625, 241.87066650390625, 229.7872314453125,\n",
       "        218.34869384765625, 210.76910400390625, 200.98460388183594,\n",
       "        192.52951049804688, 184.60073852539062, 176.67449951171875,\n",
       "        169.48497009277344, 162.61146545410156, 156.3597412109375,\n",
       "        152.27398681640625, 147.9737548828125, 144.31680297851562,\n",
       "        142.146728515625, 140.4126434326172, 137.4858856201172,\n",
       "        135.70046997070312, 132.88693237304688, 130.62196350097656,\n",
       "        128.66293334960938, 128.9803924560547, 128.19033813476562,\n",
       "        127.46659088134766, 127.4793701171875, 126.90345001220703,\n",
       "        126.04053497314453, 125.3118667602539, 125.38044738769531,\n",
       "        125.0285415649414, 125.29202270507812, 125.10578918457031,\n",
       "        125.44084930419922, 126.58595275878906, 127.49484252929688,\n",
       "        127.86627960205078], dtype=object),)"
      ]
     },
     "execution_count": 29,
     "metadata": {},
     "output_type": "execute_result"
    }
   ],
   "source": [
    "df.at[1,'nose_x']"
   ]
  },
  {
   "cell_type": "code",
   "execution_count": 33,
   "metadata": {},
   "outputs": [
    {
     "data": {
      "text/plain": [
       "(0.0, 720.0)"
      ]
     },
     "execution_count": 33,
     "metadata": {},
     "output_type": "execute_result"
    },
    {
     "data": {
      "image/png": "[encoded data removed]",
      "text/plain": [
       "<Figure size 640x480 with 1 Axes>"
      ]
     },
     "metadata": {},
     "output_type": "display_data"
    }
   ],
   "source": [
    "%matplotlib inline\n",
    "\n",
    "plt.plot(df.at[2,'nose_x'],df.at[2,'nose_y']) \n",
    "plt.ylim([520,0]); plt.xlim([0, 720])\n",
    "\n"
   ]
  },
  {
   "cell_type": "code",
   "execution_count": 76,
   "metadata": {},
   "outputs": [
    {
     "data": {
      "text/plain": [
       "dtype('int32')"
      ]
     },
     "execution_count": 76,
     "metadata": {},
     "output_type": "execute_result"
    }
   ],
   "source": [
    "def plot_single"
   ]
  },
  {
   "cell_type": "code",
   "execution_count": 75,
   "metadata": {},
   "outputs": [
    {
     "ename": "IntCastingNaNError",
     "evalue": "Cannot convert non-finite values (NA or inf) to integer",
     "output_type": "error",
     "traceback": [
      "\u001b[1;31m---------------------------------------------------------------------------\u001b[0m",
      "\u001b[1;31mIntCastingNaNError\u001b[0m                        Traceback (most recent call last)",
      "Cell \u001b[1;32mIn[75], line 54\u001b[0m\n\u001b[0;32m     52\u001b[0m         \u001b[39mif\u001b[39;00m \u001b[39m47.0371762841755\u001b[39m \u001b[39m<\u001b[39m\u001b[39m=\u001b[39m x[\u001b[39m'\u001b[39m\u001b[39mmean_gt_obstacle_cen_x_cm\u001b[39m\u001b[39m'\u001b[39m]\u001b[39m.\u001b[39munique() \u001b[39m<\u001b[39m\u001b[39m=\u001b[39m \u001b[39m52.09703145249776\u001b[39m    \u001b[39mand\u001b[39;00m \u001b[39m30.463949607263373\u001b[39m  \u001b[39m<\u001b[39m\u001b[39m=\u001b[39m x[\u001b[39m'\u001b[39m\u001b[39mmean_gt_obstacle_cen_y_cm\u001b[39m\u001b[39m'\u001b[39m]\u001b[39m.\u001b[39munique() \u001b[39m<\u001b[39m\u001b[39m=\u001b[39m \u001b[39m32.749148951731954\u001b[39m:\n\u001b[0;32m     53\u001b[0m             df\u001b[39m.\u001b[39mat[ind,\u001b[39m'\u001b[39m\u001b[39mcluster_label\u001b[39m\u001b[39m'\u001b[39m] \u001b[39m=\u001b[39m \u001b[39m8\u001b[39m\n\u001b[1;32m---> 54\u001b[0m df[\u001b[39m'\u001b[39m\u001b[39mcluster_label\u001b[39m\u001b[39m'\u001b[39m] \u001b[39m=\u001b[39m df[\u001b[39m'\u001b[39;49m\u001b[39mcluster_label\u001b[39;49m\u001b[39m'\u001b[39;49m]\u001b[39m.\u001b[39;49mastype(\u001b[39m'\u001b[39;49m\u001b[39mint8\u001b[39;49m\u001b[39m'\u001b[39;49m)\n",
      "File \u001b[1;32mc:\\Users\\nlab\\anaconda3\\envs\\ephys0\\lib\\site-packages\\pandas\\core\\generic.py:6240\u001b[0m, in \u001b[0;36mNDFrame.astype\u001b[1;34m(self, dtype, copy, errors)\u001b[0m\n\u001b[0;32m   6233\u001b[0m     results \u001b[39m=\u001b[39m [\n\u001b[0;32m   6234\u001b[0m         \u001b[39mself\u001b[39m\u001b[39m.\u001b[39miloc[:, i]\u001b[39m.\u001b[39mastype(dtype, copy\u001b[39m=\u001b[39mcopy)\n\u001b[0;32m   6235\u001b[0m         \u001b[39mfor\u001b[39;00m i \u001b[39min\u001b[39;00m \u001b[39mrange\u001b[39m(\u001b[39mlen\u001b[39m(\u001b[39mself\u001b[39m\u001b[39m.\u001b[39mcolumns))\n\u001b[0;32m   6236\u001b[0m     ]\n\u001b[0;32m   6238\u001b[0m \u001b[39melse\u001b[39;00m:\n\u001b[0;32m   6239\u001b[0m     \u001b[39m# else, only a single dtype is given\u001b[39;00m\n\u001b[1;32m-> 6240\u001b[0m     new_data \u001b[39m=\u001b[39m \u001b[39mself\u001b[39;49m\u001b[39m.\u001b[39;49m_mgr\u001b[39m.\u001b[39;49mastype(dtype\u001b[39m=\u001b[39;49mdtype, copy\u001b[39m=\u001b[39;49mcopy, errors\u001b[39m=\u001b[39;49merrors)\n\u001b[0;32m   6241\u001b[0m     \u001b[39mreturn\u001b[39;00m \u001b[39mself\u001b[39m\u001b[39m.\u001b[39m_constructor(new_data)\u001b[39m.\u001b[39m__finalize__(\u001b[39mself\u001b[39m, method\u001b[39m=\u001b[39m\u001b[39m\"\u001b[39m\u001b[39mastype\u001b[39m\u001b[39m\"\u001b[39m)\n\u001b[0;32m   6243\u001b[0m \u001b[39m# GH 33113: handle empty frame or series\u001b[39;00m\n",
      "File \u001b[1;32mc:\\Users\\nlab\\anaconda3\\envs\\ephys0\\lib\\site-packages\\pandas\\core\\internals\\managers.py:448\u001b[0m, in \u001b[0;36mBaseBlockManager.astype\u001b[1;34m(self, dtype, copy, errors)\u001b[0m\n\u001b[0;32m    447\u001b[0m \u001b[39mdef\u001b[39;00m \u001b[39mastype\u001b[39m(\u001b[39mself\u001b[39m: T, dtype, copy: \u001b[39mbool\u001b[39m \u001b[39m=\u001b[39m \u001b[39mFalse\u001b[39;00m, errors: \u001b[39mstr\u001b[39m \u001b[39m=\u001b[39m \u001b[39m\"\u001b[39m\u001b[39mraise\u001b[39m\u001b[39m\"\u001b[39m) \u001b[39m-\u001b[39m\u001b[39m>\u001b[39m T:\n\u001b[1;32m--> 448\u001b[0m     \u001b[39mreturn\u001b[39;00m \u001b[39mself\u001b[39;49m\u001b[39m.\u001b[39;49mapply(\u001b[39m\"\u001b[39;49m\u001b[39mastype\u001b[39;49m\u001b[39m\"\u001b[39;49m, dtype\u001b[39m=\u001b[39;49mdtype, copy\u001b[39m=\u001b[39;49mcopy, errors\u001b[39m=\u001b[39;49merrors)\n",
      "File \u001b[1;32mc:\\Users\\nlab\\anaconda3\\envs\\ephys0\\lib\\site-packages\\pandas\\core\\internals\\managers.py:352\u001b[0m, in \u001b[0;36mBaseBlockManager.apply\u001b[1;34m(self, f, align_keys, ignore_failures, **kwargs)\u001b[0m\n\u001b[0;32m    350\u001b[0m         applied \u001b[39m=\u001b[39m b\u001b[39m.\u001b[39mapply(f, \u001b[39m*\u001b[39m\u001b[39m*\u001b[39mkwargs)\n\u001b[0;32m    351\u001b[0m     \u001b[39melse\u001b[39;00m:\n\u001b[1;32m--> 352\u001b[0m         applied \u001b[39m=\u001b[39m \u001b[39mgetattr\u001b[39;49m(b, f)(\u001b[39m*\u001b[39;49m\u001b[39m*\u001b[39;49mkwargs)\n\u001b[0;32m    353\u001b[0m \u001b[39mexcept\u001b[39;00m (\u001b[39mTypeError\u001b[39;00m, \u001b[39mNotImplementedError\u001b[39;00m):\n\u001b[0;32m    354\u001b[0m     \u001b[39mif\u001b[39;00m \u001b[39mnot\u001b[39;00m ignore_failures:\n",
      "File \u001b[1;32mc:\\Users\\nlab\\anaconda3\\envs\\ephys0\\lib\\site-packages\\pandas\\core\\internals\\blocks.py:526\u001b[0m, in \u001b[0;36mBlock.astype\u001b[1;34m(self, dtype, copy, errors)\u001b[0m\n\u001b[0;32m    508\u001b[0m \u001b[39m\u001b[39m\u001b[39m\"\"\"\u001b[39;00m\n\u001b[0;32m    509\u001b[0m \u001b[39mCoerce to the new dtype.\u001b[39;00m\n\u001b[0;32m    510\u001b[0m \n\u001b[1;32m   (...)\u001b[0m\n\u001b[0;32m    522\u001b[0m \u001b[39mBlock\u001b[39;00m\n\u001b[0;32m    523\u001b[0m \u001b[39m\"\"\"\u001b[39;00m\n\u001b[0;32m    524\u001b[0m values \u001b[39m=\u001b[39m \u001b[39mself\u001b[39m\u001b[39m.\u001b[39mvalues\n\u001b[1;32m--> 526\u001b[0m new_values \u001b[39m=\u001b[39m astype_array_safe(values, dtype, copy\u001b[39m=\u001b[39;49mcopy, errors\u001b[39m=\u001b[39;49merrors)\n\u001b[0;32m    528\u001b[0m new_values \u001b[39m=\u001b[39m maybe_coerce_values(new_values)\n\u001b[0;32m    529\u001b[0m newb \u001b[39m=\u001b[39m \u001b[39mself\u001b[39m\u001b[39m.\u001b[39mmake_block(new_values)\n",
      "File \u001b[1;32mc:\\Users\\nlab\\anaconda3\\envs\\ephys0\\lib\\site-packages\\pandas\\core\\dtypes\\astype.py:299\u001b[0m, in \u001b[0;36mastype_array_safe\u001b[1;34m(values, dtype, copy, errors)\u001b[0m\n\u001b[0;32m    296\u001b[0m     \u001b[39mreturn\u001b[39;00m values\u001b[39m.\u001b[39mcopy()\n\u001b[0;32m    298\u001b[0m \u001b[39mtry\u001b[39;00m:\n\u001b[1;32m--> 299\u001b[0m     new_values \u001b[39m=\u001b[39m astype_array(values, dtype, copy\u001b[39m=\u001b[39;49mcopy)\n\u001b[0;32m    300\u001b[0m \u001b[39mexcept\u001b[39;00m (\u001b[39mValueError\u001b[39;00m, \u001b[39mTypeError\u001b[39;00m):\n\u001b[0;32m    301\u001b[0m     \u001b[39m# e.g. astype_nansafe can fail on object-dtype of strings\u001b[39;00m\n\u001b[0;32m    302\u001b[0m     \u001b[39m#  trying to convert to float\u001b[39;00m\n\u001b[0;32m    303\u001b[0m     \u001b[39mif\u001b[39;00m errors \u001b[39m==\u001b[39m \u001b[39m\"\u001b[39m\u001b[39mignore\u001b[39m\u001b[39m\"\u001b[39m:\n",
      "File \u001b[1;32mc:\\Users\\nlab\\anaconda3\\envs\\ephys0\\lib\\site-packages\\pandas\\core\\dtypes\\astype.py:230\u001b[0m, in \u001b[0;36mastype_array\u001b[1;34m(values, dtype, copy)\u001b[0m\n\u001b[0;32m    227\u001b[0m     values \u001b[39m=\u001b[39m values\u001b[39m.\u001b[39mastype(dtype, copy\u001b[39m=\u001b[39mcopy)\n\u001b[0;32m    229\u001b[0m \u001b[39melse\u001b[39;00m:\n\u001b[1;32m--> 230\u001b[0m     values \u001b[39m=\u001b[39m astype_nansafe(values, dtype, copy\u001b[39m=\u001b[39;49mcopy)\n\u001b[0;32m    232\u001b[0m \u001b[39m# in pandas we don't store numpy str dtypes, so convert to object\u001b[39;00m\n\u001b[0;32m    233\u001b[0m \u001b[39mif\u001b[39;00m \u001b[39misinstance\u001b[39m(dtype, np\u001b[39m.\u001b[39mdtype) \u001b[39mand\u001b[39;00m \u001b[39missubclass\u001b[39m(values\u001b[39m.\u001b[39mdtype\u001b[39m.\u001b[39mtype, \u001b[39mstr\u001b[39m):\n",
      "File \u001b[1;32mc:\\Users\\nlab\\anaconda3\\envs\\ephys0\\lib\\site-packages\\pandas\\core\\dtypes\\astype.py:140\u001b[0m, in \u001b[0;36mastype_nansafe\u001b[1;34m(arr, dtype, copy, skipna)\u001b[0m\n\u001b[0;32m    137\u001b[0m     \u001b[39mraise\u001b[39;00m \u001b[39mTypeError\u001b[39;00m(\u001b[39mf\u001b[39m\u001b[39m\"\u001b[39m\u001b[39mcannot astype a timedelta from [\u001b[39m\u001b[39m{\u001b[39;00marr\u001b[39m.\u001b[39mdtype\u001b[39m}\u001b[39;00m\u001b[39m] to [\u001b[39m\u001b[39m{\u001b[39;00mdtype\u001b[39m}\u001b[39;00m\u001b[39m]\u001b[39m\u001b[39m\"\u001b[39m)\n\u001b[0;32m    139\u001b[0m \u001b[39melif\u001b[39;00m np\u001b[39m.\u001b[39missubdtype(arr\u001b[39m.\u001b[39mdtype, np\u001b[39m.\u001b[39mfloating) \u001b[39mand\u001b[39;00m is_integer_dtype(dtype):\n\u001b[1;32m--> 140\u001b[0m     \u001b[39mreturn\u001b[39;00m _astype_float_to_int_nansafe(arr, dtype, copy)\n\u001b[0;32m    142\u001b[0m \u001b[39melif\u001b[39;00m is_object_dtype(arr\u001b[39m.\u001b[39mdtype):\n\u001b[0;32m    143\u001b[0m \n\u001b[0;32m    144\u001b[0m     \u001b[39m# if we have a datetime/timedelta array of objects\u001b[39;00m\n\u001b[0;32m    145\u001b[0m     \u001b[39m# then coerce to a proper dtype and recall astype_nansafe\u001b[39;00m\n\u001b[0;32m    147\u001b[0m     \u001b[39mif\u001b[39;00m is_datetime64_dtype(dtype):\n",
      "File \u001b[1;32mc:\\Users\\nlab\\anaconda3\\envs\\ephys0\\lib\\site-packages\\pandas\\core\\dtypes\\astype.py:182\u001b[0m, in \u001b[0;36m_astype_float_to_int_nansafe\u001b[1;34m(values, dtype, copy)\u001b[0m\n\u001b[0;32m    178\u001b[0m \u001b[39m\u001b[39m\u001b[39m\"\"\"\u001b[39;00m\n\u001b[0;32m    179\u001b[0m \u001b[39mastype with a check preventing converting NaN to an meaningless integer value.\u001b[39;00m\n\u001b[0;32m    180\u001b[0m \u001b[39m\"\"\"\u001b[39;00m\n\u001b[0;32m    181\u001b[0m \u001b[39mif\u001b[39;00m \u001b[39mnot\u001b[39;00m np\u001b[39m.\u001b[39misfinite(values)\u001b[39m.\u001b[39mall():\n\u001b[1;32m--> 182\u001b[0m     \u001b[39mraise\u001b[39;00m IntCastingNaNError(\n\u001b[0;32m    183\u001b[0m         \u001b[39m\"\u001b[39m\u001b[39mCannot convert non-finite values (NA or inf) to integer\u001b[39m\u001b[39m\"\u001b[39m\n\u001b[0;32m    184\u001b[0m     )\n\u001b[0;32m    185\u001b[0m \u001b[39mif\u001b[39;00m dtype\u001b[39m.\u001b[39mkind \u001b[39m==\u001b[39m \u001b[39m\"\u001b[39m\u001b[39mu\u001b[39m\u001b[39m\"\u001b[39m:\n\u001b[0;32m    186\u001b[0m     \u001b[39m# GH#45151\u001b[39;00m\n\u001b[0;32m    187\u001b[0m     \u001b[39mif\u001b[39;00m \u001b[39mnot\u001b[39;00m (values \u001b[39m>\u001b[39m\u001b[39m=\u001b[39m \u001b[39m0\u001b[39m)\u001b[39m.\u001b[39mall():\n",
      "\u001b[1;31mIntCastingNaNError\u001b[0m: Cannot convert non-finite values (NA or inf) to integer"
     ]
    }
   ],
   "source": [
    "\n",
    "        df = df[df['gt_obstacle_cen_x_cm'].notna()]\n",
    "\n",
    "\n",
    "        kmeans_input = np.vstack([df['gt_obstacle_cen_x_cm'].values, df['gt_obstacle_cen_y_cm'].values])\n",
    "\n",
    "        kmeans_input = np.transpose(kmeans_input)\n",
    "\n",
    "        labels = KMeans(n_clusters=9).fit(kmeans_input).labels_\n",
    "        df['obstacle_cluster'] = labels\n",
    "\n",
    "        #get mean of obstacle center\n",
    "        for clusters, cluster_name in enumerate(df['obstacle_cluster'].unique()):\n",
    "            x=df.loc[df['obstacle_cluster']==cluster_name]\n",
    "            mean_cenx = np.nanmean(x['gt_obstacle_cen_x_cm'])\n",
    "            mean_ceny = np.nanmean(x['gt_obstacle_cen_y_cm'])\n",
    "  \n",
    "            for ind,row in df.iterrows(): \n",
    "                if row['obstacle_cluster'] == cluster_name:\n",
    "                    df.at[ind,'mean_gt_obstacle_cen_x_cm'] = mean_cenx\n",
    "                    df.at[ind,'mean_gt_obstacle_cen_y_cm'] = mean_ceny\n",
    "        #label cluster by position \n",
    "        df['cluster_label'] = np.nan\n",
    "        for clusters, cluster_name in enumerate(df['obstacle_cluster'].unique()):\n",
    "            #label cluster by obstacle post\n",
    "            x=df.loc[df['obstacle_cluster']==cluster_name]\n",
    "            for ind,row in x.iterrows():\n",
    "                # position top left label 0\n",
    "                if 26.511267901536936 <= x['mean_gt_obstacle_cen_x_cm'].unique() <= 29.262555270323688 and 19.603003146893094 <= x['mean_gt_obstacle_cen_y_cm'].unique() <= 21.48005617413041:\n",
    "                    df.at[ind,'cluster_label'] = 0\n",
    "                # postion top middle lable 1     \n",
    "                if 34.224618031842425  <= x['mean_gt_obstacle_cen_x_cm'].unique() <= 40.737819614353576  and 19.171765596431882  <= x['mean_gt_obstacle_cen_y_cm'].unique() <= 21.765871122032685:\n",
    "                    df.at[ind,'cluster_label'] = 1\n",
    "                # postion top middle lable 2     \n",
    "                if 47.10153827545068   <= x['mean_gt_obstacle_cen_x_cm'].unique() <= 51.15598067362944  and 19.386902039003104  <= x['mean_gt_obstacle_cen_y_cm'].unique() <= 21.36299006442639:\n",
    "                    df.at[ind,'cluster_label'] = 2\n",
    "                # postion top middle lable 3     \n",
    "                if 24.622638543067332    <= x['mean_gt_obstacle_cen_x_cm'].unique() <= 30.32366857885396   and 24.072987056842724  <= x['mean_gt_obstacle_cen_y_cm'].unique() <= 28.06565031743722:\n",
    "                    df.at[ind,'cluster_label'] = 3 \n",
    "                # postion top middle lable 4     \n",
    "                if 34.33696422611072     <= x['mean_gt_obstacle_cen_x_cm'].unique() <= 39.16315460138148   and 23.33051936216178  <= x['mean_gt_obstacle_cen_y_cm'].unique() <= 28.21568031983405:\n",
    "                    df.at[ind,'cluster_label'] = 4\n",
    "                # postion top middle lable 5     \n",
    "                if 46.78662583258851     <= x['mean_gt_obstacle_cen_x_cm'].unique() <= 51.45490492362184   and 23.30309610363196  <= x['mean_gt_obstacle_cen_y_cm'].unique() <= 26.340749658133035:\n",
    "                    df.at[ind,'cluster_label'] = 5\n",
    "                # postion top middle lable 6     \n",
    "                if 23.672283873362495      <= x['mean_gt_obstacle_cen_x_cm'].unique() <= 29.24383212681531  and 31.13010098995012  <= x['mean_gt_obstacle_cen_y_cm'].unique() <= 32.9010213861951:\n",
    "                    df.at[ind,'cluster_label'] = 6\n",
    "                # postion top middle lable 7     \n",
    "                if 34.99528058841633      <= x['mean_gt_obstacle_cen_x_cm'].unique() <= 38.68741237003255   and 30.937326612118863  <= x['mean_gt_obstacle_cen_y_cm'].unique() <= 32.92257553927523:\n",
    "                    df.at[ind,'cluster_label'] = 7\n",
    "                # postion top middle lable 8     \n",
    "                if 47.0371762841755 <= x['mean_gt_obstacle_cen_x_cm'].unique() <= 52.09703145249776    and 30.463949607263373  <= x['mean_gt_obstacle_cen_y_cm'].unique() <= 32.749148951731954:\n",
    "                    df.at[ind,'cluster_label'] = 8\n",
    "        df['cluster_label'] = df['cluster_label'].astype('int')\n",
    "\n"
   ]
  },
  {
   "cell_type": "code",
   "execution_count": 70,
   "metadata": {},
   "outputs": [
    {
     "data": {
      "text/plain": [
       "1"
      ]
     },
     "execution_count": 70,
     "metadata": {},
     "output_type": "execute_result"
    }
   ],
   "source": [
    "df['gt_obstacle_cen_x_cm'].isna().sum()"
   ]
  },
  {
   "cell_type": "code",
   "execution_count": 29,
   "metadata": {},
   "outputs": [
    {
     "name": "stdout",
     "output_type": "stream",
     "text": [
      "nan\n"
     ]
    },
    {
     "data": {
      "text/plain": [
       "(0.0, 72.0)"
      ]
     },
     "execution_count": 29,
     "metadata": {},
     "output_type": "execute_result"
    },
    {
     "data": {
      "image/png": "[encoded data removed]",
      "text/plain": [
       "<Figure size 640x480 with 1 Axes>"
      ]
     },
     "metadata": {},
     "output_type": "display_data"
    }
   ],
   "source": [
    "print(df.at[0,'odd'])\n",
    "plt.plot(df.at[0,'ts_nose_x_cm'],df.at[0,'ts_nose_y_cm'],c ='b')\n",
    "\n",
    "#plt.plot(df.at[1158,'interp_ts_nose_x_cm'],df.at[1158,'interp_ts_nose_y_cm'],c = 'r')\n",
    "\n",
    "plt.plot([df.at[0,'mean_arenaTL_x_cm'], df.at[0,'mean_arenaTR_x_cm'], df.at[0,'mean_arenaBR_x_cm'], df.at[0,'mean_arenaBL_x_cm'],df.at[0,'mean_arenaTL_x_cm']],\n",
    "            [df.at[0,'mean_arenaTL_y_cm'], df.at[0,'mean_arenaTR_y_cm'], df.at[0,'mean_arenaBR_y_cm'], df.at[0,'mean_arenaBL_y_cm'],df.at[0,'mean_arenaTL_y_cm']],color='green')\n",
    "\n",
    "plt.plot([df.at[0,'gt_obstacleTL_x_cm'], df.at[0,'gt_obstacleTR_x_cm'], df.at[0,'gt_obstacleBR_x_cm'], df.at[0,'gt_obstacleBL_x_cm'],df.at[0,'gt_obstacleTL_x_cm']],\n",
    "            [df.at[0,'gt_obstacleTL_y_cm'], df.at[0,'gt_obstacleTR_y_cm'], df.at[0,'gt_obstacleBR_y_cm'], df.at[0,'gt_obstacleBL_y_cm'],df.at[0,'gt_obstacleTL_y_cm']],color='green')\n",
    "\n",
    "plt.ylim([52,0]); plt.xlim([0, 72])"
   ]
  },
  {
   "cell_type": "code",
   "execution_count": 15,
   "metadata": {},
   "outputs": [
    {
     "ename": "AxisError",
     "evalue": "axis 0 is out of bounds for array of dimension 0",
     "output_type": "error",
     "traceback": [
      "\u001b[1;31m---------------------------------------------------------------------------\u001b[0m",
      "\u001b[1;31mAxisError\u001b[0m                                 Traceback (most recent call last)",
      "Cell \u001b[1;32mIn[15], line 1\u001b[0m\n\u001b[1;32m----> 1\u001b[0m dist_to_posts \u001b[39m=\u001b[39m np\u001b[39m.\u001b[39;49mmedian(df[\u001b[39m'\u001b[39;49m\u001b[39marenaTR_x\u001b[39;49m\u001b[39m'\u001b[39;49m]\u001b[39m.\u001b[39;49miloc[\u001b[39m0\u001b[39;49m],\u001b[39m0\u001b[39;49m) \u001b[39m-\u001b[39m np\u001b[39m.\u001b[39mmedian(df[\u001b[39m'\u001b[39m\u001b[39marenaTL_x\u001b[39m\u001b[39m'\u001b[39m]\u001b[39m.\u001b[39miloc[\u001b[39m0\u001b[39m],\u001b[39m0\u001b[39m)\n",
      "File \u001b[1;32m<__array_function__ internals>:180\u001b[0m, in \u001b[0;36mmedian\u001b[1;34m(*args, **kwargs)\u001b[0m\n",
      "File \u001b[1;32mc:\\Users\\nlab\\anaconda3\\envs\\ephys0\\lib\\site-packages\\numpy\\lib\\function_base.py:3816\u001b[0m, in \u001b[0;36mmedian\u001b[1;34m(a, axis, out, overwrite_input, keepdims)\u001b[0m\n\u001b[0;32m   3734\u001b[0m \u001b[39m@array_function_dispatch\u001b[39m(_median_dispatcher)\n\u001b[0;32m   3735\u001b[0m \u001b[39mdef\u001b[39;00m \u001b[39mmedian\u001b[39m(a, axis\u001b[39m=\u001b[39m\u001b[39mNone\u001b[39;00m, out\u001b[39m=\u001b[39m\u001b[39mNone\u001b[39;00m, overwrite_input\u001b[39m=\u001b[39m\u001b[39mFalse\u001b[39;00m, keepdims\u001b[39m=\u001b[39m\u001b[39mFalse\u001b[39;00m):\n\u001b[0;32m   3736\u001b[0m \u001b[39m    \u001b[39m\u001b[39m\"\"\"\u001b[39;00m\n\u001b[0;32m   3737\u001b[0m \u001b[39m    Compute the median along the specified axis.\u001b[39;00m\n\u001b[0;32m   3738\u001b[0m \n\u001b[1;32m   (...)\u001b[0m\n\u001b[0;32m   3814\u001b[0m \n\u001b[0;32m   3815\u001b[0m \u001b[39m    \"\"\"\u001b[39;00m\n\u001b[1;32m-> 3816\u001b[0m     r, k \u001b[39m=\u001b[39m _ureduce(a, func\u001b[39m=\u001b[39;49m_median, axis\u001b[39m=\u001b[39;49maxis, out\u001b[39m=\u001b[39;49mout,\n\u001b[0;32m   3817\u001b[0m                     overwrite_input\u001b[39m=\u001b[39;49moverwrite_input)\n\u001b[0;32m   3818\u001b[0m     \u001b[39mif\u001b[39;00m keepdims:\n\u001b[0;32m   3819\u001b[0m         \u001b[39mreturn\u001b[39;00m r\u001b[39m.\u001b[39mreshape(k)\n",
      "File \u001b[1;32mc:\\Users\\nlab\\anaconda3\\envs\\ephys0\\lib\\site-packages\\numpy\\lib\\function_base.py:3705\u001b[0m, in \u001b[0;36m_ureduce\u001b[1;34m(a, func, **kwargs)\u001b[0m\n\u001b[0;32m   3703\u001b[0m keepdim \u001b[39m=\u001b[39m \u001b[39mlist\u001b[39m(a\u001b[39m.\u001b[39mshape)\n\u001b[0;32m   3704\u001b[0m nd \u001b[39m=\u001b[39m a\u001b[39m.\u001b[39mndim\n\u001b[1;32m-> 3705\u001b[0m axis \u001b[39m=\u001b[39m _nx\u001b[39m.\u001b[39;49mnormalize_axis_tuple(axis, nd)\n\u001b[0;32m   3707\u001b[0m \u001b[39mfor\u001b[39;00m ax \u001b[39min\u001b[39;00m axis:\n\u001b[0;32m   3708\u001b[0m     keepdim[ax] \u001b[39m=\u001b[39m \u001b[39m1\u001b[39m\n",
      "File \u001b[1;32mc:\\Users\\nlab\\anaconda3\\envs\\ephys0\\lib\\site-packages\\numpy\\core\\numeric.py:1397\u001b[0m, in \u001b[0;36mnormalize_axis_tuple\u001b[1;34m(axis, ndim, argname, allow_duplicate)\u001b[0m\n\u001b[0;32m   1395\u001b[0m         \u001b[39mpass\u001b[39;00m\n\u001b[0;32m   1396\u001b[0m \u001b[39m# Going via an iterator directly is slower than via list comprehension.\u001b[39;00m\n\u001b[1;32m-> 1397\u001b[0m axis \u001b[39m=\u001b[39m \u001b[39mtuple\u001b[39m([normalize_axis_index(ax, ndim, argname) \u001b[39mfor\u001b[39;00m ax \u001b[39min\u001b[39;00m axis])\n\u001b[0;32m   1398\u001b[0m \u001b[39mif\u001b[39;00m \u001b[39mnot\u001b[39;00m allow_duplicate \u001b[39mand\u001b[39;00m \u001b[39mlen\u001b[39m(\u001b[39mset\u001b[39m(axis)) \u001b[39m!=\u001b[39m \u001b[39mlen\u001b[39m(axis):\n\u001b[0;32m   1399\u001b[0m     \u001b[39mif\u001b[39;00m argname:\n",
      "File \u001b[1;32mc:\\Users\\nlab\\anaconda3\\envs\\ephys0\\lib\\site-packages\\numpy\\core\\numeric.py:1397\u001b[0m, in \u001b[0;36m<listcomp>\u001b[1;34m(.0)\u001b[0m\n\u001b[0;32m   1395\u001b[0m         \u001b[39mpass\u001b[39;00m\n\u001b[0;32m   1396\u001b[0m \u001b[39m# Going via an iterator directly is slower than via list comprehension.\u001b[39;00m\n\u001b[1;32m-> 1397\u001b[0m axis \u001b[39m=\u001b[39m \u001b[39mtuple\u001b[39m([normalize_axis_index(ax, ndim, argname) \u001b[39mfor\u001b[39;00m ax \u001b[39min\u001b[39;00m axis])\n\u001b[0;32m   1398\u001b[0m \u001b[39mif\u001b[39;00m \u001b[39mnot\u001b[39;00m allow_duplicate \u001b[39mand\u001b[39;00m \u001b[39mlen\u001b[39m(\u001b[39mset\u001b[39m(axis)) \u001b[39m!=\u001b[39m \u001b[39mlen\u001b[39m(axis):\n\u001b[0;32m   1399\u001b[0m     \u001b[39mif\u001b[39;00m argname:\n",
      "\u001b[1;31mAxisError\u001b[0m: axis 0 is out of bounds for array of dimension 0"
     ]
    }
   ],
   "source": [
    " dist_to_posts = np.median(df['arenaTR_x'].iloc[0],0) - np.median(df['arenaTL_x'].iloc[0],0)"
   ]
  },
  {
   "cell_type": "code",
   "execution_count": 64,
   "metadata": {},
   "outputs": [
    {
     "data": {
      "text/plain": [
       "0"
      ]
     },
     "execution_count": 64,
     "metadata": {},
     "output_type": "execute_result"
    }
   ],
   "source": [
    "df['obstacleBL_x_cm'].isnull().sum()"
   ]
  },
  {
   "cell_type": "code",
   "execution_count": 58,
   "metadata": {},
   "outputs": [
    {
     "data": {
      "text/plain": [
       "array([44.43312825578971, 44.450754302039556, 44.434214531170234,\n",
       "       44.42704729712687, 44.39978942721401, 44.42532781599689,\n",
       "       44.40460670371308, 44.39821187151064, 44.42511765719211,\n",
       "       44.42256299951329, 44.36293248565968, 44.41587885778738,\n",
       "       44.43395524433318, 44.43985060820739, 44.42595829241121,\n",
       "       44.43764803475994, 44.43287715695803, 44.44163559338042,\n",
       "       44.43488321827634, 44.43255782474818, 44.39680080525,\n",
       "       44.436943866297185, 44.442416183226726, 44.406454463594024,\n",
       "       44.43124774388724, 44.412884777153124, 44.41728719471289,\n",
       "       44.439782374829214, 44.444274860448175, 44.436608158076574,\n",
       "       44.41979272435943, 44.42906700512081, 44.40644081691839,\n",
       "       44.416386514121, 44.42437527803758, 44.43710216773455,\n",
       "       44.40548282028883, 44.41025369809074, 44.435819380224885,\n",
       "       44.41908309722643, 44.44150458529432, 44.41576149637692,\n",
       "       44.447509122573614, 44.448704571359215, 44.441755684126,\n",
       "       44.435300806550764, 44.36158146477184, 44.41286567180723,\n",
       "       44.417936776473105, 44.43106214909861, 44.41466157432077,\n",
       "       44.441428163910764, 44.44896385819628, 44.42857026612771,\n",
       "       44.4515185158751, 44.41170297504315, 44.367856206228694,\n",
       "       44.431395127984096, 44.44289108753881, 44.44387637751964,\n",
       "       44.427287478618034, 44.41530842674585, 44.43312825578971,\n",
       "       44.439337493203524, 44.43386790560911, 44.42112191056626,\n",
       "       44.39373030323218, 44.40939122819062, 44.39828829289419,\n",
       "       44.41615179130008, 44.361895338311435, 44.422805910339584,\n",
       "       44.43788548691599, 44.407376978866935, 44.405452797602436,\n",
       "       44.441725661439605, 44.4149181318227, 44.43045077803017,\n",
       "       44.405499196299594, 44.40110223741008, 44.41933965472836,\n",
       "       44.41961258824105, 44.4050843373603, 44.429858512307625,\n",
       "       44.438603302054375, 44.42488839304145, 44.42193252309896,\n",
       "       44.42561439618522, 44.421179226603925, 44.415098267941076,\n",
       "       44.420256711331014, 44.40911010667255, 44.425366026688664,\n",
       "       44.43256328341843, 44.42474373827972, 44.440885026220506,\n",
       "       44.45508575688603, 44.42992401635067, 44.44298934360338,\n",
       "       44.4390618303557, 44.4153029680756, 44.42414874322204,\n",
       "       44.43589307227331, 44.43180725758827, 44.42056785553549,\n",
       "       44.41042564620374, 44.41147371089249, 44.42460454218825,\n",
       "       44.412999409228455, 44.411225341395934, 44.401481614992726,\n",
       "       44.41835982341778, 44.41438864080807, 44.43163258014014,\n",
       "       44.444504124598836, 44.445811476124646, 39.03518843779892,\n",
       "       39.04531427111991, 39.13600734805334, 38.99391816134431,\n",
       "       38.972929574218064, 38.977872400132966, 38.94572629100775,\n",
       "       44.325562429101474, 44.3275193623875, 44.306776415422675,\n",
       "       44.294917454296076, 44.262831390543646, 44.29276400888091,\n",
       "       44.27584213109382, 44.32215621886304, 44.316656608582235,\n",
       "       44.3276913105005, 44.36561269275434, 44.36498221634002,\n",
       "       44.35663863885693, 44.37968787400403, 44.36134401261579,\n",
       "       44.34393904251123, 44.39642961567274, 44.41181487778336,\n",
       "       44.41398196987416, 44.372466053258115, 44.28743907604823,\n",
       "       44.28637190601359, 44.278686098296106, 44.25684322927512,\n",
       "       44.25524383889073, 44.242061150227556, 44.22691606960811,\n",
       "       44.241670855304406, 44.23622310239101, 44.26378119916783,\n",
       "       44.26546519894116, 44.347708254321546, 44.304833128812284,\n",
       "       44.35274114829564, 44.30190182288594, 44.30369226672922,\n",
       "       44.29403587905007, 44.30146512926563, 44.33230115752991,\n",
       "       44.32483915529283, 44.29948090262834, 44.321935142717756,\n",
       "       44.3390344272881, 44.34562577161969, 44.33449827230711,\n",
       "       44.33780076781072, 44.3309938060041, 44.32568251984706,\n",
       "       44.332317533540675, 44.3142629816759, 44.327156360815614,\n",
       "       44.350964351128, 44.3566959548946, 44.34819680530927,\n",
       "       44.34073480307219, 44.356330223987584, 44.345502951538975,\n",
       "       44.301093939688364, 44.26435981821474, 44.303539423962114,\n",
       "       44.26791614188516, 44.24774908463212, 44.111134944187754,\n",
       "       44.32712906746434, nan, nan, nan, nan, nan, nan, nan, nan, nan,\n",
       "       nan, nan, nan, nan, nan, nan, nan, nan, nan, nan, nan, nan, nan,\n",
       "       nan, nan, nan, nan, nan, nan, nan, nan, nan, nan, nan, nan, nan,\n",
       "       nan, nan, nan, nan, nan, nan, nan, nan, nan, nan, nan, nan, nan,\n",
       "       nan, nan, nan, nan, nan, nan, nan, nan, nan, nan, nan, nan, nan,\n",
       "       nan, nan, nan, nan, nan, nan, nan, nan, nan, nan, nan, nan],\n",
       "      dtype=object)"
      ]
     },
     "execution_count": 58,
     "metadata": {},
     "output_type": "execute_result"
    }
   ],
   "source": [
    "df.at[4,'obstacleBR_x_cm']"
   ]
  },
  {
   "cell_type": "code",
   "execution_count": 56,
   "metadata": {},
   "outputs": [],
   "source": [
    " for ind, row in df.iterrows():\n",
    "    xvals_cm = np.stack([row['gt_obstacleTL_x_cm'], row['gt_obstacleTR_x_cm'], row['gt_obstacleBL_x_cm'], row['gt_obstacleBR_x_cm']])\n",
    "    df.at[ind,'gt_obstacle_cen_x_cm' ] = np.mean(xvals_cm)\n",
    " "
   ]
  },
  {
   "cell_type": "code",
   "execution_count": 53,
   "metadata": {},
   "outputs": [
    {
     "data": {
      "text/plain": [
       "array([40.0644289 , 44.98841968, 40.03101365, 44.970679  ])"
      ]
     },
     "execution_count": 53,
     "metadata": {},
     "output_type": "execute_result"
    }
   ],
   "source": [
    "xvals_cm"
   ]
  },
  {
   "cell_type": "code",
   "execution_count": null,
   "metadata": {},
   "outputs": [],
   "source": [
    " for ind, row in self.data.iterrows():\n",
    "  \n",
    "            xvals = np.stack([row['gt_obstacleTL_x'], row['gt_obstacleTR_x'], row['gt_obstacleBL_x'], row['gt_obstacleBR_x']])\n",
    "            xvals_cm = np.stack([row['gt_obstacleTL_x_cm'], row['gt_obstacleTR_x_cm'], row['gt_obstacleBL_x_cm'], row['gt_obstacleBR_x_cm']])\n",
    "            self.data.at[ind,'gt_obstacle_cen_x' ] = np.mean(xvals)\n",
    "            self.data.at[ind,'gt_obstacle_cen_x_cm' ] = np.mean(xvals_cm)\n",
    "\n",
    "            yvals = np.stack([row['gt_obstacleTL_y'], row['gt_obstacleTR_y'], row['gt_obstacleBL_y'], row['gt_obstacleBR_y']])\n",
    "            yvals_cm = np.stack([row['gt_obstacleTL_y_cm'], row['gt_obstacleTR_y_cm'], row['gt_obstacleBL_y_cm'], row['gt_obstacleBR_y_cm']])\n",
    "            self.data.at[ind,'gt_obstacle_cen_y' ] = np.mean(yvals)\n",
    "            self.data.at[ind,'gt_obstacle_cen_y_cm' ] = np.mean(yvals_cm)"
   ]
  },
  {
   "cell_type": "code",
   "execution_count": null,
   "metadata": {},
   "outputs": [],
   "source": [
    "mean_gt_obstacle_cen_x_cm"
   ]
  },
  {
   "cell_type": "code",
   "execution_count": 5,
   "metadata": {},
   "outputs": [
    {
     "ename": "KeyError",
     "evalue": "'odd'",
     "output_type": "error",
     "traceback": [
      "\u001b[1;31m---------------------------------------------------------------------------\u001b[0m",
      "\u001b[1;31mKeyError\u001b[0m                                  Traceback (most recent call last)",
      "File \u001b[1;32mc:\\Users\\nlab\\anaconda3\\envs\\ephys0\\lib\\site-packages\\pandas\\core\\indexes\\base.py:3802\u001b[0m, in \u001b[0;36mIndex.get_loc\u001b[1;34m(self, key, method, tolerance)\u001b[0m\n\u001b[0;32m   3801\u001b[0m \u001b[39mtry\u001b[39;00m:\n\u001b[1;32m-> 3802\u001b[0m     \u001b[39mreturn\u001b[39;00m \u001b[39mself\u001b[39;49m\u001b[39m.\u001b[39;49m_engine\u001b[39m.\u001b[39;49mget_loc(casted_key)\n\u001b[0;32m   3803\u001b[0m \u001b[39mexcept\u001b[39;00m \u001b[39mKeyError\u001b[39;00m \u001b[39mas\u001b[39;00m err:\n",
      "File \u001b[1;32mc:\\Users\\nlab\\anaconda3\\envs\\ephys0\\lib\\site-packages\\pandas\\_libs\\index.pyx:138\u001b[0m, in \u001b[0;36mpandas._libs.index.IndexEngine.get_loc\u001b[1;34m()\u001b[0m\n",
      "File \u001b[1;32mc:\\Users\\nlab\\anaconda3\\envs\\ephys0\\lib\\site-packages\\pandas\\_libs\\index.pyx:165\u001b[0m, in \u001b[0;36mpandas._libs.index.IndexEngine.get_loc\u001b[1;34m()\u001b[0m\n",
      "File \u001b[1;32mpandas\\_libs\\hashtable_class_helper.pxi:5745\u001b[0m, in \u001b[0;36mpandas._libs.hashtable.PyObjectHashTable.get_item\u001b[1;34m()\u001b[0m\n",
      "File \u001b[1;32mpandas\\_libs\\hashtable_class_helper.pxi:5753\u001b[0m, in \u001b[0;36mpandas._libs.hashtable.PyObjectHashTable.get_item\u001b[1;34m()\u001b[0m\n",
      "\u001b[1;31mKeyError\u001b[0m: 'odd'",
      "\nThe above exception was the direct cause of the following exception:\n",
      "\u001b[1;31mKeyError\u001b[0m                                  Traceback (most recent call last)",
      "Cell \u001b[1;32mIn[5], line 2\u001b[0m\n\u001b[0;32m      1\u001b[0m \u001b[39mfor\u001b[39;00m ind, row \u001b[39min\u001b[39;00m df\u001b[39m.\u001b[39miterrows(): \n\u001b[1;32m----> 2\u001b[0m             \u001b[39mif\u001b[39;00m row[\u001b[39m'\u001b[39;49m\u001b[39modd\u001b[39;49m\u001b[39m'\u001b[39;49m] \u001b[39m==\u001b[39m \u001b[39mTrue\u001b[39;00m:\n\u001b[0;32m      3\u001b[0m                 nose_list \u001b[39m=\u001b[39m row[\u001b[39m'\u001b[39m\u001b[39mnose_x_cm\u001b[39m\u001b[39m'\u001b[39m] \n\u001b[0;32m      4\u001b[0m                 odd_ind \u001b[39m=\u001b[39m np\u001b[39m.\u001b[39margmax(nose_list\u001b[39m>\u001b[39m\u001b[39m16\u001b[39m)\n",
      "File \u001b[1;32mc:\\Users\\nlab\\anaconda3\\envs\\ephys0\\lib\\site-packages\\pandas\\core\\series.py:981\u001b[0m, in \u001b[0;36mSeries.__getitem__\u001b[1;34m(self, key)\u001b[0m\n\u001b[0;32m    978\u001b[0m     \u001b[39mreturn\u001b[39;00m \u001b[39mself\u001b[39m\u001b[39m.\u001b[39m_values[key]\n\u001b[0;32m    980\u001b[0m \u001b[39melif\u001b[39;00m key_is_scalar:\n\u001b[1;32m--> 981\u001b[0m     \u001b[39mreturn\u001b[39;00m \u001b[39mself\u001b[39;49m\u001b[39m.\u001b[39;49m_get_value(key)\n\u001b[0;32m    983\u001b[0m \u001b[39mif\u001b[39;00m is_hashable(key):\n\u001b[0;32m    984\u001b[0m     \u001b[39m# Otherwise index.get_value will raise InvalidIndexError\u001b[39;00m\n\u001b[0;32m    985\u001b[0m     \u001b[39mtry\u001b[39;00m:\n\u001b[0;32m    986\u001b[0m         \u001b[39m# For labels that don't resolve as scalars like tuples and frozensets\u001b[39;00m\n",
      "File \u001b[1;32mc:\\Users\\nlab\\anaconda3\\envs\\ephys0\\lib\\site-packages\\pandas\\core\\series.py:1089\u001b[0m, in \u001b[0;36mSeries._get_value\u001b[1;34m(self, label, takeable)\u001b[0m\n\u001b[0;32m   1086\u001b[0m     \u001b[39mreturn\u001b[39;00m \u001b[39mself\u001b[39m\u001b[39m.\u001b[39m_values[label]\n\u001b[0;32m   1088\u001b[0m \u001b[39m# Similar to Index.get_value, but we do not fall back to positional\u001b[39;00m\n\u001b[1;32m-> 1089\u001b[0m loc \u001b[39m=\u001b[39m \u001b[39mself\u001b[39;49m\u001b[39m.\u001b[39;49mindex\u001b[39m.\u001b[39;49mget_loc(label)\n\u001b[0;32m   1090\u001b[0m \u001b[39mreturn\u001b[39;00m \u001b[39mself\u001b[39m\u001b[39m.\u001b[39mindex\u001b[39m.\u001b[39m_get_values_for_loc(\u001b[39mself\u001b[39m, loc, label)\n",
      "File \u001b[1;32mc:\\Users\\nlab\\anaconda3\\envs\\ephys0\\lib\\site-packages\\pandas\\core\\indexes\\base.py:3804\u001b[0m, in \u001b[0;36mIndex.get_loc\u001b[1;34m(self, key, method, tolerance)\u001b[0m\n\u001b[0;32m   3802\u001b[0m     \u001b[39mreturn\u001b[39;00m \u001b[39mself\u001b[39m\u001b[39m.\u001b[39m_engine\u001b[39m.\u001b[39mget_loc(casted_key)\n\u001b[0;32m   3803\u001b[0m \u001b[39mexcept\u001b[39;00m \u001b[39mKeyError\u001b[39;00m \u001b[39mas\u001b[39;00m err:\n\u001b[1;32m-> 3804\u001b[0m     \u001b[39mraise\u001b[39;00m \u001b[39mKeyError\u001b[39;00m(key) \u001b[39mfrom\u001b[39;00m \u001b[39merr\u001b[39;00m\n\u001b[0;32m   3805\u001b[0m \u001b[39mexcept\u001b[39;00m \u001b[39mTypeError\u001b[39;00m:\n\u001b[0;32m   3806\u001b[0m     \u001b[39m# If we have a listlike key, _check_indexing_error will raise\u001b[39;00m\n\u001b[0;32m   3807\u001b[0m     \u001b[39m#  InvalidIndexError. Otherwise we fall through and re-raise\u001b[39;00m\n\u001b[0;32m   3808\u001b[0m     \u001b[39m#  the TypeError.\u001b[39;00m\n\u001b[0;32m   3809\u001b[0m     \u001b[39mself\u001b[39m\u001b[39m.\u001b[39m_check_indexing_error(key)\n",
      "\u001b[1;31mKeyError\u001b[0m: 'odd'"
     ]
    }
   ],
   "source": [
    "for ind, row in df.iterrows(): \n",
    "            if row['odd'] == True:\n",
    "                nose_list = row['nose_x_cm'] \n",
    "                odd_ind = np.argmax(nose_list>16)\n",
    "                for key in keys_list:\n",
    "                    df.at[ind,'ts_' + key] = row[key][odd_ind:]\n",
    "                #use odd_ind to index into obstacle \n",
    "                # iterate over columns list  \n",
    "\n",
    "                #create gt_obstacle points\n",
    "            else: \n",
    "                nose_list = row['nose_x_cm']\n",
    "                even_ind = np.argmax(nose_list<56)\n",
    "                for key in keys_list:\n",
    "                    df.at[ind,'ts_' + key] = row[key][even_ind:]"
   ]
  },
  {
   "cell_type": "code",
   "execution_count": 26,
   "metadata": {},
   "outputs": [
    {
     "ename": "TypeError",
     "evalue": "'float' object is not subscriptable",
     "output_type": "error",
     "traceback": [
      "\u001b[1;31m---------------------------------------------------------------------------\u001b[0m",
      "\u001b[1;31mTypeError\u001b[0m                                 Traceback (most recent call last)",
      "Cell \u001b[1;32mIn [26], line 2\u001b[0m\n\u001b[0;32m      1\u001b[0m \u001b[39mfor\u001b[39;00m ind,row \u001b[39min\u001b[39;00m df\u001b[39m.\u001b[39miterrows():\n\u001b[1;32m----> 2\u001b[0m     \u001b[39mif\u001b[39;00m row[\u001b[39m'\u001b[39;49m\u001b[39mnose_x_cm\u001b[39;49m\u001b[39m'\u001b[39;49m][\u001b[39m0\u001b[39;49m] \u001b[39m<\u001b[39m\u001b[39m=\u001b[39m \u001b[39m20\u001b[39m:\n\u001b[0;32m      3\u001b[0m         df\u001b[39m.\u001b[39mat[ind,\u001b[39m'\u001b[39m\u001b[39modd\u001b[39m\u001b[39m'\u001b[39m] \u001b[39m=\u001b[39m \u001b[39mTrue\u001b[39;00m \n\u001b[0;32m      4\u001b[0m     \u001b[39melif\u001b[39;00m row[\u001b[39m'\u001b[39m\u001b[39mnose_x_cm\u001b[39m\u001b[39m'\u001b[39m][\u001b[39m0\u001b[39m] \u001b[39m>\u001b[39m\u001b[39m=\u001b[39m\u001b[39m20\u001b[39m:\n",
      "\u001b[1;31mTypeError\u001b[0m: 'float' object is not subscriptable"
     ]
    }
   ],
   "source": [
    "for ind,row in df.iterrows():\n",
    "    if row['nose_x_cm'][0] <= 20:\n",
    "        df.at[ind,'odd'] = True \n",
    "    elif row['nose_x_cm'][0] >=20:\n",
    "        df.at[ind,'odd'] = False"
   ]
  },
  {
   "cell_type": "code",
   "execution_count": 35,
   "metadata": {},
   "outputs": [
    {
     "data": {
      "text/plain": [
       "61.38620010830393"
      ]
     },
     "execution_count": 35,
     "metadata": {},
     "output_type": "execute_result"
    }
   ],
   "source": [
    "\n",
    "np.mean(df.at[33,'nose_x_cm'][:10])"
   ]
  },
  {
   "cell_type": "code",
   "execution_count": 29,
   "metadata": {},
   "outputs": [
    {
     "data": {
      "text/plain": [
       "67"
      ]
     },
     "execution_count": 29,
     "metadata": {},
     "output_type": "execute_result"
    }
   ],
   "source": [
    "ind"
   ]
  }
 ],
 "metadata": {
  "kernelspec": {
   "display_name": "ephys0",
   "language": "python",
   "name": "python3"
  },
  "language_info": {
   "codemirror_mode": {
    "name": "ipython",
    "version": 3
   },
   "file_extension": ".py",
   "mimetype": "text/x-python",
   "name": "python",
   "nbconvert_exporter": "python",
   "pygments_lexer": "ipython3",
   "version": "3.8.15"
  },
  "orig_nbformat": 4,
  "vscode": {
   "interpreter": {
    "hash": "8d5aad94d69af8d54a80740ac3e999eae8a40d3534c4b9b883255615339559dc"
   }
  }
 },
 "nbformat": 4,
 "nbformat_minor": 2
}
