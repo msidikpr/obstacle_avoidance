{
 "cells": [
  {
   "cell_type": "code",
   "execution_count": 2,
   "metadata": {},
   "outputs": [],
   "source": [
    "%load_ext autoreload \n",
    "%autoreload 2\n",
    "import sys\n",
    "sys.path.insert(0, 'C:/Users/nlab/Documents/GitHub/obstacle_avoidance')\n",
    "import warnings\n",
    "warnings.filterwarnings('ignore')\n",
    "\n",
    "\n",
    "from pipeline.obstacle_avoidance_processing import AvoidanceProcessing\n",
    "\n",
    "\n",
    "import cv2\n",
    "import json, os, cv2\n",
    "from pathlib import Path\n",
    "import pandas as pd \n",
    "import matplotlib.pyplot as plt \n",
    "import numpy as np\n",
    "import xarray as xr\n",
    "import seaborn as sns\n",
    "import h5py as hf\n",
    "from tqdm import tqdm\n",
    "from tqdm import tqdm\n",
    "import itertools \n",
    "from scipy.interpolate import interp1d\n",
    "from scipy import signal\n",
    "from matplotlib.backends.backend_pdf import PdfPages\n",
    "from sklearn.cluster import KMeans\n",
    "import matplotlib.colors as mcolors\n",
    "import os, fnmatch"
   ]
  },
  {
   "cell_type": "code",
   "execution_count": 21,
   "metadata": {},
   "outputs": [
    {
     "name": "stderr",
     "output_type": "stream",
     "text": [
      "0it [00:00, ?it/s]"
     ]
    },
    {
     "name": "stdout",
     "output_type": "stream",
     "text": [
      "J20RT D:/obstacle_avoidance/recordings 101222\n",
      "['D:/obstacle_avoidance/recordings\\\\101222\\\\J20RT\\\\oa\\\\101222_J20RT_control_Rig2_oa_top1DLC_resnet50_object_avoidanceoct22shuffle1_1952000.h5']\n",
      "D:/obstacle_avoidance/recordings\\101222\\J20RT\\oa\n",
      "D:/obstacle_avoidance/recordings/101222/J20RT/oa\n",
      "101222_J20RT_control_Rig2_oa D:/obstacle_avoidance/recordings/101222/J20RT/oa\n",
      "hey\n",
      "45\n",
      "df made\n",
      "pxl\n",
      "arena_median\n",
      "smoothing\n",
      "saving101222_J20RT_control_Rig2_oaraw\n",
      "saving101222_J20RT_control_Rig2_oa processed\n"
     ]
    },
    {
     "name": "stderr",
     "output_type": "stream",
     "text": [
      "1it [00:06,  6.36s/it]"
     ]
    },
    {
     "name": "stdout",
     "output_type": "stream",
     "text": [
      "J20RT D:/obstacle_avoidance/recordings 101322\n",
      "['D:/obstacle_avoidance/recordings\\\\101322\\\\J20RT\\\\oa\\\\101322_J20RT_control_Rig2_oa_top1DLC_resnet50_object_avoidanceoct22shuffle1_1952000.h5']\n",
      "D:/obstacle_avoidance/recordings\\101322\\J20RT\\oa\n",
      "D:/obstacle_avoidance/recordings/101322/J20RT/oa\n",
      "101322_J20RT_control_Rig2_oa D:/obstacle_avoidance/recordings/101322/J20RT/oa\n",
      "hey\n",
      "48\n"
     ]
    },
    {
     "name": "stderr",
     "output_type": "stream",
     "text": [
      "2it [00:10,  5.20s/it]"
     ]
    },
    {
     "name": "stdout",
     "output_type": "stream",
     "text": [
      "df made\n",
      "pxl\n",
      "J20RT D:/obstacle_avoidance/recordings 101422\n",
      "['D:/obstacle_avoidance/recordings\\\\101422\\\\J20RT\\\\oa\\\\101422_J20RT_control_Rig2_oa_top1DLC_resnet50_object_avoidanceoct22shuffle1_1952000.h5']\n",
      "D:/obstacle_avoidance/recordings\\101422\\J20RT\\oa\n",
      "D:/obstacle_avoidance/recordings/101422/J20RT/oa\n",
      "101422_J20RT_control_Rig2_oa D:/obstacle_avoidance/recordings/101422/J20RT/oa\n",
      "hey\n",
      "44\n",
      "df made\n",
      "pxl\n",
      "arena_median\n",
      "smoothing\n",
      "saving101422_J20RT_control_Rig2_oaraw\n",
      "saving101422_J20RT_control_Rig2_oa processed\n"
     ]
    },
    {
     "name": "stderr",
     "output_type": "stream",
     "text": [
      "3it [00:16,  5.53s/it]\n"
     ]
    }
   ],
   "source": [
    "\n",
    "# metadata json path\n",
    "metadata_path = r'D:\\obstacle_avoidance\\metadata\\J20RT.json'\n",
    "\n",
    "#C:\\Users\\nlab\\Desktop\\mike_bonsai\\recordings\\metadata\n",
    "# task name\n",
    "# 'oa' for object avoidance\n",
    "# 'gd' for gap detection\n",
    "task_name = 'oa'\n",
    "\n",
    "session = AvoidanceProcessing(metadata_path, task=task_name) \n",
    "session.change_dlc_project(r'D:\\obstacle_avoidance\\deeplabcut\\obstacle_avoidance_100522-mike-2022-10-05\\config.yaml')\n",
    "#session.dlc_project\n",
    "#session.preprocess()\n",
    "session.process()"
   ]
  },
  {
   "cell_type": "code",
   "execution_count": 60,
   "metadata": {},
   "outputs": [],
   "source": [
    "df = pd.read_hdf(r\"D:\\obstacle_avoidance\\recordings\\021523\\J620LT\\oa\\processed_J620LT_021523_oa.h5\")\n",
    "\n",
    "df1 = pd.read_hdf(r\"D:\\obstacle_avoidance\\recordings\\101422\\J20RT\\oa\\processed_J20RT_101422_oa.h5\")"
   ]
  },
  {
   "cell_type": "code",
   "execution_count": 61,
   "metadata": {},
   "outputs": [
    {
     "data": {
      "text/plain": [
       "81"
      ]
     },
     "execution_count": 61,
     "metadata": {},
     "output_type": "execute_result"
    }
   ],
   "source": [
    "len(df)"
   ]
  },
  {
   "cell_type": "code",
   "execution_count": 66,
   "metadata": {},
   "outputs": [
    {
     "data": {
      "text/html": [
       "<div>\n",
       "<style scoped>\n",
       "    .dataframe tbody tr th:only-of-type {\n",
       "        vertical-align: middle;\n",
       "    }\n",
       "\n",
       "    .dataframe tbody tr th {\n",
       "        vertical-align: top;\n",
       "    }\n",
       "\n",
       "    .dataframe thead th {\n",
       "        text-align: right;\n",
       "    }\n",
       "</style>\n",
       "<table border=\"1\" class=\"dataframe\">\n",
       "  <thead>\n",
       "    <tr style=\"text-align: right;\">\n",
       "      <th></th>\n",
       "      <th>first_poke</th>\n",
       "      <th>second_poke</th>\n",
       "      <th>trial_timestamps</th>\n",
       "      <th>trial_vidframes</th>\n",
       "      <th>nose_x</th>\n",
       "      <th>nose_y</th>\n",
       "      <th>leftear_x</th>\n",
       "      <th>leftear_y</th>\n",
       "      <th>rightear_x</th>\n",
       "      <th>rightear_y</th>\n",
       "      <th>...</th>\n",
       "      <th>gt_obstacleTR_x_cm</th>\n",
       "      <th>gt_obstacleTR_y_cm</th>\n",
       "      <th>gt_obstacleBR_x_cm</th>\n",
       "      <th>gt_obstacleBR_y_cm</th>\n",
       "      <th>gt_obstacleBL_x_cm</th>\n",
       "      <th>gt_obstacleBL_y_cm</th>\n",
       "      <th>gt_obstacle_cen_x</th>\n",
       "      <th>gt_obstacle_cen_x_cm</th>\n",
       "      <th>gt_obstacle_cen_y</th>\n",
       "      <th>gt_obstacle_cen_y_cm</th>\n",
       "    </tr>\n",
       "  </thead>\n",
       "  <tbody>\n",
       "    <tr>\n",
       "      <th>0</th>\n",
       "      <td>55589.910694</td>\n",
       "      <td>55592.573363</td>\n",
       "      <td>[55589.92567, 55589.942336, 55589.959385, 5558...</td>\n",
       "      <td>[172, 173, 174, 175, 176, 177, 178, 179, 180, ...</td>\n",
       "      <td>[114.41011047363281, 114.04931640625, 114.4567...</td>\n",
       "      <td>[260.6685485839844, 260.719970703125, 261.2198...</td>\n",
       "      <td>[123.68523406982422, 123.43992614746094, 123.7...</td>\n",
       "      <td>[269.0312805175781, 269.5124816894531, 270.452...</td>\n",
       "      <td>[131.97830200195312, 131.4231414794922, 131.82...</td>\n",
       "      <td>[261.0414123535156, 261.03546142578125, 261.78...</td>\n",
       "      <td>...</td>\n",
       "      <td>38.677784</td>\n",
       "      <td>20.018264</td>\n",
       "      <td>38.765052</td>\n",
       "      <td>35.037574</td>\n",
       "      <td>33.800228</td>\n",
       "      <td>34.878452</td>\n",
       "      <td>336.128418</td>\n",
       "      <td>36.282243</td>\n",
       "      <td>255.037132</td>\n",
       "      <td>27.529119</td>\n",
       "    </tr>\n",
       "    <tr>\n",
       "      <th>1</th>\n",
       "      <td>55592.573363</td>\n",
       "      <td>55596.043072</td>\n",
       "      <td>[55592.576448, 55592.593356, 55592.610688, 555...</td>\n",
       "      <td>[[331, 332, 333, 334, 335, 336, 337, 338, 339,...</td>\n",
       "      <td>[569.9376220703125, 569.89990234375, 570.15112...</td>\n",
       "      <td>[257.7106628417969, 258.29327392578125, 258.35...</td>\n",
       "      <td>[563.468017578125, 563.1435546875, 562.9865722...</td>\n",
       "      <td>[246.4767303466797, 247.0903778076172, 247.316...</td>\n",
       "      <td>[553.7902221679688, 553.5784301757812, 553.438...</td>\n",
       "      <td>[252.8640899658203, 253.6081085205078, 254.148...</td>\n",
       "      <td>...</td>\n",
       "      <td>30.130197</td>\n",
       "      <td>24.737972</td>\n",
       "      <td>30.575684</td>\n",
       "      <td>39.786175</td>\n",
       "      <td>25.893802</td>\n",
       "      <td>39.736608</td>\n",
       "      <td>259.575554</td>\n",
       "      <td>28.019004</td>\n",
       "      <td>299.623463</td>\n",
       "      <td>32.341839</td>\n",
       "    </tr>\n",
       "    <tr>\n",
       "      <th>2</th>\n",
       "      <td>55596.043072</td>\n",
       "      <td>55598.701414</td>\n",
       "      <td>[55596.044403, 55596.06126, 55596.077772, 5559...</td>\n",
       "      <td>[539, 540, 541, 542, 543, 544, 545, 546, 547, ...</td>\n",
       "      <td>[112.23361206054688, 112.13844299316406, 112.0...</td>\n",
       "      <td>[261.6628723144531, 261.36572265625, 260.97338...</td>\n",
       "      <td>[121.4961929321289, 121.59054565429688, 121.19...</td>\n",
       "      <td>[271.4989013671875, 270.8448486328125, 270.242...</td>\n",
       "      <td>[128.702880859375, 128.755615234375, 128.40802...</td>\n",
       "      <td>[260.15728759765625, 259.86090087890625, 259.4...</td>\n",
       "      <td>...</td>\n",
       "      <td>30.168694</td>\n",
       "      <td>24.990030</td>\n",
       "      <td>30.572989</td>\n",
       "      <td>39.766256</td>\n",
       "      <td>25.885151</td>\n",
       "      <td>39.715686</td>\n",
       "      <td>259.333912</td>\n",
       "      <td>27.992920</td>\n",
       "      <td>300.533760</td>\n",
       "      <td>32.440098</td>\n",
       "    </tr>\n",
       "    <tr>\n",
       "      <th>3</th>\n",
       "      <td>55598.701414</td>\n",
       "      <td>55602.859289</td>\n",
       "      <td>[55598.712051, 55598.728985, 55598.74574, 5559...</td>\n",
       "      <td>[[699, 700, 701, 702, 703, 704, 705, 706, 707,...</td>\n",
       "      <td>[570.4071044921875, 570.4484252929688, 570.541...</td>\n",
       "      <td>[259.1560363769531, 259.2869873046875, 259.161...</td>\n",
       "      <td>[559.2915649414062, 559.7265014648438, 559.967...</td>\n",
       "      <td>[249.8021240234375, 250.12881469726562, 249.27...</td>\n",
       "      <td>[556.2125854492188, 556.3768310546875, 556.267...</td>\n",
       "      <td>[261.6835632324219, 261.7645263671875, 260.677...</td>\n",
       "      <td>...</td>\n",
       "      <td>30.237888</td>\n",
       "      <td>13.621044</td>\n",
       "      <td>30.258299</td>\n",
       "      <td>28.530656</td>\n",
       "      <td>25.995433</td>\n",
       "      <td>28.380899</td>\n",
       "      <td>259.372784</td>\n",
       "      <td>27.997116</td>\n",
       "      <td>194.922327</td>\n",
       "      <td>21.040230</td>\n",
       "    </tr>\n",
       "    <tr>\n",
       "      <th>4</th>\n",
       "      <td>55602.859289</td>\n",
       "      <td>55606.255180</td>\n",
       "      <td>[55602.863436, 55602.880179, 55602.896896, 556...</td>\n",
       "      <td>[948, 949, 950, 951, 952, 953, 954, 955, 956, ...</td>\n",
       "      <td>[112.10982513427734, 112.4399185180664, 112.60...</td>\n",
       "      <td>[262.7378234863281, 262.8009338378906, 262.942...</td>\n",
       "      <td>[121.96884155273438, 122.15755462646484, 121.8...</td>\n",
       "      <td>[272.2489929199219, 272.2918701171875, 272.408...</td>\n",
       "      <td>[128.989501953125, 129.34756469726562, 129.507...</td>\n",
       "      <td>[262.3678283691406, 263.1534423828125, 263.573...</td>\n",
       "      <td>...</td>\n",
       "      <td>40.241218</td>\n",
       "      <td>18.691827</td>\n",
       "      <td>40.859118</td>\n",
       "      <td>33.835161</td>\n",
       "      <td>36.038910</td>\n",
       "      <td>33.851271</td>\n",
       "      <td>353.563591</td>\n",
       "      <td>38.164224</td>\n",
       "      <td>243.783646</td>\n",
       "      <td>26.314400</td>\n",
       "    </tr>\n",
       "    <tr>\n",
       "      <th>...</th>\n",
       "      <td>...</td>\n",
       "      <td>...</td>\n",
       "      <td>...</td>\n",
       "      <td>...</td>\n",
       "      <td>...</td>\n",
       "      <td>...</td>\n",
       "      <td>...</td>\n",
       "      <td>...</td>\n",
       "      <td>...</td>\n",
       "      <td>...</td>\n",
       "      <td>...</td>\n",
       "      <td>...</td>\n",
       "      <td>...</td>\n",
       "      <td>...</td>\n",
       "      <td>...</td>\n",
       "      <td>...</td>\n",
       "      <td>...</td>\n",
       "      <td>...</td>\n",
       "      <td>...</td>\n",
       "      <td>...</td>\n",
       "      <td>...</td>\n",
       "    </tr>\n",
       "    <tr>\n",
       "      <th>79</th>\n",
       "      <td>55875.372928</td>\n",
       "      <td>55878.572134</td>\n",
       "      <td>[55875.3744, 55875.391129, 55875.407769, 55875...</td>\n",
       "      <td>[[17293, 17294, 17295, 17296, 17297, 17298, 17...</td>\n",
       "      <td>[574.5802612304688, 574.6004028320312, 574.850...</td>\n",
       "      <td>[259.66888427734375, 260.8497314453125, 260.63...</td>\n",
       "      <td>[558.9445190429688, 560.0055541992188, 560.443...</td>\n",
       "      <td>[255.07994079589844, 254.74929809570312, 254.0...</td>\n",
       "      <td>[560.1602783203125, 559.9780883789062, 560.029...</td>\n",
       "      <td>[268.2518615722656, 268.22052001953125, 267.67...</td>\n",
       "      <td>...</td>\n",
       "      <td>51.673765</td>\n",
       "      <td>14.136937</td>\n",
       "      <td>52.020685</td>\n",
       "      <td>28.793664</td>\n",
       "      <td>47.176949</td>\n",
       "      <td>28.649297</td>\n",
       "      <td>458.254524</td>\n",
       "      <td>49.464732</td>\n",
       "      <td>197.912462</td>\n",
       "      <td>21.362990</td>\n",
       "    </tr>\n",
       "    <tr>\n",
       "      <th>80</th>\n",
       "      <td>55878.572134</td>\n",
       "      <td>55881.496921</td>\n",
       "      <td>[55878.575347, 55878.59232, 55878.609164, 5587...</td>\n",
       "      <td>[17485, 17486, 17487, 17488, 17489, 17490, 174...</td>\n",
       "      <td>[113.35865783691406, 113.92428588867188, 114.0...</td>\n",
       "      <td>[262.1263732910156, 261.5000305175781, 261.468...</td>\n",
       "      <td>[124.12394714355469, 124.72077178955078, 124.7...</td>\n",
       "      <td>[270.93463134765625, 270.6994934082031, 271.17...</td>\n",
       "      <td>[131.80648803710938, 132.9622039794922, 133.65...</td>\n",
       "      <td>[262.25653076171875, 262.12188720703125, 262.3...</td>\n",
       "      <td>...</td>\n",
       "      <td>51.651833</td>\n",
       "      <td>14.133178</td>\n",
       "      <td>51.956569</td>\n",
       "      <td>28.622608</td>\n",
       "      <td>47.237809</td>\n",
       "      <td>28.546191</td>\n",
       "      <td>458.265259</td>\n",
       "      <td>49.465890</td>\n",
       "      <td>197.264561</td>\n",
       "      <td>21.293055</td>\n",
       "    </tr>\n",
       "    <tr>\n",
       "      <th>83</th>\n",
       "      <td>55931.747148</td>\n",
       "      <td>55936.359296</td>\n",
       "      <td>[55931.760512, 55931.777625, 55931.793881, 559...</td>\n",
       "      <td>[[20675, 20676, 20677, 20678, 20679, 20680, 20...</td>\n",
       "      <td>[571.0272216796875, 570.912109375, 571.1102905...</td>\n",
       "      <td>[258.08251953125, 258.04571533203125, 258.4581...</td>\n",
       "      <td>[559.6296997070312, 559.294921875, 559.3650512...</td>\n",
       "      <td>[248.10467529296875, 248.5098419189453, 248.59...</td>\n",
       "      <td>[555.3733520507812, 555.1954956054688, 555.095...</td>\n",
       "      <td>[258.91693115234375, 258.9073791503906, 258.89...</td>\n",
       "      <td>...</td>\n",
       "      <td>28.336985</td>\n",
       "      <td>18.619654</td>\n",
       "      <td>29.242744</td>\n",
       "      <td>34.124806</td>\n",
       "      <td>24.561741</td>\n",
       "      <td>33.823145</td>\n",
       "      <td>245.346371</td>\n",
       "      <td>26.483083</td>\n",
       "      <td>244.220839</td>\n",
       "      <td>26.361591</td>\n",
       "    </tr>\n",
       "    <tr>\n",
       "      <th>84</th>\n",
       "      <td>55936.359296</td>\n",
       "      <td>55941.741926</td>\n",
       "      <td>[55936.36206, 55936.379404, 55936.395545, 5593...</td>\n",
       "      <td>[20951, 20952, 20953, 20954, 20955, 20956, 209...</td>\n",
       "      <td>[112.40668487548828, 112.30541229248047, 113.1...</td>\n",
       "      <td>[259.75830078125, 260.5989990234375, 260.19448...</td>\n",
       "      <td>[124.38311767578125, 124.1883316040039, 124.45...</td>\n",
       "      <td>[269.71136474609375, 269.9996643066406, 270.20...</td>\n",
       "      <td>[130.86476135253906, 130.5440673828125, 131.11...</td>\n",
       "      <td>[259.810546875, 259.9875793457031, 260.3398742...</td>\n",
       "      <td>...</td>\n",
       "      <td>52.668915</td>\n",
       "      <td>13.387745</td>\n",
       "      <td>52.237031</td>\n",
       "      <td>28.089914</td>\n",
       "      <td>47.441863</td>\n",
       "      <td>27.766293</td>\n",
       "      <td>463.513706</td>\n",
       "      <td>50.032416</td>\n",
       "      <td>190.903162</td>\n",
       "      <td>20.606395</td>\n",
       "    </tr>\n",
       "    <tr>\n",
       "      <th>85</th>\n",
       "      <td>55941.741926</td>\n",
       "      <td>55947.628364</td>\n",
       "      <td>[55941.747238, 55941.764032, 55941.780684, 559...</td>\n",
       "      <td>[[21274, 21275, 21276, 21277, 21278, 21279, 21...</td>\n",
       "      <td>[573.9379272460938, 573.9229125976562, 573.704...</td>\n",
       "      <td>[259.1135559082031, 259.1194152832031, 259.112...</td>\n",
       "      <td>[561.0904541015625, 560.7152099609375, 561.087...</td>\n",
       "      <td>[250.55467224121094, 250.85653686523438, 250.8...</td>\n",
       "      <td>[555.663818359375, 555.1490478515625, 555.2865...</td>\n",
       "      <td>[260.84515380859375, 260.98321533203125, 261.0...</td>\n",
       "      <td>...</td>\n",
       "      <td>52.679519</td>\n",
       "      <td>13.357282</td>\n",
       "      <td>52.277513</td>\n",
       "      <td>28.117533</td>\n",
       "      <td>47.382815</td>\n",
       "      <td>27.802029</td>\n",
       "      <td>463.471302</td>\n",
       "      <td>50.027839</td>\n",
       "      <td>190.943130</td>\n",
       "      <td>20.610709</td>\n",
       "    </tr>\n",
       "  </tbody>\n",
       "</table>\n",
       "<p>79 rows × 165 columns</p>\n",
       "</div>"
      ],
      "text/plain": [
       "      first_poke   second_poke  \\\n",
       "0   55589.910694  55592.573363   \n",
       "1   55592.573363  55596.043072   \n",
       "2   55596.043072  55598.701414   \n",
       "3   55598.701414  55602.859289   \n",
       "4   55602.859289  55606.255180   \n",
       "..           ...           ...   \n",
       "79  55875.372928  55878.572134   \n",
       "80  55878.572134  55881.496921   \n",
       "83  55931.747148  55936.359296   \n",
       "84  55936.359296  55941.741926   \n",
       "85  55941.741926  55947.628364   \n",
       "\n",
       "                                     trial_timestamps  \\\n",
       "0   [55589.92567, 55589.942336, 55589.959385, 5558...   \n",
       "1   [55592.576448, 55592.593356, 55592.610688, 555...   \n",
       "2   [55596.044403, 55596.06126, 55596.077772, 5559...   \n",
       "3   [55598.712051, 55598.728985, 55598.74574, 5559...   \n",
       "4   [55602.863436, 55602.880179, 55602.896896, 556...   \n",
       "..                                                ...   \n",
       "79  [55875.3744, 55875.391129, 55875.407769, 55875...   \n",
       "80  [55878.575347, 55878.59232, 55878.609164, 5587...   \n",
       "83  [55931.760512, 55931.777625, 55931.793881, 559...   \n",
       "84  [55936.36206, 55936.379404, 55936.395545, 5593...   \n",
       "85  [55941.747238, 55941.764032, 55941.780684, 559...   \n",
       "\n",
       "                                      trial_vidframes  \\\n",
       "0   [172, 173, 174, 175, 176, 177, 178, 179, 180, ...   \n",
       "1   [[331, 332, 333, 334, 335, 336, 337, 338, 339,...   \n",
       "2   [539, 540, 541, 542, 543, 544, 545, 546, 547, ...   \n",
       "3   [[699, 700, 701, 702, 703, 704, 705, 706, 707,...   \n",
       "4   [948, 949, 950, 951, 952, 953, 954, 955, 956, ...   \n",
       "..                                                ...   \n",
       "79  [[17293, 17294, 17295, 17296, 17297, 17298, 17...   \n",
       "80  [17485, 17486, 17487, 17488, 17489, 17490, 174...   \n",
       "83  [[20675, 20676, 20677, 20678, 20679, 20680, 20...   \n",
       "84  [20951, 20952, 20953, 20954, 20955, 20956, 209...   \n",
       "85  [[21274, 21275, 21276, 21277, 21278, 21279, 21...   \n",
       "\n",
       "                                               nose_x  \\\n",
       "0   [114.41011047363281, 114.04931640625, 114.4567...   \n",
       "1   [569.9376220703125, 569.89990234375, 570.15112...   \n",
       "2   [112.23361206054688, 112.13844299316406, 112.0...   \n",
       "3   [570.4071044921875, 570.4484252929688, 570.541...   \n",
       "4   [112.10982513427734, 112.4399185180664, 112.60...   \n",
       "..                                                ...   \n",
       "79  [574.5802612304688, 574.6004028320312, 574.850...   \n",
       "80  [113.35865783691406, 113.92428588867188, 114.0...   \n",
       "83  [571.0272216796875, 570.912109375, 571.1102905...   \n",
       "84  [112.40668487548828, 112.30541229248047, 113.1...   \n",
       "85  [573.9379272460938, 573.9229125976562, 573.704...   \n",
       "\n",
       "                                               nose_y  \\\n",
       "0   [260.6685485839844, 260.719970703125, 261.2198...   \n",
       "1   [257.7106628417969, 258.29327392578125, 258.35...   \n",
       "2   [261.6628723144531, 261.36572265625, 260.97338...   \n",
       "3   [259.1560363769531, 259.2869873046875, 259.161...   \n",
       "4   [262.7378234863281, 262.8009338378906, 262.942...   \n",
       "..                                                ...   \n",
       "79  [259.66888427734375, 260.8497314453125, 260.63...   \n",
       "80  [262.1263732910156, 261.5000305175781, 261.468...   \n",
       "83  [258.08251953125, 258.04571533203125, 258.4581...   \n",
       "84  [259.75830078125, 260.5989990234375, 260.19448...   \n",
       "85  [259.1135559082031, 259.1194152832031, 259.112...   \n",
       "\n",
       "                                            leftear_x  \\\n",
       "0   [123.68523406982422, 123.43992614746094, 123.7...   \n",
       "1   [563.468017578125, 563.1435546875, 562.9865722...   \n",
       "2   [121.4961929321289, 121.59054565429688, 121.19...   \n",
       "3   [559.2915649414062, 559.7265014648438, 559.967...   \n",
       "4   [121.96884155273438, 122.15755462646484, 121.8...   \n",
       "..                                                ...   \n",
       "79  [558.9445190429688, 560.0055541992188, 560.443...   \n",
       "80  [124.12394714355469, 124.72077178955078, 124.7...   \n",
       "83  [559.6296997070312, 559.294921875, 559.3650512...   \n",
       "84  [124.38311767578125, 124.1883316040039, 124.45...   \n",
       "85  [561.0904541015625, 560.7152099609375, 561.087...   \n",
       "\n",
       "                                            leftear_y  \\\n",
       "0   [269.0312805175781, 269.5124816894531, 270.452...   \n",
       "1   [246.4767303466797, 247.0903778076172, 247.316...   \n",
       "2   [271.4989013671875, 270.8448486328125, 270.242...   \n",
       "3   [249.8021240234375, 250.12881469726562, 249.27...   \n",
       "4   [272.2489929199219, 272.2918701171875, 272.408...   \n",
       "..                                                ...   \n",
       "79  [255.07994079589844, 254.74929809570312, 254.0...   \n",
       "80  [270.93463134765625, 270.6994934082031, 271.17...   \n",
       "83  [248.10467529296875, 248.5098419189453, 248.59...   \n",
       "84  [269.71136474609375, 269.9996643066406, 270.20...   \n",
       "85  [250.55467224121094, 250.85653686523438, 250.8...   \n",
       "\n",
       "                                           rightear_x  \\\n",
       "0   [131.97830200195312, 131.4231414794922, 131.82...   \n",
       "1   [553.7902221679688, 553.5784301757812, 553.438...   \n",
       "2   [128.702880859375, 128.755615234375, 128.40802...   \n",
       "3   [556.2125854492188, 556.3768310546875, 556.267...   \n",
       "4   [128.989501953125, 129.34756469726562, 129.507...   \n",
       "..                                                ...   \n",
       "79  [560.1602783203125, 559.9780883789062, 560.029...   \n",
       "80  [131.80648803710938, 132.9622039794922, 133.65...   \n",
       "83  [555.3733520507812, 555.1954956054688, 555.095...   \n",
       "84  [130.86476135253906, 130.5440673828125, 131.11...   \n",
       "85  [555.663818359375, 555.1490478515625, 555.2865...   \n",
       "\n",
       "                                           rightear_y  ... gt_obstacleTR_x_cm  \\\n",
       "0   [261.0414123535156, 261.03546142578125, 261.78...  ...          38.677784   \n",
       "1   [252.8640899658203, 253.6081085205078, 254.148...  ...          30.130197   \n",
       "2   [260.15728759765625, 259.86090087890625, 259.4...  ...          30.168694   \n",
       "3   [261.6835632324219, 261.7645263671875, 260.677...  ...          30.237888   \n",
       "4   [262.3678283691406, 263.1534423828125, 263.573...  ...          40.241218   \n",
       "..                                                ...  ...                ...   \n",
       "79  [268.2518615722656, 268.22052001953125, 267.67...  ...          51.673765   \n",
       "80  [262.25653076171875, 262.12188720703125, 262.3...  ...          51.651833   \n",
       "83  [258.91693115234375, 258.9073791503906, 258.89...  ...          28.336985   \n",
       "84  [259.810546875, 259.9875793457031, 260.3398742...  ...          52.668915   \n",
       "85  [260.84515380859375, 260.98321533203125, 261.0...  ...          52.679519   \n",
       "\n",
       "   gt_obstacleTR_y_cm gt_obstacleBR_x_cm gt_obstacleBR_y_cm  \\\n",
       "0           20.018264          38.765052          35.037574   \n",
       "1           24.737972          30.575684          39.786175   \n",
       "2           24.990030          30.572989          39.766256   \n",
       "3           13.621044          30.258299          28.530656   \n",
       "4           18.691827          40.859118          33.835161   \n",
       "..                ...                ...                ...   \n",
       "79          14.136937          52.020685          28.793664   \n",
       "80          14.133178          51.956569          28.622608   \n",
       "83          18.619654          29.242744          34.124806   \n",
       "84          13.387745          52.237031          28.089914   \n",
       "85          13.357282          52.277513          28.117533   \n",
       "\n",
       "   gt_obstacleBL_x_cm gt_obstacleBL_y_cm gt_obstacle_cen_x  \\\n",
       "0           33.800228          34.878452        336.128418   \n",
       "1           25.893802          39.736608        259.575554   \n",
       "2           25.885151          39.715686        259.333912   \n",
       "3           25.995433          28.380899        259.372784   \n",
       "4           36.038910          33.851271        353.563591   \n",
       "..                ...                ...               ...   \n",
       "79          47.176949          28.649297        458.254524   \n",
       "80          47.237809          28.546191        458.265259   \n",
       "83          24.561741          33.823145        245.346371   \n",
       "84          47.441863          27.766293        463.513706   \n",
       "85          47.382815          27.802029        463.471302   \n",
       "\n",
       "   gt_obstacle_cen_x_cm gt_obstacle_cen_y gt_obstacle_cen_y_cm  \n",
       "0             36.282243        255.037132            27.529119  \n",
       "1             28.019004        299.623463            32.341839  \n",
       "2             27.992920        300.533760            32.440098  \n",
       "3             27.997116        194.922327            21.040230  \n",
       "4             38.164224        243.783646            26.314400  \n",
       "..                  ...               ...                  ...  \n",
       "79            49.464732        197.912462            21.362990  \n",
       "80            49.465890        197.264561            21.293055  \n",
       "83            26.483083        244.220839            26.361591  \n",
       "84            50.032416        190.903162            20.606395  \n",
       "85            50.027839        190.943130            20.610709  \n",
       "\n",
       "[79 rows x 165 columns]"
      ]
     },
     "execution_count": 66,
     "metadata": {},
     "output_type": "execute_result"
    }
   ],
   "source": [
    "df1"
   ]
  },
  {
   "cell_type": "code",
   "execution_count": 76,
   "metadata": {},
   "outputs": [
    {
     "data": {
      "text/plain": [
       "dtype('int32')"
      ]
     },
     "execution_count": 76,
     "metadata": {},
     "output_type": "execute_result"
    }
   ],
   "source": [
    "labels.dtype"
   ]
  },
  {
   "cell_type": "code",
   "execution_count": 75,
   "metadata": {},
   "outputs": [
    {
     "ename": "IntCastingNaNError",
     "evalue": "Cannot convert non-finite values (NA or inf) to integer",
     "output_type": "error",
     "traceback": [
      "\u001b[1;31m---------------------------------------------------------------------------\u001b[0m",
      "\u001b[1;31mIntCastingNaNError\u001b[0m                        Traceback (most recent call last)",
      "Cell \u001b[1;32mIn[75], line 54\u001b[0m\n\u001b[0;32m     52\u001b[0m         \u001b[39mif\u001b[39;00m \u001b[39m47.0371762841755\u001b[39m \u001b[39m<\u001b[39m\u001b[39m=\u001b[39m x[\u001b[39m'\u001b[39m\u001b[39mmean_gt_obstacle_cen_x_cm\u001b[39m\u001b[39m'\u001b[39m]\u001b[39m.\u001b[39munique() \u001b[39m<\u001b[39m\u001b[39m=\u001b[39m \u001b[39m52.09703145249776\u001b[39m    \u001b[39mand\u001b[39;00m \u001b[39m30.463949607263373\u001b[39m  \u001b[39m<\u001b[39m\u001b[39m=\u001b[39m x[\u001b[39m'\u001b[39m\u001b[39mmean_gt_obstacle_cen_y_cm\u001b[39m\u001b[39m'\u001b[39m]\u001b[39m.\u001b[39munique() \u001b[39m<\u001b[39m\u001b[39m=\u001b[39m \u001b[39m32.749148951731954\u001b[39m:\n\u001b[0;32m     53\u001b[0m             df\u001b[39m.\u001b[39mat[ind,\u001b[39m'\u001b[39m\u001b[39mcluster_label\u001b[39m\u001b[39m'\u001b[39m] \u001b[39m=\u001b[39m \u001b[39m8\u001b[39m\n\u001b[1;32m---> 54\u001b[0m df[\u001b[39m'\u001b[39m\u001b[39mcluster_label\u001b[39m\u001b[39m'\u001b[39m] \u001b[39m=\u001b[39m df[\u001b[39m'\u001b[39;49m\u001b[39mcluster_label\u001b[39;49m\u001b[39m'\u001b[39;49m]\u001b[39m.\u001b[39;49mastype(\u001b[39m'\u001b[39;49m\u001b[39mint8\u001b[39;49m\u001b[39m'\u001b[39;49m)\n",
      "File \u001b[1;32mc:\\Users\\nlab\\anaconda3\\envs\\ephys0\\lib\\site-packages\\pandas\\core\\generic.py:6240\u001b[0m, in \u001b[0;36mNDFrame.astype\u001b[1;34m(self, dtype, copy, errors)\u001b[0m\n\u001b[0;32m   6233\u001b[0m     results \u001b[39m=\u001b[39m [\n\u001b[0;32m   6234\u001b[0m         \u001b[39mself\u001b[39m\u001b[39m.\u001b[39miloc[:, i]\u001b[39m.\u001b[39mastype(dtype, copy\u001b[39m=\u001b[39mcopy)\n\u001b[0;32m   6235\u001b[0m         \u001b[39mfor\u001b[39;00m i \u001b[39min\u001b[39;00m \u001b[39mrange\u001b[39m(\u001b[39mlen\u001b[39m(\u001b[39mself\u001b[39m\u001b[39m.\u001b[39mcolumns))\n\u001b[0;32m   6236\u001b[0m     ]\n\u001b[0;32m   6238\u001b[0m \u001b[39melse\u001b[39;00m:\n\u001b[0;32m   6239\u001b[0m     \u001b[39m# else, only a single dtype is given\u001b[39;00m\n\u001b[1;32m-> 6240\u001b[0m     new_data \u001b[39m=\u001b[39m \u001b[39mself\u001b[39;49m\u001b[39m.\u001b[39;49m_mgr\u001b[39m.\u001b[39;49mastype(dtype\u001b[39m=\u001b[39;49mdtype, copy\u001b[39m=\u001b[39;49mcopy, errors\u001b[39m=\u001b[39;49merrors)\n\u001b[0;32m   6241\u001b[0m     \u001b[39mreturn\u001b[39;00m \u001b[39mself\u001b[39m\u001b[39m.\u001b[39m_constructor(new_data)\u001b[39m.\u001b[39m__finalize__(\u001b[39mself\u001b[39m, method\u001b[39m=\u001b[39m\u001b[39m\"\u001b[39m\u001b[39mastype\u001b[39m\u001b[39m\"\u001b[39m)\n\u001b[0;32m   6243\u001b[0m \u001b[39m# GH 33113: handle empty frame or series\u001b[39;00m\n",
      "File \u001b[1;32mc:\\Users\\nlab\\anaconda3\\envs\\ephys0\\lib\\site-packages\\pandas\\core\\internals\\managers.py:448\u001b[0m, in \u001b[0;36mBaseBlockManager.astype\u001b[1;34m(self, dtype, copy, errors)\u001b[0m\n\u001b[0;32m    447\u001b[0m \u001b[39mdef\u001b[39;00m \u001b[39mastype\u001b[39m(\u001b[39mself\u001b[39m: T, dtype, copy: \u001b[39mbool\u001b[39m \u001b[39m=\u001b[39m \u001b[39mFalse\u001b[39;00m, errors: \u001b[39mstr\u001b[39m \u001b[39m=\u001b[39m \u001b[39m\"\u001b[39m\u001b[39mraise\u001b[39m\u001b[39m\"\u001b[39m) \u001b[39m-\u001b[39m\u001b[39m>\u001b[39m T:\n\u001b[1;32m--> 448\u001b[0m     \u001b[39mreturn\u001b[39;00m \u001b[39mself\u001b[39;49m\u001b[39m.\u001b[39;49mapply(\u001b[39m\"\u001b[39;49m\u001b[39mastype\u001b[39;49m\u001b[39m\"\u001b[39;49m, dtype\u001b[39m=\u001b[39;49mdtype, copy\u001b[39m=\u001b[39;49mcopy, errors\u001b[39m=\u001b[39;49merrors)\n",
      "File \u001b[1;32mc:\\Users\\nlab\\anaconda3\\envs\\ephys0\\lib\\site-packages\\pandas\\core\\internals\\managers.py:352\u001b[0m, in \u001b[0;36mBaseBlockManager.apply\u001b[1;34m(self, f, align_keys, ignore_failures, **kwargs)\u001b[0m\n\u001b[0;32m    350\u001b[0m         applied \u001b[39m=\u001b[39m b\u001b[39m.\u001b[39mapply(f, \u001b[39m*\u001b[39m\u001b[39m*\u001b[39mkwargs)\n\u001b[0;32m    351\u001b[0m     \u001b[39melse\u001b[39;00m:\n\u001b[1;32m--> 352\u001b[0m         applied \u001b[39m=\u001b[39m \u001b[39mgetattr\u001b[39;49m(b, f)(\u001b[39m*\u001b[39;49m\u001b[39m*\u001b[39;49mkwargs)\n\u001b[0;32m    353\u001b[0m \u001b[39mexcept\u001b[39;00m (\u001b[39mTypeError\u001b[39;00m, \u001b[39mNotImplementedError\u001b[39;00m):\n\u001b[0;32m    354\u001b[0m     \u001b[39mif\u001b[39;00m \u001b[39mnot\u001b[39;00m ignore_failures:\n",
      "File \u001b[1;32mc:\\Users\\nlab\\anaconda3\\envs\\ephys0\\lib\\site-packages\\pandas\\core\\internals\\blocks.py:526\u001b[0m, in \u001b[0;36mBlock.astype\u001b[1;34m(self, dtype, copy, errors)\u001b[0m\n\u001b[0;32m    508\u001b[0m \u001b[39m\u001b[39m\u001b[39m\"\"\"\u001b[39;00m\n\u001b[0;32m    509\u001b[0m \u001b[39mCoerce to the new dtype.\u001b[39;00m\n\u001b[0;32m    510\u001b[0m \n\u001b[1;32m   (...)\u001b[0m\n\u001b[0;32m    522\u001b[0m \u001b[39mBlock\u001b[39;00m\n\u001b[0;32m    523\u001b[0m \u001b[39m\"\"\"\u001b[39;00m\n\u001b[0;32m    524\u001b[0m values \u001b[39m=\u001b[39m \u001b[39mself\u001b[39m\u001b[39m.\u001b[39mvalues\n\u001b[1;32m--> 526\u001b[0m new_values \u001b[39m=\u001b[39m astype_array_safe(values, dtype, copy\u001b[39m=\u001b[39;49mcopy, errors\u001b[39m=\u001b[39;49merrors)\n\u001b[0;32m    528\u001b[0m new_values \u001b[39m=\u001b[39m maybe_coerce_values(new_values)\n\u001b[0;32m    529\u001b[0m newb \u001b[39m=\u001b[39m \u001b[39mself\u001b[39m\u001b[39m.\u001b[39mmake_block(new_values)\n",
      "File \u001b[1;32mc:\\Users\\nlab\\anaconda3\\envs\\ephys0\\lib\\site-packages\\pandas\\core\\dtypes\\astype.py:299\u001b[0m, in \u001b[0;36mastype_array_safe\u001b[1;34m(values, dtype, copy, errors)\u001b[0m\n\u001b[0;32m    296\u001b[0m     \u001b[39mreturn\u001b[39;00m values\u001b[39m.\u001b[39mcopy()\n\u001b[0;32m    298\u001b[0m \u001b[39mtry\u001b[39;00m:\n\u001b[1;32m--> 299\u001b[0m     new_values \u001b[39m=\u001b[39m astype_array(values, dtype, copy\u001b[39m=\u001b[39;49mcopy)\n\u001b[0;32m    300\u001b[0m \u001b[39mexcept\u001b[39;00m (\u001b[39mValueError\u001b[39;00m, \u001b[39mTypeError\u001b[39;00m):\n\u001b[0;32m    301\u001b[0m     \u001b[39m# e.g. astype_nansafe can fail on object-dtype of strings\u001b[39;00m\n\u001b[0;32m    302\u001b[0m     \u001b[39m#  trying to convert to float\u001b[39;00m\n\u001b[0;32m    303\u001b[0m     \u001b[39mif\u001b[39;00m errors \u001b[39m==\u001b[39m \u001b[39m\"\u001b[39m\u001b[39mignore\u001b[39m\u001b[39m\"\u001b[39m:\n",
      "File \u001b[1;32mc:\\Users\\nlab\\anaconda3\\envs\\ephys0\\lib\\site-packages\\pandas\\core\\dtypes\\astype.py:230\u001b[0m, in \u001b[0;36mastype_array\u001b[1;34m(values, dtype, copy)\u001b[0m\n\u001b[0;32m    227\u001b[0m     values \u001b[39m=\u001b[39m values\u001b[39m.\u001b[39mastype(dtype, copy\u001b[39m=\u001b[39mcopy)\n\u001b[0;32m    229\u001b[0m \u001b[39melse\u001b[39;00m:\n\u001b[1;32m--> 230\u001b[0m     values \u001b[39m=\u001b[39m astype_nansafe(values, dtype, copy\u001b[39m=\u001b[39;49mcopy)\n\u001b[0;32m    232\u001b[0m \u001b[39m# in pandas we don't store numpy str dtypes, so convert to object\u001b[39;00m\n\u001b[0;32m    233\u001b[0m \u001b[39mif\u001b[39;00m \u001b[39misinstance\u001b[39m(dtype, np\u001b[39m.\u001b[39mdtype) \u001b[39mand\u001b[39;00m \u001b[39missubclass\u001b[39m(values\u001b[39m.\u001b[39mdtype\u001b[39m.\u001b[39mtype, \u001b[39mstr\u001b[39m):\n",
      "File \u001b[1;32mc:\\Users\\nlab\\anaconda3\\envs\\ephys0\\lib\\site-packages\\pandas\\core\\dtypes\\astype.py:140\u001b[0m, in \u001b[0;36mastype_nansafe\u001b[1;34m(arr, dtype, copy, skipna)\u001b[0m\n\u001b[0;32m    137\u001b[0m     \u001b[39mraise\u001b[39;00m \u001b[39mTypeError\u001b[39;00m(\u001b[39mf\u001b[39m\u001b[39m\"\u001b[39m\u001b[39mcannot astype a timedelta from [\u001b[39m\u001b[39m{\u001b[39;00marr\u001b[39m.\u001b[39mdtype\u001b[39m}\u001b[39;00m\u001b[39m] to [\u001b[39m\u001b[39m{\u001b[39;00mdtype\u001b[39m}\u001b[39;00m\u001b[39m]\u001b[39m\u001b[39m\"\u001b[39m)\n\u001b[0;32m    139\u001b[0m \u001b[39melif\u001b[39;00m np\u001b[39m.\u001b[39missubdtype(arr\u001b[39m.\u001b[39mdtype, np\u001b[39m.\u001b[39mfloating) \u001b[39mand\u001b[39;00m is_integer_dtype(dtype):\n\u001b[1;32m--> 140\u001b[0m     \u001b[39mreturn\u001b[39;00m _astype_float_to_int_nansafe(arr, dtype, copy)\n\u001b[0;32m    142\u001b[0m \u001b[39melif\u001b[39;00m is_object_dtype(arr\u001b[39m.\u001b[39mdtype):\n\u001b[0;32m    143\u001b[0m \n\u001b[0;32m    144\u001b[0m     \u001b[39m# if we have a datetime/timedelta array of objects\u001b[39;00m\n\u001b[0;32m    145\u001b[0m     \u001b[39m# then coerce to a proper dtype and recall astype_nansafe\u001b[39;00m\n\u001b[0;32m    147\u001b[0m     \u001b[39mif\u001b[39;00m is_datetime64_dtype(dtype):\n",
      "File \u001b[1;32mc:\\Users\\nlab\\anaconda3\\envs\\ephys0\\lib\\site-packages\\pandas\\core\\dtypes\\astype.py:182\u001b[0m, in \u001b[0;36m_astype_float_to_int_nansafe\u001b[1;34m(values, dtype, copy)\u001b[0m\n\u001b[0;32m    178\u001b[0m \u001b[39m\u001b[39m\u001b[39m\"\"\"\u001b[39;00m\n\u001b[0;32m    179\u001b[0m \u001b[39mastype with a check preventing converting NaN to an meaningless integer value.\u001b[39;00m\n\u001b[0;32m    180\u001b[0m \u001b[39m\"\"\"\u001b[39;00m\n\u001b[0;32m    181\u001b[0m \u001b[39mif\u001b[39;00m \u001b[39mnot\u001b[39;00m np\u001b[39m.\u001b[39misfinite(values)\u001b[39m.\u001b[39mall():\n\u001b[1;32m--> 182\u001b[0m     \u001b[39mraise\u001b[39;00m IntCastingNaNError(\n\u001b[0;32m    183\u001b[0m         \u001b[39m\"\u001b[39m\u001b[39mCannot convert non-finite values (NA or inf) to integer\u001b[39m\u001b[39m\"\u001b[39m\n\u001b[0;32m    184\u001b[0m     )\n\u001b[0;32m    185\u001b[0m \u001b[39mif\u001b[39;00m dtype\u001b[39m.\u001b[39mkind \u001b[39m==\u001b[39m \u001b[39m\"\u001b[39m\u001b[39mu\u001b[39m\u001b[39m\"\u001b[39m:\n\u001b[0;32m    186\u001b[0m     \u001b[39m# GH#45151\u001b[39;00m\n\u001b[0;32m    187\u001b[0m     \u001b[39mif\u001b[39;00m \u001b[39mnot\u001b[39;00m (values \u001b[39m>\u001b[39m\u001b[39m=\u001b[39m \u001b[39m0\u001b[39m)\u001b[39m.\u001b[39mall():\n",
      "\u001b[1;31mIntCastingNaNError\u001b[0m: Cannot convert non-finite values (NA or inf) to integer"
     ]
    }
   ],
   "source": [
    "\n",
    "        df = df[df['gt_obstacle_cen_x_cm'].notna()]\n",
    "\n",
    "\n",
    "        kmeans_input = np.vstack([df['gt_obstacle_cen_x_cm'].values, df['gt_obstacle_cen_y_cm'].values])\n",
    "\n",
    "        kmeans_input = np.transpose(kmeans_input)\n",
    "\n",
    "        labels = KMeans(n_clusters=9).fit(kmeans_input).labels_\n",
    "        df['obstacle_cluster'] = labels\n",
    "\n",
    "        #get mean of obstacle center\n",
    "        for clusters, cluster_name in enumerate(df['obstacle_cluster'].unique()):\n",
    "            x=df.loc[df['obstacle_cluster']==cluster_name]\n",
    "            mean_cenx = np.nanmean(x['gt_obstacle_cen_x_cm'])\n",
    "            mean_ceny = np.nanmean(x['gt_obstacle_cen_y_cm'])\n",
    "  \n",
    "            for ind,row in df.iterrows(): \n",
    "                if row['obstacle_cluster'] == cluster_name:\n",
    "                    df.at[ind,'mean_gt_obstacle_cen_x_cm'] = mean_cenx\n",
    "                    df.at[ind,'mean_gt_obstacle_cen_y_cm'] = mean_ceny\n",
    "        #label cluster by position \n",
    "        df['cluster_label'] = np.nan\n",
    "        for clusters, cluster_name in enumerate(df['obstacle_cluster'].unique()):\n",
    "            #label cluster by obstacle post\n",
    "            x=df.loc[df['obstacle_cluster']==cluster_name]\n",
    "            for ind,row in x.iterrows():\n",
    "                # position top left label 0\n",
    "                if 26.511267901536936 <= x['mean_gt_obstacle_cen_x_cm'].unique() <= 29.262555270323688 and 19.603003146893094 <= x['mean_gt_obstacle_cen_y_cm'].unique() <= 21.48005617413041:\n",
    "                    df.at[ind,'cluster_label'] = 0\n",
    "                # postion top middle lable 1     \n",
    "                if 34.224618031842425  <= x['mean_gt_obstacle_cen_x_cm'].unique() <= 40.737819614353576  and 19.171765596431882  <= x['mean_gt_obstacle_cen_y_cm'].unique() <= 21.765871122032685:\n",
    "                    df.at[ind,'cluster_label'] = 1\n",
    "                # postion top middle lable 2     \n",
    "                if 47.10153827545068   <= x['mean_gt_obstacle_cen_x_cm'].unique() <= 51.15598067362944  and 19.386902039003104  <= x['mean_gt_obstacle_cen_y_cm'].unique() <= 21.36299006442639:\n",
    "                    df.at[ind,'cluster_label'] = 2\n",
    "                # postion top middle lable 3     \n",
    "                if 24.622638543067332    <= x['mean_gt_obstacle_cen_x_cm'].unique() <= 30.32366857885396   and 24.072987056842724  <= x['mean_gt_obstacle_cen_y_cm'].unique() <= 28.06565031743722:\n",
    "                    df.at[ind,'cluster_label'] = 3 \n",
    "                # postion top middle lable 4     \n",
    "                if 34.33696422611072     <= x['mean_gt_obstacle_cen_x_cm'].unique() <= 39.16315460138148   and 23.33051936216178  <= x['mean_gt_obstacle_cen_y_cm'].unique() <= 28.21568031983405:\n",
    "                    df.at[ind,'cluster_label'] = 4\n",
    "                # postion top middle lable 5     \n",
    "                if 46.78662583258851     <= x['mean_gt_obstacle_cen_x_cm'].unique() <= 51.45490492362184   and 23.30309610363196  <= x['mean_gt_obstacle_cen_y_cm'].unique() <= 26.340749658133035:\n",
    "                    df.at[ind,'cluster_label'] = 5\n",
    "                # postion top middle lable 6     \n",
    "                if 23.672283873362495      <= x['mean_gt_obstacle_cen_x_cm'].unique() <= 29.24383212681531  and 31.13010098995012  <= x['mean_gt_obstacle_cen_y_cm'].unique() <= 32.9010213861951:\n",
    "                    df.at[ind,'cluster_label'] = 6\n",
    "                # postion top middle lable 7     \n",
    "                if 34.99528058841633      <= x['mean_gt_obstacle_cen_x_cm'].unique() <= 38.68741237003255   and 30.937326612118863  <= x['mean_gt_obstacle_cen_y_cm'].unique() <= 32.92257553927523:\n",
    "                    df.at[ind,'cluster_label'] = 7\n",
    "                # postion top middle lable 8     \n",
    "                if 47.0371762841755 <= x['mean_gt_obstacle_cen_x_cm'].unique() <= 52.09703145249776    and 30.463949607263373  <= x['mean_gt_obstacle_cen_y_cm'].unique() <= 32.749148951731954:\n",
    "                    df.at[ind,'cluster_label'] = 8\n",
    "        df['cluster_label'] = df['cluster_label'].astype('int')\n",
    "\n"
   ]
  },
  {
   "cell_type": "code",
   "execution_count": 70,
   "metadata": {},
   "outputs": [
    {
     "data": {
      "text/plain": [
       "1"
      ]
     },
     "execution_count": 70,
     "metadata": {},
     "output_type": "execute_result"
    }
   ],
   "source": [
    "df['gt_obstacle_cen_x_cm'].isna().sum()"
   ]
  },
  {
   "cell_type": "code",
   "execution_count": 29,
   "metadata": {},
   "outputs": [
    {
     "name": "stdout",
     "output_type": "stream",
     "text": [
      "nan\n"
     ]
    },
    {
     "data": {
      "text/plain": [
       "(0.0, 72.0)"
      ]
     },
     "execution_count": 29,
     "metadata": {},
     "output_type": "execute_result"
    },
    {
     "data": {
      "image/png": "[encoded data removed]",
      "text/plain": [
       "<Figure size 640x480 with 1 Axes>"
      ]
     },
     "metadata": {},
     "output_type": "display_data"
    }
   ],
   "source": [
    "print(df.at[0,'odd'])\n",
    "plt.plot(df.at[0,'ts_nose_x_cm'],df.at[0,'ts_nose_y_cm'],c ='b')\n",
    "\n",
    "#plt.plot(df.at[1158,'interp_ts_nose_x_cm'],df.at[1158,'interp_ts_nose_y_cm'],c = 'r')\n",
    "\n",
    "plt.plot([df.at[0,'mean_arenaTL_x_cm'], df.at[0,'mean_arenaTR_x_cm'], df.at[0,'mean_arenaBR_x_cm'], df.at[0,'mean_arenaBL_x_cm'],df.at[0,'mean_arenaTL_x_cm']],\n",
    "            [df.at[0,'mean_arenaTL_y_cm'], df.at[0,'mean_arenaTR_y_cm'], df.at[0,'mean_arenaBR_y_cm'], df.at[0,'mean_arenaBL_y_cm'],df.at[0,'mean_arenaTL_y_cm']],color='green')\n",
    "\n",
    "plt.plot([df.at[0,'gt_obstacleTL_x_cm'], df.at[0,'gt_obstacleTR_x_cm'], df.at[0,'gt_obstacleBR_x_cm'], df.at[0,'gt_obstacleBL_x_cm'],df.at[0,'gt_obstacleTL_x_cm']],\n",
    "            [df.at[0,'gt_obstacleTL_y_cm'], df.at[0,'gt_obstacleTR_y_cm'], df.at[0,'gt_obstacleBR_y_cm'], df.at[0,'gt_obstacleBL_y_cm'],df.at[0,'gt_obstacleTL_y_cm']],color='green')\n",
    "\n",
    "plt.ylim([52,0]); plt.xlim([0, 72])"
   ]
  },
  {
   "cell_type": "code",
   "execution_count": 15,
   "metadata": {},
   "outputs": [
    {
     "ename": "AxisError",
     "evalue": "axis 0 is out of bounds for array of dimension 0",
     "output_type": "error",
     "traceback": [
      "\u001b[1;31m---------------------------------------------------------------------------\u001b[0m",
      "\u001b[1;31mAxisError\u001b[0m                                 Traceback (most recent call last)",
      "Cell \u001b[1;32mIn[15], line 1\u001b[0m\n\u001b[1;32m----> 1\u001b[0m dist_to_posts \u001b[39m=\u001b[39m np\u001b[39m.\u001b[39;49mmedian(df[\u001b[39m'\u001b[39;49m\u001b[39marenaTR_x\u001b[39;49m\u001b[39m'\u001b[39;49m]\u001b[39m.\u001b[39;49miloc[\u001b[39m0\u001b[39;49m],\u001b[39m0\u001b[39;49m) \u001b[39m-\u001b[39m np\u001b[39m.\u001b[39mmedian(df[\u001b[39m'\u001b[39m\u001b[39marenaTL_x\u001b[39m\u001b[39m'\u001b[39m]\u001b[39m.\u001b[39miloc[\u001b[39m0\u001b[39m],\u001b[39m0\u001b[39m)\n",
      "File \u001b[1;32m<__array_function__ internals>:180\u001b[0m, in \u001b[0;36mmedian\u001b[1;34m(*args, **kwargs)\u001b[0m\n",
      "File \u001b[1;32mc:\\Users\\nlab\\anaconda3\\envs\\ephys0\\lib\\site-packages\\numpy\\lib\\function_base.py:3816\u001b[0m, in \u001b[0;36mmedian\u001b[1;34m(a, axis, out, overwrite_input, keepdims)\u001b[0m\n\u001b[0;32m   3734\u001b[0m \u001b[39m@array_function_dispatch\u001b[39m(_median_dispatcher)\n\u001b[0;32m   3735\u001b[0m \u001b[39mdef\u001b[39;00m \u001b[39mmedian\u001b[39m(a, axis\u001b[39m=\u001b[39m\u001b[39mNone\u001b[39;00m, out\u001b[39m=\u001b[39m\u001b[39mNone\u001b[39;00m, overwrite_input\u001b[39m=\u001b[39m\u001b[39mFalse\u001b[39;00m, keepdims\u001b[39m=\u001b[39m\u001b[39mFalse\u001b[39;00m):\n\u001b[0;32m   3736\u001b[0m \u001b[39m    \u001b[39m\u001b[39m\"\"\"\u001b[39;00m\n\u001b[0;32m   3737\u001b[0m \u001b[39m    Compute the median along the specified axis.\u001b[39;00m\n\u001b[0;32m   3738\u001b[0m \n\u001b[1;32m   (...)\u001b[0m\n\u001b[0;32m   3814\u001b[0m \n\u001b[0;32m   3815\u001b[0m \u001b[39m    \"\"\"\u001b[39;00m\n\u001b[1;32m-> 3816\u001b[0m     r, k \u001b[39m=\u001b[39m _ureduce(a, func\u001b[39m=\u001b[39;49m_median, axis\u001b[39m=\u001b[39;49maxis, out\u001b[39m=\u001b[39;49mout,\n\u001b[0;32m   3817\u001b[0m                     overwrite_input\u001b[39m=\u001b[39;49moverwrite_input)\n\u001b[0;32m   3818\u001b[0m     \u001b[39mif\u001b[39;00m keepdims:\n\u001b[0;32m   3819\u001b[0m         \u001b[39mreturn\u001b[39;00m r\u001b[39m.\u001b[39mreshape(k)\n",
      "File \u001b[1;32mc:\\Users\\nlab\\anaconda3\\envs\\ephys0\\lib\\site-packages\\numpy\\lib\\function_base.py:3705\u001b[0m, in \u001b[0;36m_ureduce\u001b[1;34m(a, func, **kwargs)\u001b[0m\n\u001b[0;32m   3703\u001b[0m keepdim \u001b[39m=\u001b[39m \u001b[39mlist\u001b[39m(a\u001b[39m.\u001b[39mshape)\n\u001b[0;32m   3704\u001b[0m nd \u001b[39m=\u001b[39m a\u001b[39m.\u001b[39mndim\n\u001b[1;32m-> 3705\u001b[0m axis \u001b[39m=\u001b[39m _nx\u001b[39m.\u001b[39;49mnormalize_axis_tuple(axis, nd)\n\u001b[0;32m   3707\u001b[0m \u001b[39mfor\u001b[39;00m ax \u001b[39min\u001b[39;00m axis:\n\u001b[0;32m   3708\u001b[0m     keepdim[ax] \u001b[39m=\u001b[39m \u001b[39m1\u001b[39m\n",
      "File \u001b[1;32mc:\\Users\\nlab\\anaconda3\\envs\\ephys0\\lib\\site-packages\\numpy\\core\\numeric.py:1397\u001b[0m, in \u001b[0;36mnormalize_axis_tuple\u001b[1;34m(axis, ndim, argname, allow_duplicate)\u001b[0m\n\u001b[0;32m   1395\u001b[0m         \u001b[39mpass\u001b[39;00m\n\u001b[0;32m   1396\u001b[0m \u001b[39m# Going via an iterator directly is slower than via list comprehension.\u001b[39;00m\n\u001b[1;32m-> 1397\u001b[0m axis \u001b[39m=\u001b[39m \u001b[39mtuple\u001b[39m([normalize_axis_index(ax, ndim, argname) \u001b[39mfor\u001b[39;00m ax \u001b[39min\u001b[39;00m axis])\n\u001b[0;32m   1398\u001b[0m \u001b[39mif\u001b[39;00m \u001b[39mnot\u001b[39;00m allow_duplicate \u001b[39mand\u001b[39;00m \u001b[39mlen\u001b[39m(\u001b[39mset\u001b[39m(axis)) \u001b[39m!=\u001b[39m \u001b[39mlen\u001b[39m(axis):\n\u001b[0;32m   1399\u001b[0m     \u001b[39mif\u001b[39;00m argname:\n",
      "File \u001b[1;32mc:\\Users\\nlab\\anaconda3\\envs\\ephys0\\lib\\site-packages\\numpy\\core\\numeric.py:1397\u001b[0m, in \u001b[0;36m<listcomp>\u001b[1;34m(.0)\u001b[0m\n\u001b[0;32m   1395\u001b[0m         \u001b[39mpass\u001b[39;00m\n\u001b[0;32m   1396\u001b[0m \u001b[39m# Going via an iterator directly is slower than via list comprehension.\u001b[39;00m\n\u001b[1;32m-> 1397\u001b[0m axis \u001b[39m=\u001b[39m \u001b[39mtuple\u001b[39m([normalize_axis_index(ax, ndim, argname) \u001b[39mfor\u001b[39;00m ax \u001b[39min\u001b[39;00m axis])\n\u001b[0;32m   1398\u001b[0m \u001b[39mif\u001b[39;00m \u001b[39mnot\u001b[39;00m allow_duplicate \u001b[39mand\u001b[39;00m \u001b[39mlen\u001b[39m(\u001b[39mset\u001b[39m(axis)) \u001b[39m!=\u001b[39m \u001b[39mlen\u001b[39m(axis):\n\u001b[0;32m   1399\u001b[0m     \u001b[39mif\u001b[39;00m argname:\n",
      "\u001b[1;31mAxisError\u001b[0m: axis 0 is out of bounds for array of dimension 0"
     ]
    }
   ],
   "source": [
    " dist_to_posts = np.median(df['arenaTR_x'].iloc[0],0) - np.median(df['arenaTL_x'].iloc[0],0)"
   ]
  },
  {
   "cell_type": "code",
   "execution_count": 64,
   "metadata": {},
   "outputs": [
    {
     "data": {
      "text/plain": [
       "0"
      ]
     },
     "execution_count": 64,
     "metadata": {},
     "output_type": "execute_result"
    }
   ],
   "source": [
    "df['obstacleBL_x_cm'].isnull().sum()"
   ]
  },
  {
   "cell_type": "code",
   "execution_count": 58,
   "metadata": {},
   "outputs": [
    {
     "data": {
      "text/plain": [
       "array([44.43312825578971, 44.450754302039556, 44.434214531170234,\n",
       "       44.42704729712687, 44.39978942721401, 44.42532781599689,\n",
       "       44.40460670371308, 44.39821187151064, 44.42511765719211,\n",
       "       44.42256299951329, 44.36293248565968, 44.41587885778738,\n",
       "       44.43395524433318, 44.43985060820739, 44.42595829241121,\n",
       "       44.43764803475994, 44.43287715695803, 44.44163559338042,\n",
       "       44.43488321827634, 44.43255782474818, 44.39680080525,\n",
       "       44.436943866297185, 44.442416183226726, 44.406454463594024,\n",
       "       44.43124774388724, 44.412884777153124, 44.41728719471289,\n",
       "       44.439782374829214, 44.444274860448175, 44.436608158076574,\n",
       "       44.41979272435943, 44.42906700512081, 44.40644081691839,\n",
       "       44.416386514121, 44.42437527803758, 44.43710216773455,\n",
       "       44.40548282028883, 44.41025369809074, 44.435819380224885,\n",
       "       44.41908309722643, 44.44150458529432, 44.41576149637692,\n",
       "       44.447509122573614, 44.448704571359215, 44.441755684126,\n",
       "       44.435300806550764, 44.36158146477184, 44.41286567180723,\n",
       "       44.417936776473105, 44.43106214909861, 44.41466157432077,\n",
       "       44.441428163910764, 44.44896385819628, 44.42857026612771,\n",
       "       44.4515185158751, 44.41170297504315, 44.367856206228694,\n",
       "       44.431395127984096, 44.44289108753881, 44.44387637751964,\n",
       "       44.427287478618034, 44.41530842674585, 44.43312825578971,\n",
       "       44.439337493203524, 44.43386790560911, 44.42112191056626,\n",
       "       44.39373030323218, 44.40939122819062, 44.39828829289419,\n",
       "       44.41615179130008, 44.361895338311435, 44.422805910339584,\n",
       "       44.43788548691599, 44.407376978866935, 44.405452797602436,\n",
       "       44.441725661439605, 44.4149181318227, 44.43045077803017,\n",
       "       44.405499196299594, 44.40110223741008, 44.41933965472836,\n",
       "       44.41961258824105, 44.4050843373603, 44.429858512307625,\n",
       "       44.438603302054375, 44.42488839304145, 44.42193252309896,\n",
       "       44.42561439618522, 44.421179226603925, 44.415098267941076,\n",
       "       44.420256711331014, 44.40911010667255, 44.425366026688664,\n",
       "       44.43256328341843, 44.42474373827972, 44.440885026220506,\n",
       "       44.45508575688603, 44.42992401635067, 44.44298934360338,\n",
       "       44.4390618303557, 44.4153029680756, 44.42414874322204,\n",
       "       44.43589307227331, 44.43180725758827, 44.42056785553549,\n",
       "       44.41042564620374, 44.41147371089249, 44.42460454218825,\n",
       "       44.412999409228455, 44.411225341395934, 44.401481614992726,\n",
       "       44.41835982341778, 44.41438864080807, 44.43163258014014,\n",
       "       44.444504124598836, 44.445811476124646, 39.03518843779892,\n",
       "       39.04531427111991, 39.13600734805334, 38.99391816134431,\n",
       "       38.972929574218064, 38.977872400132966, 38.94572629100775,\n",
       "       44.325562429101474, 44.3275193623875, 44.306776415422675,\n",
       "       44.294917454296076, 44.262831390543646, 44.29276400888091,\n",
       "       44.27584213109382, 44.32215621886304, 44.316656608582235,\n",
       "       44.3276913105005, 44.36561269275434, 44.36498221634002,\n",
       "       44.35663863885693, 44.37968787400403, 44.36134401261579,\n",
       "       44.34393904251123, 44.39642961567274, 44.41181487778336,\n",
       "       44.41398196987416, 44.372466053258115, 44.28743907604823,\n",
       "       44.28637190601359, 44.278686098296106, 44.25684322927512,\n",
       "       44.25524383889073, 44.242061150227556, 44.22691606960811,\n",
       "       44.241670855304406, 44.23622310239101, 44.26378119916783,\n",
       "       44.26546519894116, 44.347708254321546, 44.304833128812284,\n",
       "       44.35274114829564, 44.30190182288594, 44.30369226672922,\n",
       "       44.29403587905007, 44.30146512926563, 44.33230115752991,\n",
       "       44.32483915529283, 44.29948090262834, 44.321935142717756,\n",
       "       44.3390344272881, 44.34562577161969, 44.33449827230711,\n",
       "       44.33780076781072, 44.3309938060041, 44.32568251984706,\n",
       "       44.332317533540675, 44.3142629816759, 44.327156360815614,\n",
       "       44.350964351128, 44.3566959548946, 44.34819680530927,\n",
       "       44.34073480307219, 44.356330223987584, 44.345502951538975,\n",
       "       44.301093939688364, 44.26435981821474, 44.303539423962114,\n",
       "       44.26791614188516, 44.24774908463212, 44.111134944187754,\n",
       "       44.32712906746434, nan, nan, nan, nan, nan, nan, nan, nan, nan,\n",
       "       nan, nan, nan, nan, nan, nan, nan, nan, nan, nan, nan, nan, nan,\n",
       "       nan, nan, nan, nan, nan, nan, nan, nan, nan, nan, nan, nan, nan,\n",
       "       nan, nan, nan, nan, nan, nan, nan, nan, nan, nan, nan, nan, nan,\n",
       "       nan, nan, nan, nan, nan, nan, nan, nan, nan, nan, nan, nan, nan,\n",
       "       nan, nan, nan, nan, nan, nan, nan, nan, nan, nan, nan, nan],\n",
       "      dtype=object)"
      ]
     },
     "execution_count": 58,
     "metadata": {},
     "output_type": "execute_result"
    }
   ],
   "source": [
    "df.at[4,'obstacleBR_x_cm']"
   ]
  },
  {
   "cell_type": "code",
   "execution_count": 56,
   "metadata": {},
   "outputs": [],
   "source": [
    " for ind, row in df.iterrows():\n",
    "    xvals_cm = np.stack([row['gt_obstacleTL_x_cm'], row['gt_obstacleTR_x_cm'], row['gt_obstacleBL_x_cm'], row['gt_obstacleBR_x_cm']])\n",
    "    df.at[ind,'gt_obstacle_cen_x_cm' ] = np.mean(xvals_cm)\n",
    " "
   ]
  },
  {
   "cell_type": "code",
   "execution_count": 53,
   "metadata": {},
   "outputs": [
    {
     "data": {
      "text/plain": [
       "array([40.0644289 , 44.98841968, 40.03101365, 44.970679  ])"
      ]
     },
     "execution_count": 53,
     "metadata": {},
     "output_type": "execute_result"
    }
   ],
   "source": [
    "xvals_cm"
   ]
  },
  {
   "cell_type": "code",
   "execution_count": null,
   "metadata": {},
   "outputs": [],
   "source": [
    " for ind, row in self.data.iterrows():\n",
    "  \n",
    "            xvals = np.stack([row['gt_obstacleTL_x'], row['gt_obstacleTR_x'], row['gt_obstacleBL_x'], row['gt_obstacleBR_x']])\n",
    "            xvals_cm = np.stack([row['gt_obstacleTL_x_cm'], row['gt_obstacleTR_x_cm'], row['gt_obstacleBL_x_cm'], row['gt_obstacleBR_x_cm']])\n",
    "            self.data.at[ind,'gt_obstacle_cen_x' ] = np.mean(xvals)\n",
    "            self.data.at[ind,'gt_obstacle_cen_x_cm' ] = np.mean(xvals_cm)\n",
    "\n",
    "            yvals = np.stack([row['gt_obstacleTL_y'], row['gt_obstacleTR_y'], row['gt_obstacleBL_y'], row['gt_obstacleBR_y']])\n",
    "            yvals_cm = np.stack([row['gt_obstacleTL_y_cm'], row['gt_obstacleTR_y_cm'], row['gt_obstacleBL_y_cm'], row['gt_obstacleBR_y_cm']])\n",
    "            self.data.at[ind,'gt_obstacle_cen_y' ] = np.mean(yvals)\n",
    "            self.data.at[ind,'gt_obstacle_cen_y_cm' ] = np.mean(yvals_cm)"
   ]
  },
  {
   "cell_type": "code",
   "execution_count": null,
   "metadata": {},
   "outputs": [],
   "source": [
    "mean_gt_obstacle_cen_x_cm"
   ]
  },
  {
   "cell_type": "code",
   "execution_count": 5,
   "metadata": {},
   "outputs": [
    {
     "ename": "KeyError",
     "evalue": "'odd'",
     "output_type": "error",
     "traceback": [
      "\u001b[1;31m---------------------------------------------------------------------------\u001b[0m",
      "\u001b[1;31mKeyError\u001b[0m                                  Traceback (most recent call last)",
      "File \u001b[1;32mc:\\Users\\nlab\\anaconda3\\envs\\ephys0\\lib\\site-packages\\pandas\\core\\indexes\\base.py:3802\u001b[0m, in \u001b[0;36mIndex.get_loc\u001b[1;34m(self, key, method, tolerance)\u001b[0m\n\u001b[0;32m   3801\u001b[0m \u001b[39mtry\u001b[39;00m:\n\u001b[1;32m-> 3802\u001b[0m     \u001b[39mreturn\u001b[39;00m \u001b[39mself\u001b[39;49m\u001b[39m.\u001b[39;49m_engine\u001b[39m.\u001b[39;49mget_loc(casted_key)\n\u001b[0;32m   3803\u001b[0m \u001b[39mexcept\u001b[39;00m \u001b[39mKeyError\u001b[39;00m \u001b[39mas\u001b[39;00m err:\n",
      "File \u001b[1;32mc:\\Users\\nlab\\anaconda3\\envs\\ephys0\\lib\\site-packages\\pandas\\_libs\\index.pyx:138\u001b[0m, in \u001b[0;36mpandas._libs.index.IndexEngine.get_loc\u001b[1;34m()\u001b[0m\n",
      "File \u001b[1;32mc:\\Users\\nlab\\anaconda3\\envs\\ephys0\\lib\\site-packages\\pandas\\_libs\\index.pyx:165\u001b[0m, in \u001b[0;36mpandas._libs.index.IndexEngine.get_loc\u001b[1;34m()\u001b[0m\n",
      "File \u001b[1;32mpandas\\_libs\\hashtable_class_helper.pxi:5745\u001b[0m, in \u001b[0;36mpandas._libs.hashtable.PyObjectHashTable.get_item\u001b[1;34m()\u001b[0m\n",
      "File \u001b[1;32mpandas\\_libs\\hashtable_class_helper.pxi:5753\u001b[0m, in \u001b[0;36mpandas._libs.hashtable.PyObjectHashTable.get_item\u001b[1;34m()\u001b[0m\n",
      "\u001b[1;31mKeyError\u001b[0m: 'odd'",
      "\nThe above exception was the direct cause of the following exception:\n",
      "\u001b[1;31mKeyError\u001b[0m                                  Traceback (most recent call last)",
      "Cell \u001b[1;32mIn[5], line 2\u001b[0m\n\u001b[0;32m      1\u001b[0m \u001b[39mfor\u001b[39;00m ind, row \u001b[39min\u001b[39;00m df\u001b[39m.\u001b[39miterrows(): \n\u001b[1;32m----> 2\u001b[0m             \u001b[39mif\u001b[39;00m row[\u001b[39m'\u001b[39;49m\u001b[39modd\u001b[39;49m\u001b[39m'\u001b[39;49m] \u001b[39m==\u001b[39m \u001b[39mTrue\u001b[39;00m:\n\u001b[0;32m      3\u001b[0m                 nose_list \u001b[39m=\u001b[39m row[\u001b[39m'\u001b[39m\u001b[39mnose_x_cm\u001b[39m\u001b[39m'\u001b[39m] \n\u001b[0;32m      4\u001b[0m                 odd_ind \u001b[39m=\u001b[39m np\u001b[39m.\u001b[39margmax(nose_list\u001b[39m>\u001b[39m\u001b[39m16\u001b[39m)\n",
      "File \u001b[1;32mc:\\Users\\nlab\\anaconda3\\envs\\ephys0\\lib\\site-packages\\pandas\\core\\series.py:981\u001b[0m, in \u001b[0;36mSeries.__getitem__\u001b[1;34m(self, key)\u001b[0m\n\u001b[0;32m    978\u001b[0m     \u001b[39mreturn\u001b[39;00m \u001b[39mself\u001b[39m\u001b[39m.\u001b[39m_values[key]\n\u001b[0;32m    980\u001b[0m \u001b[39melif\u001b[39;00m key_is_scalar:\n\u001b[1;32m--> 981\u001b[0m     \u001b[39mreturn\u001b[39;00m \u001b[39mself\u001b[39;49m\u001b[39m.\u001b[39;49m_get_value(key)\n\u001b[0;32m    983\u001b[0m \u001b[39mif\u001b[39;00m is_hashable(key):\n\u001b[0;32m    984\u001b[0m     \u001b[39m# Otherwise index.get_value will raise InvalidIndexError\u001b[39;00m\n\u001b[0;32m    985\u001b[0m     \u001b[39mtry\u001b[39;00m:\n\u001b[0;32m    986\u001b[0m         \u001b[39m# For labels that don't resolve as scalars like tuples and frozensets\u001b[39;00m\n",
      "File \u001b[1;32mc:\\Users\\nlab\\anaconda3\\envs\\ephys0\\lib\\site-packages\\pandas\\core\\series.py:1089\u001b[0m, in \u001b[0;36mSeries._get_value\u001b[1;34m(self, label, takeable)\u001b[0m\n\u001b[0;32m   1086\u001b[0m     \u001b[39mreturn\u001b[39;00m \u001b[39mself\u001b[39m\u001b[39m.\u001b[39m_values[label]\n\u001b[0;32m   1088\u001b[0m \u001b[39m# Similar to Index.get_value, but we do not fall back to positional\u001b[39;00m\n\u001b[1;32m-> 1089\u001b[0m loc \u001b[39m=\u001b[39m \u001b[39mself\u001b[39;49m\u001b[39m.\u001b[39;49mindex\u001b[39m.\u001b[39;49mget_loc(label)\n\u001b[0;32m   1090\u001b[0m \u001b[39mreturn\u001b[39;00m \u001b[39mself\u001b[39m\u001b[39m.\u001b[39mindex\u001b[39m.\u001b[39m_get_values_for_loc(\u001b[39mself\u001b[39m, loc, label)\n",
      "File \u001b[1;32mc:\\Users\\nlab\\anaconda3\\envs\\ephys0\\lib\\site-packages\\pandas\\core\\indexes\\base.py:3804\u001b[0m, in \u001b[0;36mIndex.get_loc\u001b[1;34m(self, key, method, tolerance)\u001b[0m\n\u001b[0;32m   3802\u001b[0m     \u001b[39mreturn\u001b[39;00m \u001b[39mself\u001b[39m\u001b[39m.\u001b[39m_engine\u001b[39m.\u001b[39mget_loc(casted_key)\n\u001b[0;32m   3803\u001b[0m \u001b[39mexcept\u001b[39;00m \u001b[39mKeyError\u001b[39;00m \u001b[39mas\u001b[39;00m err:\n\u001b[1;32m-> 3804\u001b[0m     \u001b[39mraise\u001b[39;00m \u001b[39mKeyError\u001b[39;00m(key) \u001b[39mfrom\u001b[39;00m \u001b[39merr\u001b[39;00m\n\u001b[0;32m   3805\u001b[0m \u001b[39mexcept\u001b[39;00m \u001b[39mTypeError\u001b[39;00m:\n\u001b[0;32m   3806\u001b[0m     \u001b[39m# If we have a listlike key, _check_indexing_error will raise\u001b[39;00m\n\u001b[0;32m   3807\u001b[0m     \u001b[39m#  InvalidIndexError. Otherwise we fall through and re-raise\u001b[39;00m\n\u001b[0;32m   3808\u001b[0m     \u001b[39m#  the TypeError.\u001b[39;00m\n\u001b[0;32m   3809\u001b[0m     \u001b[39mself\u001b[39m\u001b[39m.\u001b[39m_check_indexing_error(key)\n",
      "\u001b[1;31mKeyError\u001b[0m: 'odd'"
     ]
    }
   ],
   "source": [
    "for ind, row in df.iterrows(): \n",
    "            if row['odd'] == True:\n",
    "                nose_list = row['nose_x_cm'] \n",
    "                odd_ind = np.argmax(nose_list>16)\n",
    "                for key in keys_list:\n",
    "                    df.at[ind,'ts_' + key] = row[key][odd_ind:]\n",
    "                #use odd_ind to index into obstacle \n",
    "                # iterate over columns list  \n",
    "\n",
    "                #create gt_obstacle points\n",
    "            else: \n",
    "                nose_list = row['nose_x_cm']\n",
    "                even_ind = np.argmax(nose_list<56)\n",
    "                for key in keys_list:\n",
    "                    df.at[ind,'ts_' + key] = row[key][even_ind:]"
   ]
  },
  {
   "cell_type": "code",
   "execution_count": 26,
   "metadata": {},
   "outputs": [
    {
     "ename": "TypeError",
     "evalue": "'float' object is not subscriptable",
     "output_type": "error",
     "traceback": [
      "\u001b[1;31m---------------------------------------------------------------------------\u001b[0m",
      "\u001b[1;31mTypeError\u001b[0m                                 Traceback (most recent call last)",
      "Cell \u001b[1;32mIn [26], line 2\u001b[0m\n\u001b[0;32m      1\u001b[0m \u001b[39mfor\u001b[39;00m ind,row \u001b[39min\u001b[39;00m df\u001b[39m.\u001b[39miterrows():\n\u001b[1;32m----> 2\u001b[0m     \u001b[39mif\u001b[39;00m row[\u001b[39m'\u001b[39;49m\u001b[39mnose_x_cm\u001b[39;49m\u001b[39m'\u001b[39;49m][\u001b[39m0\u001b[39;49m] \u001b[39m<\u001b[39m\u001b[39m=\u001b[39m \u001b[39m20\u001b[39m:\n\u001b[0;32m      3\u001b[0m         df\u001b[39m.\u001b[39mat[ind,\u001b[39m'\u001b[39m\u001b[39modd\u001b[39m\u001b[39m'\u001b[39m] \u001b[39m=\u001b[39m \u001b[39mTrue\u001b[39;00m \n\u001b[0;32m      4\u001b[0m     \u001b[39melif\u001b[39;00m row[\u001b[39m'\u001b[39m\u001b[39mnose_x_cm\u001b[39m\u001b[39m'\u001b[39m][\u001b[39m0\u001b[39m] \u001b[39m>\u001b[39m\u001b[39m=\u001b[39m\u001b[39m20\u001b[39m:\n",
      "\u001b[1;31mTypeError\u001b[0m: 'float' object is not subscriptable"
     ]
    }
   ],
   "source": [
    "for ind,row in df.iterrows():\n",
    "    if row['nose_x_cm'][0] <= 20:\n",
    "        df.at[ind,'odd'] = True \n",
    "    elif row['nose_x_cm'][0] >=20:\n",
    "        df.at[ind,'odd'] = False"
   ]
  },
  {
   "cell_type": "code",
   "execution_count": 35,
   "metadata": {},
   "outputs": [
    {
     "data": {
      "text/plain": [
       "61.38620010830393"
      ]
     },
     "execution_count": 35,
     "metadata": {},
     "output_type": "execute_result"
    }
   ],
   "source": [
    "\n",
    "np.mean(df.at[33,'nose_x_cm'][:10])"
   ]
  },
  {
   "cell_type": "code",
   "execution_count": 29,
   "metadata": {},
   "outputs": [
    {
     "data": {
      "text/plain": [
       "67"
      ]
     },
     "execution_count": 29,
     "metadata": {},
     "output_type": "execute_result"
    }
   ],
   "source": [
    "ind"
   ]
  }
 ],
 "metadata": {
  "kernelspec": {
   "display_name": "Python 3.8.13 ('ephys0')",
   "language": "python",
   "name": "python3"
  },
  "language_info": {
   "codemirror_mode": {
    "name": "ipython",
    "version": 3
   },
   "file_extension": ".py",
   "mimetype": "text/x-python",
   "name": "python",
   "nbconvert_exporter": "python",
   "pygments_lexer": "ipython3",
   "version": "3.8.15"
  },
  "orig_nbformat": 4,
  "vscode": {
   "interpreter": {
    "hash": "8d5aad94d69af8d54a80740ac3e999eae8a40d3534c4b9b883255615339559dc"
   }
  }
 },
 "nbformat": 4,
 "nbformat_minor": 2
}
