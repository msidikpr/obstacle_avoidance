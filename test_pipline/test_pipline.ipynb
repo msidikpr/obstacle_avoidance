{
 "cells": [
  {
   "cell_type": "code",
   "execution_count": 2,
   "metadata": {},
   "outputs": [],
   "source": [
    "%load_ext autoreload \n",
    "%autoreload 2\n",
    "import sys\n",
    "sys.path.insert(0, 'C:/Users/nlab/Documents/GitHub/obstacle_avoidance')\n",
    "import warnings\n",
    "warnings.filterwarnings('ignore')\n",
    "\n",
    "\n",
    "from pipeline.obstacle_avoidance_processing import AvoidanceProcessing\n",
    "\n"
   ]
  },
  {
   "cell_type": "code",
   "execution_count": 22,
   "metadata": {},
   "outputs": [],
   "source": [
    "import cv2\n",
    "import json, os, cv2\n",
    "from pathlib import Path\n",
    "import pandas as pd \n",
    "import matplotlib.pyplot as plt \n",
    "import numpy as np\n",
    "import xarray as xr\n",
    "import seaborn as sns\n",
    "import h5py as hf\n",
    "from tqdm import tqdm\n",
    "from tqdm import tqdm\n",
    "import itertools \n",
    "from scipy.interpolate import interp1d\n",
    "from scipy import signal\n",
    "from matplotlib.backends.backend_pdf import PdfPages\n",
    "from sklearn.cluster import KMeans\n",
    "import matplotlib.colors as mcolors\n",
    "import os, fnmatch"
   ]
  },
  {
   "cell_type": "code",
   "execution_count": 21,
   "metadata": {},
   "outputs": [
    {
     "name": "stderr",
     "output_type": "stream",
     "text": [
      "0it [00:00, ?it/s]"
     ]
    },
    {
     "name": "stdout",
     "output_type": "stream",
     "text": [
      "J20RT D:/obstacle_avoidance/recordings 101222\n",
      "['D:/obstacle_avoidance/recordings\\\\101222\\\\J20RT\\\\oa\\\\101222_J20RT_control_Rig2_oa_top1DLC_resnet50_object_avoidanceoct22shuffle1_1952000.h5']\n",
      "D:/obstacle_avoidance/recordings\\101222\\J20RT\\oa\n",
      "D:/obstacle_avoidance/recordings/101222/J20RT/oa\n",
      "101222_J20RT_control_Rig2_oa D:/obstacle_avoidance/recordings/101222/J20RT/oa\n",
      "hey\n",
      "45\n",
      "df made\n",
      "pxl\n",
      "arena_median\n",
      "smoothing\n",
      "saving101222_J20RT_control_Rig2_oaraw\n",
      "saving101222_J20RT_control_Rig2_oa processed\n"
     ]
    },
    {
     "name": "stderr",
     "output_type": "stream",
     "text": [
      "1it [00:06,  6.36s/it]"
     ]
    },
    {
     "name": "stdout",
     "output_type": "stream",
     "text": [
      "J20RT D:/obstacle_avoidance/recordings 101322\n",
      "['D:/obstacle_avoidance/recordings\\\\101322\\\\J20RT\\\\oa\\\\101322_J20RT_control_Rig2_oa_top1DLC_resnet50_object_avoidanceoct22shuffle1_1952000.h5']\n",
      "D:/obstacle_avoidance/recordings\\101322\\J20RT\\oa\n",
      "D:/obstacle_avoidance/recordings/101322/J20RT/oa\n",
      "101322_J20RT_control_Rig2_oa D:/obstacle_avoidance/recordings/101322/J20RT/oa\n",
      "hey\n",
      "48\n"
     ]
    },
    {
     "name": "stderr",
     "output_type": "stream",
     "text": [
      "2it [00:10,  5.20s/it]"
     ]
    },
    {
     "name": "stdout",
     "output_type": "stream",
     "text": [
      "df made\n",
      "pxl\n",
      "J20RT D:/obstacle_avoidance/recordings 101422\n",
      "['D:/obstacle_avoidance/recordings\\\\101422\\\\J20RT\\\\oa\\\\101422_J20RT_control_Rig2_oa_top1DLC_resnet50_object_avoidanceoct22shuffle1_1952000.h5']\n",
      "D:/obstacle_avoidance/recordings\\101422\\J20RT\\oa\n",
      "D:/obstacle_avoidance/recordings/101422/J20RT/oa\n",
      "101422_J20RT_control_Rig2_oa D:/obstacle_avoidance/recordings/101422/J20RT/oa\n",
      "hey\n",
      "44\n",
      "df made\n",
      "pxl\n",
      "arena_median\n",
      "smoothing\n",
      "saving101422_J20RT_control_Rig2_oaraw\n",
      "saving101422_J20RT_control_Rig2_oa processed\n"
     ]
    },
    {
     "name": "stderr",
     "output_type": "stream",
     "text": [
      "3it [00:16,  5.53s/it]\n"
     ]
    }
   ],
   "source": [
    "\n",
    "# metadata json path\n",
    "metadata_path = r'D:\\obstacle_avoidance\\metadata\\J20RT.json'\n",
    "\n",
    "#C:\\Users\\nlab\\Desktop\\mike_bonsai\\recordings\\metadata\n",
    "# task name\n",
    "# 'oa' for object avoidance\n",
    "# 'gd' for gap detection\n",
    "task_name = 'oa'\n",
    "\n",
    "session = AvoidanceProcessing(metadata_path, task=task_name) \n",
    "session.change_dlc_project(r'D:\\obstacle_avoidance\\deeplabcut\\obstacle_avoidance_100522-mike-2022-10-05\\config.yaml')\n",
    "#session.dlc_project\n",
    "#session.preprocess()\n",
    "session.process()"
   ]
  },
  {
   "cell_type": "code",
   "execution_count": 23,
   "metadata": {},
   "outputs": [],
   "source": [
    "df = pd.read_hdf(r\"D:\\obstacle_avoidance\\recordings\\101322\\J20RT\\oa\\df_J20RT_101322_oa.h5\")"
   ]
  },
  {
   "cell_type": "code",
   "execution_count": 26,
   "metadata": {},
   "outputs": [
    {
     "ename": "TypeError",
     "evalue": "'float' object is not subscriptable",
     "output_type": "error",
     "traceback": [
      "\u001b[1;31m---------------------------------------------------------------------------\u001b[0m",
      "\u001b[1;31mTypeError\u001b[0m                                 Traceback (most recent call last)",
      "Cell \u001b[1;32mIn [26], line 2\u001b[0m\n\u001b[0;32m      1\u001b[0m \u001b[39mfor\u001b[39;00m ind,row \u001b[39min\u001b[39;00m df\u001b[39m.\u001b[39miterrows():\n\u001b[1;32m----> 2\u001b[0m     \u001b[39mif\u001b[39;00m row[\u001b[39m'\u001b[39;49m\u001b[39mnose_x_cm\u001b[39;49m\u001b[39m'\u001b[39;49m][\u001b[39m0\u001b[39;49m] \u001b[39m<\u001b[39m\u001b[39m=\u001b[39m \u001b[39m20\u001b[39m:\n\u001b[0;32m      3\u001b[0m         df\u001b[39m.\u001b[39mat[ind,\u001b[39m'\u001b[39m\u001b[39modd\u001b[39m\u001b[39m'\u001b[39m] \u001b[39m=\u001b[39m \u001b[39mTrue\u001b[39;00m \n\u001b[0;32m      4\u001b[0m     \u001b[39melif\u001b[39;00m row[\u001b[39m'\u001b[39m\u001b[39mnose_x_cm\u001b[39m\u001b[39m'\u001b[39m][\u001b[39m0\u001b[39m] \u001b[39m>\u001b[39m\u001b[39m=\u001b[39m\u001b[39m20\u001b[39m:\n",
      "\u001b[1;31mTypeError\u001b[0m: 'float' object is not subscriptable"
     ]
    }
   ],
   "source": [
    "for ind,row in df.iterrows():\n",
    "    if row['nose_x_cm'][0] <= 20:\n",
    "        df.at[ind,'odd'] = True \n",
    "    elif row['nose_x_cm'][0] >=20:\n",
    "        df.at[ind,'odd'] = False"
   ]
  },
  {
   "cell_type": "code",
   "execution_count": 35,
   "metadata": {},
   "outputs": [
    {
     "data": {
      "text/plain": [
       "61.38620010830393"
      ]
     },
     "execution_count": 35,
     "metadata": {},
     "output_type": "execute_result"
    }
   ],
   "source": [
    "\n",
    "np.mean(df.at[33,'nose_x_cm'][:10])"
   ]
  },
  {
   "cell_type": "code",
   "execution_count": 29,
   "metadata": {},
   "outputs": [
    {
     "data": {
      "text/plain": [
       "67"
      ]
     },
     "execution_count": 29,
     "metadata": {},
     "output_type": "execute_result"
    }
   ],
   "source": [
    "ind"
   ]
  }
 ],
 "metadata": {
  "kernelspec": {
   "display_name": "Python 3.8.13 ('ephys0')",
   "language": "python",
   "name": "python3"
  },
  "language_info": {
   "codemirror_mode": {
    "name": "ipython",
    "version": 3
   },
   "file_extension": ".py",
   "mimetype": "text/x-python",
   "name": "python",
   "nbconvert_exporter": "python",
   "pygments_lexer": "ipython3",
   "version": "3.8.13"
  },
  "orig_nbformat": 4,
  "vscode": {
   "interpreter": {
    "hash": "8d5aad94d69af8d54a80740ac3e999eae8a40d3534c4b9b883255615339559dc"
   }
  }
 },
 "nbformat": 4,
 "nbformat_minor": 2
}
